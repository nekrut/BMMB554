{
 "cells": [
  {
   "cell_type": "markdown",
   "id": "6155576c-81c9-4ce9-b1b6-8ff66df7ef1c",
   "metadata": {},
   "source": [
    "# A deviation: Seaborn for quick plotting"
   ]
  },
  {
   "cell_type": "markdown",
   "id": "a27f0866-c095-4320-80ce-202f72b9e6ef",
   "metadata": {},
   "source": [
    "The best way to understand what is in your data is to look at it. Pandas and Python provide ample opportunities for visually representing you data. WE will introduce graphing concepts by first talking about high and low level graphic libraries. Then we will focus of low level graphing and apply it to SARS-CoV-2 variant frequency data.\n",
    "\n",
    "## High versus low level\n",
    "\n",
    "In this example we will use [Anscombe's quartet](https://en.wikipedia.org/wiki/Anscombe%27s_quartet) dataset by borrowing it from [Seaborn](https://seaborn.pydata.org/index.html) package:\n"
   ]
  },
  {
   "cell_type": "code",
   "execution_count": null,
   "id": "29f511db-74f6-4287-babe-4760d1aa751a",
   "metadata": {},
   "outputs": [],
   "source": [
    "import seaborn as sns\n",
    "df = sns.load_dataset(\"anscombe\")"
   ]
  },
  {
   "cell_type": "markdown",
   "id": "6a8317e8-e612-4305-ba33-6d8eaf75599b",
   "metadata": {},
   "source": [
    "## High level plotting with [Seaborn](https://seaborn.pydata.org/index.html)\n",
    "\n",
    "Seaborn is *high level plotting library*. To plot this dataset in seaborn all we need to do is this:"
   ]
  },
  {
   "cell_type": "code",
   "execution_count": null,
   "id": "1ff239e4-889c-4fdc-99fb-50843b39464c",
   "metadata": {},
   "outputs": [],
   "source": [
    "import seaborn as sns\n",
    "\n",
    "df = sns.load_dataset(\"anscombe\")\n",
    "\n",
    "sns.lmplot(x=\"x\", \n",
    "           y=\"y\", \n",
    "           col=\"dataset\", \n",
    "           hue=\"dataset\", \n",
    "           data=df,\n",
    "           col_wrap=2,\n",
    "           ci = None\n",
    "           )\n"
   ]
  },
  {
   "cell_type": "markdown",
   "id": "f412864c-90a4-4fb6-a391-d95b7b83413a",
   "metadata": {},
   "source": [
    "This single command (seaborn.lmplot) plots the datapoints and fits a linear regression line to the data. It presents that information in four panels based on hue parameter assembled in two columns (col_wrap = 2).\n",
    "\n",
    "This is called high level plotting library, because it provides a number of convenience functions. For example, it this case we did not have to explicitly compute regression parameters. The library did this for us. This is great for quick data exploration, but it becomes a bit more problematic when you need full grained control of figure layout."
   ]
  }
 ],
 "metadata": {
  "kernelspec": {
   "display_name": "Python 3 (ipykernel)",
   "language": "python",
   "name": "python3"
  },
  "language_info": {
   "codemirror_mode": {
    "name": "ipython",
    "version": 3
   },
   "file_extension": ".py",
   "mimetype": "text/x-python",
   "name": "python",
   "nbconvert_exporter": "python",
   "pygments_lexer": "ipython3",
   "version": "3.12.1"
  }
 },
 "nbformat": 4,
 "nbformat_minor": 5
}
