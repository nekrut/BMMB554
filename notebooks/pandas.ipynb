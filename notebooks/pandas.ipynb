{
 "cells": [
  {
   "cell_type": "markdown",
   "id": "8ba18cd9-f4f1-4a2d-912d-e30c755456c6",
   "metadata": {},
   "source": [
    "# Pandas!\n",
    "\n",
    "> This is an aggregated tutorial relying on material from the following fantastic sources:\n",
    ">-  [Justin Bois](http://justinbois.github.io/bootcamp/2020/index.html). It contains modified training datasets and adopts content to Colab environment.\n",
    ">- [BIOS821 course at Duke](https://people.duke.edu/~ccc14/bios-821-2017/index.html)\n",
    ">- [Pandas documentation](https://pandas.pydata.org/docs/user_guide/index.html/)\n",
    "{: .quote}\n",
    "\n",
    "Pandas (from \"Panel Data\") is an essential piece of scientific (and not only) data analysis infrastructure. It is, in essence, a highly optimized library for manipulating very large tables (or \"Data Frames\"). \n",
    "\n",
    "Today we will be using a single notebook that explains the basics of this powerful tool:\n",
    "\n",
    "## Pandas learning resources\n",
    "\n",
    "- [Getting started](https://pandas.pydata.org/docs/getting_started/index.html#getting-started) - official introduction from Pandas.\n",
    "- [Data Science Tools](http://people.duke.edu/~ccc14/bios-821-2017/index.html) - Data Science for Biologists from Duke University.\n",
    "- [Data Carpentry](https://datacarpentry.org/) - a collection of lessons *à la* Software Carpentry."
   ]
  },
  {
   "cell_type": "code",
   "execution_count": null,
   "id": "cell-1",
   "metadata": {
    "attributes": {
     "classes": [
      "To learn about pandas we will use SARS-CoV-2 data. Before actually jumping to Pandas let's learn about the coronavirus molecular biology."
     ],
     "id": ""
    }
   },
   "outputs": [],
   "source": [
    "# Pandas, conventionally imported as pd\n",
    "import pandas as pd"
   ]
  },
  {
   "cell_type": "markdown",
   "id": "cell-2",
   "metadata": {
    "collapsed": false,
    "editable": false,
    "jupyter": {
     "outputs_hidden": false
    }
   },
   "source": [
    "<p>Throughout your research career, you will undoubtedly need to handle data, possibly lots of data. The data comes in lots of formats, and you will spend much of your time <strong>wrangling</strong> the data to get it into a usable form.</p>\n",
    "<p>Pandas is the primary tool in the Python ecosystem for handling data. Its primary object, the <code style=\"color: inherit\">DataFrame</code> is extremely useful in wrangling data. We will explore some of that functionality here and will put it to use in the next lesson.</p>\n",
    "<h1 id=\"basics\">Basics</h1>\n",
    "<h2 id=\"the-data-set\">The data set</h2>\n",
    "<p>The dataset we will be using is a subset of metadata describing SARS-CoV-2 datasets from the <a href=\"https://www.ncbi.nlm.nih.gov/sra\">Sequence Read Archive</a>.</p>\n",
    "<p>It is obtained by going to https://www.ncbi.nlm.nih.gov/sra and performing a query with the following search terms: <code style=\"color: inherit\">txid2697049[Organism:noexp]</code>.</p>\n",
    "<p>Results are downloaded using <code style=\"color: inherit\">Send to:</code> menu selecting <code style=\"color: inherit\">File</code> and then <code style=\"color: inherit\">RunInfo</code>. Let’s get these results into this notebook:</p>\n"
   ]
  },
  {
   "cell_type": "code",
   "execution_count": null,
   "id": "cell-3",
   "metadata": {
    "attributes": {
     "classes": [
      "To learn about pandas we will use SARS-CoV-2 data. Before actually jumping to Pandas let's learn about the coronavirus molecular biology."
     ],
     "id": ""
    }
   },
   "outputs": [],
   "source": [
    "!wget https://zenodo.org/records/10680001/files/sra_ncov.csv.gz"
   ]
  },
  {
   "cell_type": "markdown",
   "id": "cell-4",
   "metadata": {
    "collapsed": false,
    "editable": false,
    "jupyter": {
     "outputs_hidden": false
    }
   },
   "source": [
    "\n"
   ]
  },
  {
   "cell_type": "code",
   "execution_count": null,
   "id": "cell-5",
   "metadata": {
    "attributes": {
     "classes": [
      "To learn about pandas we will use SARS-CoV-2 data. Before actually jumping to Pandas let's learn about the coronavirus molecular biology."
     ],
     "id": ""
    }
   },
   "outputs": [],
   "source": [
    "!gunzip -c  sra_ncov.csv.gz | head"
   ]
  },
  {
   "cell_type": "markdown",
   "id": "cell-6",
   "metadata": {
    "collapsed": false,
    "editable": false,
    "jupyter": {
     "outputs_hidden": false
    }
   },
   "source": [
    "<p>The first line contains the <strong>headers</strong> for each column. The data follow. Given the file I/O skills you recently learned, you could write some functions to parse this file and extract the data you want.\n",
    "You can imagine that this might be kind of painful. However, if the file format is nice and clean like we more or less have here, we can use pre-built tools. Pandas has a very powerful function, <code style=\"color: inherit\">pd.read_csv()</code>\n",
    "that can read in a CSV file and store the contents in a convenient data structure called a <strong>data frame</strong>. In Pandas, the data type for a data frame is <code style=\"color: inherit\">DataFrame</code>, and we will use “data frame” and “<code class=\"language-plaintext highlighter-rouge\">DataFrame</code>” interchangeably.</p>\n",
    "<h2 id=\"reading-in-data\">Reading in data</h2>\n",
    "<p>Let’s first look at the doc string of <code style=\"color: inherit\">pd.read_csv()</code>.</p>\n"
   ]
  },
  {
   "cell_type": "code",
   "execution_count": null,
   "id": "cell-7",
   "metadata": {
    "attributes": {
     "classes": [
      "To learn about pandas we will use SARS-CoV-2 data. Before actually jumping to Pandas let's learn about the coronavirus molecular biology."
     ],
     "id": ""
    },
    "scrolled": true
   },
   "outputs": [],
   "source": [
    "pd.read_csv?"
   ]
  },
  {
   "cell_type": "markdown",
   "id": "cell-8",
   "metadata": {
    "collapsed": false,
    "editable": false,
    "jupyter": {
     "outputs_hidden": false
    }
   },
   "source": [
    "<p>Holy cow! There are so many options we can specify for reading in a CSV file. You will likely find reasons to use many of these throughout your research. For now, however, we do not need most of them.\n",
    "So, let’s load in the data set. Note that even though the dataset is compressed with <code style=\"color: inherit\">gzip</code> we do not need to do anything additional - pandas magically understands and uncompresses the data while loading it into the dataframe.</p>\n"
   ]
  },
  {
   "cell_type": "code",
   "execution_count": null,
   "id": "cell-9",
   "metadata": {
    "attributes": {
     "classes": [
      "To learn about pandas we will use SARS-CoV-2 data. Before actually jumping to Pandas let's learn about the coronavirus molecular biology."
     ],
     "id": ""
    }
   },
   "outputs": [],
   "source": [
    "df = pd.read_csv('sra_ncov.csv.gz')"
   ]
  },
  {
   "cell_type": "markdown",
   "id": "cell-10",
   "metadata": {
    "collapsed": false,
    "editable": false,
    "jupyter": {
     "outputs_hidden": false
    }
   },
   "source": [
    "<p>The same result can be achieved directly without downloading the file first:</p>\n"
   ]
  },
  {
   "cell_type": "code",
   "execution_count": null,
   "id": "cell-11",
   "metadata": {
    "attributes": {
     "classes": [
      "To learn about pandas we will use SARS-CoV-2 data. Before actually jumping to Pandas let's learn about the coronavirus molecular biology."
     ],
     "id": ""
    }
   },
   "outputs": [],
   "source": [
    "df = pd.read_csv('https://zenodo.org/records/10680001/files/sra_ncov.csv.gz')"
   ]
  },
  {
   "cell_type": "markdown",
   "id": "cell-12",
   "metadata": {
    "collapsed": false,
    "editable": false,
    "jupyter": {
     "outputs_hidden": false
    }
   },
   "source": [
    "<p>We now have the data stored in a data frame. We can look at it in the Jupyter Notebook since Jupyter will display it in a well-organized, pretty way. Note that because our dataframe is big,\n",
    "we only display the first five rows using <code style=\"color: inherit\">head()</code> function:</p>\n"
   ]
  },
  {
   "cell_type": "code",
   "execution_count": null,
   "id": "cell-13",
   "metadata": {
    "attributes": {
     "classes": [
      "To learn about pandas we will use SARS-CoV-2 data. Before actually jumping to Pandas let's learn about the coronavirus molecular biology."
     ],
     "id": ""
    }
   },
   "outputs": [],
   "source": [
    "df.head()"
   ]
  },
  {
   "cell_type": "markdown",
   "id": "cell-14",
   "metadata": {
    "collapsed": false,
    "editable": false,
    "jupyter": {
     "outputs_hidden": false
    }
   },
   "source": [
    "<h2 id=\"indexing-data-frames\">Indexing data frames</h2>\n",
    "<p>The data frame is a convenient data structure for many reasons that will become clear as we start exploring. Let’s start by looking at how data frames are indexed. Let’s try to look at the first row.</p>\n"
   ]
  },
  {
   "cell_type": "code",
   "execution_count": null,
   "id": "cell-15",
   "metadata": {
    "attributes": {
     "classes": [
      "To learn about pandas we will use SARS-CoV-2 data. Before actually jumping to Pandas let's learn about the coronavirus molecular biology."
     ],
     "id": ""
    }
   },
   "outputs": [],
   "source": [
    "df[0]"
   ]
  },
  {
   "cell_type": "markdown",
   "id": "cell-16",
   "metadata": {
    "collapsed": false,
    "editable": false,
    "jupyter": {
     "outputs_hidden": false
    }
   },
   "source": [
    "<p>Yikes! Lots of errors. The problem is that we tried to index numerically by row. <strong>We index DataFrames, by columns.</strong> And no column has the name <code style=\"color: inherit\">0</code> in this data frame, though there could be.\n",
    "Instead, you might want to look at the column with the percentage of correct face-matching tasks.</p>\n"
   ]
  },
  {
   "cell_type": "code",
   "execution_count": null,
   "id": "cell-17",
   "metadata": {
    "attributes": {
     "classes": [
      "To learn about pandas we will use SARS-CoV-2 data. Before actually jumping to Pandas let's learn about the coronavirus molecular biology."
     ],
     "id": ""
    }
   },
   "outputs": [],
   "source": [
    "df['Run'].head()"
   ]
  },
  {
   "cell_type": "markdown",
   "id": "cell-18",
   "metadata": {
    "collapsed": false,
    "editable": false,
    "jupyter": {
     "outputs_hidden": false
    }
   },
   "source": [
    "<p>This gave us the numbers we were after. Notice that when it was printed, the index of the rows came along with it. If we wanted to pull out a single percentage correct, say corresponding to index <code style=\"color: inherit\">4</code>, we can do that.</p>\n"
   ]
  },
  {
   "cell_type": "code",
   "execution_count": null,
   "id": "cell-19",
   "metadata": {
    "attributes": {
     "classes": [
      "To learn about pandas we will use SARS-CoV-2 data. Before actually jumping to Pandas let's learn about the coronavirus molecular biology."
     ],
     "id": ""
    }
   },
   "outputs": [],
   "source": [
    "df['Run'][4]"
   ]
  },
  {
   "cell_type": "markdown",
   "id": "cacade31-fbf4-4e56-bed9-c713174c6019",
   "metadata": {},
   "source": [
    "### `loc` versus `iloc`\n",
    "\n",
    "In **pandas**, `.loc` and `.iloc` are two primary ways to select data from a DataFrame, but they differ in how they reference the data:\n",
    "\n",
    "#### 1. **`.loc[]` (Label-Based Indexing)**\n",
    "   - Uses explicit labels for both rows and columns.\n",
    "   - Includes the end index when slicing.\n",
    "   - Can handle boolean arrays for conditional filtering.\n",
    "   - Can work with both single labels and lists of labels.\n",
    "\n",
    "   **Example:**\n",
    "   ```python\n",
    "   import pandas as pd\n",
    "\n",
    "   df = pd.DataFrame({\n",
    "       'A': [10, 20, 30],\n",
    "       'B': [40, 50, 60]\n",
    "   }, index=['row1', 'row2', 'row3'])\n",
    "\n",
    "   # Selecting using labels\n",
    "   print(df.loc['row1'])      # Selects the first row using its label\n",
    "   print(df.loc['row1', 'A']) # Selects a specific value\n",
    "\n",
    "   # Selecting multiple rows and columns\n",
    "   print(df.loc[['row1', 'row3'], ['A', 'B']])\n",
    "\n",
    "   # Slicing (label-based, includes end)\n",
    "   print(df.loc['row1':'row2'])  # Includes 'row2'\n",
    "   ```\n",
    "\n",
    "#### 2. **`.iloc[]` (Integer-Based Indexing)**\n",
    "   - Uses numerical positions (like Python lists).\n",
    "   - Excludes the end index when slicing.\n",
    "   - Cannot use labels, only integers.\n",
    "\n",
    "   **Example:**\n",
    "   ```python\n",
    "   # Selecting using integer positions\n",
    "   print(df.iloc[0])      # First row\n",
    "   print(df.iloc[0, 1])   # First row, second column\n",
    "\n",
    "   # Selecting multiple rows and columns\n",
    "   print(df.iloc[[0, 2], [0, 1]])\n",
    "\n",
    "   # Slicing (position-based, excludes end)\n",
    "   print(df.iloc[0:2])  # Excludes row at index 2\n",
    "   ```\n",
    "\n",
    "#### **Key Differences**\n",
    "| Feature   | `.loc` | `.iloc` |\n",
    "|-----------|--------|---------|\n",
    "| Indexing Type | Label-based | Integer-based |\n",
    "| Slicing | Inclusive of the end index | Exclusive of the end index |\n",
    "| Accepts Boolean Arrays | Yes | No |\n",
    "| Works with Labels | Yes | No |\n",
    "| Works with Integer Positions | No | Yes |\n",
    "\n",
    "#### **When to Use Which?**\n",
    "- Use `.loc` when you have meaningful row labels (e.g., `df.set_index('ID')`).\n",
    "- Use `.iloc` when working with row/column positions (e.g., numeric indexing)."
   ]
  },
  {
   "cell_type": "code",
   "execution_count": null,
   "id": "cell-21",
   "metadata": {
    "attributes": {
     "classes": [
      "To learn about pandas we will use SARS-CoV-2 data. Before actually jumping to Pandas let's learn about the coronavirus molecular biology."
     ],
     "id": ""
    }
   },
   "outputs": [],
   "source": [
    "df.loc[4, 'Run']"
   ]
  },
  {
   "cell_type": "markdown",
   "id": "cell-22",
   "metadata": {
    "collapsed": false,
    "editable": false,
    "jupyter": {
     "outputs_hidden": false
    }
   },
   "source": [
    "\n"
   ]
  },
  {
   "cell_type": "code",
   "execution_count": null,
   "id": "cell-23",
   "metadata": {
    "attributes": {
     "classes": [
      "To learn about pandas we will use SARS-CoV-2 data. Before actually jumping to Pandas let's learn about the coronavirus molecular biology."
     ],
     "id": ""
    }
   },
   "outputs": [],
   "source": [
    "df.iloc[4:6]"
   ]
  },
  {
   "cell_type": "markdown",
   "id": "cell-24",
   "metadata": {
    "collapsed": false,
    "editable": false,
    "jupyter": {
     "outputs_hidden": false
    }
   },
   "source": [
    "\n"
   ]
  },
  {
   "cell_type": "code",
   "execution_count": null,
   "id": "cell-25",
   "metadata": {
    "attributes": {
     "classes": [
      "To learn about pandas we will use SARS-CoV-2 data. Before actually jumping to Pandas let's learn about the coronavirus molecular biology."
     ],
     "id": ""
    }
   },
   "outputs": [],
   "source": [
    "df.iloc[4:6, [0,2,4]]"
   ]
  },
  {
   "cell_type": "markdown",
   "id": "cell-26",
   "metadata": {
    "collapsed": false,
    "editable": false,
    "jupyter": {
     "outputs_hidden": false
    }
   },
   "source": [
    "\n"
   ]
  },
  {
   "cell_type": "code",
   "execution_count": null,
   "id": "cell-27",
   "metadata": {
    "attributes": {
     "classes": [
      "To learn about pandas we will use SARS-CoV-2 data. Before actually jumping to Pandas let's learn about the coronavirus molecular biology."
     ],
     "id": ""
    }
   },
   "outputs": [],
   "source": [
    "df.loc[4:6, ['Run','size_MB','LibraryStrategy']]"
   ]
  },
  {
   "cell_type": "markdown",
   "id": "cell-28",
   "metadata": {
    "collapsed": false,
    "editable": false,
    "jupyter": {
     "outputs_hidden": false
    }
   },
   "source": [
    "\n"
   ]
  },
  {
   "cell_type": "code",
   "execution_count": null,
   "id": "cell-29",
   "metadata": {
    "attributes": {
     "classes": [
      "To learn about pandas we will use SARS-CoV-2 data. Before actually jumping to Pandas let's learn about the coronavirus molecular biology."
     ],
     "id": ""
    }
   },
   "outputs": [],
   "source": [
    "df.loc[4:6, 'Run':]"
   ]
  },
  {
   "cell_type": "markdown",
   "id": "cell-30",
   "metadata": {
    "collapsed": false,
    "editable": false,
    "jupyter": {
     "outputs_hidden": false
    }
   },
   "source": [
    "\n"
   ]
  },
  {
   "cell_type": "code",
   "execution_count": null,
   "id": "cell-31",
   "metadata": {
    "attributes": {
     "classes": [
      "To learn about pandas we will use SARS-CoV-2 data. Before actually jumping to Pandas let's learn about the coronavirus molecular biology."
     ],
     "id": ""
    }
   },
   "outputs": [],
   "source": [
    "df.loc[4:6, 'Run':'LibrarySource']"
   ]
  },
  {
   "cell_type": "markdown",
   "id": "cell-32",
   "metadata": {
    "collapsed": false,
    "editable": false,
    "jupyter": {
     "outputs_hidden": false
    }
   },
   "source": [
    "<p>It is also important to note that <strong>row indices need not be integers</strong>. And you should not count on them being integers. In practice, you will almost never use row indices, but rather use <strong>Boolean indexing</strong>.</p>\n",
    "<h2 id=\"filtering-boolean-indexing-of-data-frames\">Filtering: Boolean indexing of data frames</h2>\n",
    "<p>Let’s say I wanted to pull out accession numbers of runs produced by Pacific Biosciences machines (in this table such datasets are labeled as <code style=\"color: inherit\">PACBIO_SMRT</code>. I can use Boolean indexing to specify the row. Specifically, I want the row for which <code style=\"color: inherit\">df['Platform'] == 'PACBIO_SMRT'</code>. You can essentially plop this syntax directly when using <code style=\"color: inherit\">.loc</code>.</p>\n"
   ]
  },
  {
   "cell_type": "code",
   "execution_count": null,
   "id": "cell-33",
   "metadata": {
    "attributes": {
     "classes": [
      "To learn about pandas we will use SARS-CoV-2 data. Before actually jumping to Pandas let's learn about the coronavirus molecular biology."
     ],
     "id": ""
    }
   },
   "outputs": [],
   "source": [
    "df.loc[df['Platform'] == 'PACBIO_SMRT', 'Run']"
   ]
  },
  {
   "cell_type": "markdown",
   "id": "cell-34",
   "metadata": {
    "collapsed": false,
    "editable": false,
    "jupyter": {
     "outputs_hidden": false
    }
   },
   "source": [
    "<p>If I want to pull the whole record for that participant, I can use <code style=\"color: inherit\">:</code> for the column index.</p>\n"
   ]
  },
  {
   "cell_type": "code",
   "execution_count": null,
   "id": "cell-35",
   "metadata": {
    "attributes": {
     "classes": [
      "To learn about pandas we will use SARS-CoV-2 data. Before actually jumping to Pandas let's learn about the coronavirus molecular biology."
     ],
     "id": ""
    }
   },
   "outputs": [],
   "source": [
    "df.loc[df['Platform'] == 'PACBIO_SMRT', :].head(10)"
   ]
  },
  {
   "cell_type": "markdown",
   "id": "cell-36",
   "metadata": {
    "collapsed": false,
    "editable": false,
    "jupyter": {
     "outputs_hidden": false
    }
   },
   "source": [
    "<p>Now, let’s pull out all PacBio records that were obtained from Amplicon sequencing. We can again use Boolean indexing, but we need to use an <code style=\"color: inherit\">&amp;</code> operator.\n",
    "We have not covered this bitwise operator before, but the syntax is self-explanatory in the example below. Note that it is important that each Boolean operation you are doing is in parentheses because of the precedence of the operators involved.</p>\n"
   ]
  },
  {
   "cell_type": "code",
   "execution_count": null,
   "id": "cell-37",
   "metadata": {
    "attributes": {
     "classes": [
      "To learn about pandas we will use SARS-CoV-2 data. Before actually jumping to Pandas let's learn about the coronavirus molecular biology."
     ],
     "id": ""
    }
   },
   "outputs": [],
   "source": [
    "df.loc[(df['Platform'] == 'PACBIO_SMRT') & (df['LibraryStrategy'] == 'AMPLICON'), :].head(3)"
   ]
  },
  {
   "cell_type": "markdown",
   "id": "cell-38",
   "metadata": {
    "collapsed": false,
    "editable": false,
    "jupyter": {
     "outputs_hidden": false
    }
   },
   "source": [
    "<p>What is going on will be clearer if we set up our Boolean indexing first, as follows.</p>\n"
   ]
  },
  {
   "cell_type": "code",
   "execution_count": null,
   "id": "cell-39",
   "metadata": {
    "attributes": {
     "classes": [
      "To learn about pandas we will use SARS-CoV-2 data. Before actually jumping to Pandas let's learn about the coronavirus molecular biology."
     ],
     "id": ""
    }
   },
   "outputs": [],
   "source": [
    "inds = (df['Platform'] == 'PACBIO_SMRT') & (df['LibraryStrategy'] == 'AMPLICON')\n",
    "inds[2:6]"
   ]
  },
  {
   "cell_type": "markdown",
   "id": "cell-40",
   "metadata": {
    "collapsed": false,
    "editable": false,
    "jupyter": {
     "outputs_hidden": false
    }
   },
   "source": [
    "<p>Notice that <code style=\"color: inherit\">inds</code> is an array (actually a Pandas <code style=\"color: inherit\">Series</code>, essentially a <code style=\"color: inherit\">DataFrame</code> with one column) of <code style=\"color: inherit\">True</code>s and <code style=\"color: inherit\">False</code>s. We can apply the <code style=\"color: inherit\">unique</code> function from <a href=\"https://numpy.org/\">NumPy</a> to see how\n",
    "many <code style=\"color: inherit\">True</code> and <code style=\"color: inherit\">False</code> rows we have:</p>\n"
   ]
  },
  {
   "cell_type": "code",
   "execution_count": null,
   "id": "cell-41",
   "metadata": {
    "attributes": {
     "classes": [
      "To learn about pandas we will use SARS-CoV-2 data. Before actually jumping to Pandas let's learn about the coronavirus molecular biology."
     ],
     "id": ""
    }
   },
   "outputs": [],
   "source": [
    "import numpy as np\n",
    "np.unique(inds, return_counts=True)"
   ]
  },
  {
   "cell_type": "markdown",
   "id": "cell-42",
   "metadata": {
    "collapsed": false,
    "editable": false,
    "jupyter": {
     "outputs_hidden": false
    }
   },
   "source": [
    "<p>When we index with it using .loc, we get back rows where inds is True:</p>\n"
   ]
  },
  {
   "cell_type": "code",
   "execution_count": null,
   "id": "cell-43",
   "metadata": {
    "attributes": {
     "classes": [
      "To learn about pandas we will use SARS-CoV-2 data. Before actually jumping to Pandas let's learn about the coronavirus molecular biology."
     ],
     "id": ""
    }
   },
   "outputs": [],
   "source": [
    "df.loc[inds, :]"
   ]
  },
  {
   "cell_type": "markdown",
   "id": "cell-44",
   "metadata": {
    "collapsed": false,
    "editable": false,
    "jupyter": {
     "outputs_hidden": false
    }
   },
   "source": [
    "\n"
   ]
  },
  {
   "cell_type": "code",
   "execution_count": null,
   "id": "cell-45",
   "metadata": {
    "attributes": {
     "classes": [
      "To learn about pandas we will use SARS-CoV-2 data. Before actually jumping to Pandas let's learn about the coronavirus molecular biology."
     ],
     "id": ""
    }
   },
   "outputs": [],
   "source": [
    "df.loc[(df['Platform'] == 'PACBIO_SMRT') & (df['LibraryStrategy'] == 'AMPLICON'), :].head(3)"
   ]
  },
  {
   "cell_type": "markdown",
   "id": "cell-46",
   "metadata": {
    "collapsed": false,
    "editable": false,
    "jupyter": {
     "outputs_hidden": false
    }
   },
   "source": [
    "<h2 id=\"calculating-with-data-frames\">Calculating with data frames</h2>\n",
    "<p>The SRA data contains (sometimes) size of the run in MB (<code class=\"language-plaintext highlighter-rouge\">size_MB</code>). Let’s suppose we want to consider only those run where <code style=\"color: inherit\">size_MB</code> is above 100. We might like to add a column to the data frame that specifies whether or not the corresponding run is above 100Mb. We can conveniently compute with columns. This is done element-wise.</p>\n"
   ]
  },
  {
   "cell_type": "code",
   "execution_count": null,
   "id": "cell-47",
   "metadata": {
    "attributes": {
     "classes": [
      "To learn about pandas we will use SARS-CoV-2 data. Before actually jumping to Pandas let's learn about the coronavirus molecular biology."
     ],
     "id": ""
    }
   },
   "outputs": [],
   "source": [
    "df['size_MB'] >= 100"
   ]
  },
  {
   "cell_type": "markdown",
   "id": "cell-48",
   "metadata": {
    "collapsed": false,
    "editable": false,
    "jupyter": {
     "outputs_hidden": false
    }
   },
   "source": [
    "<p>This tells us which run is above 100 Mb. We can simply add this back to the data frame.</p>\n"
   ]
  },
  {
   "cell_type": "code",
   "execution_count": null,
   "id": "cell-49",
   "metadata": {
    "attributes": {
     "classes": [
      "To learn about pandas we will use SARS-CoV-2 data. Before actually jumping to Pandas let's learn about the coronavirus molecular biology."
     ],
     "id": ""
    }
   },
   "outputs": [],
   "source": [
    "# Add the column to the DataFrame\n",
    "df['Over100Mb'] = df['size_MB'] >= 100\n",
    "\n",
    "# Take a look\n",
    "df.head()"
   ]
  },
  {
   "cell_type": "markdown",
   "id": "cell-50",
   "metadata": {
    "collapsed": false,
    "editable": false,
    "jupyter": {
     "outputs_hidden": false
    }
   },
   "source": [
    "\n"
   ]
  },
  {
   "cell_type": "code",
   "execution_count": null,
   "id": "cell-51",
   "metadata": {
    "attributes": {
     "classes": [
      "To learn about pandas we will use SARS-CoV-2 data. Before actually jumping to Pandas let's learn about the coronavirus molecular biology."
     ],
     "id": ""
    }
   },
   "outputs": [],
   "source": [
    "df.assign(over100 = df['size_MB']>=100)"
   ]
  },
  {
   "cell_type": "markdown",
   "id": "cell-52",
   "metadata": {
    "collapsed": false,
    "editable": false,
    "jupyter": {
     "outputs_hidden": false
    }
   },
   "source": [
    "<h2 id=\"a-note-of-assign\">A note of <code style=\"color: inherit\">assign</code></h2>\n",
    "<p>The <code style=\"color: inherit\">assign</code> method in the pandas library is used to add new columns to a pandas DataFrame. The method allows you to perform calculations or operations on existing columns to generate new columns without modifying the original DataFrame.</p>\n",
    "<p>For example, you can use the <code style=\"color: inherit\">assign</code> method to add a new column that calculates the sum of two existing columns or to add a column based on a complex calculation that involves multiple columns. The method also supports adding columns based on external data sources, such as NumPy arrays or other pandas DataFrames.</p>\n",
    "<p>Using <code style=\"color: inherit\">assign</code> method is useful because it allows you to create new columns and add them to a DataFrame in a way that is both readable and easy to maintain. The method is also chain-able, meaning you can add multiple columns in one call, making your code more concise and efficient.</p>\n",
    "<h2 id=\"a-note-about-vectorization\">A note about vectorization</h2>\n",
    "<p>Notice how applying the <code style=\"color: inherit\">&lt;=</code> operator to a <code style=\"color: inherit\">Series</code> resulted in <strong>elementwise</strong> application. This is called <code style=\"color: inherit\">vectorization</code>. It means that we do not have to write a <code style=\"color: inherit\">for</code> loop to do operations on the elements of a <code style=\"color: inherit\">Series</code> or other array-like object. Imagine if we had to do that with a <code style=\"color: inherit\">for</code> loop.</p>\n"
   ]
  },
  {
   "cell_type": "code",
   "execution_count": null,
   "id": "cell-53",
   "metadata": {
    "attributes": {
     "classes": [
      "To learn about pandas we will use SARS-CoV-2 data. Before actually jumping to Pandas let's learn about the coronavirus molecular biology."
     ],
     "id": ""
    }
   },
   "outputs": [],
   "source": [
    "big_runs = []\n",
    "for size in df['size_MB']:\n",
    "    big_runs.append(size >= 100)"
   ]
  },
  {
   "cell_type": "markdown",
   "id": "cell-54",
   "metadata": {
    "collapsed": false,
    "editable": false,
    "jupyter": {
     "outputs_hidden": false
    }
   },
   "source": [
    "<p>This is cumbersome. The vectorization allows for much more convenient calculation. Beyond that, the vectorized code is almost always faster when using Pandas and Numpy because the looping is done with compiled code under the hood. This can be done with many operators, including those you’ve already seen, like <code style=\"color: inherit\">+</code>, <code style=\"color: inherit\">-</code>, <code style=\"color: inherit\">*</code>, <code style=\"color: inherit\">/</code>, <code style=\"color: inherit\">**</code>, etc.</p>\n",
    "<h2 id=\"outputting-a-new-csv-file\">Outputting a new CSV file</h2>\n",
    "<p>Now that we added the <code style=\"color: inherit\">Over100Mb</code> column, we might like to save our data frame as a new CSV that we can reload later. We use <code style=\"color: inherit\">df.to_csv()</code> for this with the <code style=\"color: inherit\">index</code> kwarg to ask Pandas not to explicitly write the indices to the file.</p>\n"
   ]
  },
  {
   "cell_type": "code",
   "execution_count": null,
   "id": "cell-55",
   "metadata": {
    "attributes": {
     "classes": [
      "To learn about pandas we will use SARS-CoV-2 data. Before actually jumping to Pandas let's learn about the coronavirus molecular biology."
     ],
     "id": ""
    }
   },
   "outputs": [],
   "source": [
    "df.to_csv('over100Mb_data.csv', index=False)"
   ]
  },
  {
   "cell_type": "markdown",
   "id": "cell-56",
   "metadata": {
    "collapsed": false,
    "editable": false,
    "jupyter": {
     "outputs_hidden": false
    }
   },
   "source": [
    "<p>Let’s take a look at what this file looks like.</p>\n"
   ]
  },
  {
   "cell_type": "code",
   "execution_count": null,
   "id": "cell-57",
   "metadata": {
    "attributes": {
     "classes": [
      "To learn about pandas we will use SARS-CoV-2 data. Before actually jumping to Pandas let's learn about the coronavirus molecular biology."
     ],
     "id": ""
    }
   },
   "outputs": [],
   "source": [
    "!head over100Mb_data.csv"
   ]
  },
  {
   "cell_type": "markdown",
   "id": "cell-58",
   "metadata": {
    "collapsed": false,
    "editable": false,
    "jupyter": {
     "outputs_hidden": false
    }
   },
   "source": [
    "<h1 id=\"tidy-data\">Tidy data</h1>\n",
    "<p><a href=\"https://en.wikipedia.org/wiki/Hadley_Wickham\">Hadley Wickham</a> wrote a <a href=\"http://dx.doi.org/10.18637/jss.v059.i10\">great article</a> in favor of “tidy data.” Tidy data frames follow the rules:</p>\n",
    "<ol>\n",
    "<li>Each variable is a column.</li>\n",
    "<li>Each observation is a row.</li>\n",
    "<li>Each type of observation has its own separate data frame.</li>\n",
    "</ol>\n",
    "<p>This is less pretty to visualize as a table, but we rarely look at data in tables. Indeed, the representation of data that is convenient for visualization is different from that which is convenient for analysis.\n",
    "A tidy data frame is almost always <strong>much</strong> easier to work with than non-tidy formats.</p>\n",
    "<p>Also, let’s take a look at this <a href=\"https://dtkaplan.github.io/DataComputingEbook/chap-tidy-data.html#chap:tidy-data\">article</a>.</p>\n",
    "<h2 id=\"the-data-set\">The data set</h2>\n",
    "<p>The dataset we will be using is a list of all SARS-CoV-2 datasets in <a href=\"https://www.ncbi.nlm.nih.gov/sra\">Sequence Read Archive</a> as of January 20, 2021.</p>\n",
    "<p>It is obtained by going to https://www.ncbi.nlm.nih.gov/sra and performing a query with the following search terms: <code style=\"color: inherit\">txid2697049[Organism:noexp]</code>.</p>\n",
    "<p>Results are downloaded using <code style=\"color: inherit\">Send to:</code> menu selecting <code style=\"color: inherit\">File</code> and then <code style=\"color: inherit\">RunInfo</code>. Let’s get these results into this notebook:</p>\n"
   ]
  },
  {
   "cell_type": "code",
   "execution_count": null,
   "id": "cell-59",
   "metadata": {
    "attributes": {
     "classes": [
      "To learn about pandas we will use SARS-CoV-2 data. Before actually jumping to Pandas let's learn about the coronavirus molecular biology."
     ],
     "id": ""
    }
   },
   "outputs": [],
   "source": [
    "df = pd.read_csv('https://zenodo.org/records/10680001/files/sra_ncov.csv.gz')\n",
    "df = df[df['size_MB']> 0].reset_index(drop=True)\n",
    "\n",
    "# Take a look\n",
    "df"
   ]
  },
  {
   "cell_type": "markdown",
   "id": "cell-60",
   "metadata": {
    "collapsed": false,
    "editable": false,
    "jupyter": {
     "outputs_hidden": false
    }
   },
   "source": [
    "<p>This data set is in tidy format. Each row represents a single SRA dataset. The properties of each run are given in each column. We already saw the power of having the data in this format when we did Boolean indexing in the last lesson.</p>\n",
    "<h2 id=\"finding-unique-values-and-counts\">Finding unique values and counts</h2>\n",
    "<p>How many unique sequencing platforms do we have?</p>\n"
   ]
  },
  {
   "cell_type": "code",
   "execution_count": null,
   "id": "cell-61",
   "metadata": {
    "attributes": {
     "classes": [
      "To learn about pandas we will use SARS-CoV-2 data. Before actually jumping to Pandas let's learn about the coronavirus molecular biology."
     ],
     "id": ""
    }
   },
   "outputs": [],
   "source": [
    "df['Platform'].unique()"
   ]
  },
  {
   "cell_type": "markdown",
   "id": "cell-62",
   "metadata": {
    "collapsed": false,
    "editable": false,
    "jupyter": {
     "outputs_hidden": false
    }
   },
   "source": [
    "\n"
   ]
  },
  {
   "cell_type": "code",
   "execution_count": null,
   "id": "cell-63",
   "metadata": {
    "attributes": {
     "classes": [
      "To learn about pandas we will use SARS-CoV-2 data. Before actually jumping to Pandas let's learn about the coronavirus molecular biology."
     ],
     "id": ""
    }
   },
   "outputs": [],
   "source": [
    "df['Platform'].value_counts()"
   ]
  },
  {
   "cell_type": "markdown",
   "id": "cell-64",
   "metadata": {
    "collapsed": false,
    "editable": false,
    "jupyter": {
     "outputs_hidden": false
    }
   },
   "source": [
    "<h2 id=\"sorting\">Sorting</h2>\n",
    "<p>(and axes!)</p>\n",
    "<p>Let’s start by sorting on index:</p>\n"
   ]
  },
  {
   "cell_type": "code",
   "execution_count": null,
   "id": "cell-65",
   "metadata": {
    "attributes": {
     "classes": [
      "To learn about pandas we will use SARS-CoV-2 data. Before actually jumping to Pandas let's learn about the coronavirus molecular biology."
     ],
     "id": ""
    }
   },
   "outputs": [],
   "source": [
    "df_subset = df.sample(n=10)"
   ]
  },
  {
   "cell_type": "markdown",
   "id": "cell-66",
   "metadata": {
    "collapsed": false,
    "editable": false,
    "jupyter": {
     "outputs_hidden": false
    }
   },
   "source": [
    "\n"
   ]
  },
  {
   "cell_type": "code",
   "execution_count": null,
   "id": "cell-67",
   "metadata": {
    "attributes": {
     "classes": [
      "To learn about pandas we will use SARS-CoV-2 data. Before actually jumping to Pandas let's learn about the coronavirus molecular biology."
     ],
     "id": ""
    }
   },
   "outputs": [],
   "source": [
    "df_subset"
   ]
  },
  {
   "cell_type": "markdown",
   "id": "cell-68",
   "metadata": {
    "collapsed": false,
    "editable": false,
    "jupyter": {
     "outputs_hidden": false
    }
   },
   "source": [
    "\n"
   ]
  },
  {
   "cell_type": "code",
   "execution_count": null,
   "id": "cell-69",
   "metadata": {
    "attributes": {
     "classes": [
      "To learn about pandas we will use SARS-CoV-2 data. Before actually jumping to Pandas let's learn about the coronavirus molecular biology."
     ],
     "id": ""
    }
   },
   "outputs": [],
   "source": [
    "df_subset.sort_index()"
   ]
  },
  {
   "cell_type": "markdown",
   "id": "cell-70",
   "metadata": {
    "collapsed": false,
    "editable": false,
    "jupyter": {
     "outputs_hidden": false
    }
   },
   "source": [
    "\n"
   ]
  },
  {
   "cell_type": "code",
   "execution_count": null,
   "id": "cell-71",
   "metadata": {
    "attributes": {
     "classes": [
      "To learn about pandas we will use SARS-CoV-2 data. Before actually jumping to Pandas let's learn about the coronavirus molecular biology."
     ],
     "id": ""
    }
   },
   "outputs": [],
   "source": [
    "df_subset.sort_index(axis = 1)"
   ]
  },
  {
   "cell_type": "markdown",
   "id": "cell-72",
   "metadata": {
    "collapsed": false,
    "editable": false,
    "jupyter": {
     "outputs_hidden": false
    }
   },
   "source": [
    "<p>Now let’s try sorting by values:</p>\n"
   ]
  },
  {
   "cell_type": "code",
   "execution_count": null,
   "id": "cell-73",
   "metadata": {
    "attributes": {
     "classes": [
      "To learn about pandas we will use SARS-CoV-2 data. Before actually jumping to Pandas let's learn about the coronavirus molecular biology."
     ],
     "id": ""
    }
   },
   "outputs": [],
   "source": [
    "df_subset.sort_values(by=['LibraryLayout'])"
   ]
  },
  {
   "cell_type": "markdown",
   "id": "cell-74",
   "metadata": {
    "collapsed": false,
    "editable": false,
    "jupyter": {
     "outputs_hidden": false
    }
   },
   "source": [
    "\n"
   ]
  },
  {
   "cell_type": "code",
   "execution_count": null,
   "id": "cell-75",
   "metadata": {
    "attributes": {
     "classes": [
      "To learn about pandas we will use SARS-CoV-2 data. Before actually jumping to Pandas let's learn about the coronavirus molecular biology."
     ],
     "id": ""
    }
   },
   "outputs": [],
   "source": [
    "df_subset.sort_values(by=['LibraryLayout','size_MB'])"
   ]
  },
  {
   "cell_type": "markdown",
   "id": "cell-76",
   "metadata": {
    "collapsed": false,
    "editable": false,
    "jupyter": {
     "outputs_hidden": false
    }
   },
   "source": [
    "\n"
   ]
  },
  {
   "cell_type": "code",
   "execution_count": null,
   "id": "cell-77",
   "metadata": {
    "attributes": {
     "classes": [
      "To learn about pandas we will use SARS-CoV-2 data. Before actually jumping to Pandas let's learn about the coronavirus molecular biology."
     ],
     "id": ""
    }
   },
   "outputs": [],
   "source": [
    "df_subset.sort_values(by=['LibraryLayout','size_MB'],ascending=[True,False])"
   ]
  },
  {
   "cell_type": "markdown",
   "id": "cell-78",
   "metadata": {
    "collapsed": false,
    "editable": false,
    "jupyter": {
     "outputs_hidden": false
    }
   },
   "source": [
    "<h1 id=\"split-apply-combine\">Split-apply-combine</h1>\n",
    "<p>Let’s say we want to compute the total size of SRA runs for each <code style=\"color: inherit\">BioProject</code>. Ignoring for the second the mechanics of how we would do this with Pandas, let’s think about it in English. What do we need to do?</p>\n",
    "<ol>\n",
    "<li><strong>Split</strong> the data set up according to the <code style=\"color: inherit\">'BioProject'</code> field, i.e., split it up so we have a separate data set for each BioProject ID.</li>\n",
    "<li><strong>Apply</strong> a median function to the activity in these split data sets.</li>\n",
    "<li><strong>Combine</strong> the results of these averages on the split data set into a new, summary data set that contains classes for each platform and medians for each.</li>\n",
    "</ol>\n",
    "<p>We see that the strategy we want is a <strong>split-apply-combine</strong> strategy. This idea was put forward by Hadley Wickham in <a href=\"http://dx.doi.org/10.18637/jss.v040.i01\">this paper</a>. It turns out that this is a strategy we want to use <em>very</em> often. Split the data in terms of some criterion. Apply some function to the split-up data. Combine the results into a new data frame.</p>\n",
    "<p>Note that if the data are tidy, this procedure makes a lot of sense. Choose the column you want to use to split by. All rows with like entries in the splitting column are then grouped into a new data set. You can then apply any function you want into these new data sets. You can then combine the results into a new data frame.</p>\n",
    "<p>Pandas’s split-apply-combine operations are achieved using the <code style=\"color: inherit\">groupby()</code> method. You can think of <code style=\"color: inherit\">groupby()</code> as the splitting part. You can then apply functions to the resulting <code style=\"color: inherit\">DataFrameGroupBy</code> object. The <a href=\"http://pandas.pydata.org/pandas-docs/stable/groupby.html\">Pandas documentation on split-apply-combine</a> is excellent and worth reading through. It is extensive though, so don’t let yourself get intimidated by it.</p>\n",
    "<h2 id=\"aggregation\">Aggregation</h2>\n",
    "<p>Let’s go ahead and do our first split-apply-combine on this tidy data set. First, we will split the data set up by <code style=\"color: inherit\">BioProject</code>.</p>\n"
   ]
  },
  {
   "cell_type": "code",
   "execution_count": null,
   "id": "cell-79",
   "metadata": {
    "attributes": {
     "classes": [
      "To learn about pandas we will use SARS-CoV-2 data. Before actually jumping to Pandas let's learn about the coronavirus molecular biology."
     ],
     "id": ""
    }
   },
   "outputs": [],
   "source": [
    "grouped = df.groupby(['BioProject'])\n",
    "\n",
    "# Take a look\n",
    "grouped"
   ]
  },
  {
   "cell_type": "markdown",
   "id": "cell-80",
   "metadata": {
    "collapsed": false,
    "editable": false,
    "jupyter": {
     "outputs_hidden": false
    }
   },
   "source": [
    "<p>There is not much to see in the <code style=\"color: inherit\">DataFrameGroupBy</code> object that resulted. But there is a lot we can do with this object. Typing <code style=\"color: inherit\">grouped.</code> and hitting tab will show you the many possibilities. For most of these possibilities, the apply and combine steps happen together and a new data frame is returned. The <code style=\"color: inherit\">grouped.sum()</code> method is exactly what we want.</p>\n"
   ]
  },
  {
   "cell_type": "code",
   "execution_count": null,
   "id": "cell-81",
   "metadata": {
    "attributes": {
     "classes": [
      "To learn about pandas we will use SARS-CoV-2 data. Before actually jumping to Pandas let's learn about the coronavirus molecular biology."
     ],
     "id": ""
    }
   },
   "outputs": [],
   "source": [
    "df_sum = grouped.sum()\n",
    "\n",
    "# Take a look\n",
    "df_sum"
   ]
  },
  {
   "cell_type": "markdown",
   "id": "cell-82",
   "metadata": {
    "collapsed": false,
    "editable": false,
    "jupyter": {
     "outputs_hidden": false
    }
   },
   "source": [
    "\n"
   ]
  },
  {
   "cell_type": "code",
   "execution_count": null,
   "id": "cell-83",
   "metadata": {
    "attributes": {
     "classes": [
      "To learn about pandas we will use SARS-CoV-2 data. Before actually jumping to Pandas let's learn about the coronavirus molecular biology."
     ],
     "id": ""
    }
   },
   "outputs": [],
   "source": [
    "df_sum = pd.DataFrame(grouped['size_MB'].sum())\n",
    "df_sum"
   ]
  },
  {
   "cell_type": "markdown",
   "id": "cell-84",
   "metadata": {
    "collapsed": false,
    "editable": false,
    "jupyter": {
     "outputs_hidden": false
    }
   },
   "source": [
    "<p>The outputted data frame has the sums of numerical columns only, which we have only one: <code style=\"color: inherit\">size_MS</code>. Note that this data frame has <code style=\"color: inherit\">Platform</code> as the name of the row index.\n",
    "If we want to instead keep <code style=\"color: inherit\">Platform</code> (which, remember, is what we used to split up the data set before we computed the summary statistics) as a column, we can use the <code style=\"color: inherit\">reset_index()</code> method.</p>\n"
   ]
  },
  {
   "cell_type": "code",
   "execution_count": null,
   "id": "cell-85",
   "metadata": {
    "attributes": {
     "classes": [
      "To learn about pandas we will use SARS-CoV-2 data. Before actually jumping to Pandas let's learn about the coronavirus molecular biology."
     ],
     "id": ""
    }
   },
   "outputs": [],
   "source": [
    "df_sum.reset_index()"
   ]
  },
  {
   "cell_type": "markdown",
   "id": "cell-86",
   "metadata": {
    "collapsed": false,
    "editable": false,
    "jupyter": {
     "outputs_hidden": false
    }
   },
   "source": [
    "<p>Note, though, that this was not done in-place. If you want to update your data frame, you have to explicitly do so.</p>\n"
   ]
  },
  {
   "cell_type": "code",
   "execution_count": null,
   "id": "cell-87",
   "metadata": {
    "attributes": {
     "classes": [
      "To learn about pandas we will use SARS-CoV-2 data. Before actually jumping to Pandas let's learn about the coronavirus molecular biology."
     ],
     "id": ""
    }
   },
   "outputs": [],
   "source": [
    "df_sum = df_sum.reset_index()"
   ]
  },
  {
   "cell_type": "markdown",
   "id": "cell-88",
   "metadata": {
    "collapsed": false,
    "editable": false,
    "jupyter": {
     "outputs_hidden": false
    }
   },
   "source": [
    "<p>We can also use multiple columns in our <code style=\"color: inherit\">groupby()</code> operation. To do this, we simply pass in a list of columns into <code style=\"color: inherit\">df.groupby()</code>. We will <strong>chain the methods</strong>, performing a groupby,\n",
    "applying a median, and then resetting the index of the result, all in one line.</p>\n"
   ]
  },
  {
   "cell_type": "markdown",
   "id": "cell-90",
   "metadata": {
    "collapsed": false,
    "editable": false,
    "jupyter": {
     "outputs_hidden": false
    }
   },
   "source": [
    "<p>This type of operation is called an <strong>aggregation</strong>. That is, we split the data set up into groups, and then computed a summary statistic for each group, in this case the median.</p>\n",
    "<p>You now have tremendous power in your hands. When your data are tidy, you can rapidly accelerate the ubiquitous split-apply-combine methods. Importantly, you now have a logical\n",
    "framework to think about how you slice and dice your data. As a final, simple example, I will show you how to go start to finish after loading the data set into a data frame,\n",
    "splitting by <code style=\"color: inherit\">BioProject</code> and <code style=\"color: inherit\">Platform</code>, and then getting the quartiles and extrema, in addition to the mean and standard deviation.</p>\n"
   ]
  },
  {
   "cell_type": "code",
   "execution_count": null,
   "id": "cell-91",
   "metadata": {
    "attributes": {
     "classes": [
      "To learn about pandas we will use SARS-CoV-2 data. Before actually jumping to Pandas let's learn about the coronavirus molecular biology."
     ],
     "id": ""
    }
   },
   "outputs": [],
   "source": [
    "df.groupby(['BioProject', 'Platform'])['size_MB'].describe()"
   ]
  },
  {
   "cell_type": "markdown",
   "id": "cell-92",
   "metadata": {
    "collapsed": false,
    "editable": false,
    "jupyter": {
     "outputs_hidden": false
    }
   },
   "source": [
    "\n"
   ]
  },
  {
   "cell_type": "code",
   "execution_count": null,
   "id": "cell-93",
   "metadata": {
    "attributes": {
     "classes": [
      "To learn about pandas we will use SARS-CoV-2 data. Before actually jumping to Pandas let's learn about the coronavirus molecular biology."
     ],
     "id": ""
    }
   },
   "outputs": [],
   "source": [
    "df.groupby(['BioProject', 'Platform'])['size_MB'].describe().reset_index()"
   ]
  },
  {
   "cell_type": "markdown",
   "id": "cell-94",
   "metadata": {
    "collapsed": false,
    "editable": false,
    "jupyter": {
     "outputs_hidden": false
    }
   },
   "source": [
    "\n"
   ]
  },
  {
   "cell_type": "code",
   "execution_count": null,
   "id": "cell-95",
   "metadata": {
    "attributes": {
     "classes": [
      "To learn about pandas we will use SARS-CoV-2 data. Before actually jumping to Pandas let's learn about the coronavirus molecular biology."
     ],
     "id": ""
    }
   },
   "outputs": [],
   "source": [
    "import numpy as np\n",
    "df.groupby(['BioProject', 'Platform']).agg({'size_MB':np.mean, 'Run':'nunique'}).reset_index()"
   ]
  },
  {
   "cell_type": "markdown",
   "id": "7807df64-bb84-48c0-9d1f-cba422795927",
   "metadata": {},
   "source": [
    "Yes, that’s right. One single, clean, easy-to-read line of code. In the coming tutorials, we will see how to use tidy data to quickly generate plots."
   ]
  },
  {
   "cell_type": "markdown",
   "id": "77e3a6a6-88f7-470f-b9dc-67c69a313acb",
   "metadata": {},
   "source": [
    "## Tidy data\n",
    "\n",
    "You should always organize your data sets in a tidy format. However, this is sometimes just not possible, since you data sets can come from instruments that do not output the data in tidy format (though most do, at least in my experience), and you often have collaborators that send data in untidy formats.\n",
    "\n",
    "### What is tidy data?\n",
    "\n",
    "Tidy data is a structured format for organizing data that makes it easier to manipulate, analyze, and visualize. The concept was introduced by Hadley Wickham in his 2014 paper, \"[Tidy data](https://vita.had.co.nz/papers/tidy-data.pdf)\". It follows three fundamental principles:\n",
    "\n",
    "### Principles of Tidy Data\n",
    "\n",
    "- Each variable forms a column: Every column represents a distinct variable (e.g., temperature, age, name).\n",
    "- Each observation forms a row: Every row corresponds to a single, unique case or data point\n",
    "- Each value has its own cell. There should be no multiple values in a single cell.\n",
    "\n",
    "Let's illustrate this with a coverage dataset. In this dataset coverage (# of sequencing reads falling into a genome interval defined by columns `start` and `end`) is computed for multiple samples.\n"
   ]
  },
  {
   "cell_type": "code",
   "execution_count": null,
   "id": "cell-97",
   "metadata": {
    "attributes": {
     "classes": [
      "To learn about pandas we will use SARS-CoV-2 data. Before actually jumping to Pandas let's learn about the coronavirus molecular biology."
     ],
     "id": ""
    }
   },
   "outputs": [],
   "source": [
    "import pandas as pd\n",
    "import seaborn as sns\n",
    "df = pd.read_csv('https://zenodo.org/records/10680470/files/coverage.tsv.gz',sep='\\t')\n",
    "df.head()"
   ]
  },
  {
   "cell_type": "markdown",
   "id": "e74bb4a9-d7ee-42fb-8f94-33e90567db07",
   "metadata": {},
   "source": [
    "Suppose you want to plot coverage for each sample. When data in this format you need to do something crazy like this:"
   ]
  },
  {
   "cell_type": "code",
   "execution_count": null,
   "id": "8c61013c-0982-45ce-ae49-c0907d4e47ac",
   "metadata": {},
   "outputs": [],
   "source": [
    "for column in df.columns[3:]:\n",
    "    sns.relplot(data=df, x='start',y=column,kind='line')"
   ]
  },
  {
   "cell_type": "markdown",
   "id": "c8a1a502-feff-483e-9c0c-b3f31ab08feb",
   "metadata": {},
   "source": [
    "It would be easier if we \"melt\" the data first, and then plot:"
   ]
  },
  {
   "cell_type": "code",
   "execution_count": null,
   "id": "cell-99",
   "metadata": {
    "attributes": {
     "classes": [
      "To learn about pandas we will use SARS-CoV-2 data. Before actually jumping to Pandas let's learn about the coronavirus molecular biology."
     ],
     "id": ""
    }
   },
   "outputs": [],
   "source": [
    "melted = pd.melt(df, value_name='coverage', var_name='sample',value_vars=df.columns[3:],id_vars=['start','end'])\n",
    "\n",
    "melted.head()"
   ]
  },
  {
   "cell_type": "markdown",
   "id": "cell-100",
   "metadata": {
    "collapsed": false,
    "editable": false,
    "jupyter": {
     "outputs_hidden": false
    }
   },
   "source": [
    "<p>…and we are good to do with a tidy DataFrame! Let’s take a look at the summary. This would allow us to easily plot coverage:</p>\n"
   ]
  },
  {
   "cell_type": "code",
   "execution_count": null,
   "id": "cell-101",
   "metadata": {
    "attributes": {
     "classes": [
      "To learn about pandas we will use SARS-CoV-2 data. Before actually jumping to Pandas let's learn about the coronavirus molecular biology."
     ],
     "id": ""
    }
   },
   "outputs": [],
   "source": [
    "sns.relplot(data=melted, x='start',y='coverage',kind='line')"
   ]
  },
  {
   "cell_type": "code",
   "execution_count": null,
   "id": "cell-103",
   "metadata": {
    "attributes": {
     "classes": [
      "To learn about pandas we will use SARS-CoV-2 data. Before actually jumping to Pandas let's learn about the coronavirus molecular biology."
     ],
     "id": ""
    }
   },
   "outputs": [],
   "source": [
    "sns.relplot(data=melted, x='start',y='coverage',kind='line',hue='sample')"
   ]
  },
  {
   "cell_type": "code",
   "execution_count": null,
   "id": "cell-107",
   "metadata": {
    "attributes": {
     "classes": [
      "To learn about pandas we will use SARS-CoV-2 data. Before actually jumping to Pandas let's learn about the coronavirus molecular biology."
     ],
     "id": ""
    }
   },
   "outputs": [],
   "source": [
    "melted.groupby(['sample'])['coverage'].describe()"
   ]
  },
  {
   "cell_type": "markdown",
   "id": "cell-108",
   "metadata": {
    "collapsed": false,
    "editable": false,
    "jupyter": {
     "outputs_hidden": false
    }
   },
   "source": [
    "<p>To get back from melted (narrow) format to wide format we can use <a href=\"https://pandas.pydata.org/docs/reference/api/pandas.DataFrame.pivot.html#pandas.DataFrame.pivot\"><code class=\"language-plaintext highlighter-rouge\">pivot()</code></a> function.</p>\n",
    "<p><a href=\"https://pandas.pydata.org/docs/_images/07_pivot.svg\" rel=\"noopener noreferrer\"><img src=\"https://pandas.pydata.org/docs/_images/07_pivot.svg\" alt=\"Dataframe pivot. \" loading=\"lazy\" /></a></p>\n",
    "<blockquote>\n",
    "<p>Image from <a href=\"https://pandas.pydata.org/docs/getting_started/intro_tutorials/07_reshape_table_layout.html#long-to-wide-table-format\">Pandas Docs</a>.</p>\n",
    "</blockquote>\n"
   ]
  },
  {
   "cell_type": "code",
   "execution_count": null,
   "id": "cell-109",
   "metadata": {
    "attributes": {
     "classes": [
      "To learn about pandas we will use SARS-CoV-2 data. Before actually jumping to Pandas let's learn about the coronavirus molecular biology."
     ],
     "id": ""
    }
   },
   "outputs": [],
   "source": [
    "melted.pivot(index=['start','end'],columns='sample',values='coverage')"
   ]
  },
  {
   "cell_type": "markdown",
   "id": "cell-110",
   "metadata": {
    "collapsed": false,
    "editable": false,
    "jupyter": {
     "outputs_hidden": false
    }
   },
   "source": [
    "<h1 id=\"working-with-multiple-tables\">Working with multiple tables</h1>\n",
    "<p>Working with multiple tables often involves joining them on a common key:</p>\n",
    "<p><a href=\"https://pandas.pydata.org/docs/_images/08_merge_left.svg\" rel=\"noopener noreferrer\"><img src=\"https://pandas.pydata.org/docs/_images/08_merge_left.svg\" alt=\"Left join. \" loading=\"lazy\" /></a></p>\n",
    "<p>In fact, this can be done in several different ways described below. But first, let’s define two simple dataframes:</p>\n"
   ]
  },
  {
   "cell_type": "code",
   "execution_count": null,
   "id": "cell-115",
   "metadata": {
    "attributes": {
     "classes": [
      "To learn about pandas we will use SARS-CoV-2 data. Before actually jumping to Pandas let's learn about the coronavirus molecular biology."
     ],
     "id": ""
    }
   },
   "outputs": [],
   "source": [
    "df1 = pd.DataFrame({\"key\": [\"A\", \"B\", \"C\", \"D\"], \"value\": np.random.randn(4)})\n",
    "df2 = pd.DataFrame({\"key\": [\"B\", \"D\", \"D\", \"E\"], \"value\": np.random.randn(4)})"
   ]
  },
  {
   "cell_type": "code",
   "execution_count": null,
   "id": "cell-117",
   "metadata": {
    "attributes": {
     "classes": [
      "To learn about pandas we will use SARS-CoV-2 data. Before actually jumping to Pandas let's learn about the coronavirus molecular biology."
     ],
     "id": ""
    }
   },
   "outputs": [],
   "source": [
    "df1"
   ]
  },
  {
   "cell_type": "code",
   "execution_count": null,
   "id": "cell-119",
   "metadata": {
    "attributes": {
     "classes": [
      "To learn about pandas we will use SARS-CoV-2 data. Before actually jumping to Pandas let's learn about the coronavirus molecular biology."
     ],
     "id": ""
    }
   },
   "outputs": [],
   "source": [
    "df2"
   ]
  },
  {
   "cell_type": "markdown",
   "id": "cell-120",
   "metadata": {
    "collapsed": false,
    "editable": false,
    "jupyter": {
     "outputs_hidden": false
    }
   },
   "source": [
    "<h2 id=\"inner-join\">Inner join</h2>\n",
    "<p><a href=\"https://upload.wikimedia.org/wikipedia/commons/thumb/1/18/SQL_Join_-_07_A_Inner_Join_B.svg/234px-SQL_Join_-_07_A_Inner_Join_B.svg.png?20170204165143\" rel=\"noopener noreferrer\"><img src=\"https://upload.wikimedia.org/wikipedia/commons/thumb/1/18/SQL_Join_-_07_A_Inner_Join_B.svg/234px-SQL_Join_-_07_A_Inner_Join_B.svg.png?20170204165143\" alt=\"Inner join. \" loading=\"lazy\" /></a></p>\n",
    "<blockquote>\n",
    "<p>Figure from Wikimedia Commons</p>\n",
    "</blockquote>\n",
    "<p>Using pandas <code style=\"color: inherit\">merge</code>:</p>\n"
   ]
  },
  {
   "cell_type": "code",
   "execution_count": null,
   "id": "cell-121",
   "metadata": {
    "attributes": {
     "classes": [
      "To learn about pandas we will use SARS-CoV-2 data. Before actually jumping to Pandas let's learn about the coronavirus molecular biology."
     ],
     "id": ""
    }
   },
   "outputs": [],
   "source": [
    "pd.merge(df1, df2, on=\"key\")"
   ]
  },
  {
   "cell_type": "markdown",
   "id": "cell-124",
   "metadata": {
    "collapsed": false,
    "editable": false,
    "jupyter": {
     "outputs_hidden": false
    }
   },
   "source": [
    "<h2 id=\"left-join\">Left join</h2>\n",
    "<p><a href=\"https://upload.wikimedia.org/wikipedia/commons/thumb/d/dc/SQL_Join_-_01b_A_Left_Join_B.svg/234px-SQL_Join_-_01b_A_Left_Join_B.svg.png?20170204144906\" rel=\"noopener noreferrer\"><img src=\"https://upload.wikimedia.org/wikipedia/commons/thumb/d/dc/SQL_Join_-_01b_A_Left_Join_B.svg/234px-SQL_Join_-_01b_A_Left_Join_B.svg.png?20170204144906\" alt=\"Left join again. \" loading=\"lazy\" /></a></p>\n",
    "<blockquote>\n",
    "<p>Figure from Wikimedia Commons</p>\n",
    "</blockquote>\n",
    "<p>Using pandas <code style=\"color: inherit\">merge</code>:</p>\n"
   ]
  },
  {
   "cell_type": "code",
   "execution_count": null,
   "id": "cell-125",
   "metadata": {
    "attributes": {
     "classes": [
      "To learn about pandas we will use SARS-CoV-2 data. Before actually jumping to Pandas let's learn about the coronavirus molecular biology."
     ],
     "id": ""
    }
   },
   "outputs": [],
   "source": [
    "pd.merge(df1, df2, on=\"key\", how=\"left\").fillna('.')"
   ]
  },
  {
   "cell_type": "markdown",
   "id": "cell-130",
   "metadata": {
    "collapsed": false,
    "editable": false,
    "jupyter": {
     "outputs_hidden": false
    }
   },
   "source": [
    "<h2 id=\"right-join\">Right join</h2>\n",
    "<p><a href=\"https://upload.wikimedia.org/wikipedia/commons/thumb/5/5f/SQL_Join_-_03_A_Right_Join_B.svg/234px-SQL_Join_-_03_A_Right_Join_B.svg.png?20170130230641\" rel=\"noopener noreferrer\"><img src=\"https://upload.wikimedia.org/wikipedia/commons/thumb/5/5f/SQL_Join_-_03_A_Right_Join_B.svg/234px-SQL_Join_-_03_A_Right_Join_B.svg.png?20170130230641\" alt=\"Right join. \" loading=\"lazy\" /></a></p>\n",
    "<blockquote>\n",
    "<p>Figure from Wikimedia Commons</p>\n",
    "</blockquote>\n",
    "<p>Using pandas <code style=\"color: inherit\">merge</code>:</p>\n"
   ]
  },
  {
   "cell_type": "code",
   "execution_count": null,
   "id": "cell-131",
   "metadata": {
    "attributes": {
     "classes": [
      "To learn about pandas we will use SARS-CoV-2 data. Before actually jumping to Pandas let's learn about the coronavirus molecular biology."
     ],
     "id": ""
    }
   },
   "outputs": [],
   "source": [
    "pd.merge(df1, df2, on=\"key\", how=\"right\").fillna('.')"
   ]
  },
  {
   "cell_type": "markdown",
   "id": "cell-132",
   "metadata": {
    "collapsed": false,
    "editable": false,
    "jupyter": {
     "outputs_hidden": false
    }
   },
   "source": [
    "<h2 id=\"full-join\">Full join</h2>\n",
    "<p><a href=\"https://upload.wikimedia.org/wikipedia/commons/thumb/6/61/SQL_Join_-_05_A_Full_Join_B.svg/234px-SQL_Join_-_05_A_Full_Join_B.svg.png?20170130230643\" rel=\"noopener noreferrer\"><img src=\"https://upload.wikimedia.org/wikipedia/commons/thumb/6/61/SQL_Join_-_05_A_Full_Join_B.svg/234px-SQL_Join_-_05_A_Full_Join_B.svg.png?20170130230643\" alt=\"Full join. \" loading=\"lazy\" /></a></p>\n",
    "<blockquote>\n",
    "<p>Figure from Wikimedia Commons</p>\n",
    "</blockquote>\n",
    "<p>Using pandas <code style=\"color: inherit\">merge</code>:</p>\n"
   ]
  },
  {
   "cell_type": "code",
   "execution_count": null,
   "id": "cell-133",
   "metadata": {
    "attributes": {
     "classes": [
      "To learn about pandas we will use SARS-CoV-2 data. Before actually jumping to Pandas let's learn about the coronavirus molecular biology."
     ],
     "id": ""
    }
   },
   "outputs": [],
   "source": [
    "pd.merge(df1, df2, on=\"key\", how=\"outer\").fillna('.')"
   ]
  },
  {
   "cell_type": "markdown",
   "id": "390d708a-156d-43bf-845c-014612abb8e4",
   "metadata": {},
   "source": [
    "# Putting it all together: Pandas + Altair"
   ]
  },
  {
   "cell_type": "markdown",
   "id": "2f6e4728-8f14-4d60-bfb8-dbf28287512a",
   "metadata": {},
   "source": [
    "## Understanding [Altair](https://altair-viz.github.io/)\n",
    "\n",
    "Vega-Altair is a declarative statistical visualization library for Python, based on Vega and Vega-Lite. It offers a powerful and concise grammar that enables you to quickly build a wide range of statistical visualizations. [This site](https://uwdata.github.io/visualization-curriculum/intro.html) contains a complete set of \"how-to\" tutorials explaining all aspects of this remarkable package. "
   ]
  },
  {
   "cell_type": "markdown",
   "id": "67c69c55-bbe7-428f-8adf-5720fd984785",
   "metadata": {},
   "source": [
    "## Importing data\n",
    "\n",
    "First, import all the packages we need:"
   ]
  },
  {
   "cell_type": "code",
   "execution_count": null,
   "id": "c0aa7c58-7905-4e42-aa3b-a5f7ec160797",
   "metadata": {},
   "outputs": [],
   "source": [
    "import pandas as pd\n",
    "import altair as alt\n",
    "from datetime import date\n",
    "today = date.today()"
   ]
  },
  {
   "cell_type": "markdown",
   "id": "dd2eea3d-e350-449f-957f-87494c50c77f",
   "metadata": {},
   "source": [
    "Next, read a gigantic dataset from Zenodo:"
   ]
  },
  {
   "cell_type": "code",
   "execution_count": null,
   "id": "aed2724a-99a8-4f83-8f22-125808852ae3",
   "metadata": {},
   "outputs": [],
   "source": [
    "sra = pd.read_csv(\n",
    "    \"https://zenodo.org/records/10680776/files/ena.tsv.gz\",\n",
    "    compression='gzip',\n",
    "    sep=\"\\t\",\n",
    "    low_memory=False\n",
    ")"
   ]
  },
  {
   "cell_type": "markdown",
   "id": "4bb5a12a-76f1-498a-9cd3-94a58c840ae3",
   "metadata": {},
   "source": [
    "This dataset contains *a lot* of rows:"
   ]
  },
  {
   "cell_type": "code",
   "execution_count": null,
   "id": "8f17869f-cbfa-48a8-9eef-8ae34fc779dc",
   "metadata": {},
   "outputs": [],
   "source": [
    "len(sra)"
   ]
  },
  {
   "cell_type": "markdown",
   "id": "450d664b-b4b1-4433-9e2b-49556eb4aef6",
   "metadata": {},
   "source": [
    "Let's look at the five random lines from this table (scroll sideways):"
   ]
  },
  {
   "cell_type": "code",
   "execution_count": null,
   "id": "85fe922d-78dd-45a7-b760-3efdc8ec145a",
   "metadata": {},
   "outputs": [],
   "source": [
    "sra.sample(5)"
   ]
  },
  {
   "cell_type": "markdown",
   "id": "551f4ade-3243-4da8-99fa-03970474d6ea",
   "metadata": {},
   "source": [
    "This dataset also has *a lot* of columns:"
   ]
  },
  {
   "cell_type": "code",
   "execution_count": null,
   "id": "2c481213-42ba-4fae-9134-7b3ce1334c04",
   "metadata": {},
   "outputs": [],
   "source": [
    "sra.columns"
   ]
  },
  {
   "cell_type": "markdown",
   "id": "5b8c62eb-1a6c-4d40-8c25-7db24bf70a94",
   "metadata": {},
   "source": [
    "We do not need all the columns, so let's restrict the dataset only to columns we would need. This would also make it much smaller:"
   ]
  },
  {
   "cell_type": "code",
   "execution_count": null,
   "id": "2253b0f9-1eec-4afe-9b38-6515784671cb",
   "metadata": {},
   "outputs": [],
   "source": [
    "sra = sra[\n",
    "    [ \n",
    "        'study_accession',\n",
    "        'run_accession',\n",
    "        'collection_date',\n",
    "        'instrument_platform',\n",
    "        'library_strategy',\n",
    "        'library_construction_protocol' \n",
    "    ]\n",
    "]"
   ]
  },
  {
   "cell_type": "markdown",
   "id": "4a881ea7-d773-4213-b738-107f10d7f17d",
   "metadata": {},
   "source": [
    "## Cleaning the data\n",
    "\n",
    "The `collection_date` field will be useful for us to be able to filter out nonsense as you will see below. But to use it properly, we need tell Pandas that it is not just a text, but actually dates:"
   ]
  },
  {
   "cell_type": "code",
   "execution_count": null,
   "id": "19c8c049-a39b-44ba-b101-2d0a8bbe3491",
   "metadata": {},
   "outputs": [],
   "source": [
    "sra = sra.assign(collection_date = pd.to_datetime(sra[\"collection_date\"]))"
   ]
  },
  {
   "cell_type": "markdown",
   "id": "e60307ef-cefe-461b-9ee3-c4d6c409a9ae",
   "metadata": {},
   "source": [
    "Let's see what are the earliest and latest entries:"
   ]
  },
  {
   "cell_type": "code",
   "execution_count": null,
   "id": "d0a943c2-cb5a-4531-897b-b3b4aacec72b",
   "metadata": {},
   "outputs": [],
   "source": [
    "print('Earliest entry:', sra['collection_date'].min())\n",
    "print('Latest entry:', sra['collection_date'].max())"
   ]
  },
  {
   "cell_type": "markdown",
   "id": "21a8edfa-c08f-47ca-b5e9-b19d3cf0393f",
   "metadata": {},
   "source": [
    "Metadata is &#128169;\n",
    "> &#128561; | Don't get surprised here - the metadata is only as good as the person who entered it. So, **when you enter metadata for you sequencing data -- pay attention!!!**"
   ]
  },
  {
   "cell_type": "markdown",
   "id": "29ed6f60-ecd2-4fe2-8131-05525641e590",
   "metadata": {},
   "source": [
    "The data will likely need a bit of cleaning:"
   ]
  },
  {
   "cell_type": "code",
   "execution_count": null,
   "id": "e01f3bc4-943e-4bf6-9d2e-3ee7368cac10",
   "metadata": {},
   "outputs": [],
   "source": [
    "sra = sra[ \n",
    "    ( sra['collection_date'] >= '2020-01-01' ) \n",
    "    & \n",
    "    ( sra['collection_date'] <= '2023-02-16' ) \n",
    "]"
   ]
  },
  {
   "cell_type": "markdown",
   "id": "b9c27840-7df1-408e-9ad0-7c23144f7b81",
   "metadata": {},
   "source": [
    "Finally, in order to build the heatmap, we need to aggregate the data:"
   ]
  },
  {
   "cell_type": "code",
   "execution_count": null,
   "id": "d0885c04-5b83-47c4-9b7b-a8454c339782",
   "metadata": {},
   "outputs": [],
   "source": [
    "heatmap_2d = sra.groupby(\n",
    "    ['instrument_platform','library_strategy']\n",
    ").agg(\n",
    "    {'run_accession':'nunique'}\n",
    ").reset_index()"
   ]
  },
  {
   "cell_type": "code",
   "execution_count": null,
   "id": "52e11eab-a881-4752-83b8-7373a7659928",
   "metadata": {},
   "outputs": [],
   "source": [
    "heatmap_2d"
   ]
  },
  {
   "cell_type": "markdown",
   "id": "3fb3ffd7-835e-4775-8904-ec88be8b1922",
   "metadata": {},
   "source": [
    "## Plotting the data\n",
    "\n",
    "Now let's create a graph. This graph will be layered: the \"back\" will be the heatmap squares and the \"front\" will be the numbers (see heatmap at the beginning of this page):"
   ]
  },
  {
   "cell_type": "code",
   "execution_count": null,
   "id": "6dd0ad42-7d0f-433f-8176-07163790efc7",
   "metadata": {},
   "outputs": [],
   "source": [
    "back = alt.Chart(heatmap_2d).mark_rect(opacity=1).encode(\n",
    "    x=alt.X(\n",
    "        \"instrument_platform:N\",\n",
    "        title=\"Instrument\"\n",
    "    ),\n",
    "    y=alt.Y(\n",
    "        \"library_strategy:N\",\n",
    "        title=\"Strategy\",\n",
    "        axis=alt.Axis(orient='right')\n",
    "    ),\n",
    "    color=alt.Color(\n",
    "        \"run_accession:Q\",\n",
    "        title=\"# Samples\",\n",
    "        scale=alt.Scale(\n",
    "            scheme=\"goldred\",\n",
    "            type=\"log\"\n",
    "        ),\n",
    "    ),\n",
    "    tooltip=[\n",
    "        alt.Tooltip(\n",
    "            \"instrument_platform:N\",\n",
    "            title=\"Machine\"\n",
    "        ),\n",
    "        alt.Tooltip(\n",
    "            \"run_accession:Q\",\n",
    "            title=\"Number of runs\"\n",
    "        ),\n",
    "        alt.Tooltip(\n",
    "            \"library_strategy:N\",\n",
    "            title=\"Protocol\"\n",
    "        )\n",
    "    ]\n",
    ").properties(\n",
    "    width=500,\n",
    "    height=150,\n",
    "    title={\n",
    "      \"text\": \n",
    "        [\"Breakdown of datasets (unique accessions) from ENA\",\n",
    "         \"by Platform and Library Strategy\"],\n",
    "      \"subtitle\":\"(Updated {})\".format(today.strftime(\"%B %d, %Y\"))\n",
    "    }\n",
    ")\n",
    "\n",
    "back"
   ]
  },
  {
   "cell_type": "markdown",
   "id": "84bd93c7-2302-4178-9aae-187e2368d656",
   "metadata": {},
   "source": [
    "Now, it would be nice to fill the rectangles with actual numbers:"
   ]
  },
  {
   "cell_type": "code",
   "execution_count": null,
   "id": "b8d72347-7527-47b6-9578-35a4b3714494",
   "metadata": {},
   "outputs": [],
   "source": [
    "front = back.mark_text(\n",
    "    align=\"center\",\n",
    "    baseline=\"middle\",\n",
    "    fontSize=12,\n",
    "    fontWeight=\"bold\",\n",
    ").encode(\n",
    "    text=alt.Text(\"run_accession:Q\",format=\",.0f\"),\n",
    "    color=alt.condition(\n",
    "        alt.datum.run_accession > 200,\n",
    "        alt.value(\"white\"),\n",
    "        alt.value(\"black\")\n",
    "    )\n",
    ")\n",
    "\n",
    "front"
   ]
  },
  {
   "cell_type": "markdown",
   "id": "426edd7c-ec22-40f4-821b-126cb516a516",
   "metadata": {},
   "source": [
    "To superimpose these on top of each other we should simply do this:"
   ]
  },
  {
   "cell_type": "code",
   "execution_count": null,
   "id": "7fc9a794-68ef-4cef-8c3d-1cf47bf03a21",
   "metadata": {},
   "outputs": [],
   "source": [
    "back + front"
   ]
  }
 ],
 "metadata": {
  "kernelspec": {
   "display_name": "Python 3 (ipykernel)",
   "language": "python",
   "name": "python3"
  },
  "language_info": {
   "codemirror_mode": {
    "name": "ipython",
    "version": 3
   },
   "file_extension": ".py",
   "mimetype": "text/x-python",
   "name": "python",
   "nbconvert_exporter": "python",
   "pygments_lexer": "ipython3",
   "version": "3.12.1"
  }
 },
 "nbformat": 4,
 "nbformat_minor": 5
}
