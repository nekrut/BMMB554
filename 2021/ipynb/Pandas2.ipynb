{
  "nbformat": 4,
  "nbformat_minor": 0,
  "metadata": {
    "anaconda-cloud": {},
    "kernelspec": {
      "display_name": "Python 3",
      "language": "python",
      "name": "python3"
    },
    "language_info": {
      "codemirror_mode": {
        "name": "ipython",
        "version": 3
      },
      "file_extension": ".py",
      "mimetype": "text/x-python",
      "name": "python",
      "nbconvert_exporter": "python",
      "pygments_lexer": "ipython3",
      "version": "3.7.7"
    },
    "colab": {
      "name": "Pandas2.ipynb",
      "provenance": [],
      "toc_visible": true,
      "include_colab_link": true
    }
  },
  "cells": [
    {
      "cell_type": "markdown",
      "metadata": {
        "id": "view-in-github",
        "colab_type": "text"
      },
      "source": [
        "<a href=\"https://colab.research.google.com/github/nekrut/BMMB554/blob/master/2021/ipynb/Pandas2.ipynb\" target=\"_parent\"><img src=\"https://colab.research.google.com/assets/colab-badge.svg\" alt=\"Open In Colab\"/></a>"
      ]
    },
    {
      "cell_type": "markdown",
      "metadata": {
        "id": "mRSYnTzlAvKJ"
      },
      "source": [
        "# Introduction to Pandas 2 | Narrow versus Wide and more\n",
        "\n",
        "-------\n",
        "\n",
        "\n",
        "> This is a reworked version of tutorial by [Justin Bois](http://justinbois.github.io/bootcamp/2020/index.html). It contains modified training datasets, adopts content to Colab environment, and includes new sections. "
      ]
    },
    {
      "cell_type": "code",
      "metadata": {
        "id": "QyxPi6FzAvKM"
      },
      "source": [
        "import numpy as np\n",
        "import pandas as pd"
      ],
      "execution_count": null,
      "outputs": []
    },
    {
      "cell_type": "markdown",
      "metadata": {
        "id": "xcTUu1FfAvKN"
      },
      "source": [
        "<hr>\n",
        "\n",
        "In the last lesson, we learned about Pandas and dipped our toe in to see its power. In this lesson, we will continue to harness the power of Pandas to pull out subsets of data we are interested in."
      ]
    },
    {
      "cell_type": "markdown",
      "metadata": {
        "id": "nbLylpWbAvKN"
      },
      "source": [
        "## Tidy data\n",
        "\n",
        "[Hadley Wickham](https://en.wikipedia.org/wiki/Hadley_Wickham) wrote a [great article](http://dx.doi.org/10.18637/jss.v059.i10) in favor of \"tidy data.\" Tidy data frames follow the rules:\n",
        "\n",
        "1. Each variable is a column.\n",
        "2. Each observation is a row.\n",
        "3. Each type of observation has its own separate data frame.\n",
        "\n",
        "This is less pretty to visualize as a table, but we rarely look at data in tables. Indeed, the representation of data which is convenient for visualization is different from that which is convenient for analysis. A tidy data frame is almost always **much** easier to work with than non-tidy formats.\n",
        "\n",
        "You may raise some objections about tidy data. Here are a few, and my responses.\n",
        "\n",
        "**Objection:** Looking at a table of tidy data is ugly. It is not intuitively organized. I would almost never display a tidy data table in a publication.\n",
        "\n",
        "**Response:** Correct! Having tabular data in a format that is easy to read as a human studying a table is a very different thing than having it in a format that is easy to explore and work with using a computer. As [Daniel Chen](https://chendaniely.github.io) put it, \"There are data formats that are better for reporting and data formats that are better for analysis.\" We are using the tidy data frames for analysis, not reporting (though we will see in the coming lessons that having the data in a tidy format makes making plots much easier, and plots are a key medium for reporting.)\n",
        "\n",
        "<br />\n",
        "\n",
        "**Objection:** Isn't it better to sometimes have data arranged in other ways? Say in a matrix?\n",
        "\n",
        "**Response:** This is certainly true for things like images, or raster-style data in general. It makes more sense to organize an image in a 2D matrix than to have it organized as a data frame with three columns (row in image, column in image, intensity of pixel), where each row corresponds to a single pixel. For an image, indexing it by row and column is always unambiguous, `my_image[i, j]` means the pixel at row `i` and column `j`.\n",
        "\n",
        "For other data, though, the matrix layout suffers from the fact that there may be more than one way to construct a matrix. If you know a data frame is tidy, you already know its structure. You need only to ask what the columns are, and then you immediately know how to access data using Boolean indexing. In other formats, you might have to read and write extensive comments to understand the structure of the data. Of course, you *can* read and write comments, but it opens the door for the possibility of misinterpretation or mistakes.\n",
        "\n",
        "<br />\n",
        "\n",
        "**Objection:** But what about time series? Clearly, that can be in matrix format. One column is time, and then subsequent columns are observations made at that time.\n",
        "\n",
        "**Response:** Yes, that is true. But then the matrix-style described could be considered tidy, since each row is a single observation (time point) that has many facets.\n",
        "\n",
        "<br />\n",
        "\n",
        "**Objection:** Isn't this an inefficient use of memory? There tend to be lots of repeated entries in tidy data frames.\n",
        "\n",
        "**Response:** Yes, there are more efficient ways of storing and accessing data. But for data sets that are not \"big data,\" this is seldom a real issue. The extra expense in memory, as well as the extra expense in access, are small prices to pay for the simplicity and speed of the human user in accessing the data.\n",
        "\n",
        "<br />\n",
        "\n",
        "**Objection:** Once it's tidy, we pretty much have to use Boolean indexing to get what we want, and that can be slower than other methods of accessing data. What about performance?\n",
        "\n",
        "**Response:** See the previous response. Speed of access really only becomes a problem with big, high-throughput data sets. In those cases, there are often many things you need to be clever about beyond organization of your data.\n",
        "\n",
        "<br />\n",
        "\n",
        "**Conclusion:** I really think that tidying a data set allows for fluid exploration. We will focus on tidy data sets going forward. The techniques for bringing untidy data into tidy format use many of Pandas's functions, but are largely beyond the scope of this bootcamp. You will explore that a little bit in the exercises, but for most of the bootcamp, our data sets are already tidy."
      ]
    },
    {
      "cell_type": "markdown",
      "metadata": {
        "id": "dfjlZ0cY5n7m"
      },
      "source": [
        "## The data set\n",
        "\n",
        "The dataset we will be using is a list of all SARS-CoV-2 datasets in [Sequence Read Archive](https://www.ncbi.nlm.nih.gov/sra) as of January 20, 2021.  \n",
        "\n",
        "It is obtained by going to https://www.ncbi.nlm.nih.gov/sra and performing a query with the following search terms: `txid2697049[Organism:noexp]`.\n",
        "\n",
        "Results are downloaded using `Send to:` menu selecting `File` and then `RunInfo`. Let's get these results into this notebook:"
      ]
    },
    {
      "cell_type": "code",
      "metadata": {
        "id": "7cqmUaLQAvKO"
      },
      "source": [
        "df = pd.read_csv('https://github.com/nekrut/BMMB554/raw/master/2021/data/sra_ncov_bmmb554.csv.gz')\n",
        "df = df[df['size_MB']> 0].reset_index(drop=True)\n",
        "\n",
        "# Take a look\n",
        "df"
      ],
      "execution_count": null,
      "outputs": []
    },
    {
      "cell_type": "markdown",
      "metadata": {
        "id": "3wxzDARLAvKO"
      },
      "source": [
        "This data set is in tidy format. Each row represents a single SRA dataset. The properties of each run are given in each column. We already saw the power of having the data in this format when we did Boolean indexing in the last lesson. Now, we will see how this format allows use to easily do an operation we do again and again with data sets, **split-apply-combine**."
      ]
    },
    {
      "cell_type": "markdown",
      "metadata": {
        "id": "2l-9ICXRAvKP"
      },
      "source": [
        "## Split-apply-combine\n",
        "\n",
        "Let's say we want to compute the total size of SRA runs for each BioProject. Ignoring for the second the mechanics of how we would do this with Python, let's think about it in English. What do we need to do?\n",
        "\n",
        "1. **Split** the data set up according to the `'BioProject'` field, i.e., split it up so we have a separate data set for the two classes of subjects, those with insomnia and those without.\n",
        "2. **Apply** a median function to the activity in these split data sets.\n",
        "3. **Combine** the results of these averages on the split data set into a new, summary data set that contains classes for each platform and medians for each.\n",
        "\n",
        "We see that the strategy we want is a **split-apply-combine** strategy. This idea was put forward by Hadley Wickham in [this paper](http://dx.doi.org/10.18637/jss.v040.i01). It turns out that this is a strategy we want to use *very* often. Split the data in terms of some criterion. Apply some function to the split-up data. Combine the results into a new data frame.\n",
        "\n",
        "Note that if the data are tidy, this procedure makes a lot of sense. Choose the column you want to use to split by. All rows with like entries in the splitting column are then grouped into a new data set. You can then apply any function you want into these new data sets. You can then combine the results into a new data frame.\n",
        "\n",
        "Pandas's split-apply-combine operations are achieved using the `groupby()` method. You can think of `groupby()` as the splitting part. You can then apply functions to the resulting `DataFrameGroupBy` object. The [Pandas documentation on split-apply-combine](http://pandas.pydata.org/pandas-docs/stable/groupby.html) is excellent and worth reading through. It is extensive though, so don't let yourself get intimidated by it."
      ]
    },
    {
      "cell_type": "markdown",
      "metadata": {
        "id": "SA8SeUXtAvKP"
      },
      "source": [
        "### Aggregation: Median percent correct\n",
        "\n",
        "Let's go ahead and do our first split-apply-combine on this tidy data set. First, we will split the data set up by insomnia condition."
      ]
    },
    {
      "cell_type": "code",
      "metadata": {
        "id": "GnWdwqP_AvKP"
      },
      "source": [
        "grouped = df.groupby(['BioProject'])\n",
        "\n",
        "# Take a look\n",
        "grouped"
      ],
      "execution_count": null,
      "outputs": []
    },
    {
      "cell_type": "markdown",
      "metadata": {
        "id": "XDC468BYAvKP"
      },
      "source": [
        "There is not much to see in the `DataFrameGroupBy` object that resulted. But there is a lot we can do with this object. Typing `grouped.` and hitting tab will show you the many possibilities. For most of these possibilities, the apply and combine steps happen together and a new data frame is returned. The `grouped.sum()` method is exactly what we want."
      ]
    },
    {
      "cell_type": "code",
      "metadata": {
        "id": "EK3ivLmPAvKQ"
      },
      "source": [
        "df_sum = grouped.sum()\n",
        "\n",
        "# Take a look\n",
        "df_sum"
      ],
      "execution_count": null,
      "outputs": []
    },
    {
      "cell_type": "markdown",
      "metadata": {
        "id": "Kg3kwR0QAvKQ"
      },
      "source": [
        "The outputted data frame has the sums of numerical columns only, which we have only one: `size_MS`. Note that this data frame has `Platform` as the name of the row index. If we want to instead keep `Platform` (which, remember, is what we used to split up the data set before we computed the summary statistics) as a column, we can use the `reset_index()` method."
      ]
    },
    {
      "cell_type": "code",
      "metadata": {
        "id": "iPk_ipqWAvKQ"
      },
      "source": [
        "df_sum.reset_index()"
      ],
      "execution_count": null,
      "outputs": []
    },
    {
      "cell_type": "markdown",
      "metadata": {
        "id": "vSR7ZmjcAvKQ"
      },
      "source": [
        "Note, though, that this was not done in-place. If you want to update your data frame, you have to explicitly do so."
      ]
    },
    {
      "cell_type": "code",
      "metadata": {
        "id": "h4MtmaNRAvKQ"
      },
      "source": [
        "df_sum = df_sum.reset_index()"
      ],
      "execution_count": null,
      "outputs": []
    },
    {
      "cell_type": "markdown",
      "metadata": {
        "id": "Ia3tHWi0AvKQ"
      },
      "source": [
        "We can also use multiple columns in our `groupby()` operation. To do this, we simply pass in a list of columns into `df.groupby()`. We will **chain the methods**, performing a groupby, applying a median, and then resetting the index of the result, all in one line."
      ]
    },
    {
      "cell_type": "code",
      "metadata": {
        "id": "TkVY7-daAvKR"
      },
      "source": [
        "df.groupby(['BioProject', 'Platform']).sum().reset_index()"
      ],
      "execution_count": null,
      "outputs": []
    },
    {
      "cell_type": "markdown",
      "metadata": {
        "id": "IS_4gFEjAvKR"
      },
      "source": [
        "This type of operation is called an **aggregation**. That is, we split the data set up into groups, and then computed a summary statistic for each group, in this case the median. "
      ]
    },
    {
      "cell_type": "markdown",
      "metadata": {
        "id": "qkPPwtdlAvKT"
      },
      "source": [
        "## Aggregating and transforming with custom functions\n",
        "\n",
        "Let's say we want to compute the coefficient of variation (CoV, the standard deviation divided by the mean) of data in columns of groups in the data frame. There is no built-in function to do this. We have to write our own function to compute the CoV and then use it with the `agg()` method of a `DataFrameGroupBy` object. In the function below, the values of each column are denoted by `data`.\n",
        "\n",
        "To compute the coefficient of variation, we will use one more Numpy function beyond `np.mean()` that you have already seen, `np.std()`."
      ]
    },
    {
      "cell_type": "code",
      "metadata": {
        "id": "fyVvVcrYAvKT"
      },
      "source": [
        "def coeff_of_var(data):\n",
        "    \"\"\"Compute coefficient of variation from an array of data.\"\"\"\n",
        "    return np.std(data) / np.mean(data)"
      ],
      "execution_count": null,
      "outputs": []
    },
    {
      "cell_type": "markdown",
      "metadata": {
        "id": "1mEo9iQJAvKT"
      },
      "source": [
        "Now we can apply it as an aggregating function."
      ]
    },
    {
      "cell_type": "code",
      "metadata": {
        "id": "0Rws2R2jAvKT"
      },
      "source": [
        "grouped.agg(coeff_of_var)"
      ],
      "execution_count": null,
      "outputs": []
    },
    {
      "cell_type": "markdown",
      "metadata": {
        "id": "IkzWexQxAvKU"
      },
      "source": [
        "You now have tremendous power in your hands. When your data are tidy, you can rapidly accelerate the ubiquitous split-apply-combine methods. Importantly, you now have a logical framework to think about how you slice and dice your data. As a final, simple example, I will show you how to go start to finish after loading the data set into a data frame, splitting by `BioProject` and `Platform`, and then getting the quartiles and extrema, in addition to the mean and standard deviation."
      ]
    },
    {
      "cell_type": "code",
      "metadata": {
        "id": "TgWW6_atAvKU"
      },
      "source": [
        "df.groupby(['BioProject', 'Platform'])['size_MB'].describe()"
      ],
      "execution_count": null,
      "outputs": []
    },
    {
      "cell_type": "code",
      "metadata": {
        "id": "oJahohiSPuJT"
      },
      "source": [
        "df.groupby(['BioProject', 'Platform'])['size_MB'].describe().reset_index()"
      ],
      "execution_count": null,
      "outputs": []
    },
    {
      "cell_type": "markdown",
      "metadata": {
        "id": "1_249LZXAvKU"
      },
      "source": [
        "Yes, that's right. One single, clean, easy to read line of code. In coming tutorials, we will see how to use tidy data to quickly generate plots."
      ]
    },
    {
      "cell_type": "markdown",
      "metadata": {
        "id": "INddiZSbAvKU"
      },
      "source": [
        "## Looping over a GroupBy object\n",
        "\n",
        "While the `GroupBy` methods we have learned so far (like `agg()`) are useful and lead to concise code, we sometimes want to loop over the groups of a `GroupBy` object. This often comes up in plotting applications, as we will see in future lessons. As an example, I will compute the median run size for diferent BioProjects stratified by Platform (which we already computed using `describe()`)."
      ]
    },
    {
      "cell_type": "code",
      "metadata": {
        "id": "sNSnU3yrAvKU"
      },
      "source": [
        "for name, group in df.groupby(['BioProject', 'Platform']):\n",
        "    print(name, ': ', group['size_MB'].median())"
      ],
      "execution_count": null,
      "outputs": []
    },
    {
      "cell_type": "markdown",
      "metadata": {
        "id": "72GVyiuLAvKU"
      },
      "source": [
        "By using the `GroupBy` object as an iterator, it yields the name of the group (which I assigned as `name`) and the corresponding sub-data frame (which I assigned `group`)."
      ]
    },
    {
      "cell_type": "markdown",
      "metadata": {
        "id": "UnGai6hXAvKV"
      },
      "source": [
        "## Tidying a data set\n",
        "\n",
        "You should always organize your data sets in a tidy format. However, this is sometimes just not possible, since you data sets can come from instruments that do not output the data in tidy format (though most do, at least in my experience), and you often have collaborators that send data in untidy formats.\n",
        "\n",
        "The most useful function for tidying data is `pd.melt()`. To demonstrate this we will use a dataset describing read coverage across SARS-CoV-2 genomes for a number of samples."
      ]
    },
    {
      "cell_type": "code",
      "metadata": {
        "id": "xZ-RUo_5AvKV"
      },
      "source": [
        "df = pd.read_csv('https://github.com/nekrut/BMMB554/raw/master/2021/data/coverage.tsv',sep='\\t')\n",
        "\n",
        "df.head()"
      ],
      "execution_count": null,
      "outputs": []
    },
    {
      "cell_type": "markdown",
      "metadata": {
        "id": "vjf2ObpnAvKV"
      },
      "source": [
        "Clearly these data are not tidy. When we melt the data frame, the data within it, called **values**, become a single column. The headers, called **variables**, also become new columns. So, to melt it, we need to specify what we want to call the values and what we want to call the variable. [`pd.melt()`](https://pandas.pydata.org/docs/reference/api/pandas.melt.html#pandas.melt) does the rest!\n",
        "\n",
        "![](https://pandas.pydata.org/docs/_images/07_melt1.svg)\n",
        "\n",
        "> Image from [Pandas Docs](https://pandas.pydata.org/docs/getting_started/intro_tutorials/07_reshape_table_layout.html#wide-to-long-format).\n",
        "\n"
      ]
    },
    {
      "cell_type": "code",
      "metadata": {
        "id": "BK2HAA9VAvKV"
      },
      "source": [
        "df = pd.melt(df, value_name='coverage', var_name=['sample'],value_vars=df.columns[3:],id_vars=['start','end'])\n",
        "\n",
        "df.head()"
      ],
      "execution_count": null,
      "outputs": []
    },
    {
      "cell_type": "markdown",
      "metadata": {
        "id": "MHUsi9a4iQl6"
      },
      "source": [
        "...and we are good to do with a tidy DataFrame! Let's take a look at the summary. This wouild allow us to easily plot coverage:"
      ]
    },
    {
      "cell_type": "code",
      "metadata": {
        "id": "rnIfWRPNhoaZ"
      },
      "source": [
        "import seaborn as sns\n",
        "sns.relplot(data=df, x='start',y='coverage',kind='line')"
      ],
      "execution_count": null,
      "outputs": []
    },
    {
      "cell_type": "code",
      "metadata": {
        "id": "Rsc81-xUiW3L"
      },
      "source": [
        "import seaborn as sns\n",
        "sns.relplot(data=df, x='start',y='coverage',kind='line',hue='sample')"
      ],
      "execution_count": null,
      "outputs": []
    },
    {
      "cell_type": "code",
      "metadata": {
        "id": "HMvbRqcVAvKV"
      },
      "source": [
        "df.groupby(['sample']).describe()"
      ],
      "execution_count": null,
      "outputs": []
    },
    {
      "cell_type": "code",
      "metadata": {
        "id": "bvNC-c-BTkOX"
      },
      "source": [
        "df.groupby(['sample'])['coverage'].describe()"
      ],
      "execution_count": null,
      "outputs": []
    },
    {
      "cell_type": "markdown",
      "metadata": {
        "id": "hbRHzxTCZhRe"
      },
      "source": [
        "To get back from melted (narrow) format to wide format we can use [`pivot()`](https://pandas.pydata.org/docs/reference/api/pandas.DataFrame.pivot.html#pandas.DataFrame.pivot) function. \n",
        "\n",
        "![](https://pandas.pydata.org/docs/_images/07_pivot.svg)\n",
        "\n",
        "> Image from [Pandas Docs](https://pandas.pydata.org/docs/getting_started/intro_tutorials/07_reshape_table_layout.html#long-to-wide-table-format).\n",
        "\n",
        "\n",
        "\n"
      ]
    },
    {
      "cell_type": "code",
      "metadata": {
        "id": "Ta7-RogiT9n_"
      },
      "source": [
        "df.pivot(index=['start','end'],columns='sample',values='coverage')"
      ],
      "execution_count": null,
      "outputs": []
    },
    {
      "cell_type": "markdown",
      "metadata": {
        "id": "Jy-eJFwgZP9F"
      },
      "source": [
        "## Working with multiple tables\n",
        "\n",
        "Here we will talk about joining two tables. First, let's define two simple dataframes:\n",
        "\n"
      ]
    },
    {
      "cell_type": "code",
      "metadata": {
        "id": "V6hN0L6actsX"
      },
      "source": [
        "!pip install --upgrade pandasql"
      ],
      "execution_count": null,
      "outputs": []
    },
    {
      "cell_type": "code",
      "metadata": {
        "id": "NMB0BReUc1EU"
      },
      "source": [
        "from pandasql import sqldf\n",
        "pysqldf = lambda q: sqldf(q, globals())"
      ],
      "execution_count": null,
      "outputs": []
    },
    {
      "cell_type": "code",
      "metadata": {
        "id": "URPgwUbNcQGg"
      },
      "source": [
        "df1 = pd.DataFrame({\"key\": [\"A\", \"B\", \"C\", \"D\"], \"value\": np.random.randn(4)})\n",
        "df2 = pd.DataFrame({\"key\": [\"B\", \"D\", \"D\", \"E\"], \"value\": np.random.randn(4)})"
      ],
      "execution_count": null,
      "outputs": []
    },
    {
      "cell_type": "markdown",
      "metadata": {
        "id": "9W7qRHyzcmNl"
      },
      "source": [
        "### Inner join\n",
        "\n",
        "Using pandas `merge`:"
      ]
    },
    {
      "cell_type": "code",
      "metadata": {
        "id": "oPjL9gzwcUSk"
      },
      "source": [
        "pd.merge(df1, df2, on=\"key\")"
      ],
      "execution_count": null,
      "outputs": []
    },
    {
      "cell_type": "markdown",
      "metadata": {
        "id": "JRQd_lXVc7py"
      },
      "source": [
        "Using `pysqldf`:"
      ]
    },
    {
      "cell_type": "code",
      "metadata": {
        "id": "rtgKktMmc_ce"
      },
      "source": [
        "pysqldf('select * from df1 join df2 on df1.key=df2.key')"
      ],
      "execution_count": null,
      "outputs": []
    },
    {
      "cell_type": "markdown",
      "metadata": {
        "id": "5KMMLInKdK5m"
      },
      "source": [
        "### Left join\n",
        "\n",
        "Using pandas `merge`:"
      ]
    },
    {
      "cell_type": "code",
      "metadata": {
        "id": "tNv-5iQ4dKhr"
      },
      "source": [
        "pd.merge(df1, df2, on=\"key\", how=\"left\").fillna('.')"
      ],
      "execution_count": null,
      "outputs": []
    },
    {
      "cell_type": "markdown",
      "metadata": {
        "id": "CnDN6_m-dcGu"
      },
      "source": [
        "Using `pysqldf`:"
      ]
    },
    {
      "cell_type": "code",
      "metadata": {
        "id": "LJXeglUPdc7v"
      },
      "source": [
        "pysqldf('select * from df1 left join df2 on df1.key=df2.key').fillna('.')"
      ],
      "execution_count": null,
      "outputs": []
    },
    {
      "cell_type": "code",
      "metadata": {
        "id": "m7AxUDBsd05i"
      },
      "source": [
        "pysqldf('select df1.key, df1.value as value_x, df2.value as value_y from df1 left join df2 on df1.key=df2.key').fillna('.')"
      ],
      "execution_count": null,
      "outputs": []
    },
    {
      "cell_type": "markdown",
      "metadata": {
        "id": "022ivKMhd-Ja"
      },
      "source": [
        "### Right join\n",
        "\n",
        "Using pandas `merge`:"
      ]
    },
    {
      "cell_type": "code",
      "metadata": {
        "id": "oeiQ7SFNeGS9"
      },
      "source": [
        "pd.merge(df1, df2, on=\"key\", how=\"right\").fillna('.')"
      ],
      "execution_count": null,
      "outputs": []
    },
    {
      "cell_type": "markdown",
      "metadata": {
        "id": "roB02uhkejT5"
      },
      "source": [
        "### Full join\n",
        "\n",
        "Using pandas `merge`:"
      ]
    },
    {
      "cell_type": "code",
      "metadata": {
        "id": "sk6FS9TTerCT"
      },
      "source": [
        "pd.merge(df1, df2, on=\"key\", how=\"outer\").fillna('.')"
      ],
      "execution_count": null,
      "outputs": []
    },
    {
      "cell_type": "markdown",
      "metadata": {
        "id": "rrr9RPNqAvKW"
      },
      "source": [
        "## Computing environment"
      ]
    },
    {
      "cell_type": "code",
      "metadata": {
        "id": "q-FVBnrGFWFh"
      },
      "source": [
        "!pip install watermark"
      ],
      "execution_count": null,
      "outputs": []
    },
    {
      "cell_type": "code",
      "metadata": {
        "id": "1BFmDQDtAvKW"
      },
      "source": [
        "%load_ext watermark\n",
        "%watermark -v -p numpy,pandas"
      ],
      "execution_count": null,
      "outputs": []
    }
  ]
}