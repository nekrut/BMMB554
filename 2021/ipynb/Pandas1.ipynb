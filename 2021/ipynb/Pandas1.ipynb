{
  "nbformat": 4,
  "nbformat_minor": 0,
  "metadata": {
    "anaconda-cloud": {},
    "kernelspec": {
      "display_name": "Python 3",
      "language": "python",
      "name": "python3"
    },
    "language_info": {
      "codemirror_mode": {
        "name": "ipython",
        "version": 3
      },
      "file_extension": ".py",
      "mimetype": "text/x-python",
      "name": "python",
      "nbconvert_exporter": "python",
      "pygments_lexer": "ipython3",
      "version": "3.7.7"
    },
    "colab": {
      "name": "Pandas1.ipynb",
      "provenance": [],
      "include_colab_link": true
    }
  },
  "cells": [
    {
      "cell_type": "markdown",
      "metadata": {
        "id": "view-in-github",
        "colab_type": "text"
      },
      "source": [
        "<a href=\"https://colab.research.google.com/github/nekrut/BMMB554/blob/master/2021/ipynb/Pandas1.ipynb\" target=\"_parent\"><img src=\"https://colab.research.google.com/assets/colab-badge.svg\" alt=\"Open In Colab\"/></a>"
      ]
    },
    {
      "cell_type": "markdown",
      "metadata": {
        "id": "xzoyapwo5n7k"
      },
      "source": [
        "# Introduction to Pandas 1 | Basics\n",
        "\n",
        "-------\n",
        "\n",
        "\n",
        "> This is a reworked version of tutorial by [Justin Bois](http://justinbois.github.io/bootcamp/2020/index.html). It contains modified training datasets and adopts content to Colab environment. "
      ]
    },
    {
      "cell_type": "code",
      "metadata": {
        "id": "jIdrp1IK5n7l"
      },
      "source": [
        "import numpy as np\n",
        "\n",
        "# Pandas, conventionally imported as pd\n",
        "import pandas as pd"
      ],
      "execution_count": null,
      "outputs": []
    },
    {
      "cell_type": "markdown",
      "metadata": {
        "id": "VVLFmrUh5n7m"
      },
      "source": [
        "Throughout your research career, you will undoubtedly need to handle data, possibly lots of data. The data comes in lots of formats, and you will spend much of your time **wrangling** the data to get it into a usable form.\n",
        "\n",
        "Pandas is the primary tool in the Python ecosystem for handling data. Its primary object, the `DataFrame` is extremely useful in wrangling data. We will explore some of that functionality here, and will put it to use in the next lesson."
      ]
    },
    {
      "cell_type": "markdown",
      "metadata": {
        "id": "dfjlZ0cY5n7m"
      },
      "source": [
        "## The data set\n",
        "\n",
        "The dataset we will be using is a list of all SARS-CoV-2 datasets in [Sequence Read Archive](https://www.ncbi.nlm.nih.gov/sra) as of January 20, 2021.  \n",
        "\n",
        "It is obtained by going to https://www.ncbi.nlm.nih.gov/sra and performing a query with the following search terms: `txid2697049[Organism:noexp]`.\n",
        "\n",
        "Results are downloaded using `Send to:` menu selecting `File` and then `RunInfo`. Let's get these results into this notebook:"
      ]
    },
    {
      "cell_type": "code",
      "metadata": {
        "id": "_0bzdrCS0h7L"
      },
      "source": [
        "!wget https://github.com/nekrut/BMMB554/raw/master/2021/data/sra_ncov_bmmb554.csv.gz"
      ],
      "execution_count": null,
      "outputs": []
    },
    {
      "cell_type": "code",
      "metadata": {
        "id": "2Qo40hYu5n7m"
      },
      "source": [
        "!gunzip -c  sra_ncov_bmmb554.csv.gz | head"
      ],
      "execution_count": null,
      "outputs": []
    },
    {
      "cell_type": "markdown",
      "metadata": {
        "id": "Vmp0aGqC5n7n"
      },
      "source": [
        "The first line contains the **headers** for each column. The data follow. Given the file I/O skills you recently learned, you could write some functions to parse this file and extract the data you want. You can imagine that this might be kind of painful. However, if the file format is nice and clean, like we more or less have here, we can use pre-built tools. Pandas has a very powerful function, `pd.read_csv()` that can read in a CSV file and store the contents in a convenient data structure called a **data frame**. In Pandas, the data type for a data frame is `DataFrame`, and we will use \"data frame\" and \"`DataFrame`\" interchangeably."
      ]
    },
    {
      "cell_type": "markdown",
      "metadata": {
        "id": "VVLKebpt5n7n"
      },
      "source": [
        "## Reading in data\n",
        "\n",
        "Let's first look at the doc string of `pd.read_csv()`."
      ]
    },
    {
      "cell_type": "code",
      "metadata": {
        "id": "JNxuzB895n7n"
      },
      "source": [
        "pd.read_csv?"
      ],
      "execution_count": null,
      "outputs": []
    },
    {
      "cell_type": "markdown",
      "metadata": {
        "id": "EtN9o7wi5n7n"
      },
      "source": [
        "Holy cow! There are so many options we can specify for reading in a CSV file. You will likely find reasons to use many of these throughout your research. For now, however, we do not need most of them. So, let's load in the data set. Note that despite the fact that the datset is comprssed with `gzip` we do not need to do anything additional - pandas magically understands and uncompresses the data while loading it into the dataframe. "
      ]
    },
    {
      "cell_type": "code",
      "metadata": {
        "id": "eZl3SqVi5n7o"
      },
      "source": [
        "df = pd.read_csv('sra_ncov_bmmb554.csv.gz')\n",
        "\n",
        "# Check the type\n",
        "type(df)"
      ],
      "execution_count": null,
      "outputs": []
    },
    {
      "cell_type": "markdown",
      "metadata": {
        "id": "CgiFpXXN5n7o"
      },
      "source": [
        "We now have the data stored in a data frame. We can look at it in the Jupyter notebook, since Jupyter will display it in a well-organized, pretty way. Note that because our dataframe is big, we only display first five rows using `head()` function:"
      ]
    },
    {
      "cell_type": "code",
      "metadata": {
        "id": "qPLQR_Al5n7o"
      },
      "source": [
        "df.head()"
      ],
      "execution_count": null,
      "outputs": []
    },
    {
      "cell_type": "markdown",
      "metadata": {
        "id": "Qa1CtdAd5n7p"
      },
      "source": [
        "## Indexing data frames\n",
        "\n",
        "The data frame is a convenient data structure for many reasons that will become clear as we start exploring. Let's start by looking at how data frames are indexed. Let's try to look at the first row."
      ]
    },
    {
      "cell_type": "code",
      "metadata": {
        "id": "qiAaOBcW5n7p"
      },
      "source": [
        "df[0]"
      ],
      "execution_count": null,
      "outputs": []
    },
    {
      "cell_type": "markdown",
      "metadata": {
        "id": "3jiSZLBW5n7p"
      },
      "source": [
        "Yikes! Lots of errors. The problem is that we tried to index numerically by row. **We index DataFrames, by columns.** And there is no column that has the name `0` in this data frame, though there could be. Instead, a might want to look at the column with the percentage of correct face matching tasks."
      ]
    },
    {
      "cell_type": "code",
      "metadata": {
        "id": "iIvadvCT5n7p"
      },
      "source": [
        "df['Run'].head()"
      ],
      "execution_count": null,
      "outputs": []
    },
    {
      "cell_type": "markdown",
      "metadata": {
        "id": "WbXYbNbH5n7p"
      },
      "source": [
        "This gave us the numbers we were after. Notice that when it was printed, the index of the rows came along with it. If we wanted to pull out a single percentage correct, say corresponding to index `4`, we can do that."
      ]
    },
    {
      "cell_type": "code",
      "metadata": {
        "id": "SUICG2015n7q"
      },
      "source": [
        "df['Run'][4]"
      ],
      "execution_count": null,
      "outputs": []
    },
    {
      "cell_type": "markdown",
      "metadata": {
        "id": "UOFDREGY5n7q"
      },
      "source": [
        "However, this is **not** the preferred way to do this. It is better to use `.loc`. This give the location in the data frame we want."
      ]
    },
    {
      "cell_type": "code",
      "metadata": {
        "id": "e4BskRPu5n7q"
      },
      "source": [
        "df.loc[4, 'Run']"
      ],
      "execution_count": null,
      "outputs": []
    },
    {
      "cell_type": "markdown",
      "metadata": {
        "id": "YJcwBZ775n7q"
      },
      "source": [
        "It is also important to note that **row indices need not be integers**. And you should not count on them being integers. In practice you will almost never use row indices, but rather use **Boolean indexing**."
      ]
    },
    {
      "cell_type": "markdown",
      "metadata": {
        "id": "H4fF9_no5n7q"
      },
      "source": [
        "## Boolean indexing of data frames\n",
        "\n",
        "Let's say I wanted to pull out accession numbers of runs produced by Pacfic Biosciences machines (in this table such datasets are labeled as `PACBIO_SMRT`. I can use Boolean indexing to specify the row. Specifically, I want the row for which `df['Platform'] == 'PACBIO_SMRT'`. You can essentially plop this syntax directly when using `.loc`."
      ]
    },
    {
      "cell_type": "code",
      "metadata": {
        "id": "oLmabpsE5n7q"
      },
      "source": [
        "df.loc[df['Platform'] == 'PACBIO_SMRT', 'Run']"
      ],
      "execution_count": null,
      "outputs": []
    },
    {
      "cell_type": "markdown",
      "metadata": {
        "id": "ADV84bwO5n7r"
      },
      "source": [
        "If I want to pull the whole record for that participant, I can use `:` for the column index."
      ]
    },
    {
      "cell_type": "code",
      "metadata": {
        "id": "g2ASIc1x5n7r"
      },
      "source": [
        "df.loc[df['Platform'] == 'PACBIO_SMRT', :]"
      ],
      "execution_count": null,
      "outputs": []
    },
    {
      "cell_type": "markdown",
      "metadata": {
        "id": "wPCZ_gXF5n7r"
      },
      "source": [
        "Notice that indexes (the first column), come along for the ride, but we do not need them.\n",
        "\n",
        "Now, let's pull out all PacBio records that were obtained from Amplicon sequencing. We can again use Boolean indexing, but we need to use an `&` operator. We did not cover this bitwise operator before, but the syntax is self-explanatory in the example below. Note that it is important that each Boolean operation you are doing is in parentheses because of the precedence of the operators involved."
      ]
    },
    {
      "cell_type": "code",
      "metadata": {
        "id": "O97EwdRJ5n7r"
      },
      "source": [
        "df.loc[(df['Platform'] == 'PACBIO_SMRT') & (df['LibraryStrategy'] == 'AMPLICON'), :]"
      ],
      "execution_count": null,
      "outputs": []
    },
    {
      "cell_type": "markdown",
      "metadata": {
        "id": "2wR_02ag5n7r"
      },
      "source": [
        "What is going on will be clearer if we set up our Boolean indexing first, as follows."
      ]
    },
    {
      "cell_type": "code",
      "metadata": {
        "id": "PJhS5B365n7r"
      },
      "source": [
        "inds = (df['Platform'] == 'PACBIO_SMRT') & (df['LibraryStrategy'] == 'AMPLICON')\n",
        "\n",
        "# Take a look\n",
        "inds"
      ],
      "execution_count": null,
      "outputs": []
    },
    {
      "cell_type": "markdown",
      "metadata": {
        "id": "UknkTwTB5n7s"
      },
      "source": [
        "Notice that `inds` is an array (actually a Pandas `Series`, essentially a `DataFrame` with one column) of `True`s and `False`s. We can apply `unique` function from [NumPy](https://numpy.org/) (we will talk about numpy next week) to see how many `True` and `False` rows we have:"
      ]
    },
    {
      "cell_type": "code",
      "metadata": {
        "id": "UFPwWb7R5-Zd"
      },
      "source": [
        "import numpy as np\n",
        "np.unique(inds, return_counts=True)"
      ],
      "execution_count": null,
      "outputs": []
    },
    {
      "cell_type": "markdown",
      "metadata": {
        "id": "YWKLbpuF6jeU"
      },
      "source": [
        "When we index with it using .loc, we get back rows where inds is True."
      ]
    },
    {
      "cell_type": "code",
      "metadata": {
        "id": "d-_-_1OV5n7s"
      },
      "source": [
        "df.loc[inds, :]"
      ],
      "execution_count": null,
      "outputs": []
    },
    {
      "cell_type": "markdown",
      "metadata": {
        "id": "IPbRSShg5n7s"
      },
      "source": [
        "Of interest in this exercise in Boolean indexing is that we never had to write a loop. To produce our indices, we could have done the following."
      ]
    },
    {
      "cell_type": "code",
      "metadata": {
        "id": "quAcyEzb5n7s"
      },
      "source": [
        "# Initialize array of Boolean indices\n",
        "inds = [False] * len(df)\n",
        "\n",
        "# Iterate over the rows of the DataFrame to check if the row should be included\n",
        "for i, r in df.iterrows():\n",
        "    if r['Platform'] == 'PACBIO_SMRT' and r['LibraryStrategy'] == 'AMPLICON':\n",
        "        inds[i] = True\n",
        "\n",
        "# Make our seleciton with Boolean indexing\n",
        "df.loc[inds, :]"
      ],
      "execution_count": null,
      "outputs": []
    },
    {
      "cell_type": "markdown",
      "metadata": {
        "id": "Nipwimae5n7s"
      },
      "source": [
        "This feature, where the looping is done automatically on Pandas objects like data frames, is very powerful and saves us writing lots of lines of code. This example also showed how to use the `iterrows()` method of a data frame to iterate over the rows of a data frame. It is actually rare that you will need to do that, as we'll show next when computing with data frames."
      ]
    },
    {
      "cell_type": "markdown",
      "metadata": {
        "id": "BPoQMM1X5n7s"
      },
      "source": [
        "## Calculating with data frames\n",
        "\n",
        "The SRA data contains (sometimes) size of the run in MB (`size_MB`). Let's suppose we want to consider only those run where `size_MB` is above 100. We might like to add a column to the data frame that specifies whether or not the corresponding run is above 100Mb. We can conveniently compute with columns. This is done elementwise."
      ]
    },
    {
      "cell_type": "code",
      "metadata": {
        "id": "C2FrnPRd5n7s"
      },
      "source": [
        "df['size_MB'] >= 100"
      ],
      "execution_count": null,
      "outputs": []
    },
    {
      "cell_type": "markdown",
      "metadata": {
        "id": "l-C0rQeT5n7t"
      },
      "source": [
        "This tells us which run is abobe 100 Mb. We can simply add this back to the data frame."
      ]
    },
    {
      "cell_type": "code",
      "metadata": {
        "id": "JACfJG8i5n7t"
      },
      "source": [
        "# Add the column to the DataFrame\n",
        "df['Over100Mb'] = df['size_MB'] >= 100\n",
        "\n",
        "# Take a look\n",
        "df.head()"
      ],
      "execution_count": null,
      "outputs": []
    },
    {
      "cell_type": "markdown",
      "metadata": {
        "id": "3iWWPneR5n7t"
      },
      "source": [
        "## A note about vectorization\n",
        "\n",
        "Notice how applying the `<=` operator to a `Series` resulted in **elementwise** application. This is called `vectorization`. It means that we do not have to write a `for` loop to do operations on the elements of a `Series` or other array-like object. Imagine if we had to do that with a `for` loop."
      ]
    },
    {
      "cell_type": "code",
      "metadata": {
        "id": "fbpKF1Np5n7t"
      },
      "source": [
        "big_runs = []\n",
        "for size in df['size_MB']:\n",
        "    big_runs.append(size >= 100)"
      ],
      "execution_count": null,
      "outputs": []
    },
    {
      "cell_type": "markdown",
      "metadata": {
        "id": "JhX7WCL85n7t"
      },
      "source": [
        "This is cumbersome. The vectorization allows for much more convenient calculation. Beyond that, the vectorized code is almost always faster when using Pandas and Numpy because the looping is done with compiled code under the hood. This can be done with many operators, including those you've already seen, like `+`, `-`, `*`, `/`, `**`, etc."
      ]
    },
    {
      "cell_type": "markdown",
      "metadata": {
        "id": "OGyKCJTB5n7u"
      },
      "source": [
        "## Applying functions to Pandas objects\n",
        "\n",
        "Remember when we briefly saw the `np.mean()` function? We can compute with that as well. Let's compare the mean run size for Ilumina versus everything else."
      ]
    },
    {
      "cell_type": "code",
      "metadata": {
        "id": "VM9Sw67e5n7u"
      },
      "source": [
        "print('Illumina:          ', np.mean(df.loc[df['Over100Mb'], 'size_MB']))\n",
        "print('Other platforms:   ', np.mean(df.loc[~df['Over100Mb'], 'size_MB']))"
      ],
      "execution_count": null,
      "outputs": []
    },
    {
      "cell_type": "markdown",
      "metadata": {
        "id": "iHREANJX5n7u"
      },
      "source": [
        "Notice that I used the `~` operator, which is a bit switcher. It changes all `True`s to `False`s and vice versa. In this case, it functions like NOT.\n",
        "\n",
        "We will do a lot more computing with Pandas data frames in the next lessons. For our last demonstration in this lesson, we can quickly compute summary statistics about each column of a data frame using its `describe()` method."
      ]
    },
    {
      "cell_type": "code",
      "metadata": {
        "id": "PfO03_uF5n7u"
      },
      "source": [
        "df.describe()"
      ],
      "execution_count": null,
      "outputs": []
    },
    {
      "cell_type": "markdown",
      "metadata": {
        "id": "aeAdo_-G5n7u"
      },
      "source": [
        "This gives us a data frame with summary statistics. Note that in this data frame, the row indices are not integers, but are the names of the summary statistics. If we wanted to extract the median value of each entry, we could do that with `.loc`."
      ]
    },
    {
      "cell_type": "code",
      "metadata": {
        "id": "Ei-KQ9XM5n7u"
      },
      "source": [
        "df.describe().loc['50%', :]"
      ],
      "execution_count": null,
      "outputs": []
    },
    {
      "cell_type": "markdown",
      "metadata": {
        "id": "H7vs0zLg5n7u"
      },
      "source": [
        "### Outputting a new CSV file\n",
        "\n",
        "Now that we added the `Over100Mb` column, we might like to save our data frame as a new CSV that we can reload later. We use `df.to_csv()` for this with the `index` kwarg to ask Pandas not to explicitly write the indices to the file."
      ]
    },
    {
      "cell_type": "code",
      "metadata": {
        "id": "I3XMRD-A5n7v"
      },
      "source": [
        "df.to_csv('over100Mb_data.csv', index=False)"
      ],
      "execution_count": null,
      "outputs": []
    },
    {
      "cell_type": "markdown",
      "metadata": {
        "id": "YHqxuBcC5n7v"
      },
      "source": [
        "Let's take a look at what this file looks like."
      ]
    },
    {
      "cell_type": "code",
      "metadata": {
        "id": "93heibSY5n7v"
      },
      "source": [
        "!head over100Mb_data.csv"
      ],
      "execution_count": null,
      "outputs": []
    },
    {
      "cell_type": "markdown",
      "metadata": {
        "id": "pbOJB_uS5n7v"
      },
      "source": [
        "Very nice. Notice that by default Pandas leaves an empty field for NaNs, and we do not need the `na_values` kwarg when we load in this CSV file."
      ]
    },
    {
      "cell_type": "markdown",
      "metadata": {
        "id": "txJxQano5n7v"
      },
      "source": [
        "## Computing environment"
      ]
    },
    {
      "cell_type": "code",
      "metadata": {
        "id": "q-FVBnrGFWFh"
      },
      "source": [
        "!pip install watermark"
      ],
      "execution_count": null,
      "outputs": []
    },
    {
      "cell_type": "code",
      "metadata": {
        "id": "QxhhW93P5n7v"
      },
      "source": [
        "%load_ext watermark\n",
        "%watermark -v -p numpy,pandas"
      ],
      "execution_count": null,
      "outputs": []
    },
    {
      "cell_type": "code",
      "metadata": {
        "id": "zEvEZsXdEeqU"
      },
      "source": [
        ""
      ],
      "execution_count": null,
      "outputs": []
    }
  ]
}