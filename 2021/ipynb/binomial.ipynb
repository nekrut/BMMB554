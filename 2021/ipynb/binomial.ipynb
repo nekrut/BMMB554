{
  "nbformat": 4,
  "nbformat_minor": 0,
  "metadata": {
    "colab": {
      "name": "binomial.ipynb",
      "provenance": []
    },
    "kernelspec": {
      "name": "python3",
      "display_name": "Python 3"
    },
    "language_info": {
      "name": "python"
    },
    "widgets": {
      "application/vnd.jupyter.widget-state+json": {
        "88d3db703048447eb2b5312c4a98f731": {
          "model_module": "@jupyter-widgets/controls",
          "model_name": "VBoxModel",
          "state": {
            "_view_name": "VBoxView",
            "_dom_classes": [
              "widget-interact"
            ],
            "_model_name": "VBoxModel",
            "_view_module": "@jupyter-widgets/controls",
            "_model_module_version": "1.5.0",
            "_view_count": null,
            "_view_module_version": "1.5.0",
            "box_style": "",
            "layout": "IPY_MODEL_dd0204a0bc9c46cfba932d63c1e64221",
            "_model_module": "@jupyter-widgets/controls",
            "children": [
              "IPY_MODEL_312da821aa614cc0b1913047ef68837c",
              "IPY_MODEL_daa7a945f9314d2eaef622941327edbc",
              "IPY_MODEL_d3f636bc7fa24976aea1343a88ab3f8a",
              "IPY_MODEL_3a19016e6d6749f9863305ba60142c44"
            ]
          }
        },
        "dd0204a0bc9c46cfba932d63c1e64221": {
          "model_module": "@jupyter-widgets/base",
          "model_name": "LayoutModel",
          "state": {
            "_view_name": "LayoutView",
            "grid_template_rows": null,
            "right": null,
            "justify_content": null,
            "_view_module": "@jupyter-widgets/base",
            "overflow": null,
            "_model_module_version": "1.2.0",
            "_view_count": null,
            "flex_flow": null,
            "width": null,
            "min_width": null,
            "border": null,
            "align_items": null,
            "bottom": null,
            "_model_module": "@jupyter-widgets/base",
            "top": null,
            "grid_column": null,
            "overflow_y": null,
            "overflow_x": null,
            "grid_auto_flow": null,
            "grid_area": null,
            "grid_template_columns": null,
            "flex": null,
            "_model_name": "LayoutModel",
            "justify_items": null,
            "grid_row": null,
            "max_height": null,
            "align_content": null,
            "visibility": null,
            "align_self": null,
            "height": null,
            "min_height": null,
            "padding": null,
            "grid_auto_rows": null,
            "grid_gap": null,
            "max_width": null,
            "order": null,
            "_view_module_version": "1.2.0",
            "grid_template_areas": null,
            "object_position": null,
            "object_fit": null,
            "grid_auto_columns": null,
            "margin": null,
            "display": null,
            "left": null
          }
        },
        "312da821aa614cc0b1913047ef68837c": {
          "model_module": "@jupyter-widgets/controls",
          "model_name": "IntSliderModel",
          "state": {
            "_view_name": "IntSliderView",
            "style": "IPY_MODEL_1b2c159ec3844f62ab731b39518b790d",
            "_dom_classes": [],
            "description": "size",
            "step": 1,
            "_model_name": "IntSliderModel",
            "orientation": "horizontal",
            "max": 100,
            "_view_module": "@jupyter-widgets/controls",
            "_model_module_version": "1.5.0",
            "value": 83,
            "_view_count": null,
            "disabled": false,
            "_view_module_version": "1.5.0",
            "min": 1,
            "continuous_update": true,
            "readout_format": "d",
            "description_tooltip": null,
            "readout": true,
            "_model_module": "@jupyter-widgets/controls",
            "layout": "IPY_MODEL_54bdb85195264f5db97e7d9b5d562978"
          }
        },
        "daa7a945f9314d2eaef622941327edbc": {
          "model_module": "@jupyter-widgets/controls",
          "model_name": "IntSliderModel",
          "state": {
            "_view_name": "IntSliderView",
            "style": "IPY_MODEL_5c2546c8104d4c0fbf017cbc4c3c06ed",
            "_dom_classes": [],
            "description": "n",
            "step": 1,
            "_model_name": "IntSliderModel",
            "orientation": "horizontal",
            "max": 100,
            "_view_module": "@jupyter-widgets/controls",
            "_model_module_version": "1.5.0",
            "value": 100,
            "_view_count": null,
            "disabled": false,
            "_view_module_version": "1.5.0",
            "min": 1,
            "continuous_update": true,
            "readout_format": "d",
            "description_tooltip": null,
            "readout": true,
            "_model_module": "@jupyter-widgets/controls",
            "layout": "IPY_MODEL_2e4bd572ea5e42fe820ddde846ec4f7f"
          }
        },
        "d3f636bc7fa24976aea1343a88ab3f8a": {
          "model_module": "@jupyter-widgets/controls",
          "model_name": "FloatSliderModel",
          "state": {
            "_view_name": "FloatSliderView",
            "style": "IPY_MODEL_44e28e05fee54d578db58c708c2b41b7",
            "_dom_classes": [],
            "description": "p",
            "step": 0.1,
            "_model_name": "FloatSliderModel",
            "orientation": "horizontal",
            "max": 1,
            "_view_module": "@jupyter-widgets/controls",
            "_model_module_version": "1.5.0",
            "value": 0.5,
            "_view_count": null,
            "disabled": false,
            "_view_module_version": "1.5.0",
            "min": 0,
            "continuous_update": true,
            "readout_format": ".2f",
            "description_tooltip": null,
            "readout": true,
            "_model_module": "@jupyter-widgets/controls",
            "layout": "IPY_MODEL_18186731b39c4e9c85ad50ed5bb3afd9"
          }
        },
        "3a19016e6d6749f9863305ba60142c44": {
          "model_module": "@jupyter-widgets/output",
          "model_name": "OutputModel",
          "state": {
            "_view_name": "OutputView",
            "msg_id": "",
            "_dom_classes": [],
            "_model_name": "OutputModel",
            "outputs": [
              {
                "output_type": "display_data",
                "metadata": {
                  "tags": [],
                  "needs_background": "light"
                },
                "image/png": "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\n",
                "text/plain": "<Figure size 432x288 with 1 Axes>"
              }
            ],
            "_view_module": "@jupyter-widgets/output",
            "_model_module_version": "1.0.0",
            "_view_count": null,
            "_view_module_version": "1.0.0",
            "layout": "IPY_MODEL_4742c96cc8f64bd58bddfd0c041da640",
            "_model_module": "@jupyter-widgets/output"
          }
        },
        "1b2c159ec3844f62ab731b39518b790d": {
          "model_module": "@jupyter-widgets/controls",
          "model_name": "SliderStyleModel",
          "state": {
            "_view_name": "StyleView",
            "handle_color": null,
            "_model_name": "SliderStyleModel",
            "description_width": "",
            "_view_module": "@jupyter-widgets/base",
            "_model_module_version": "1.5.0",
            "_view_count": null,
            "_view_module_version": "1.2.0",
            "_model_module": "@jupyter-widgets/controls"
          }
        },
        "54bdb85195264f5db97e7d9b5d562978": {
          "model_module": "@jupyter-widgets/base",
          "model_name": "LayoutModel",
          "state": {
            "_view_name": "LayoutView",
            "grid_template_rows": null,
            "right": null,
            "justify_content": null,
            "_view_module": "@jupyter-widgets/base",
            "overflow": null,
            "_model_module_version": "1.2.0",
            "_view_count": null,
            "flex_flow": null,
            "width": null,
            "min_width": null,
            "border": null,
            "align_items": null,
            "bottom": null,
            "_model_module": "@jupyter-widgets/base",
            "top": null,
            "grid_column": null,
            "overflow_y": null,
            "overflow_x": null,
            "grid_auto_flow": null,
            "grid_area": null,
            "grid_template_columns": null,
            "flex": null,
            "_model_name": "LayoutModel",
            "justify_items": null,
            "grid_row": null,
            "max_height": null,
            "align_content": null,
            "visibility": null,
            "align_self": null,
            "height": null,
            "min_height": null,
            "padding": null,
            "grid_auto_rows": null,
            "grid_gap": null,
            "max_width": null,
            "order": null,
            "_view_module_version": "1.2.0",
            "grid_template_areas": null,
            "object_position": null,
            "object_fit": null,
            "grid_auto_columns": null,
            "margin": null,
            "display": null,
            "left": null
          }
        },
        "5c2546c8104d4c0fbf017cbc4c3c06ed": {
          "model_module": "@jupyter-widgets/controls",
          "model_name": "SliderStyleModel",
          "state": {
            "_view_name": "StyleView",
            "handle_color": null,
            "_model_name": "SliderStyleModel",
            "description_width": "",
            "_view_module": "@jupyter-widgets/base",
            "_model_module_version": "1.5.0",
            "_view_count": null,
            "_view_module_version": "1.2.0",
            "_model_module": "@jupyter-widgets/controls"
          }
        },
        "2e4bd572ea5e42fe820ddde846ec4f7f": {
          "model_module": "@jupyter-widgets/base",
          "model_name": "LayoutModel",
          "state": {
            "_view_name": "LayoutView",
            "grid_template_rows": null,
            "right": null,
            "justify_content": null,
            "_view_module": "@jupyter-widgets/base",
            "overflow": null,
            "_model_module_version": "1.2.0",
            "_view_count": null,
            "flex_flow": null,
            "width": null,
            "min_width": null,
            "border": null,
            "align_items": null,
            "bottom": null,
            "_model_module": "@jupyter-widgets/base",
            "top": null,
            "grid_column": null,
            "overflow_y": null,
            "overflow_x": null,
            "grid_auto_flow": null,
            "grid_area": null,
            "grid_template_columns": null,
            "flex": null,
            "_model_name": "LayoutModel",
            "justify_items": null,
            "grid_row": null,
            "max_height": null,
            "align_content": null,
            "visibility": null,
            "align_self": null,
            "height": null,
            "min_height": null,
            "padding": null,
            "grid_auto_rows": null,
            "grid_gap": null,
            "max_width": null,
            "order": null,
            "_view_module_version": "1.2.0",
            "grid_template_areas": null,
            "object_position": null,
            "object_fit": null,
            "grid_auto_columns": null,
            "margin": null,
            "display": null,
            "left": null
          }
        },
        "44e28e05fee54d578db58c708c2b41b7": {
          "model_module": "@jupyter-widgets/controls",
          "model_name": "SliderStyleModel",
          "state": {
            "_view_name": "StyleView",
            "handle_color": null,
            "_model_name": "SliderStyleModel",
            "description_width": "",
            "_view_module": "@jupyter-widgets/base",
            "_model_module_version": "1.5.0",
            "_view_count": null,
            "_view_module_version": "1.2.0",
            "_model_module": "@jupyter-widgets/controls"
          }
        },
        "18186731b39c4e9c85ad50ed5bb3afd9": {
          "model_module": "@jupyter-widgets/base",
          "model_name": "LayoutModel",
          "state": {
            "_view_name": "LayoutView",
            "grid_template_rows": null,
            "right": null,
            "justify_content": null,
            "_view_module": "@jupyter-widgets/base",
            "overflow": null,
            "_model_module_version": "1.2.0",
            "_view_count": null,
            "flex_flow": null,
            "width": null,
            "min_width": null,
            "border": null,
            "align_items": null,
            "bottom": null,
            "_model_module": "@jupyter-widgets/base",
            "top": null,
            "grid_column": null,
            "overflow_y": null,
            "overflow_x": null,
            "grid_auto_flow": null,
            "grid_area": null,
            "grid_template_columns": null,
            "flex": null,
            "_model_name": "LayoutModel",
            "justify_items": null,
            "grid_row": null,
            "max_height": null,
            "align_content": null,
            "visibility": null,
            "align_self": null,
            "height": null,
            "min_height": null,
            "padding": null,
            "grid_auto_rows": null,
            "grid_gap": null,
            "max_width": null,
            "order": null,
            "_view_module_version": "1.2.0",
            "grid_template_areas": null,
            "object_position": null,
            "object_fit": null,
            "grid_auto_columns": null,
            "margin": null,
            "display": null,
            "left": null
          }
        },
        "4742c96cc8f64bd58bddfd0c041da640": {
          "model_module": "@jupyter-widgets/base",
          "model_name": "LayoutModel",
          "state": {
            "_view_name": "LayoutView",
            "grid_template_rows": null,
            "right": null,
            "justify_content": null,
            "_view_module": "@jupyter-widgets/base",
            "overflow": null,
            "_model_module_version": "1.2.0",
            "_view_count": null,
            "flex_flow": null,
            "width": null,
            "min_width": null,
            "border": null,
            "align_items": null,
            "bottom": null,
            "_model_module": "@jupyter-widgets/base",
            "top": null,
            "grid_column": null,
            "overflow_y": null,
            "overflow_x": null,
            "grid_auto_flow": null,
            "grid_area": null,
            "grid_template_columns": null,
            "flex": null,
            "_model_name": "LayoutModel",
            "justify_items": null,
            "grid_row": null,
            "max_height": null,
            "align_content": null,
            "visibility": null,
            "align_self": null,
            "height": null,
            "min_height": null,
            "padding": null,
            "grid_auto_rows": null,
            "grid_gap": null,
            "max_width": null,
            "order": null,
            "_view_module_version": "1.2.0",
            "grid_template_areas": null,
            "object_position": null,
            "object_fit": null,
            "grid_auto_columns": null,
            "margin": null,
            "display": null,
            "left": null
          }
        }
      }
    }
  },
  "cells": [
    {
      "cell_type": "code",
      "metadata": {
        "id": "jzNkQNqwXp0-"
      },
      "source": [
        "from scipy.stats import binom\n",
        "import seaborn as sns\n",
        "import ipywidgets as widgets\n",
        "from ipywidgets import HBox, VBox\n",
        "import numpy as np\n",
        "from IPython.display import display\n",
        "%matplotlib inline"
      ],
      "execution_count": 5,
      "outputs": []
    },
    {
      "cell_type": "code",
      "metadata": {
        "colab": {
          "base_uri": "https://localhost:8080/",
          "height": 361,
          "referenced_widgets": [
            "88d3db703048447eb2b5312c4a98f731",
            "dd0204a0bc9c46cfba932d63c1e64221",
            "312da821aa614cc0b1913047ef68837c",
            "daa7a945f9314d2eaef622941327edbc",
            "d3f636bc7fa24976aea1343a88ab3f8a",
            "3a19016e6d6749f9863305ba60142c44",
            "1b2c159ec3844f62ab731b39518b790d",
            "54bdb85195264f5db97e7d9b5d562978",
            "5c2546c8104d4c0fbf017cbc4c3c06ed",
            "2e4bd572ea5e42fe820ddde846ec4f7f",
            "44e28e05fee54d578db58c708c2b41b7",
            "18186731b39c4e9c85ad50ed5bb3afd9",
            "4742c96cc8f64bd58bddfd0c041da640"
          ]
        },
        "id": "b7FFesKQatLU",
        "outputId": "2117429d-9fce-45c0-c9c4-db1a190b478b"
      },
      "source": [
        "@widgets.interact(p=widgets.FloatSlider(min=0,max=1,step=.1,value=.5),\n",
        "                  size=widgets.IntSlider(min=1,max=100,step=1,value=10),\n",
        "                  n=widgets.IntSlider(min=1,max=100,value=5))\n",
        "def plot(size=30, n=5, p=.5):\n",
        "    sns.countplot(x=binom.rvs(n,p,size=size),color='g')\n",
        "    "
      ],
      "execution_count": 6,
      "outputs": [
        {
          "output_type": "display_data",
          "data": {
            "application/vnd.jupyter.widget-view+json": {
              "model_id": "88d3db703048447eb2b5312c4a98f731",
              "version_minor": 0,
              "version_major": 2
            },
            "text/plain": [
              "interactive(children=(IntSlider(value=10, description='size', min=1), IntSlider(value=5, description='n', min=…"
            ]
          },
          "metadata": {
            "tags": []
          }
        }
      ]
    },
    {
      "cell_type": "code",
      "metadata": {
        "id": "iref0oVuba88"
      },
      "source": [
        ""
      ],
      "execution_count": null,
      "outputs": []
    }
  ]
}