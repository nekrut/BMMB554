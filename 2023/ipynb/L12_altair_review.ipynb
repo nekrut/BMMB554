{
 "cells": [
  {
   "cell_type": "code",
   "execution_count": null,
   "metadata": {
    "id": "rBITOjVCpF18"
   },
   "outputs": [],
   "source": [
    "import altair as alt\n",
    "import pandas as pd\n",
    "import numpy as np"
   ]
  },
  {
   "cell_type": "code",
   "execution_count": null,
   "metadata": {
    "colab": {
     "base_uri": "https://localhost:8080/",
     "height": 206
    },
    "id": "DZPvvfA_pKeg",
    "outputId": "456b959d-3523-4c93-e343-7f3222feb521"
   },
   "outputs": [],
   "source": [
    "# If this errors out simply execute this:\n",
    "# !pip install vega_datasets\n",
    "from vega_datasets import data\n",
    "cars = data.cars()\n",
    "cars.sample(5)"
   ]
  },
  {
   "cell_type": "code",
   "execution_count": null,
   "metadata": {
    "colab": {
     "base_uri": "https://localhost:8080/",
     "height": 51
    },
    "id": "wRbv0ODapWjL",
    "outputId": "d903b635-74cf-48dd-d805-7c08509bf7f9"
   },
   "outputs": [],
   "source": [
    "import altair as alt\n",
    "alt.Chart(cars).mark_point()"
   ]
  },
  {
   "cell_type": "code",
   "execution_count": null,
   "metadata": {
    "colab": {
     "base_uri": "https://localhost:8080/",
     "height": 368
    },
    "id": "iY7KcFzEpftC",
    "outputId": "efa8d465-180b-4e70-d8cb-e032e9866442"
   },
   "outputs": [],
   "source": [
    "alt.Chart(cars).mark_point().encode(x=\"Miles_per_Gallon\", y=\"Horsepower\")\n"
   ]
  },
  {
   "cell_type": "code",
   "execution_count": null,
   "metadata": {
    "colab": {
     "base_uri": "https://localhost:8080/",
     "height": 424
    },
    "id": "0JCV91XBphUX",
    "outputId": "8f10ab44-c86d-4792-8fcb-894a7672d9d9"
   },
   "outputs": [],
   "source": [
    "wdi_data = (\n",
    "    \"https://raw.githubusercontent.com/nickeubank/\"\n",
    "    \"practicaldatascience/master/Example_Data/wdi_plotting.csv\"\n",
    ")\n",
    "world = pd.read_csv(wdi_data)\n",
    "world.sample(5)"
   ]
  },
  {
   "cell_type": "code",
   "execution_count": null,
   "metadata": {
    "colab": {
     "base_uri": "https://localhost:8080/"
    },
    "id": "j_beLwL9psD2",
    "outputId": "7082f1c2-d938-4741-803d-d02f5eec8e70"
   },
   "outputs": [],
   "source": [
    "for c in world.columns: print(c)"
   ]
  },
  {
   "cell_type": "code",
   "execution_count": null,
   "metadata": {
    "colab": {
     "base_uri": "https://localhost:8080/"
    },
    "id": "BkXdBneapuGd",
    "outputId": "f7112dac-c891-4c19-b35a-685d3cf4b626"
   },
   "outputs": [],
   "source": [
    "# How many countries?\n",
    "world[\"Country Name\"].nunique()"
   ]
  },
  {
   "cell_type": "code",
   "execution_count": null,
   "metadata": {
    "id": "FnDiCGIzpwgy"
   },
   "outputs": [],
   "source": [
    "world = world[world.Year == 2018]"
   ]
  },
  {
   "cell_type": "code",
   "execution_count": null,
   "metadata": {
    "colab": {
     "base_uri": "https://localhost:8080/",
     "height": 368
    },
    "id": "NgZ25k_8p1Oz",
    "outputId": "6ce92ba9-49ad-4084-b9f9-ee5531208f32"
   },
   "outputs": [],
   "source": [
    "alt.Chart(world).mark_point().encode(\n",
    "    x=\"GDP per capita (constant 2010 US$)\",\n",
    "    y=\"Mortality rate, under-5 (per 1,000 live births)\",\n",
    ")\n"
   ]
  },
  {
   "cell_type": "code",
   "execution_count": null,
   "metadata": {
    "id": "Oh8dUTH0p3Ix"
   },
   "outputs": [],
   "source": [
    "world[\"log_gdp_per_cap\"] = np.log(world[\"GDP per capita (constant 2010 US$)\"])\n",
    "world[\"log_under5_mortality_rate\"] = np.log(\n",
    "    world[\"Mortality rate, under-5 (per 1,000 live births)\"]\n",
    ")"
   ]
  },
  {
   "cell_type": "code",
   "execution_count": null,
   "metadata": {
    "colab": {
     "base_uri": "https://localhost:8080/",
     "height": 368
    },
    "id": "P0uVKgYcqUlA",
    "outputId": "0dd5ec5b-4778-4cd1-cc7c-7c6396fbc141"
   },
   "outputs": [],
   "source": [
    "alt.Chart(world).mark_point().encode(\n",
    "    x=\"log_gdp_per_cap\",\n",
    "    y=\"log_under5_mortality_rate\",\n",
    ")"
   ]
  },
  {
   "cell_type": "code",
   "execution_count": null,
   "metadata": {
    "colab": {
     "base_uri": "https://localhost:8080/",
     "height": 368
    },
    "id": "mWLvkgiSqWVD",
    "outputId": "616e3dd5-16fb-44a8-ae4d-8975b37226aa"
   },
   "outputs": [],
   "source": [
    "alt.Chart(world).mark_point().encode(\n",
    "    x=alt.X(\"log_gdp_per_cap\", scale=alt.Scale(zero=False)),\n",
    "    y=\"log_under5_mortality_rate\",\n",
    ")\n"
   ]
  },
  {
   "cell_type": "code",
   "execution_count": null,
   "metadata": {
    "colab": {
     "base_uri": "https://localhost:8080/",
     "height": 368
    },
    "id": "oZLb46-oqYb7",
    "outputId": "9aa19ccc-879e-4eb6-e638-c4ac18ee21d4"
   },
   "outputs": [],
   "source": [
    "alt.Chart(world).mark_point().encode(\n",
    "    x=alt.X(\"log_gdp_per_cap\", scale=alt.Scale(zero=False)),\n",
    "    y=\"log_under5_mortality_rate\",\n",
    "    size=\"Population, total\"\n",
    ")\n"
   ]
  },
  {
   "cell_type": "code",
   "execution_count": null,
   "metadata": {
    "colab": {
     "base_uri": "https://localhost:8080/",
     "height": 368
    },
    "id": "lO0V2lj_qaz0",
    "outputId": "b3f5d9b2-5134-4069-cbbb-dcf003faf7d3"
   },
   "outputs": [],
   "source": [
    "world[\"log_population\"] = np.log(world[\"Population, total\"])\n",
    "alt.Chart(world).mark_point().encode(\n",
    "    x=alt.X(\"log_population\", scale=alt.Scale(zero=False)),\n",
    "    y=\"log_under5_mortality_rate\",\n",
    "    size=alt.Size(\"log_gdp_per_cap\", scale=alt.Scale(zero=False)),\n",
    ")"
   ]
  },
  {
   "cell_type": "code",
   "execution_count": null,
   "metadata": {
    "id": "6mLyv2TAq9h-"
   },
   "outputs": [],
   "source": [
    "base = (\n",
    "    alt.Chart(world)\n",
    "    .mark_point()\n",
    "    .encode(\n",
    "        x=alt.X(\"log_gdp_per_cap\", scale=alt.Scale(zero=False)),\n",
    "        y=\"log_under5_mortality_rate\",\n",
    "        size=\"Population, total\",\n",
    "    )\n",
    ")"
   ]
  },
  {
   "cell_type": "code",
   "execution_count": null,
   "metadata": {
    "colab": {
     "base_uri": "https://localhost:8080/",
     "height": 368
    },
    "id": "-QOKcg3lrAd5",
    "outputId": "dc073f36-d47e-4a69-ef10-925d2f08af48"
   },
   "outputs": [],
   "source": [
    "base"
   ]
  },
  {
   "cell_type": "code",
   "execution_count": null,
   "metadata": {
    "colab": {
     "base_uri": "https://localhost:8080/",
     "height": 368
    },
    "id": "BY6ULffTrBL0",
    "outputId": "ffa4b7fe-aad7-424d-aaff-6c184273187a"
   },
   "outputs": [],
   "source": [
    "fit = base.transform_regression(\n",
    "        \"log_gdp_per_cap\", \"log_under5_mortality_rate\"\n",
    "    ).mark_line()\n",
    "fit"
   ]
  },
  {
   "cell_type": "code",
   "execution_count": null,
   "metadata": {
    "colab": {
     "base_uri": "https://localhost:8080/",
     "height": 368
    },
    "id": "6AYhrc7mrFgT",
    "outputId": "9413ba47-a6b4-4c97-e4cc-3212f268c799"
   },
   "outputs": [],
   "source": [
    "base + fit"
   ]
  },
  {
   "cell_type": "code",
   "execution_count": null,
   "metadata": {
    "colab": {
     "base_uri": "https://localhost:8080/",
     "height": 368
    },
    "id": "YfzQ9PdJrHAd",
    "outputId": "7a402b83-9cbf-4811-b723-3d5e98dfeb6a"
   },
   "outputs": [],
   "source": [
    "loess = base.transform_loess(\n",
    "    \"log_gdp_per_cap\", \"log_under5_mortality_rate\").mark_line(color=\"red\")\n",
    "base + fit + loess\n"
   ]
  },
  {
   "cell_type": "code",
   "execution_count": null,
   "metadata": {
    "colab": {
     "base_uri": "https://localhost:8080/",
     "height": 370
    },
    "id": "Y2tdefbRrJ6_",
    "outputId": "a3ed0074-aefa-4b88-d3ac-f333a15dab60"
   },
   "outputs": [],
   "source": [
    "base | base.encode(\n",
    "    y=alt.Y(\"Life expectancy at birth, total (years)\", scale=alt.Scale(zero=False))\n",
    ")\n"
   ]
  },
  {
   "cell_type": "code",
   "execution_count": null,
   "metadata": {
    "colab": {
     "base_uri": "https://localhost:8080/",
     "height": 368
    },
    "id": "qR3eiotbrMqC",
    "outputId": "8b66b3b8-d4a6-4a4f-8d46-19583988be94"
   },
   "outputs": [],
   "source": [
    "(\n",
    "    base\n",
    "    + fit\n",
    "    + alt.Chart(world)\n",
    "    .encode(\n",
    "        x=alt.X(\"log_gdp_per_cap\", scale=alt.Scale(zero=False)),\n",
    "        y=\"log_under5_mortality_rate\",\n",
    "        text=\"Country Code\",\n",
    "    )\n",
    "    .mark_text(size=10)\n",
    ")"
   ]
  },
  {
   "cell_type": "code",
   "execution_count": null,
   "metadata": {
    "colab": {
     "base_uri": "https://localhost:8080/",
     "height": 385
    },
    "id": "5Sr7p1L5rfp8",
    "outputId": "22cdfc30-d588-4778-ce5a-66da800770e1"
   },
   "outputs": [],
   "source": [
    "base = (\n",
    "    alt.Chart(world, title=\"GDP per Capita and Child Mortality\")\n",
    "    .mark_point()\n",
    "    .encode(\n",
    "        x=alt.X(\n",
    "            \"log_gdp_per_cap\", scale=alt.Scale(zero=False), title=\"Log GDP per Capita\"\n",
    "        ),\n",
    "        y=alt.Y(\"log_under5_mortality_rate\", title=\"Log Under-5 Mortality Rate\"),\n",
    "        size=alt.Size(\"Population, total\", title=\"Population\"),\n",
    "    )\n",
    ")\n",
    "\n",
    "base + fit"
   ]
  },
  {
   "cell_type": "code",
   "execution_count": null,
   "metadata": {
    "colab": {
     "base_uri": "https://localhost:8080/",
     "height": 385
    },
    "id": "TPaJXek6rihm",
    "outputId": "5e0b88cb-1280-4c6b-ef91-bcf1fb6ab573"
   },
   "outputs": [],
   "source": [
    "c = base + fit\n",
    "c.properties(title=\"A New Title!\")"
   ]
  },
  {
   "cell_type": "code",
   "execution_count": null,
   "metadata": {
    "colab": {
     "base_uri": "https://localhost:8080/",
     "height": 385
    },
    "id": "UIOnNYwqroBq",
    "outputId": "ff24c52c-6e47-4fa5-ab50-8e211ffbc7e3"
   },
   "outputs": [],
   "source": [
    "fit = base.transform_regression(\n",
    "    \"log_gdp_per_cap\", \"log_under5_mortality_rate\"\n",
    ").mark_line(color=\"red\", strokeDash=[15, 15])\n",
    "base + fit"
   ]
  }
 ],
 "metadata": {
  "colab": {
   "provenance": []
  },
  "kernelspec": {
   "display_name": "Python 3 (ipykernel)",
   "language": "python",
   "name": "python3"
  },
  "language_info": {
   "codemirror_mode": {
    "name": "ipython",
    "version": 3
   },
   "file_extension": ".py",
   "mimetype": "text/x-python",
   "name": "python",
   "nbconvert_exporter": "python",
   "pygments_lexer": "ipython3",
   "version": "3.10.8"
  }
 },
 "nbformat": 4,
 "nbformat_minor": 4
}
