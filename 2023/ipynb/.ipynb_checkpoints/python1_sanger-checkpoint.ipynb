{
 "cells": [
  {
   "cell_type": "markdown",
   "id": "a7492c25-b807-478e-a807-360231d7437a",
   "metadata": {},
   "source": [
    "# Python 1: Variables, expressions, statements, fuctions\n",
    "\n",
    "----\n",
    "\n",
    "Preclass prep: Chapters [1](https://greenteapress.com/thinkpython2/html/thinkpython2002.html), [2](https://greenteapress.com/thinkpython2/html/thinkpython2003.html), [3](https://greenteapress.com/thinkpython2/html/thinkpython2004.html) from \"Think Python\""
   ]
  },
  {
   "cell_type": "markdown",
   "id": "22398082-ba0b-44ed-bfc3-cdea7ee03414",
   "metadata": {},
   "source": [
    "First we import a module called [`random`](https://docs.python.org/3/library/random.html) which contains a number of functions for generating and working with random numbers "
   ]
  },
  {
   "cell_type": "code",
   "execution_count": 1,
   "id": "1abc8870-5f4a-42a8-b4ee-bf8175ad0149",
   "metadata": {},
   "outputs": [],
   "source": [
    "import random"
   ]
  },
  {
   "cell_type": "markdown",
   "id": "0d83008e-cefd-4ff5-94bd-61c8f424c6e4",
   "metadata": {},
   "source": [
    "## Generate a random sequence\n",
    "\n",
    "Next, we will write a simple loop that would generate a seuqence of pre-set length:"
   ]
  },
  {
   "cell_type": "code",
   "execution_count": 2,
   "id": "7a97fbec-28be-4bcc-bf9a-dcd258d50e5a",
   "metadata": {},
   "outputs": [],
   "source": [
    "seq = ''\n",
    "for _ in range(100):\n",
    "    seq += random.choice('ATCG')"
   ]
  },
  {
   "cell_type": "code",
   "execution_count": 3,
   "id": "4884111b-7cca-4a0c-bd9f-bd10c00e0d17",
   "metadata": {},
   "outputs": [
    {
     "data": {
      "text/plain": [
       "'CTTGCGGCTATAGGAATAAAAGGCTTTGCGGGTAGTGACCGCGCCGCGTATGTAATTCATGGGTGTCGTCGCGCCCTCACAACTGCAAGGTCGTGGCACC'"
      ]
     },
     "execution_count": 3,
     "metadata": {},
     "output_type": "execute_result"
    }
   ],
   "source": [
    "seq"
   ]
  },
  {
   "cell_type": "markdown",
   "id": "e2abadfc-a76b-46e6-9da8-f7692f93c48e",
   "metadata": {
    "jp-MarkdownHeadingCollapsed": true,
    "tags": []
   },
   "source": [
    "## Simulate one polymerase molecule\n",
    "\n",
    "The code below iterates through each element of a sequence `seq` (assumed to be a string containing nucleotides) and it checks if the current nucleotide is equal to 'A'. If it is, it generates a random number between 0 and 1 using the `random.random()` function.\n",
    "\n",
    "It then checks if the random number is greater than 0.5. If it is, the code does nothing and proceeds to the next iteration. If the random number is less than or equal to 0.5, the code adds the lowercase version of the nucleotide ('a') to a string called `synthesized_strand` and then breaks out of the loop.\n",
    "\n",
    "In every iteration of the loop, regardless of whether the nucleotide is 'A' or not, the code then adds the current nucleotide to the `synthesized_strand` string.\n",
    "\n",
    "This means that when the current nucleotide is 'A', then the generated random number will decide whether the code will add the nucleotide 'A' or 'a' to the `synthesized_strand`, and it will break out of the loop after adding the nucleotide to the `synthesized_strand`."
   ]
  },
  {
   "cell_type": "code",
   "execution_count": 4,
   "id": "9e702acd-75fa-4eb7-8a1d-65b4c73c9a3b",
   "metadata": {},
   "outputs": [],
   "source": [
    "synthesized_strand = ''\n",
    "\n",
    "for nucleotide in seq:\n",
    "    if nucleotide == 'A':\n",
    "        d_or_dd = random.random()\n",
    "        if d_or_dd > 0.5:\n",
    "            None\n",
    "        else:\n",
    "            synthesized_strand += 'a'\n",
    "            break\n",
    "    synthesized_strand += nucleotide"
   ]
  },
  {
   "cell_type": "markdown",
   "id": "eed8d099-dd02-42be-8a96-638c7fea35ea",
   "metadata": {},
   "source": [
    "This can be simplified by first removing `d_or_dd` variable:"
   ]
  },
  {
   "cell_type": "code",
   "execution_count": 5,
   "id": "49c58357-8f49-4c33-94ce-de6596694e18",
   "metadata": {},
   "outputs": [
    {
     "name": "stdout",
     "output_type": "stream",
     "text": [
      "CTTGCGGCTATa\n"
     ]
    }
   ],
   "source": [
    "synthesized_strand = ''\n",
    "for nucleotide in seq:\n",
    "    if nucleotide == 'A':\n",
    "        if random.random() > 0.5:\n",
    "            None\n",
    "        else:\n",
    "            synthesized_strand += 'a'\n",
    "            break\n",
    "    synthesized_strand += nucleotide\n",
    "print(synthesized_strand)"
   ]
  },
  {
   "cell_type": "markdown",
   "id": "02bd48af-ca15-4cc2-94af-055caf0e2a79",
   "metadata": {},
   "source": [
    "and removing unnecessary group of `if ... else` statements:"
   ]
  },
  {
   "cell_type": "code",
   "execution_count": 6,
   "id": "9a7ee839-001a-4d53-8291-0c865a420e7a",
   "metadata": {},
   "outputs": [
    {
     "name": "stdout",
     "output_type": "stream",
     "text": [
      "CTTGCGGCTATAGGAATa\n"
     ]
    }
   ],
   "source": [
    "synthesized_strand = ''\n",
    "for nucleotide in seq:\n",
    "    if nucleotide == 'A' and random.random() > 0.5:\n",
    "        synthesized_strand += 'a'\n",
    "        break\n",
    "    synthesized_strand += nucleotide\n",
    "print(synthesized_strand)"
   ]
  },
  {
   "cell_type": "markdown",
   "id": "eb5718b6-8671-4948-9f01-bc9009c525b8",
   "metadata": {},
   "source": [
    "finally let's make `synthesized_strand += 'a'` a bit more generic:"
   ]
  },
  {
   "cell_type": "code",
   "execution_count": 7,
   "id": "5bd47f66-94e4-4b2e-90b1-50b66e89f556",
   "metadata": {},
   "outputs": [
    {
     "name": "stdout",
     "output_type": "stream",
     "text": [
      "CTTGCGGCTATAGGa\n"
     ]
    }
   ],
   "source": [
    "synthesized_strand = ''\n",
    "for nucleotide in seq:\n",
    "    if nucleotide == 'A' and random.random() > 0.5:\n",
    "        synthesized_strand += nucleotide.lower()\n",
    "        break\n",
    "    synthesized_strand += nucleotide\n",
    "print(synthesized_strand)"
   ]
  },
  {
   "cell_type": "markdown",
   "id": "66c3c318-5e0d-4a95-99b6-8c7fc0aa00e1",
   "metadata": {},
   "source": [
    "## Simulating multiple molecules\n",
    "\n",
    "To simulate 10 polymerase molucles we simply wrap the code from above into a `for` loop:"
   ]
  },
  {
   "cell_type": "code",
   "execution_count": 8,
   "id": "852be530-2244-4639-b673-b0fb65ebd4e1",
   "metadata": {
    "tags": []
   },
   "outputs": [
    {
     "name": "stdout",
     "output_type": "stream",
     "text": [
      "CTTGCGGCTa\n",
      "CTTGCGGCTa\n",
      "CTTGCGGCTa\n",
      "CTTGCGGCTa\n",
      "CTTGCGGCTa\n",
      "CTTGCGGCTa\n",
      "CTTGCGGCTATa\n",
      "CTTGCGGCTATAGGa\n",
      "CTTGCGGCTa\n",
      "CTTGCGGCTa\n"
     ]
    }
   ],
   "source": [
    "for _ in range(10):\n",
    "    synthesized_strand = ''\n",
    "    for nucleotide in seq:\n",
    "        if nucleotide == 'A' and random.random() > 0.5:\n",
    "            synthesized_strand += nucleotide.lower()\n",
    "            break\n",
    "        synthesized_strand += nucleotide\n",
    "    print(synthesized_strand)"
   ]
  },
  {
   "cell_type": "markdown",
   "id": "2b77148f-d97e-4dcb-8ed4-9eb4ff58f161",
   "metadata": {},
   "source": [
    "One problem with this code is that does not actually save the newly synthesized strand: it simply prints it. To fix this we will create a [list](https://greenteapress.com/thinkpython2/html/thinkpython2011.html) (or an array) called `new_strands` and initialize it by assigning an empty array to it:"
   ]
  },
  {
   "cell_type": "code",
   "execution_count": 9,
   "id": "9c56557b-30fe-4940-90a1-7e727c8cb118",
   "metadata": {
    "tags": []
   },
   "outputs": [],
   "source": [
    "new_strands = []\n",
    "for _ in range(10):\n",
    "    synthesized_strand = ''\n",
    "    for nucleotide in seq:\n",
    "        if nucleotide == 'A' and random.random() > 0.5:\n",
    "            synthesized_strand += nucleotide.lower()\n",
    "            break\n",
    "        synthesized_strand += nucleotide\n",
    "    new_strands.append(synthesized_strand)"
   ]
  },
  {
   "cell_type": "code",
   "execution_count": 10,
   "id": "12709683-e877-408a-8366-e8da62999767",
   "metadata": {
    "tags": []
   },
   "outputs": [
    {
     "data": {
      "text/plain": [
       "['CTTGCGGCTa',\n",
       " 'CTTGCGGCTa',\n",
       " 'CTTGCGGCTATAGGAATAa',\n",
       " 'CTTGCGGCTATAGGAATa',\n",
       " 'CTTGCGGCTATa',\n",
       " 'CTTGCGGCTATAGGa',\n",
       " 'CTTGCGGCTATAGGa',\n",
       " 'CTTGCGGCTATa',\n",
       " 'CTTGCGGCTATAGGa',\n",
       " 'CTTGCGGCTa']"
      ]
     },
     "execution_count": 10,
     "metadata": {},
     "output_type": "execute_result"
    }
   ],
   "source": [
    "new_strands"
   ]
  },
  {
   "cell_type": "markdown",
   "id": "38235687-b7ac-4379-a242-e7930400bbbb",
   "metadata": {},
   "source": [
    "## Simulating multiple molecules and all nucleotides\n",
    "\n",
    "And to repeat this for the remaining three nucleotides we will do the following crazy thing:"
   ]
  },
  {
   "cell_type": "code",
   "execution_count": 11,
   "id": "7d439ec4-3b66-402b-8458-dc836bc4e3e8",
   "metadata": {
    "tags": []
   },
   "outputs": [],
   "source": [
    "new_strands = []\n",
    "for _ in range(10):\n",
    "    synthesized_strand = ''\n",
    "    for nucleotide in seq:\n",
    "        if nucleotide == 'A' and random.random() > 0.5:\n",
    "            synthesized_strand += nucleotide.lower()\n",
    "            break\n",
    "        synthesized_strand += nucleotide\n",
    "    new_strands.append(synthesized_strand)\n",
    "    \n",
    "for _ in range(10):\n",
    "    synthesized_strand = ''\n",
    "    for nucleotide in seq:\n",
    "        if nucleotide == 'C' and random.random() > 0.5:\n",
    "            synthesized_strand += nucleotide.lower()\n",
    "            break\n",
    "        synthesized_strand += nucleotide\n",
    "    new_strands.append(synthesized_strand)\n",
    "    \n",
    "for _ in range(10):\n",
    "    synthesized_strand = ''\n",
    "    for nucleotide in seq:\n",
    "        if nucleotide == 'G' and random.random() > 0.5:\n",
    "            synthesized_strand += nucleotide.lower()\n",
    "            break\n",
    "        synthesized_strand += nucleotide\n",
    "    new_strands.append(synthesized_strand)\n",
    "    \n",
    "for _ in range(10):\n",
    "    synthesized_strand = ''\n",
    "    for nucleotide in seq:\n",
    "        if nucleotide == 'T' and random.random() > 0.5:\n",
    "            synthesized_strand += nucleotide.lower()\n",
    "            break\n",
    "        synthesized_strand += nucleotide\n",
    "    new_strands.append(synthesized_strand)"
   ]
  },
  {
   "cell_type": "code",
   "execution_count": 12,
   "id": "5f64ce95-a458-452d-9f57-d330f42edc04",
   "metadata": {},
   "outputs": [
    {
     "data": {
      "text/plain": [
       "40"
      ]
     },
     "execution_count": 12,
     "metadata": {},
     "output_type": "execute_result"
    }
   ],
   "source": [
    "len(new_strands)"
   ]
  },
  {
   "cell_type": "markdown",
   "id": "92191613-dc12-4162-8fb8-e56540de5eed",
   "metadata": {},
   "source": [
    "Repeating the same cocde four times is just plain stupid so instead we will write a function called `polymerase`. Here we need to worry about the scope of variables.  The scope of a variable refers to the regions of the code where the variable can be accessed or modified. Variables that are defined within a certain block of code (such as a function or a loop) are said to have a *local* scope, meaning that they can only be accessed within that block of code. Variables that are defined outside of any block of code are said to have a *global* scope, meaning that they can be accessed from anywhere in the code.\n",
    "\n",
    "In most programming languages, a variable defined within a function has a local scope, and it can only be accessed within that function. If a variable with the same name is defined outside the function, it will have a global scope and can be accessed from anywhere in the code. However, if a variable with the same name is defined within the function, it will take precedence over the global variable and will be used within the function.\n",
    "\n",
    "There are also some languages that have block scope, where a variable defined within a block (such as an if statement or a for loop) can only be accessed within that block and not outside of it.\n",
    "\n",
    "In Python, variables defined in the main module have global scope and can be accessed from any function or module. Variables defined within a function have local scope, and they can only be accessed within that function. Variables defined within a loop or a block, can be accessed only within the scope of the loop or block."
   ]
  },
  {
   "cell_type": "code",
   "execution_count": 13,
   "id": "3a7f34b6-28f5-4f1d-bcdd-5cee6a06f45d",
   "metadata": {},
   "outputs": [],
   "source": [
    "def ddN(number_of_iterations, template, base, ddN_ratio):\n",
    "    new_strands = []\n",
    "    for _ in range(number_of_iterations):\n",
    "        synthesized_strand = ''\n",
    "        for nucleotide in template:\n",
    "            if nucleotide == base and random.random() > ddN_ratio:\n",
    "                synthesized_strand += nucleotide.lower()\n",
    "                break\n",
    "            synthesized_strand += nucleotide\n",
    "        new_strands.append(synthesized_strand)\n",
    "    return(new_strands)"
   ]
  },
  {
   "cell_type": "code",
   "execution_count": 14,
   "id": "59e48f7a-a152-45c2-94f3-e0dbcb32eaa0",
   "metadata": {},
   "outputs": [
    {
     "data": {
      "text/plain": [
       "['CTTGCGGCTATAGGa',\n",
       " 'CTTGCGGCTATa',\n",
       " 'CTTGCGGCTATa',\n",
       " 'CTTGCGGCTATAGGAATa',\n",
       " 'CTTGCGGCTa',\n",
       " 'CTTGCGGCTa',\n",
       " 'CTTGCGGCTa',\n",
       " 'CTTGCGGCTATa',\n",
       " 'CTTGCGGCTATAGGa',\n",
       " 'CTTGCGGCTATa']"
      ]
     },
     "execution_count": 14,
     "metadata": {},
     "output_type": "execute_result"
    }
   ],
   "source": [
    "ddN(10,seq,'A',0.5)"
   ]
  },
  {
   "cell_type": "markdown",
   "id": "2f768d8b-64ea-43a9-8218-f1267a11acad",
   "metadata": {},
   "source": [
    "To execute this function on all four types of ddNTPs with need to wrap it in a `for` loop iterating over the four possibilies:"
   ]
  },
  {
   "cell_type": "code",
   "execution_count": 15,
   "id": "14dd7c9d-3491-4613-9e91-b1a2a76c8956",
   "metadata": {},
   "outputs": [],
   "source": [
    "for nt in 'ATCG':\n",
    "    ddN(10,seq,nt,0.5)"
   ]
  },
  {
   "cell_type": "markdown",
   "id": "9333b796-a777-441a-998f-909f4d3f2dcd",
   "metadata": {},
   "source": [
    "## A bit about [lists](https://greenteapress.com/thinkpython2/html/thinkpython2011.html)\n",
    "\n",
    "To store the sequences being generated in the previous loop we will create and initialize a list called `seq_run`:"
   ]
  },
  {
   "cell_type": "code",
   "execution_count": 16,
   "id": "fcec1b73-5384-4ca0-9e72-bff41c1c19fd",
   "metadata": {},
   "outputs": [],
   "source": [
    "seq_run = []\n",
    "for nt in 'ATCG':\n",
    "    seq_run.append(ddN(10,seq,nt,0.5))"
   ]
  },
  {
   "cell_type": "markdown",
   "id": "9a4b1d64-6fd5-475a-ba0b-8601cd864f8c",
   "metadata": {},
   "source": [
    "you will see that the seq run is a two-dimensional list:"
   ]
  },
  {
   "cell_type": "code",
   "execution_count": 17,
   "id": "71971ec2-fe22-4ea9-ba39-2c942f410333",
   "metadata": {},
   "outputs": [
    {
     "data": {
      "text/plain": [
       "[['CTTGCGGCTa',\n",
       "  'CTTGCGGCTATAGGa',\n",
       "  'CTTGCGGCTa',\n",
       "  'CTTGCGGCTATa',\n",
       "  'CTTGCGGCTATAGGa',\n",
       "  'CTTGCGGCTATa',\n",
       "  'CTTGCGGCTa',\n",
       "  'CTTGCGGCTATAGGAATAa',\n",
       "  'CTTGCGGCTa',\n",
       "  'CTTGCGGCTATa'],\n",
       " ['CTTGCGGCt', 'Ct', 'Ct', 'Ct', 'Ct', 'CTt', 'Ct', 'Ct', 'CTTGCGGCt', 'Ct'],\n",
       " ['CTTGc',\n",
       "  'c',\n",
       "  'c',\n",
       "  'c',\n",
       "  'c',\n",
       "  'CTTGCGGCTATAGGAATAAAAGGCTTTGc',\n",
       "  'c',\n",
       "  'CTTGCGGCTATAGGAATAAAAGGc',\n",
       "  'c',\n",
       "  'CTTGc'],\n",
       " ['CTTg',\n",
       "  'CTTGCg',\n",
       "  'CTTg',\n",
       "  'CTTg',\n",
       "  'CTTGCg',\n",
       "  'CTTGCGGCTATAGGAATAAAAg',\n",
       "  'CTTGCGGCTATAGGAATAAAAg',\n",
       "  'CTTg',\n",
       "  'CTTg',\n",
       "  'CTTg']]"
      ]
     },
     "execution_count": 17,
     "metadata": {},
     "output_type": "execute_result"
    }
   ],
   "source": [
    "seq_run"
   ]
  },
  {
   "cell_type": "markdown",
   "id": "0bacf88a-26bc-4662-b583-fea4fc946b26",
   "metadata": {},
   "source": [
    "as you will read in your next home assignment list elements can be addressed by \"index\". The first element has number 0:"
   ]
  },
  {
   "cell_type": "code",
   "execution_count": 18,
   "id": "cfd8053b-9fd6-4bb6-872a-171d348430fa",
   "metadata": {},
   "outputs": [
    {
     "data": {
      "text/plain": [
       "['CTTGCGGCTa',\n",
       " 'CTTGCGGCTATAGGa',\n",
       " 'CTTGCGGCTa',\n",
       " 'CTTGCGGCTATa',\n",
       " 'CTTGCGGCTATAGGa',\n",
       " 'CTTGCGGCTATa',\n",
       " 'CTTGCGGCTa',\n",
       " 'CTTGCGGCTATAGGAATAa',\n",
       " 'CTTGCGGCTa',\n",
       " 'CTTGCGGCTATa']"
      ]
     },
     "execution_count": 18,
     "metadata": {},
     "output_type": "execute_result"
    }
   ],
   "source": [
    "seq_run[0]"
   ]
  },
  {
   "cell_type": "markdown",
   "id": "53449e6b-0fed-4f75-934b-33297ab9eeea",
   "metadata": {},
   "source": [
    "## A bit about [dictionaries](https://greenteapress.com/thinkpython2/html/thinkpython2012.html)\n",
    "\n",
    "Another way to store these data is in a dictionary, which is a collection of key:value pairs where a key and value can be anything:"
   ]
  },
  {
   "cell_type": "code",
   "execution_count": 19,
   "id": "cac4e3b1-6c6f-4ec2-a242-80b4ad68c804",
   "metadata": {},
   "outputs": [],
   "source": [
    "seq_run = {}\n",
    "for nt in 'ATCG':\n",
    "    seq_run[nt] = ddN(10,seq,nt,0.90)"
   ]
  },
  {
   "cell_type": "code",
   "execution_count": 20,
   "id": "9ab9e244-1b49-4c6c-9575-17d3d1926a9c",
   "metadata": {
    "tags": []
   },
   "outputs": [
    {
     "data": {
      "text/plain": [
       "{'A': ['CTTGCGGCTATAGGAATAAAAGGCTTTGCGGGTAGTGACCGCGCCGCGTATGTAATTCATGGGTGTCGTCGCGCCCTCACa',\n",
       "  'CTTGCGGCTATAGGAATAAAAGGCTTTGCGGGTAGTGACCGCGCCGCGTATGTa',\n",
       "  'CTTGCGGCTATAGGAATAa',\n",
       "  'CTTGCGGCTATAGGAATAAAAGGCTTTGCGGGTa',\n",
       "  'CTTGCGGCTa',\n",
       "  'CTTGCGGCTATAGGAATAAAAGGCTTTGCGGGTAGTGACCGCGCCGCGTATGTAATTCATGGGTGTCGTCGCGCCCTCACAACTGCa',\n",
       "  'CTTGCGGCTATAGGa',\n",
       "  'CTTGCGGCTATAGGAATAAAa',\n",
       "  'CTTGCGGCTATAGGAATAAAAGGCTTTGCGGGTAGTGACCGCGCCGCGTATGTAATTCATGGGTGTCGTCGCGCCCTCACAACTGCAa',\n",
       "  'CTTGCGGCTATAGGAa'],\n",
       " 'T': ['CTTGCGGCTAt',\n",
       "  'CTTGCGGCTATAGGAATAAAAGGCTTt',\n",
       "  'CTTGCGGCTATAGGAATAAAAGGCTTTGCGGGTAGTGACCGCGCCGCGTATGTAATTCATGGGTGTCGTCGCGCCCTCACAACt',\n",
       "  'CTTGCGGCTATAGGAATAAAAGGCTTTGCGGGTAGTGACCGCGCCGCGTATGTAATTCATGGGTGTCGTCGCGCCCTCACAACTGCAAGGTCGTGGCACC',\n",
       "  'CTTGCGGCTATAGGAATAAAAGGCTTTGCGGGTAGTGACCGCGCCGCGTATGTAATt',\n",
       "  'CTTGCGGCTATAGGAATAAAAGGCTTTGCGGGTAGTGACCGCGCCGCGTAt',\n",
       "  'CTTGCGGCTATAGGAATAAAAGGCTTTGCGGGTAGTGACCGCGCCGCGTATGTAATTCAt',\n",
       "  'CTTGCGGCTATAGGAATAAAAGGCTTTGCGGGTAGTGACCGCGCCGCGTATGTAATTCATGGGTGTCGTCGCGCCCTCACAACTGCAAGGTCGTGGCACC',\n",
       "  'CTTGCGGCTATAGGAATAAAAGGCTTTGCGGGTAGTGACCGCGCCGCGTATGTAATTCAt',\n",
       "  'CTt'],\n",
       " 'C': ['CTTGCGGCTATAGGAATAAAAGGc',\n",
       "  'CTTGCGGCTATAGGAATAAAAGGc',\n",
       "  'CTTGCGGCTATAGGAATAAAAGGCTTTGCGGGTAGTGACCGCGCCGCGTATGTAATTCATGGGTGTc',\n",
       "  'CTTGCGGCTATAGGAATAAAAGGCTTTGCGGGTAGTGAc',\n",
       "  'c',\n",
       "  'CTTGCGGCTATAGGAATAAAAGGc',\n",
       "  'CTTGCGGCTATAGGAATAAAAGGCTTTGCGGGTAGTGACCGCGCCGCGTATGTAATTCATGGGTGTc',\n",
       "  'CTTGCGGc',\n",
       "  'CTTGCGGCTATAGGAATAAAAGGCTTTGCGGGTAGTGAc',\n",
       "  'CTTGCGGCTATAGGAATAAAAGGCTTTGCGGGTAGTGACCGCGCCGc'],\n",
       " 'G': ['CTTGCGGCTATAGg',\n",
       "  'CTTGCGGCTATAGGAATAAAAGGCTTTGCGGGTAGTGACCGCGCCGCGTATGTAATTCATGGGTg',\n",
       "  'CTTGCg',\n",
       "  'CTTGCGGCTATAGGAATAAAAGGCTTTGCGGGTAGTGACCGCGCCGCGTATGTAATTCATGGGTGTCGTCGCGCCCTCACAACTGCAAGGTCGTGGCACC',\n",
       "  'CTTg',\n",
       "  'CTTGCGGCTATAGGAATAAAAGg',\n",
       "  'CTTGCGGCTATAGGAATAAAAGGCTTTg',\n",
       "  'CTTGCGGCTATAGGAATAAAAGGCTTTGCGGGTAGTGACCGCg',\n",
       "  'CTTGCGGCTATAGGAATAAAAGGCTTTGCGg',\n",
       "  'CTTGCGGCTATAGGAATAAAAg']}"
      ]
     },
     "execution_count": 20,
     "metadata": {},
     "output_type": "execute_result"
    }
   ],
   "source": [
    "seq_run"
   ]
  },
  {
   "cell_type": "markdown",
   "id": "f2d4072d-de3e-40f9-beab-320947c5f2f3",
   "metadata": {},
   "source": [
    "dictionary elements can be retrieved using a key:"
   ]
  },
  {
   "cell_type": "code",
   "execution_count": 21,
   "id": "df8b15a6-60d6-4f20-b4c8-9d3d74bbe5d9",
   "metadata": {},
   "outputs": [
    {
     "data": {
      "text/plain": [
       "['CTTGCGGCTATAGGAATAAAAGGCTTTGCGGGTAGTGACCGCGCCGCGTATGTAATTCATGGGTGTCGTCGCGCCCTCACa',\n",
       " 'CTTGCGGCTATAGGAATAAAAGGCTTTGCGGGTAGTGACCGCGCCGCGTATGTa',\n",
       " 'CTTGCGGCTATAGGAATAa',\n",
       " 'CTTGCGGCTATAGGAATAAAAGGCTTTGCGGGTa',\n",
       " 'CTTGCGGCTa',\n",
       " 'CTTGCGGCTATAGGAATAAAAGGCTTTGCGGGTAGTGACCGCGCCGCGTATGTAATTCATGGGTGTCGTCGCGCCCTCACAACTGCa',\n",
       " 'CTTGCGGCTATAGGa',\n",
       " 'CTTGCGGCTATAGGAATAAAa',\n",
       " 'CTTGCGGCTATAGGAATAAAAGGCTTTGCGGGTAGTGACCGCGCCGCGTATGTAATTCATGGGTGTCGTCGCGCCCTCACAACTGCAa',\n",
       " 'CTTGCGGCTATAGGAa']"
      ]
     },
     "execution_count": 21,
     "metadata": {},
     "output_type": "execute_result"
    }
   ],
   "source": [
    "seq_run['A']"
   ]
  },
  {
   "cell_type": "markdown",
   "id": "2c84a235-2217-41c1-8159-cede802aaac9",
   "metadata": {},
   "source": [
    "## Drawing a sequencing gel\n",
    "\n",
    "Now that we can simulate and store newly synthesized sequencing strands terminated with ddNTPs let us try to draw a realistic representation of the sequencing gel. For this we will use several componenets that will be discussed in a much greated deatil in the upcoming lectures. These componenets are:\n",
    "\n",
    "- [`pandas`](https://pandas.pydata.org/) - a dataframe manipulation tool\n",
    "- [`altair`](https://altair-viz.github.io/) - a statistical visualization library built on top of `vega-light` visualization grammar\n",
    "\n",
    "These two libraries will be used in almost all lectures concerning Python in this class."
   ]
  },
  {
   "cell_type": "markdown",
   "id": "764fe645-d696-429f-a3a0-40ac375b9bdc",
   "metadata": {},
   "source": [
    "[Gel electophoresis](https://en.wikipedia.org/wiki/Gel_electrophoresis) separates molecules based on mass, shape, or charge. In case of DNA all molecules are universally negatively charges and thus will always migrate to (+) electrode. All our molecules are linear single stranded pieces (our gel is *denaturing*) and so the only physical/chemical characteristic that disnguished them is *length*. Therefore the first thing we will do is to convert our sequecnes into their lengths. For this we will initialize a new dictionary called `seq_lengths`:"
   ]
  },
  {
   "cell_type": "code",
   "execution_count": 22,
   "id": "57b787a0-a31e-41d7-b6fb-e82e9ba5b3dd",
   "metadata": {},
   "outputs": [],
   "source": [
    "seq_lengths = {'base':[],'length':[]}\n",
    "for key in seq_run.keys():\n",
    "    for sequence in seq_run[key]:\n",
    "        seq_lengths['base'].append(key)\n",
    "        seq_lengths['length'].append(len(sequence))"
   ]
  },
  {
   "cell_type": "code",
   "execution_count": 23,
   "id": "f4e8699a-f132-4a1d-9dda-f5fc4df5270a",
   "metadata": {
    "tags": []
   },
   "outputs": [
    {
     "data": {
      "text/plain": [
       "{'base': ['A',\n",
       "  'A',\n",
       "  'A',\n",
       "  'A',\n",
       "  'A',\n",
       "  'A',\n",
       "  'A',\n",
       "  'A',\n",
       "  'A',\n",
       "  'A',\n",
       "  'T',\n",
       "  'T',\n",
       "  'T',\n",
       "  'T',\n",
       "  'T',\n",
       "  'T',\n",
       "  'T',\n",
       "  'T',\n",
       "  'T',\n",
       "  'T',\n",
       "  'C',\n",
       "  'C',\n",
       "  'C',\n",
       "  'C',\n",
       "  'C',\n",
       "  'C',\n",
       "  'C',\n",
       "  'C',\n",
       "  'C',\n",
       "  'C',\n",
       "  'G',\n",
       "  'G',\n",
       "  'G',\n",
       "  'G',\n",
       "  'G',\n",
       "  'G',\n",
       "  'G',\n",
       "  'G',\n",
       "  'G',\n",
       "  'G'],\n",
       " 'length': [81,\n",
       "  54,\n",
       "  19,\n",
       "  34,\n",
       "  10,\n",
       "  87,\n",
       "  15,\n",
       "  21,\n",
       "  88,\n",
       "  16,\n",
       "  11,\n",
       "  27,\n",
       "  84,\n",
       "  100,\n",
       "  57,\n",
       "  51,\n",
       "  60,\n",
       "  100,\n",
       "  60,\n",
       "  3,\n",
       "  24,\n",
       "  24,\n",
       "  67,\n",
       "  39,\n",
       "  1,\n",
       "  24,\n",
       "  67,\n",
       "  8,\n",
       "  39,\n",
       "  47,\n",
       "  14,\n",
       "  65,\n",
       "  6,\n",
       "  100,\n",
       "  4,\n",
       "  23,\n",
       "  28,\n",
       "  43,\n",
       "  31,\n",
       "  22]}"
      ]
     },
     "execution_count": 23,
     "metadata": {},
     "output_type": "execute_result"
    }
   ],
   "source": [
    "seq_lengths"
   ]
  },
  {
   "cell_type": "markdown",
   "id": "9348836f-e808-4bc0-834d-536697bc852f",
   "metadata": {},
   "source": [
    "now let's import `pandas`:"
   ]
  },
  {
   "cell_type": "code",
   "execution_count": 24,
   "id": "f15b0557-fcab-4267-8b1d-edf1c9a6bcb9",
   "metadata": {},
   "outputs": [],
   "source": [
    "import pandas as pd"
   ]
  },
  {
   "cell_type": "markdown",
   "id": "6439ecfa-2501-4d62-bca7-72d72fde37bf",
   "metadata": {},
   "source": [
    "and inject `seq_lengths` into a pandas *dataframe*:"
   ]
  },
  {
   "cell_type": "code",
   "execution_count": 25,
   "id": "5d7e7886-e41c-4561-a901-f423475328c2",
   "metadata": {},
   "outputs": [],
   "source": [
    "sequences = pd.DataFrame(seq_lengths)"
   ]
  },
  {
   "cell_type": "markdown",
   "id": "b5c47673-dca4-403a-a900-6f6c7a217425",
   "metadata": {},
   "source": [
    "it looks pretty:"
   ]
  },
  {
   "cell_type": "code",
   "execution_count": 26,
   "id": "5ddc16db-779c-45a4-b700-bfcc6ede3933",
   "metadata": {},
   "outputs": [
    {
     "data": {
      "text/html": [
       "<div>\n",
       "<style scoped>\n",
       "    .dataframe tbody tr th:only-of-type {\n",
       "        vertical-align: middle;\n",
       "    }\n",
       "\n",
       "    .dataframe tbody tr th {\n",
       "        vertical-align: top;\n",
       "    }\n",
       "\n",
       "    .dataframe thead th {\n",
       "        text-align: right;\n",
       "    }\n",
       "</style>\n",
       "<table border=\"1\" class=\"dataframe\">\n",
       "  <thead>\n",
       "    <tr style=\"text-align: right;\">\n",
       "      <th></th>\n",
       "      <th>base</th>\n",
       "      <th>length</th>\n",
       "    </tr>\n",
       "  </thead>\n",
       "  <tbody>\n",
       "    <tr>\n",
       "      <th>0</th>\n",
       "      <td>A</td>\n",
       "      <td>81</td>\n",
       "    </tr>\n",
       "    <tr>\n",
       "      <th>1</th>\n",
       "      <td>A</td>\n",
       "      <td>54</td>\n",
       "    </tr>\n",
       "    <tr>\n",
       "      <th>2</th>\n",
       "      <td>A</td>\n",
       "      <td>19</td>\n",
       "    </tr>\n",
       "    <tr>\n",
       "      <th>3</th>\n",
       "      <td>A</td>\n",
       "      <td>34</td>\n",
       "    </tr>\n",
       "    <tr>\n",
       "      <th>4</th>\n",
       "      <td>A</td>\n",
       "      <td>10</td>\n",
       "    </tr>\n",
       "    <tr>\n",
       "      <th>5</th>\n",
       "      <td>A</td>\n",
       "      <td>87</td>\n",
       "    </tr>\n",
       "    <tr>\n",
       "      <th>6</th>\n",
       "      <td>A</td>\n",
       "      <td>15</td>\n",
       "    </tr>\n",
       "    <tr>\n",
       "      <th>7</th>\n",
       "      <td>A</td>\n",
       "      <td>21</td>\n",
       "    </tr>\n",
       "    <tr>\n",
       "      <th>8</th>\n",
       "      <td>A</td>\n",
       "      <td>88</td>\n",
       "    </tr>\n",
       "    <tr>\n",
       "      <th>9</th>\n",
       "      <td>A</td>\n",
       "      <td>16</td>\n",
       "    </tr>\n",
       "    <tr>\n",
       "      <th>10</th>\n",
       "      <td>T</td>\n",
       "      <td>11</td>\n",
       "    </tr>\n",
       "    <tr>\n",
       "      <th>11</th>\n",
       "      <td>T</td>\n",
       "      <td>27</td>\n",
       "    </tr>\n",
       "    <tr>\n",
       "      <th>12</th>\n",
       "      <td>T</td>\n",
       "      <td>84</td>\n",
       "    </tr>\n",
       "    <tr>\n",
       "      <th>13</th>\n",
       "      <td>T</td>\n",
       "      <td>100</td>\n",
       "    </tr>\n",
       "    <tr>\n",
       "      <th>14</th>\n",
       "      <td>T</td>\n",
       "      <td>57</td>\n",
       "    </tr>\n",
       "    <tr>\n",
       "      <th>15</th>\n",
       "      <td>T</td>\n",
       "      <td>51</td>\n",
       "    </tr>\n",
       "    <tr>\n",
       "      <th>16</th>\n",
       "      <td>T</td>\n",
       "      <td>60</td>\n",
       "    </tr>\n",
       "    <tr>\n",
       "      <th>17</th>\n",
       "      <td>T</td>\n",
       "      <td>100</td>\n",
       "    </tr>\n",
       "    <tr>\n",
       "      <th>18</th>\n",
       "      <td>T</td>\n",
       "      <td>60</td>\n",
       "    </tr>\n",
       "    <tr>\n",
       "      <th>19</th>\n",
       "      <td>T</td>\n",
       "      <td>3</td>\n",
       "    </tr>\n",
       "    <tr>\n",
       "      <th>20</th>\n",
       "      <td>C</td>\n",
       "      <td>24</td>\n",
       "    </tr>\n",
       "    <tr>\n",
       "      <th>21</th>\n",
       "      <td>C</td>\n",
       "      <td>24</td>\n",
       "    </tr>\n",
       "    <tr>\n",
       "      <th>22</th>\n",
       "      <td>C</td>\n",
       "      <td>67</td>\n",
       "    </tr>\n",
       "    <tr>\n",
       "      <th>23</th>\n",
       "      <td>C</td>\n",
       "      <td>39</td>\n",
       "    </tr>\n",
       "    <tr>\n",
       "      <th>24</th>\n",
       "      <td>C</td>\n",
       "      <td>1</td>\n",
       "    </tr>\n",
       "    <tr>\n",
       "      <th>25</th>\n",
       "      <td>C</td>\n",
       "      <td>24</td>\n",
       "    </tr>\n",
       "    <tr>\n",
       "      <th>26</th>\n",
       "      <td>C</td>\n",
       "      <td>67</td>\n",
       "    </tr>\n",
       "    <tr>\n",
       "      <th>27</th>\n",
       "      <td>C</td>\n",
       "      <td>8</td>\n",
       "    </tr>\n",
       "    <tr>\n",
       "      <th>28</th>\n",
       "      <td>C</td>\n",
       "      <td>39</td>\n",
       "    </tr>\n",
       "    <tr>\n",
       "      <th>29</th>\n",
       "      <td>C</td>\n",
       "      <td>47</td>\n",
       "    </tr>\n",
       "    <tr>\n",
       "      <th>30</th>\n",
       "      <td>G</td>\n",
       "      <td>14</td>\n",
       "    </tr>\n",
       "    <tr>\n",
       "      <th>31</th>\n",
       "      <td>G</td>\n",
       "      <td>65</td>\n",
       "    </tr>\n",
       "    <tr>\n",
       "      <th>32</th>\n",
       "      <td>G</td>\n",
       "      <td>6</td>\n",
       "    </tr>\n",
       "    <tr>\n",
       "      <th>33</th>\n",
       "      <td>G</td>\n",
       "      <td>100</td>\n",
       "    </tr>\n",
       "    <tr>\n",
       "      <th>34</th>\n",
       "      <td>G</td>\n",
       "      <td>4</td>\n",
       "    </tr>\n",
       "    <tr>\n",
       "      <th>35</th>\n",
       "      <td>G</td>\n",
       "      <td>23</td>\n",
       "    </tr>\n",
       "    <tr>\n",
       "      <th>36</th>\n",
       "      <td>G</td>\n",
       "      <td>28</td>\n",
       "    </tr>\n",
       "    <tr>\n",
       "      <th>37</th>\n",
       "      <td>G</td>\n",
       "      <td>43</td>\n",
       "    </tr>\n",
       "    <tr>\n",
       "      <th>38</th>\n",
       "      <td>G</td>\n",
       "      <td>31</td>\n",
       "    </tr>\n",
       "    <tr>\n",
       "      <th>39</th>\n",
       "      <td>G</td>\n",
       "      <td>22</td>\n",
       "    </tr>\n",
       "  </tbody>\n",
       "</table>\n",
       "</div>"
      ],
      "text/plain": [
       "   base  length\n",
       "0     A      81\n",
       "1     A      54\n",
       "2     A      19\n",
       "3     A      34\n",
       "4     A      10\n",
       "5     A      87\n",
       "6     A      15\n",
       "7     A      21\n",
       "8     A      88\n",
       "9     A      16\n",
       "10    T      11\n",
       "11    T      27\n",
       "12    T      84\n",
       "13    T     100\n",
       "14    T      57\n",
       "15    T      51\n",
       "16    T      60\n",
       "17    T     100\n",
       "18    T      60\n",
       "19    T       3\n",
       "20    C      24\n",
       "21    C      24\n",
       "22    C      67\n",
       "23    C      39\n",
       "24    C       1\n",
       "25    C      24\n",
       "26    C      67\n",
       "27    C       8\n",
       "28    C      39\n",
       "29    C      47\n",
       "30    G      14\n",
       "31    G      65\n",
       "32    G       6\n",
       "33    G     100\n",
       "34    G       4\n",
       "35    G      23\n",
       "36    G      28\n",
       "37    G      43\n",
       "38    G      31\n",
       "39    G      22"
      ]
     },
     "execution_count": 26,
     "metadata": {},
     "output_type": "execute_result"
    }
   ],
   "source": [
    "sequences"
   ]
  },
  {
   "cell_type": "markdown",
   "id": "f9894b31-7767-43cd-b559-a0804dbfab52",
   "metadata": {},
   "source": [
    "In our data there is a number of DNA fragments that have identical length (just look at the dataframe above). We can condense these by grouping dataframe entries first by nucleotide (`['base']`) and then by length (`['length']`). For each group we will then compute `count` and put it into a new column named, unsurprisngly, `count`:"
   ]
  },
  {
   "cell_type": "code",
   "execution_count": 27,
   "id": "566c25a3-d958-40e0-918f-d57d7c10eeb4",
   "metadata": {},
   "outputs": [],
   "source": [
    "sequences_grouped_by_length = sequences.groupby(\n",
    "    ['base','length']\n",
    ").agg(\n",
    "    count=pd.NamedAgg(\n",
    "        column='length',\n",
    "        aggfunc='count'\n",
    "    )\n",
    ").reset_index()"
   ]
  },
  {
   "cell_type": "code",
   "execution_count": 28,
   "id": "f069435d-2a56-4676-bb1e-f76c9f0c9806",
   "metadata": {},
   "outputs": [
    {
     "data": {
      "text/html": [
       "<div>\n",
       "<style scoped>\n",
       "    .dataframe tbody tr th:only-of-type {\n",
       "        vertical-align: middle;\n",
       "    }\n",
       "\n",
       "    .dataframe tbody tr th {\n",
       "        vertical-align: top;\n",
       "    }\n",
       "\n",
       "    .dataframe thead th {\n",
       "        text-align: right;\n",
       "    }\n",
       "</style>\n",
       "<table border=\"1\" class=\"dataframe\">\n",
       "  <thead>\n",
       "    <tr style=\"text-align: right;\">\n",
       "      <th></th>\n",
       "      <th>base</th>\n",
       "      <th>length</th>\n",
       "      <th>count</th>\n",
       "    </tr>\n",
       "  </thead>\n",
       "  <tbody>\n",
       "    <tr>\n",
       "      <th>0</th>\n",
       "      <td>A</td>\n",
       "      <td>10</td>\n",
       "      <td>1</td>\n",
       "    </tr>\n",
       "    <tr>\n",
       "      <th>1</th>\n",
       "      <td>A</td>\n",
       "      <td>15</td>\n",
       "      <td>1</td>\n",
       "    </tr>\n",
       "    <tr>\n",
       "      <th>2</th>\n",
       "      <td>A</td>\n",
       "      <td>16</td>\n",
       "      <td>1</td>\n",
       "    </tr>\n",
       "    <tr>\n",
       "      <th>3</th>\n",
       "      <td>A</td>\n",
       "      <td>19</td>\n",
       "      <td>1</td>\n",
       "    </tr>\n",
       "    <tr>\n",
       "      <th>4</th>\n",
       "      <td>A</td>\n",
       "      <td>21</td>\n",
       "      <td>1</td>\n",
       "    </tr>\n",
       "    <tr>\n",
       "      <th>5</th>\n",
       "      <td>A</td>\n",
       "      <td>34</td>\n",
       "      <td>1</td>\n",
       "    </tr>\n",
       "    <tr>\n",
       "      <th>6</th>\n",
       "      <td>A</td>\n",
       "      <td>54</td>\n",
       "      <td>1</td>\n",
       "    </tr>\n",
       "    <tr>\n",
       "      <th>7</th>\n",
       "      <td>A</td>\n",
       "      <td>81</td>\n",
       "      <td>1</td>\n",
       "    </tr>\n",
       "    <tr>\n",
       "      <th>8</th>\n",
       "      <td>A</td>\n",
       "      <td>87</td>\n",
       "      <td>1</td>\n",
       "    </tr>\n",
       "    <tr>\n",
       "      <th>9</th>\n",
       "      <td>A</td>\n",
       "      <td>88</td>\n",
       "      <td>1</td>\n",
       "    </tr>\n",
       "    <tr>\n",
       "      <th>10</th>\n",
       "      <td>C</td>\n",
       "      <td>1</td>\n",
       "      <td>1</td>\n",
       "    </tr>\n",
       "    <tr>\n",
       "      <th>11</th>\n",
       "      <td>C</td>\n",
       "      <td>8</td>\n",
       "      <td>1</td>\n",
       "    </tr>\n",
       "    <tr>\n",
       "      <th>12</th>\n",
       "      <td>C</td>\n",
       "      <td>24</td>\n",
       "      <td>3</td>\n",
       "    </tr>\n",
       "    <tr>\n",
       "      <th>13</th>\n",
       "      <td>C</td>\n",
       "      <td>39</td>\n",
       "      <td>2</td>\n",
       "    </tr>\n",
       "    <tr>\n",
       "      <th>14</th>\n",
       "      <td>C</td>\n",
       "      <td>47</td>\n",
       "      <td>1</td>\n",
       "    </tr>\n",
       "    <tr>\n",
       "      <th>15</th>\n",
       "      <td>C</td>\n",
       "      <td>67</td>\n",
       "      <td>2</td>\n",
       "    </tr>\n",
       "    <tr>\n",
       "      <th>16</th>\n",
       "      <td>G</td>\n",
       "      <td>4</td>\n",
       "      <td>1</td>\n",
       "    </tr>\n",
       "    <tr>\n",
       "      <th>17</th>\n",
       "      <td>G</td>\n",
       "      <td>6</td>\n",
       "      <td>1</td>\n",
       "    </tr>\n",
       "    <tr>\n",
       "      <th>18</th>\n",
       "      <td>G</td>\n",
       "      <td>14</td>\n",
       "      <td>1</td>\n",
       "    </tr>\n",
       "    <tr>\n",
       "      <th>19</th>\n",
       "      <td>G</td>\n",
       "      <td>22</td>\n",
       "      <td>1</td>\n",
       "    </tr>\n",
       "    <tr>\n",
       "      <th>20</th>\n",
       "      <td>G</td>\n",
       "      <td>23</td>\n",
       "      <td>1</td>\n",
       "    </tr>\n",
       "    <tr>\n",
       "      <th>21</th>\n",
       "      <td>G</td>\n",
       "      <td>28</td>\n",
       "      <td>1</td>\n",
       "    </tr>\n",
       "    <tr>\n",
       "      <th>22</th>\n",
       "      <td>G</td>\n",
       "      <td>31</td>\n",
       "      <td>1</td>\n",
       "    </tr>\n",
       "    <tr>\n",
       "      <th>23</th>\n",
       "      <td>G</td>\n",
       "      <td>43</td>\n",
       "      <td>1</td>\n",
       "    </tr>\n",
       "    <tr>\n",
       "      <th>24</th>\n",
       "      <td>G</td>\n",
       "      <td>65</td>\n",
       "      <td>1</td>\n",
       "    </tr>\n",
       "    <tr>\n",
       "      <th>25</th>\n",
       "      <td>G</td>\n",
       "      <td>100</td>\n",
       "      <td>1</td>\n",
       "    </tr>\n",
       "    <tr>\n",
       "      <th>26</th>\n",
       "      <td>T</td>\n",
       "      <td>3</td>\n",
       "      <td>1</td>\n",
       "    </tr>\n",
       "    <tr>\n",
       "      <th>27</th>\n",
       "      <td>T</td>\n",
       "      <td>11</td>\n",
       "      <td>1</td>\n",
       "    </tr>\n",
       "    <tr>\n",
       "      <th>28</th>\n",
       "      <td>T</td>\n",
       "      <td>27</td>\n",
       "      <td>1</td>\n",
       "    </tr>\n",
       "    <tr>\n",
       "      <th>29</th>\n",
       "      <td>T</td>\n",
       "      <td>51</td>\n",
       "      <td>1</td>\n",
       "    </tr>\n",
       "    <tr>\n",
       "      <th>30</th>\n",
       "      <td>T</td>\n",
       "      <td>57</td>\n",
       "      <td>1</td>\n",
       "    </tr>\n",
       "    <tr>\n",
       "      <th>31</th>\n",
       "      <td>T</td>\n",
       "      <td>60</td>\n",
       "      <td>2</td>\n",
       "    </tr>\n",
       "    <tr>\n",
       "      <th>32</th>\n",
       "      <td>T</td>\n",
       "      <td>84</td>\n",
       "      <td>1</td>\n",
       "    </tr>\n",
       "    <tr>\n",
       "      <th>33</th>\n",
       "      <td>T</td>\n",
       "      <td>100</td>\n",
       "      <td>2</td>\n",
       "    </tr>\n",
       "  </tbody>\n",
       "</table>\n",
       "</div>"
      ],
      "text/plain": [
       "   base  length  count\n",
       "0     A      10      1\n",
       "1     A      15      1\n",
       "2     A      16      1\n",
       "3     A      19      1\n",
       "4     A      21      1\n",
       "5     A      34      1\n",
       "6     A      54      1\n",
       "7     A      81      1\n",
       "8     A      87      1\n",
       "9     A      88      1\n",
       "10    C       1      1\n",
       "11    C       8      1\n",
       "12    C      24      3\n",
       "13    C      39      2\n",
       "14    C      47      1\n",
       "15    C      67      2\n",
       "16    G       4      1\n",
       "17    G       6      1\n",
       "18    G      14      1\n",
       "19    G      22      1\n",
       "20    G      23      1\n",
       "21    G      28      1\n",
       "22    G      31      1\n",
       "23    G      43      1\n",
       "24    G      65      1\n",
       "25    G     100      1\n",
       "26    T       3      1\n",
       "27    T      11      1\n",
       "28    T      27      1\n",
       "29    T      51      1\n",
       "30    T      57      1\n",
       "31    T      60      2\n",
       "32    T      84      1\n",
       "33    T     100      2"
      ]
     },
     "execution_count": 28,
     "metadata": {},
     "output_type": "execute_result"
    }
   ],
   "source": [
    "sequences_grouped_by_length"
   ]
  },
  {
   "cell_type": "markdown",
   "id": "f45bd22b-e193-4333-b218-c9c35ba72592",
   "metadata": {},
   "source": [
    "The following chart is created using the `alt.Chart()` function and passing the data as an argument. The `mark_tick()` function is used to create a tick chart with a thickness of 4 pixels.\n",
    "\n",
    "The chart is encoded with two main axis:\n",
    "\n",
    "- y-axis which represents the length of the data and it is encoded by the `'length'` field of the data.\n",
    "- x-axis which represents the base of the data and it is encoded by the `'base'` field of the data.\n",
    "The chart also encodes a color, it encodes the `'count'` field of the data and it sets the legend to `None` and it uses the `'greys'` scale from the Altair library.\n",
    "\n",
    "Finally, the chart properties are set to a width of 100 pixels and a height of 800 pixels."
   ]
  },
  {
   "cell_type": "code",
   "execution_count": 29,
   "id": "fab38864-e795-4096-ba83-9b90be7c7a13",
   "metadata": {},
   "outputs": [
    {
     "data": {
      "text/html": [
       "\n",
       "<div id=\"altair-viz-a6be9860724a4b65bb68fb50fbafd882\"></div>\n",
       "<script type=\"text/javascript\">\n",
       "  var VEGA_DEBUG = (typeof VEGA_DEBUG == \"undefined\") ? {} : VEGA_DEBUG;\n",
       "  (function(spec, embedOpt){\n",
       "    let outputDiv = document.currentScript.previousElementSibling;\n",
       "    if (outputDiv.id !== \"altair-viz-a6be9860724a4b65bb68fb50fbafd882\") {\n",
       "      outputDiv = document.getElementById(\"altair-viz-a6be9860724a4b65bb68fb50fbafd882\");\n",
       "    }\n",
       "    const paths = {\n",
       "      \"vega\": \"https://cdn.jsdelivr.net/npm//vega@5?noext\",\n",
       "      \"vega-lib\": \"https://cdn.jsdelivr.net/npm//vega-lib?noext\",\n",
       "      \"vega-lite\": \"https://cdn.jsdelivr.net/npm//vega-lite@4.17.0?noext\",\n",
       "      \"vega-embed\": \"https://cdn.jsdelivr.net/npm//vega-embed@6?noext\",\n",
       "    };\n",
       "\n",
       "    function maybeLoadScript(lib, version) {\n",
       "      var key = `${lib.replace(\"-\", \"\")}_version`;\n",
       "      return (VEGA_DEBUG[key] == version) ?\n",
       "        Promise.resolve(paths[lib]) :\n",
       "        new Promise(function(resolve, reject) {\n",
       "          var s = document.createElement('script');\n",
       "          document.getElementsByTagName(\"head\")[0].appendChild(s);\n",
       "          s.async = true;\n",
       "          s.onload = () => {\n",
       "            VEGA_DEBUG[key] = version;\n",
       "            return resolve(paths[lib]);\n",
       "          };\n",
       "          s.onerror = () => reject(`Error loading script: ${paths[lib]}`);\n",
       "          s.src = paths[lib];\n",
       "        });\n",
       "    }\n",
       "\n",
       "    function showError(err) {\n",
       "      outputDiv.innerHTML = `<div class=\"error\" style=\"color:red;\">${err}</div>`;\n",
       "      throw err;\n",
       "    }\n",
       "\n",
       "    function displayChart(vegaEmbed) {\n",
       "      vegaEmbed(outputDiv, spec, embedOpt)\n",
       "        .catch(err => showError(`Javascript Error: ${err.message}<br>This usually means there's a typo in your chart specification. See the javascript console for the full traceback.`));\n",
       "    }\n",
       "\n",
       "    if(typeof define === \"function\" && define.amd) {\n",
       "      requirejs.config({paths});\n",
       "      require([\"vega-embed\"], displayChart, err => showError(`Error loading script: ${err.message}`));\n",
       "    } else {\n",
       "      maybeLoadScript(\"vega\", \"5\")\n",
       "        .then(() => maybeLoadScript(\"vega-lite\", \"4.17.0\"))\n",
       "        .then(() => maybeLoadScript(\"vega-embed\", \"6\"))\n",
       "        .catch(showError)\n",
       "        .then(() => displayChart(vegaEmbed));\n",
       "    }\n",
       "  })({\"config\": {\"view\": {\"continuousWidth\": 400, \"continuousHeight\": 300}}, \"data\": {\"name\": \"data-5650348fcc3dbf4a470160cf3ea573d2\"}, \"mark\": {\"type\": \"tick\", \"thickness\": 4}, \"encoding\": {\"color\": {\"field\": \"count\", \"legend\": null, \"scale\": {\"scheme\": \"greys\"}, \"type\": \"quantitative\"}, \"x\": {\"field\": \"base\", \"type\": \"nominal\"}, \"y\": {\"field\": \"length\", \"type\": \"quantitative\"}}, \"height\": 800, \"width\": 100, \"$schema\": \"https://vega.github.io/schema/vega-lite/v4.17.0.json\", \"datasets\": {\"data-5650348fcc3dbf4a470160cf3ea573d2\": [{\"base\": \"A\", \"length\": 10, \"count\": 1}, {\"base\": \"A\", \"length\": 15, \"count\": 1}, {\"base\": \"A\", \"length\": 16, \"count\": 1}, {\"base\": \"A\", \"length\": 19, \"count\": 1}, {\"base\": \"A\", \"length\": 21, \"count\": 1}, {\"base\": \"A\", \"length\": 34, \"count\": 1}, {\"base\": \"A\", \"length\": 54, \"count\": 1}, {\"base\": \"A\", \"length\": 81, \"count\": 1}, {\"base\": \"A\", \"length\": 87, \"count\": 1}, {\"base\": \"A\", \"length\": 88, \"count\": 1}, {\"base\": \"C\", \"length\": 1, \"count\": 1}, {\"base\": \"C\", \"length\": 8, \"count\": 1}, {\"base\": \"C\", \"length\": 24, \"count\": 3}, {\"base\": \"C\", \"length\": 39, \"count\": 2}, {\"base\": \"C\", \"length\": 47, \"count\": 1}, {\"base\": \"C\", \"length\": 67, \"count\": 2}, {\"base\": \"G\", \"length\": 4, \"count\": 1}, {\"base\": \"G\", \"length\": 6, \"count\": 1}, {\"base\": \"G\", \"length\": 14, \"count\": 1}, {\"base\": \"G\", \"length\": 22, \"count\": 1}, {\"base\": \"G\", \"length\": 23, \"count\": 1}, {\"base\": \"G\", \"length\": 28, \"count\": 1}, {\"base\": \"G\", \"length\": 31, \"count\": 1}, {\"base\": \"G\", \"length\": 43, \"count\": 1}, {\"base\": \"G\", \"length\": 65, \"count\": 1}, {\"base\": \"G\", \"length\": 100, \"count\": 1}, {\"base\": \"T\", \"length\": 3, \"count\": 1}, {\"base\": \"T\", \"length\": 11, \"count\": 1}, {\"base\": \"T\", \"length\": 27, \"count\": 1}, {\"base\": \"T\", \"length\": 51, \"count\": 1}, {\"base\": \"T\", \"length\": 57, \"count\": 1}, {\"base\": \"T\", \"length\": 60, \"count\": 2}, {\"base\": \"T\", \"length\": 84, \"count\": 1}, {\"base\": \"T\", \"length\": 100, \"count\": 2}]}}, {\"mode\": \"vega-lite\"});\n",
       "</script>"
      ],
      "text/plain": [
       "alt.Chart(...)"
      ]
     },
     "execution_count": 29,
     "metadata": {},
     "output_type": "execute_result"
    }
   ],
   "source": [
    "import altair as alt\n",
    "alt.Chart(sequences_grouped_by_length).mark_tick(thickness=4).encode(\n",
    "    y = alt.Y('length:Q'),\n",
    "    x = alt.X('base'),\n",
    "    color=alt.Color('count:Q',legend=None,\n",
    "                    scale=alt.Scale(scheme=\"greys\"))\n",
    ").properties(\n",
    "    width=100,\n",
    "    height=800)"
   ]
  },
  {
   "cell_type": "markdown",
   "id": "58df1d83-4d0b-4fbd-bf36-e8face5b232b",
   "metadata": {},
   "source": [
    "And here is a color version of the same graph using just one line of the gel:"
   ]
  },
  {
   "cell_type": "code",
   "execution_count": 30,
   "id": "53be21c7-65b1-404d-b160-3425a090dba5",
   "metadata": {},
   "outputs": [
    {
     "data": {
      "text/html": [
       "\n",
       "<div id=\"altair-viz-43b6c8909c714bf4b249fa5068597497\"></div>\n",
       "<script type=\"text/javascript\">\n",
       "  var VEGA_DEBUG = (typeof VEGA_DEBUG == \"undefined\") ? {} : VEGA_DEBUG;\n",
       "  (function(spec, embedOpt){\n",
       "    let outputDiv = document.currentScript.previousElementSibling;\n",
       "    if (outputDiv.id !== \"altair-viz-43b6c8909c714bf4b249fa5068597497\") {\n",
       "      outputDiv = document.getElementById(\"altair-viz-43b6c8909c714bf4b249fa5068597497\");\n",
       "    }\n",
       "    const paths = {\n",
       "      \"vega\": \"https://cdn.jsdelivr.net/npm//vega@5?noext\",\n",
       "      \"vega-lib\": \"https://cdn.jsdelivr.net/npm//vega-lib?noext\",\n",
       "      \"vega-lite\": \"https://cdn.jsdelivr.net/npm//vega-lite@4.17.0?noext\",\n",
       "      \"vega-embed\": \"https://cdn.jsdelivr.net/npm//vega-embed@6?noext\",\n",
       "    };\n",
       "\n",
       "    function maybeLoadScript(lib, version) {\n",
       "      var key = `${lib.replace(\"-\", \"\")}_version`;\n",
       "      return (VEGA_DEBUG[key] == version) ?\n",
       "        Promise.resolve(paths[lib]) :\n",
       "        new Promise(function(resolve, reject) {\n",
       "          var s = document.createElement('script');\n",
       "          document.getElementsByTagName(\"head\")[0].appendChild(s);\n",
       "          s.async = true;\n",
       "          s.onload = () => {\n",
       "            VEGA_DEBUG[key] = version;\n",
       "            return resolve(paths[lib]);\n",
       "          };\n",
       "          s.onerror = () => reject(`Error loading script: ${paths[lib]}`);\n",
       "          s.src = paths[lib];\n",
       "        });\n",
       "    }\n",
       "\n",
       "    function showError(err) {\n",
       "      outputDiv.innerHTML = `<div class=\"error\" style=\"color:red;\">${err}</div>`;\n",
       "      throw err;\n",
       "    }\n",
       "\n",
       "    function displayChart(vegaEmbed) {\n",
       "      vegaEmbed(outputDiv, spec, embedOpt)\n",
       "        .catch(err => showError(`Javascript Error: ${err.message}<br>This usually means there's a typo in your chart specification. See the javascript console for the full traceback.`));\n",
       "    }\n",
       "\n",
       "    if(typeof define === \"function\" && define.amd) {\n",
       "      requirejs.config({paths});\n",
       "      require([\"vega-embed\"], displayChart, err => showError(`Error loading script: ${err.message}`));\n",
       "    } else {\n",
       "      maybeLoadScript(\"vega\", \"5\")\n",
       "        .then(() => maybeLoadScript(\"vega-lite\", \"4.17.0\"))\n",
       "        .then(() => maybeLoadScript(\"vega-embed\", \"6\"))\n",
       "        .catch(showError)\n",
       "        .then(() => displayChart(vegaEmbed));\n",
       "    }\n",
       "  })({\"config\": {\"view\": {\"continuousWidth\": 400, \"continuousHeight\": 300}}, \"data\": {\"name\": \"data-5650348fcc3dbf4a470160cf3ea573d2\"}, \"mark\": {\"type\": \"tick\", \"thickness\": 4}, \"encoding\": {\"color\": {\"field\": \"base\", \"scale\": {\"scheme\": \"set1\"}, \"type\": \"nominal\"}, \"y\": {\"field\": \"length\", \"type\": \"quantitative\"}}, \"height\": 800, \"width\": 20, \"$schema\": \"https://vega.github.io/schema/vega-lite/v4.17.0.json\", \"datasets\": {\"data-5650348fcc3dbf4a470160cf3ea573d2\": [{\"base\": \"A\", \"length\": 10, \"count\": 1}, {\"base\": \"A\", \"length\": 15, \"count\": 1}, {\"base\": \"A\", \"length\": 16, \"count\": 1}, {\"base\": \"A\", \"length\": 19, \"count\": 1}, {\"base\": \"A\", \"length\": 21, \"count\": 1}, {\"base\": \"A\", \"length\": 34, \"count\": 1}, {\"base\": \"A\", \"length\": 54, \"count\": 1}, {\"base\": \"A\", \"length\": 81, \"count\": 1}, {\"base\": \"A\", \"length\": 87, \"count\": 1}, {\"base\": \"A\", \"length\": 88, \"count\": 1}, {\"base\": \"C\", \"length\": 1, \"count\": 1}, {\"base\": \"C\", \"length\": 8, \"count\": 1}, {\"base\": \"C\", \"length\": 24, \"count\": 3}, {\"base\": \"C\", \"length\": 39, \"count\": 2}, {\"base\": \"C\", \"length\": 47, \"count\": 1}, {\"base\": \"C\", \"length\": 67, \"count\": 2}, {\"base\": \"G\", \"length\": 4, \"count\": 1}, {\"base\": \"G\", \"length\": 6, \"count\": 1}, {\"base\": \"G\", \"length\": 14, \"count\": 1}, {\"base\": \"G\", \"length\": 22, \"count\": 1}, {\"base\": \"G\", \"length\": 23, \"count\": 1}, {\"base\": \"G\", \"length\": 28, \"count\": 1}, {\"base\": \"G\", \"length\": 31, \"count\": 1}, {\"base\": \"G\", \"length\": 43, \"count\": 1}, {\"base\": \"G\", \"length\": 65, \"count\": 1}, {\"base\": \"G\", \"length\": 100, \"count\": 1}, {\"base\": \"T\", \"length\": 3, \"count\": 1}, {\"base\": \"T\", \"length\": 11, \"count\": 1}, {\"base\": \"T\", \"length\": 27, \"count\": 1}, {\"base\": \"T\", \"length\": 51, \"count\": 1}, {\"base\": \"T\", \"length\": 57, \"count\": 1}, {\"base\": \"T\", \"length\": 60, \"count\": 2}, {\"base\": \"T\", \"length\": 84, \"count\": 1}, {\"base\": \"T\", \"length\": 100, \"count\": 2}]}}, {\"mode\": \"vega-lite\"});\n",
       "</script>"
      ],
      "text/plain": [
       "alt.Chart(...)"
      ]
     },
     "execution_count": 30,
     "metadata": {},
     "output_type": "execute_result"
    }
   ],
   "source": [
    "import altair as alt\n",
    "alt.Chart(sequences_grouped_by_length).mark_tick(thickness=4).encode(\n",
    "    y = alt.Y('length:Q'),\n",
    "    color=alt.Color('base:N',#legend=None,\n",
    "                    scale=alt.Scale(scheme=\"set1\"))\n",
    ").properties(\n",
    "    width=20,\n",
    "    height=800)"
   ]
  },
  {
   "cell_type": "code",
   "execution_count": 31,
   "id": "36f4eaa7-6ddb-4ed5-a02c-37ec4934243e",
   "metadata": {},
   "outputs": [],
   "source": [
    "# Generate random sequences\n",
    "\n",
    "seq = ''\n",
    "for _ in range(300):\n",
    "    seq += random.choice('ATCG')"
   ]
  },
  {
   "cell_type": "markdown",
   "id": "7c4c64e7-bd81-474d-a95a-1ef39a50f4ae",
   "metadata": {},
   "source": [
    "## Putting everything together"
   ]
  },
  {
   "cell_type": "code",
   "execution_count": 32,
   "id": "322abe78-2aab-4d1d-81f1-0e093ddaf84f",
   "metadata": {},
   "outputs": [
    {
     "data": {
      "text/plain": [
       "'GTCGATGCCTGTTTGACCTAACTGGCGTGAAGGCTATATCAGTTATCCCAAGCGTAGGCTTTCAATTCGCCCGGTTGCGTCGCCCGATTATCAATCGCGGAAGGTGGGTGCGATTGGAAGTCCAAAACCTTTATCCTGACACACTTTCTGACTCGGCTTGGCAATGGGAAGTGTAGAACGTAGCGGGGACCTACATCATATCGTACATAACTGAGACGTGCTCACCCGCAGAGATAAGAACTGCAATACCCGGGTGAATACTTGGGGAGTCTCACCCAGATGGTTGGCCTGATCCTCCCC'"
      ]
     },
     "execution_count": 32,
     "metadata": {},
     "output_type": "execute_result"
    }
   ],
   "source": [
    "seq"
   ]
  },
  {
   "cell_type": "code",
   "execution_count": 33,
   "id": "d3800338-903a-483a-91c3-40ded5a49b7d",
   "metadata": {},
   "outputs": [],
   "source": [
    "# Function silulating a single run of a single polymerase molecule\n",
    "\n",
    "def ddN(number_of_iterations, template, base, ddN_ratio):\n",
    "    new_strands = []\n",
    "    for _ in range(number_of_iterations):\n",
    "        synthesized_strand = ''\n",
    "        for nucleotide in template:\n",
    "            if nucleotide == base and random.random() > ddN_ratio:\n",
    "                synthesized_strand += nucleotide.lower()\n",
    "                break\n",
    "            synthesized_strand += nucleotide\n",
    "        new_strands.append(synthesized_strand)\n",
    "    return(new_strands)"
   ]
  },
  {
   "cell_type": "code",
   "execution_count": 34,
   "id": "4d87b556-c896-4419-a171-516426e47120",
   "metadata": {},
   "outputs": [],
   "source": [
    "# Generating simulated sequencing run\n",
    "\n",
    "seq_run = {}\n",
    "for nt in 'ATCG':\n",
    "    seq_run[nt] = ddN(100000,seq,nt,0.95)"
   ]
  },
  {
   "cell_type": "code",
   "execution_count": 35,
   "id": "44d006ef-496d-46d8-9719-cfb336627673",
   "metadata": {},
   "outputs": [],
   "source": [
    "# Computing lengths\n",
    "\n",
    "seq_lengths = {'base':[],'length':[]}\n",
    "for key in seq_run.keys():\n",
    "    for sequence in seq_run[key]:\n",
    "        seq_lengths['base'].append(key)\n",
    "        seq_lengths['length'].append(len(sequence))"
   ]
  },
  {
   "cell_type": "code",
   "execution_count": 36,
   "id": "e1132ce6-1cf2-4187-a10d-c77ecdcea930",
   "metadata": {},
   "outputs": [],
   "source": [
    "# Converting dictionaty into Pandas dataframe\n",
    "\n",
    "sequences = pd.DataFrame(seq_lengths)"
   ]
  },
  {
   "cell_type": "code",
   "execution_count": 37,
   "id": "22c39d04-acfa-4d2b-8537-907a30cd9909",
   "metadata": {},
   "outputs": [],
   "source": [
    "# Grouping by nucleotide and length\n",
    "\n",
    "sequences_grouped_by_length = sequences.groupby(\n",
    "    ['base','length']\n",
    ").agg(\n",
    "    count=pd.NamedAgg(\n",
    "        column='length',\n",
    "        aggfunc='count'\n",
    "    )\n",
    ").reset_index()"
   ]
  },
  {
   "cell_type": "code",
   "execution_count": 38,
   "id": "80fb6d97-abfa-4032-9661-8f7fd254a4bb",
   "metadata": {},
   "outputs": [
    {
     "data": {
      "text/html": [
       "\n",
       "<div id=\"altair-viz-5edbbef7362b4404af386a476ee45657\"></div>\n",
       "<script type=\"text/javascript\">\n",
       "  var VEGA_DEBUG = (typeof VEGA_DEBUG == \"undefined\") ? {} : VEGA_DEBUG;\n",
       "  (function(spec, embedOpt){\n",
       "    let outputDiv = document.currentScript.previousElementSibling;\n",
       "    if (outputDiv.id !== \"altair-viz-5edbbef7362b4404af386a476ee45657\") {\n",
       "      outputDiv = document.getElementById(\"altair-viz-5edbbef7362b4404af386a476ee45657\");\n",
       "    }\n",
       "    const paths = {\n",
       "      \"vega\": \"https://cdn.jsdelivr.net/npm//vega@5?noext\",\n",
       "      \"vega-lib\": \"https://cdn.jsdelivr.net/npm//vega-lib?noext\",\n",
       "      \"vega-lite\": \"https://cdn.jsdelivr.net/npm//vega-lite@4.17.0?noext\",\n",
       "      \"vega-embed\": \"https://cdn.jsdelivr.net/npm//vega-embed@6?noext\",\n",
       "    };\n",
       "\n",
       "    function maybeLoadScript(lib, version) {\n",
       "      var key = `${lib.replace(\"-\", \"\")}_version`;\n",
       "      return (VEGA_DEBUG[key] == version) ?\n",
       "        Promise.resolve(paths[lib]) :\n",
       "        new Promise(function(resolve, reject) {\n",
       "          var s = document.createElement('script');\n",
       "          document.getElementsByTagName(\"head\")[0].appendChild(s);\n",
       "          s.async = true;\n",
       "          s.onload = () => {\n",
       "            VEGA_DEBUG[key] = version;\n",
       "            return resolve(paths[lib]);\n",
       "          };\n",
       "          s.onerror = () => reject(`Error loading script: ${paths[lib]}`);\n",
       "          s.src = paths[lib];\n",
       "        });\n",
       "    }\n",
       "\n",
       "    function showError(err) {\n",
       "      outputDiv.innerHTML = `<div class=\"error\" style=\"color:red;\">${err}</div>`;\n",
       "      throw err;\n",
       "    }\n",
       "\n",
       "    function displayChart(vegaEmbed) {\n",
       "      vegaEmbed(outputDiv, spec, embedOpt)\n",
       "        .catch(err => showError(`Javascript Error: ${err.message}<br>This usually means there's a typo in your chart specification. See the javascript console for the full traceback.`));\n",
       "    }\n",
       "\n",
       "    if(typeof define === \"function\" && define.amd) {\n",
       "      requirejs.config({paths});\n",
       "      require([\"vega-embed\"], displayChart, err => showError(`Error loading script: ${err.message}`));\n",
       "    } else {\n",
       "      maybeLoadScript(\"vega\", \"5\")\n",
       "        .then(() => maybeLoadScript(\"vega-lite\", \"4.17.0\"))\n",
       "        .then(() => maybeLoadScript(\"vega-embed\", \"6\"))\n",
       "        .catch(showError)\n",
       "        .then(() => displayChart(vegaEmbed));\n",
       "    }\n",
       "  })({\"config\": {\"view\": {\"continuousWidth\": 400, \"continuousHeight\": 300}}, \"data\": {\"name\": \"data-a64e05465e355c9b5ce6518085e8479a\"}, \"mark\": {\"type\": \"tick\", \"thickness\": 4}, \"encoding\": {\"color\": {\"field\": \"count\", \"legend\": null, \"scale\": {\"scheme\": \"greys\", \"type\": \"log\"}, \"type\": \"quantitative\"}, \"tooltip\": {\"field\": \"count\", \"type\": \"quantitative\"}, \"x\": {\"field\": \"base\", \"type\": \"nominal\"}, \"y\": {\"field\": \"length\", \"scale\": {\"type\": \"sqrt\"}, \"type\": \"quantitative\"}}, \"height\": 800, \"width\": 100, \"$schema\": \"https://vega.github.io/schema/vega-lite/v4.17.0.json\", \"datasets\": {\"data-a64e05465e355c9b5ce6518085e8479a\": [{\"base\": \"A\", \"length\": 5, \"count\": 4987}, {\"base\": \"A\", \"length\": 16, \"count\": 4843}, {\"base\": \"A\", \"length\": 20, \"count\": 4538}, {\"base\": \"A\", \"length\": 21, \"count\": 4305}, {\"base\": \"A\", \"length\": 30, \"count\": 4227}, {\"base\": \"A\", \"length\": 31, \"count\": 3904}, {\"base\": \"A\", \"length\": 36, \"count\": 3626}, {\"base\": \"A\", \"length\": 38, \"count\": 3406}, {\"base\": \"A\", \"length\": 41, \"count\": 3381}, {\"base\": \"A\", \"length\": 45, \"count\": 3181}, {\"base\": \"A\", \"length\": 50, \"count\": 2949}, {\"base\": \"A\", \"length\": 51, \"count\": 2807}, {\"base\": \"A\", \"length\": 56, \"count\": 2639}, {\"base\": \"A\", \"length\": 64, \"count\": 2618}, {\"base\": \"A\", \"length\": 65, \"count\": 2444}, {\"base\": \"A\", \"length\": 87, \"count\": 2313}, {\"base\": \"A\", \"length\": 90, \"count\": 2083}, {\"base\": \"A\", \"length\": 93, \"count\": 2081}, {\"base\": \"A\", \"length\": 94, \"count\": 1935}, {\"base\": \"A\", \"length\": 101, \"count\": 1839}, {\"base\": \"A\", \"length\": 102, \"count\": 1832}, {\"base\": \"A\", \"length\": 113, \"count\": 1737}, {\"base\": \"A\", \"length\": 118, \"count\": 1607}, {\"base\": \"A\", \"length\": 119, \"count\": 1627}, {\"base\": \"A\", \"length\": 124, \"count\": 1458}, {\"base\": \"A\", \"length\": 125, \"count\": 1383}, {\"base\": \"A\", \"length\": 126, \"count\": 1325}, {\"base\": \"A\", \"length\": 127, \"count\": 1229}, {\"base\": \"A\", \"length\": 133, \"count\": 1198}, {\"base\": \"A\", \"length\": 139, \"count\": 1137}, {\"base\": \"A\", \"length\": 141, \"count\": 1081}, {\"base\": \"A\", \"length\": 143, \"count\": 1010}, {\"base\": \"A\", \"length\": 151, \"count\": 984}, {\"base\": \"A\", \"length\": 163, \"count\": 910}, {\"base\": \"A\", \"length\": 164, \"count\": 887}, {\"base\": \"A\", \"length\": 169, \"count\": 872}, {\"base\": \"A\", \"length\": 170, \"count\": 828}, {\"base\": \"A\", \"length\": 175, \"count\": 772}, {\"base\": \"A\", \"length\": 177, \"count\": 714}, {\"base\": \"A\", \"length\": 178, \"count\": 643}, {\"base\": \"A\", \"length\": 182, \"count\": 617}, {\"base\": \"A\", \"length\": 189, \"count\": 613}, {\"base\": \"A\", \"length\": 193, \"count\": 582}, {\"base\": \"A\", \"length\": 195, \"count\": 546}, {\"base\": \"A\", \"length\": 198, \"count\": 490}, {\"base\": \"A\", \"length\": 200, \"count\": 462}, {\"base\": \"A\", \"length\": 205, \"count\": 490}, {\"base\": \"A\", \"length\": 207, \"count\": 446}, {\"base\": \"A\", \"length\": 209, \"count\": 408}, {\"base\": \"A\", \"length\": 210, \"count\": 418}, {\"base\": \"A\", \"length\": 214, \"count\": 396}, {\"base\": \"A\", \"length\": 216, \"count\": 386}, {\"base\": \"A\", \"length\": 224, \"count\": 327}, {\"base\": \"A\", \"length\": 230, \"count\": 353}, {\"base\": \"A\", \"length\": 232, \"count\": 331}, {\"base\": \"A\", \"length\": 234, \"count\": 266}, {\"base\": \"A\", \"length\": 236, \"count\": 256}, {\"base\": \"A\", \"length\": 237, \"count\": 272}, {\"base\": \"A\", \"length\": 239, \"count\": 268}, {\"base\": \"A\", \"length\": 240, \"count\": 234}, {\"base\": \"A\", \"length\": 245, \"count\": 241}, {\"base\": \"A\", \"length\": 246, \"count\": 207}, {\"base\": \"A\", \"length\": 248, \"count\": 208}, {\"base\": \"A\", \"length\": 257, \"count\": 200}, {\"base\": \"A\", \"length\": 258, \"count\": 193}, {\"base\": \"A\", \"length\": 260, \"count\": 200}, {\"base\": \"A\", \"length\": 268, \"count\": 158}, {\"base\": \"A\", \"length\": 274, \"count\": 169}, {\"base\": \"A\", \"length\": 278, \"count\": 149}, {\"base\": \"A\", \"length\": 280, \"count\": 157}, {\"base\": \"A\", \"length\": 292, \"count\": 138}, {\"base\": \"A\", \"length\": 300, \"count\": 2479}, {\"base\": \"C\", \"length\": 3, \"count\": 5043}, {\"base\": \"C\", \"length\": 8, \"count\": 4712}, {\"base\": \"C\", \"length\": 9, \"count\": 4504}, {\"base\": \"C\", \"length\": 17, \"count\": 4268}, {\"base\": \"C\", \"length\": 18, \"count\": 4174}, {\"base\": \"C\", \"length\": 22, \"count\": 3963}, {\"base\": \"C\", \"length\": 26, \"count\": 3648}, {\"base\": \"C\", \"length\": 34, \"count\": 3415}, {\"base\": \"C\", \"length\": 40, \"count\": 3415}, {\"base\": \"C\", \"length\": 47, \"count\": 3189}, {\"base\": \"C\", \"length\": 48, \"count\": 2993}, {\"base\": \"C\", \"length\": 49, \"count\": 2828}, {\"base\": \"C\", \"length\": 53, \"count\": 2685}, {\"base\": \"C\", \"length\": 59, \"count\": 2504}, {\"base\": \"C\", \"length\": 63, \"count\": 2419}, {\"base\": \"C\", \"length\": 68, \"count\": 2382}, {\"base\": \"C\", \"length\": 70, \"count\": 2097}, {\"base\": \"C\", \"length\": 71, \"count\": 2072}, {\"base\": \"C\", \"length\": 72, \"count\": 2041}, {\"base\": \"C\", \"length\": 78, \"count\": 1863}, {\"base\": \"C\", \"length\": 81, \"count\": 1781}, {\"base\": \"C\", \"length\": 83, \"count\": 1694}, {\"base\": \"C\", \"length\": 84, \"count\": 1659}, {\"base\": \"C\", \"length\": 85, \"count\": 1505}, {\"base\": \"C\", \"length\": 92, \"count\": 1483}, {\"base\": \"C\", \"length\": 96, \"count\": 1342}, {\"base\": \"C\", \"length\": 98, \"count\": 1345}, {\"base\": \"C\", \"length\": 111, \"count\": 1339}, {\"base\": \"C\", \"length\": 122, \"count\": 1219}, {\"base\": \"C\", \"length\": 123, \"count\": 1184}, {\"base\": \"C\", \"length\": 128, \"count\": 1089}, {\"base\": \"C\", \"length\": 129, \"count\": 1012}, {\"base\": \"C\", \"length\": 135, \"count\": 935}, {\"base\": \"C\", \"length\": 136, \"count\": 904}, {\"base\": \"C\", \"length\": 140, \"count\": 846}, {\"base\": \"C\", \"length\": 142, \"count\": 790}, {\"base\": \"C\", \"length\": 144, \"count\": 776}, {\"base\": \"C\", \"length\": 148, \"count\": 771}, {\"base\": \"C\", \"length\": 152, \"count\": 698}, {\"base\": \"C\", \"length\": 154, \"count\": 654}, {\"base\": \"C\", \"length\": 157, \"count\": 653}, {\"base\": \"C\", \"length\": 162, \"count\": 593}, {\"base\": \"C\", \"length\": 179, \"count\": 609}, {\"base\": \"C\", \"length\": 184, \"count\": 537}, {\"base\": \"C\", \"length\": 190, \"count\": 509}, {\"base\": \"C\", \"length\": 191, \"count\": 510}, {\"base\": \"C\", \"length\": 194, \"count\": 495}, {\"base\": \"C\", \"length\": 197, \"count\": 416}, {\"base\": \"C\", \"length\": 202, \"count\": 380}, {\"base\": \"C\", \"length\": 206, \"count\": 408}, {\"base\": \"C\", \"length\": 211, \"count\": 386}, {\"base\": \"C\", \"length\": 217, \"count\": 350}, {\"base\": \"C\", \"length\": 221, \"count\": 321}, {\"base\": \"C\", \"length\": 223, \"count\": 321}, {\"base\": \"C\", \"length\": 225, \"count\": 318}, {\"base\": \"C\", \"length\": 226, \"count\": 314}, {\"base\": \"C\", \"length\": 227, \"count\": 300}, {\"base\": \"C\", \"length\": 229, \"count\": 259}, {\"base\": \"C\", \"length\": 241, \"count\": 241}, {\"base\": \"C\", \"length\": 244, \"count\": 230}, {\"base\": \"C\", \"length\": 249, \"count\": 248}, {\"base\": \"C\", \"length\": 250, \"count\": 231}, {\"base\": \"C\", \"length\": 251, \"count\": 224}, {\"base\": \"C\", \"length\": 261, \"count\": 210}, {\"base\": \"C\", \"length\": 271, \"count\": 195}, {\"base\": \"C\", \"length\": 273, \"count\": 179}, {\"base\": \"C\", \"length\": 275, \"count\": 186}, {\"base\": \"C\", \"length\": 276, \"count\": 161}, {\"base\": \"C\", \"length\": 277, \"count\": 151}, {\"base\": \"C\", \"length\": 288, \"count\": 145}, {\"base\": \"C\", \"length\": 289, \"count\": 125}, {\"base\": \"C\", \"length\": 294, \"count\": 121}, {\"base\": \"C\", \"length\": 295, \"count\": 108}, {\"base\": \"C\", \"length\": 297, \"count\": 118}, {\"base\": \"C\", \"length\": 298, \"count\": 99}, {\"base\": \"C\", \"length\": 299, \"count\": 111}, {\"base\": \"C\", \"length\": 300, \"count\": 1997}, {\"base\": \"G\", \"length\": 1, \"count\": 5066}, {\"base\": \"G\", \"length\": 4, \"count\": 4797}, {\"base\": \"G\", \"length\": 7, \"count\": 4535}, {\"base\": \"G\", \"length\": 11, \"count\": 4367}, {\"base\": \"G\", \"length\": 15, \"count\": 4031}, {\"base\": \"G\", \"length\": 24, \"count\": 3866}, {\"base\": \"G\", \"length\": 25, \"count\": 3731}, {\"base\": \"G\", \"length\": 27, \"count\": 3440}, {\"base\": \"G\", \"length\": 29, \"count\": 3285}, {\"base\": \"G\", \"length\": 32, \"count\": 3168}, {\"base\": \"G\", \"length\": 33, \"count\": 2950}, {\"base\": \"G\", \"length\": 42, \"count\": 2903}, {\"base\": \"G\", \"length\": 52, \"count\": 2643}, {\"base\": \"G\", \"length\": 54, \"count\": 2454}, {\"base\": \"G\", \"length\": 57, \"count\": 2543}, {\"base\": \"G\", \"length\": 58, \"count\": 2297}, {\"base\": \"G\", \"length\": 69, \"count\": 2163}, {\"base\": \"G\", \"length\": 73, \"count\": 2089}, {\"base\": \"G\", \"length\": 74, \"count\": 1969}, {\"base\": \"G\", \"length\": 77, \"count\": 1883}, {\"base\": \"G\", \"length\": 79, \"count\": 1745}, {\"base\": \"G\", \"length\": 82, \"count\": 1695}, {\"base\": \"G\", \"length\": 86, \"count\": 1653}, {\"base\": \"G\", \"length\": 97, \"count\": 1547}, {\"base\": \"G\", \"length\": 99, \"count\": 1444}, {\"base\": \"G\", \"length\": 100, \"count\": 1467}, {\"base\": \"G\", \"length\": 103, \"count\": 1299}, {\"base\": \"G\", \"length\": 104, \"count\": 1294}, {\"base\": \"G\", \"length\": 106, \"count\": 1214}, {\"base\": \"G\", \"length\": 107, \"count\": 1123}, {\"base\": \"G\", \"length\": 108, \"count\": 1075}, {\"base\": \"G\", \"length\": 110, \"count\": 1006}, {\"base\": \"G\", \"length\": 112, \"count\": 978}, {\"base\": \"G\", \"length\": 116, \"count\": 916}, {\"base\": \"G\", \"length\": 117, \"count\": 830}, {\"base\": \"G\", \"length\": 120, \"count\": 846}, {\"base\": \"G\", \"length\": 138, \"count\": 824}, {\"base\": \"G\", \"length\": 150, \"count\": 740}, {\"base\": \"G\", \"length\": 155, \"count\": 701}, {\"base\": \"G\", \"length\": 156, \"count\": 630}, {\"base\": \"G\", \"length\": 160, \"count\": 654}, {\"base\": \"G\", \"length\": 161, \"count\": 610}, {\"base\": \"G\", \"length\": 166, \"count\": 561}, {\"base\": \"G\", \"length\": 167, \"count\": 532}, {\"base\": \"G\", \"length\": 168, \"count\": 505}, {\"base\": \"G\", \"length\": 171, \"count\": 526}, {\"base\": \"G\", \"length\": 173, \"count\": 456}, {\"base\": \"G\", \"length\": 176, \"count\": 439}, {\"base\": \"G\", \"length\": 180, \"count\": 462}, {\"base\": \"G\", \"length\": 183, \"count\": 385}, {\"base\": \"G\", \"length\": 185, \"count\": 373}, {\"base\": \"G\", \"length\": 186, \"count\": 361}, {\"base\": \"G\", \"length\": 187, \"count\": 306}, {\"base\": \"G\", \"length\": 188, \"count\": 342}, {\"base\": \"G\", \"length\": 203, \"count\": 346}, {\"base\": \"G\", \"length\": 213, \"count\": 287}, {\"base\": \"G\", \"length\": 215, \"count\": 302}, {\"base\": \"G\", \"length\": 218, \"count\": 265}, {\"base\": \"G\", \"length\": 220, \"count\": 250}, {\"base\": \"G\", \"length\": 228, \"count\": 241}, {\"base\": \"G\", \"length\": 231, \"count\": 237}, {\"base\": \"G\", \"length\": 233, \"count\": 214}, {\"base\": \"G\", \"length\": 238, \"count\": 203}, {\"base\": \"G\", \"length\": 243, \"count\": 211}, {\"base\": \"G\", \"length\": 252, \"count\": 209}, {\"base\": \"G\", \"length\": 253, \"count\": 164}, {\"base\": \"G\", \"length\": 254, \"count\": 173}, {\"base\": \"G\", \"length\": 256, \"count\": 178}, {\"base\": \"G\", \"length\": 264, \"count\": 166}, {\"base\": \"G\", \"length\": 265, \"count\": 156}, {\"base\": \"G\", \"length\": 266, \"count\": 139}, {\"base\": \"G\", \"length\": 267, \"count\": 119}, {\"base\": \"G\", \"length\": 269, \"count\": 133}, {\"base\": \"G\", \"length\": 279, \"count\": 101}, {\"base\": \"G\", \"length\": 282, \"count\": 117}, {\"base\": \"G\", \"length\": 283, \"count\": 109}, {\"base\": \"G\", \"length\": 286, \"count\": 105}, {\"base\": \"G\", \"length\": 287, \"count\": 96}, {\"base\": \"G\", \"length\": 291, \"count\": 80}, {\"base\": \"G\", \"length\": 300, \"count\": 1680}, {\"base\": \"T\", \"length\": 2, \"count\": 5054}, {\"base\": \"T\", \"length\": 6, \"count\": 4775}, {\"base\": \"T\", \"length\": 10, \"count\": 4464}, {\"base\": \"T\", \"length\": 12, \"count\": 4272}, {\"base\": \"T\", \"length\": 13, \"count\": 3993}, {\"base\": \"T\", \"length\": 14, \"count\": 3904}, {\"base\": \"T\", \"length\": 19, \"count\": 3671}, {\"base\": \"T\", \"length\": 23, \"count\": 3538}, {\"base\": \"T\", \"length\": 28, \"count\": 3263}, {\"base\": \"T\", \"length\": 35, \"count\": 3192}, {\"base\": \"T\", \"length\": 37, \"count\": 2950}, {\"base\": \"T\", \"length\": 39, \"count\": 2871}, {\"base\": \"T\", \"length\": 43, \"count\": 2626}, {\"base\": \"T\", \"length\": 44, \"count\": 2569}, {\"base\": \"T\", \"length\": 46, \"count\": 2472}, {\"base\": \"T\", \"length\": 55, \"count\": 2318}, {\"base\": \"T\", \"length\": 60, \"count\": 2290}, {\"base\": \"T\", \"length\": 61, \"count\": 2059}, {\"base\": \"T\", \"length\": 62, \"count\": 2051}, {\"base\": \"T\", \"length\": 66, \"count\": 1922}, {\"base\": \"T\", \"length\": 67, \"count\": 1809}, {\"base\": \"T\", \"length\": 75, \"count\": 1608}, {\"base\": \"T\", \"length\": 76, \"count\": 1638}, {\"base\": \"T\", \"length\": 80, \"count\": 1609}, {\"base\": \"T\", \"length\": 88, \"count\": 1405}, {\"base\": \"T\", \"length\": 89, \"count\": 1370}, {\"base\": \"T\", \"length\": 91, \"count\": 1321}, {\"base\": \"T\", \"length\": 95, \"count\": 1252}, {\"base\": \"T\", \"length\": 105, \"count\": 1205}, {\"base\": \"T\", \"length\": 109, \"count\": 1133}, {\"base\": \"T\", \"length\": 114, \"count\": 1108}, {\"base\": \"T\", \"length\": 115, \"count\": 966}, {\"base\": \"T\", \"length\": 121, \"count\": 955}, {\"base\": \"T\", \"length\": 130, \"count\": 920}, {\"base\": \"T\", \"length\": 131, \"count\": 870}, {\"base\": \"T\", \"length\": 132, \"count\": 809}, {\"base\": \"T\", \"length\": 134, \"count\": 721}, {\"base\": \"T\", \"length\": 137, \"count\": 761}, {\"base\": \"T\", \"length\": 145, \"count\": 746}, {\"base\": \"T\", \"length\": 146, \"count\": 685}, {\"base\": \"T\", \"length\": 147, \"count\": 615}, {\"base\": \"T\", \"length\": 149, \"count\": 642}, {\"base\": \"T\", \"length\": 153, \"count\": 592}, {\"base\": \"T\", \"length\": 158, \"count\": 549}, {\"base\": \"T\", \"length\": 159, \"count\": 553}, {\"base\": \"T\", \"length\": 165, \"count\": 468}, {\"base\": \"T\", \"length\": 172, \"count\": 517}, {\"base\": \"T\", \"length\": 174, \"count\": 461}, {\"base\": \"T\", \"length\": 181, \"count\": 446}, {\"base\": \"T\", \"length\": 192, \"count\": 408}, {\"base\": \"T\", \"length\": 196, \"count\": 360}, {\"base\": \"T\", \"length\": 199, \"count\": 334}, {\"base\": \"T\", \"length\": 201, \"count\": 338}, {\"base\": \"T\", \"length\": 204, \"count\": 321}, {\"base\": \"T\", \"length\": 208, \"count\": 336}, {\"base\": \"T\", \"length\": 212, \"count\": 277}, {\"base\": \"T\", \"length\": 219, \"count\": 314}, {\"base\": \"T\", \"length\": 222, \"count\": 243}, {\"base\": \"T\", \"length\": 235, \"count\": 257}, {\"base\": \"T\", \"length\": 242, \"count\": 260}, {\"base\": \"T\", \"length\": 247, \"count\": 225}, {\"base\": \"T\", \"length\": 255, \"count\": 243}, {\"base\": \"T\", \"length\": 259, \"count\": 208}, {\"base\": \"T\", \"length\": 262, \"count\": 176}, {\"base\": \"T\", \"length\": 263, \"count\": 178}, {\"base\": \"T\", \"length\": 270, \"count\": 154}, {\"base\": \"T\", \"length\": 272, \"count\": 147}, {\"base\": \"T\", \"length\": 281, \"count\": 168}, {\"base\": \"T\", \"length\": 284, \"count\": 157}, {\"base\": \"T\", \"length\": 285, \"count\": 149}, {\"base\": \"T\", \"length\": 290, \"count\": 130}, {\"base\": \"T\", \"length\": 293, \"count\": 133}, {\"base\": \"T\", \"length\": 296, \"count\": 125}, {\"base\": \"T\", \"length\": 300, \"count\": 2371}]}}, {\"mode\": \"vega-lite\"});\n",
       "</script>"
      ],
      "text/plain": [
       "alt.Chart(...)"
      ]
     },
     "execution_count": 38,
     "metadata": {},
     "output_type": "execute_result"
    }
   ],
   "source": [
    "# Plotting (note the quadratic scale for realism)\n",
    "\n",
    "import altair as alt\n",
    "alt.Chart(sequences_grouped_by_length).mark_tick(thickness=4).encode(\n",
    "    y = alt.Y('length:Q',scale=alt.Scale(type='sqrt')),\n",
    "    x = alt.X('base'),\n",
    "    color=alt.Color('count:Q',legend=None,\n",
    "                    scale=alt.Scale(type='log',scheme=\"greys\")),\n",
    "    tooltip='count:Q'\n",
    ").properties(\n",
    "    width=100,\n",
    "    height=800)"
   ]
  },
  {
   "cell_type": "code",
   "execution_count": 39,
   "id": "7fad0555-7e26-40aa-864b-e099bbbe71be",
   "metadata": {},
   "outputs": [
    {
     "data": {
      "text/html": [
       "\n",
       "<div id=\"altair-viz-a43d168d0e6c4a18b470f0def347ab70\"></div>\n",
       "<script type=\"text/javascript\">\n",
       "  var VEGA_DEBUG = (typeof VEGA_DEBUG == \"undefined\") ? {} : VEGA_DEBUG;\n",
       "  (function(spec, embedOpt){\n",
       "    let outputDiv = document.currentScript.previousElementSibling;\n",
       "    if (outputDiv.id !== \"altair-viz-a43d168d0e6c4a18b470f0def347ab70\") {\n",
       "      outputDiv = document.getElementById(\"altair-viz-a43d168d0e6c4a18b470f0def347ab70\");\n",
       "    }\n",
       "    const paths = {\n",
       "      \"vega\": \"https://cdn.jsdelivr.net/npm//vega@5?noext\",\n",
       "      \"vega-lib\": \"https://cdn.jsdelivr.net/npm//vega-lib?noext\",\n",
       "      \"vega-lite\": \"https://cdn.jsdelivr.net/npm//vega-lite@4.17.0?noext\",\n",
       "      \"vega-embed\": \"https://cdn.jsdelivr.net/npm//vega-embed@6?noext\",\n",
       "    };\n",
       "\n",
       "    function maybeLoadScript(lib, version) {\n",
       "      var key = `${lib.replace(\"-\", \"\")}_version`;\n",
       "      return (VEGA_DEBUG[key] == version) ?\n",
       "        Promise.resolve(paths[lib]) :\n",
       "        new Promise(function(resolve, reject) {\n",
       "          var s = document.createElement('script');\n",
       "          document.getElementsByTagName(\"head\")[0].appendChild(s);\n",
       "          s.async = true;\n",
       "          s.onload = () => {\n",
       "            VEGA_DEBUG[key] = version;\n",
       "            return resolve(paths[lib]);\n",
       "          };\n",
       "          s.onerror = () => reject(`Error loading script: ${paths[lib]}`);\n",
       "          s.src = paths[lib];\n",
       "        });\n",
       "    }\n",
       "\n",
       "    function showError(err) {\n",
       "      outputDiv.innerHTML = `<div class=\"error\" style=\"color:red;\">${err}</div>`;\n",
       "      throw err;\n",
       "    }\n",
       "\n",
       "    function displayChart(vegaEmbed) {\n",
       "      vegaEmbed(outputDiv, spec, embedOpt)\n",
       "        .catch(err => showError(`Javascript Error: ${err.message}<br>This usually means there's a typo in your chart specification. See the javascript console for the full traceback.`));\n",
       "    }\n",
       "\n",
       "    if(typeof define === \"function\" && define.amd) {\n",
       "      requirejs.config({paths});\n",
       "      require([\"vega-embed\"], displayChart, err => showError(`Error loading script: ${err.message}`));\n",
       "    } else {\n",
       "      maybeLoadScript(\"vega\", \"5\")\n",
       "        .then(() => maybeLoadScript(\"vega-lite\", \"4.17.0\"))\n",
       "        .then(() => maybeLoadScript(\"vega-embed\", \"6\"))\n",
       "        .catch(showError)\n",
       "        .then(() => displayChart(vegaEmbed));\n",
       "    }\n",
       "  })({\"config\": {\"view\": {\"continuousWidth\": 400, \"continuousHeight\": 300}}, \"data\": {\"name\": \"data-a64e05465e355c9b5ce6518085e8479a\"}, \"mark\": {\"type\": \"tick\", \"thickness\": 4}, \"encoding\": {\"color\": {\"field\": \"base\", \"scale\": {\"scheme\": \"set1\"}, \"type\": \"nominal\"}, \"opacity\": {\"field\": \"count\", \"legend\": null, \"type\": \"nominal\"}, \"tooltip\": {\"field\": \"count\", \"type\": \"quantitative\"}, \"y\": {\"field\": \"length\", \"scale\": {\"type\": \"sqrt\"}, \"type\": \"quantitative\"}}, \"height\": 800, \"width\": 20, \"$schema\": \"https://vega.github.io/schema/vega-lite/v4.17.0.json\", \"datasets\": {\"data-a64e05465e355c9b5ce6518085e8479a\": [{\"base\": \"A\", \"length\": 5, \"count\": 4987}, {\"base\": \"A\", \"length\": 16, \"count\": 4843}, {\"base\": \"A\", \"length\": 20, \"count\": 4538}, {\"base\": \"A\", \"length\": 21, \"count\": 4305}, {\"base\": \"A\", \"length\": 30, \"count\": 4227}, {\"base\": \"A\", \"length\": 31, \"count\": 3904}, {\"base\": \"A\", \"length\": 36, \"count\": 3626}, {\"base\": \"A\", \"length\": 38, \"count\": 3406}, {\"base\": \"A\", \"length\": 41, \"count\": 3381}, {\"base\": \"A\", \"length\": 45, \"count\": 3181}, {\"base\": \"A\", \"length\": 50, \"count\": 2949}, {\"base\": \"A\", \"length\": 51, \"count\": 2807}, {\"base\": \"A\", \"length\": 56, \"count\": 2639}, {\"base\": \"A\", \"length\": 64, \"count\": 2618}, {\"base\": \"A\", \"length\": 65, \"count\": 2444}, {\"base\": \"A\", \"length\": 87, \"count\": 2313}, {\"base\": \"A\", \"length\": 90, \"count\": 2083}, {\"base\": \"A\", \"length\": 93, \"count\": 2081}, {\"base\": \"A\", \"length\": 94, \"count\": 1935}, {\"base\": \"A\", \"length\": 101, \"count\": 1839}, {\"base\": \"A\", \"length\": 102, \"count\": 1832}, {\"base\": \"A\", \"length\": 113, \"count\": 1737}, {\"base\": \"A\", \"length\": 118, \"count\": 1607}, {\"base\": \"A\", \"length\": 119, \"count\": 1627}, {\"base\": \"A\", \"length\": 124, \"count\": 1458}, {\"base\": \"A\", \"length\": 125, \"count\": 1383}, {\"base\": \"A\", \"length\": 126, \"count\": 1325}, {\"base\": \"A\", \"length\": 127, \"count\": 1229}, {\"base\": \"A\", \"length\": 133, \"count\": 1198}, {\"base\": \"A\", \"length\": 139, \"count\": 1137}, {\"base\": \"A\", \"length\": 141, \"count\": 1081}, {\"base\": \"A\", \"length\": 143, \"count\": 1010}, {\"base\": \"A\", \"length\": 151, \"count\": 984}, {\"base\": \"A\", \"length\": 163, \"count\": 910}, {\"base\": \"A\", \"length\": 164, \"count\": 887}, {\"base\": \"A\", \"length\": 169, \"count\": 872}, {\"base\": \"A\", \"length\": 170, \"count\": 828}, {\"base\": \"A\", \"length\": 175, \"count\": 772}, {\"base\": \"A\", \"length\": 177, \"count\": 714}, {\"base\": \"A\", \"length\": 178, \"count\": 643}, {\"base\": \"A\", \"length\": 182, \"count\": 617}, {\"base\": \"A\", \"length\": 189, \"count\": 613}, {\"base\": \"A\", \"length\": 193, \"count\": 582}, {\"base\": \"A\", \"length\": 195, \"count\": 546}, {\"base\": \"A\", \"length\": 198, \"count\": 490}, {\"base\": \"A\", \"length\": 200, \"count\": 462}, {\"base\": \"A\", \"length\": 205, \"count\": 490}, {\"base\": \"A\", \"length\": 207, \"count\": 446}, {\"base\": \"A\", \"length\": 209, \"count\": 408}, {\"base\": \"A\", \"length\": 210, \"count\": 418}, {\"base\": \"A\", \"length\": 214, \"count\": 396}, {\"base\": \"A\", \"length\": 216, \"count\": 386}, {\"base\": \"A\", \"length\": 224, \"count\": 327}, {\"base\": \"A\", \"length\": 230, \"count\": 353}, {\"base\": \"A\", \"length\": 232, \"count\": 331}, {\"base\": \"A\", \"length\": 234, \"count\": 266}, {\"base\": \"A\", \"length\": 236, \"count\": 256}, {\"base\": \"A\", \"length\": 237, \"count\": 272}, {\"base\": \"A\", \"length\": 239, \"count\": 268}, {\"base\": \"A\", \"length\": 240, \"count\": 234}, {\"base\": \"A\", \"length\": 245, \"count\": 241}, {\"base\": \"A\", \"length\": 246, \"count\": 207}, {\"base\": \"A\", \"length\": 248, \"count\": 208}, {\"base\": \"A\", \"length\": 257, \"count\": 200}, {\"base\": \"A\", \"length\": 258, \"count\": 193}, {\"base\": \"A\", \"length\": 260, \"count\": 200}, {\"base\": \"A\", \"length\": 268, \"count\": 158}, {\"base\": \"A\", \"length\": 274, \"count\": 169}, {\"base\": \"A\", \"length\": 278, \"count\": 149}, {\"base\": \"A\", \"length\": 280, \"count\": 157}, {\"base\": \"A\", \"length\": 292, \"count\": 138}, {\"base\": \"A\", \"length\": 300, \"count\": 2479}, {\"base\": \"C\", \"length\": 3, \"count\": 5043}, {\"base\": \"C\", \"length\": 8, \"count\": 4712}, {\"base\": \"C\", \"length\": 9, \"count\": 4504}, {\"base\": \"C\", \"length\": 17, \"count\": 4268}, {\"base\": \"C\", \"length\": 18, \"count\": 4174}, {\"base\": \"C\", \"length\": 22, \"count\": 3963}, {\"base\": \"C\", \"length\": 26, \"count\": 3648}, {\"base\": \"C\", \"length\": 34, \"count\": 3415}, {\"base\": \"C\", \"length\": 40, \"count\": 3415}, {\"base\": \"C\", \"length\": 47, \"count\": 3189}, {\"base\": \"C\", \"length\": 48, \"count\": 2993}, {\"base\": \"C\", \"length\": 49, \"count\": 2828}, {\"base\": \"C\", \"length\": 53, \"count\": 2685}, {\"base\": \"C\", \"length\": 59, \"count\": 2504}, {\"base\": \"C\", \"length\": 63, \"count\": 2419}, {\"base\": \"C\", \"length\": 68, \"count\": 2382}, {\"base\": \"C\", \"length\": 70, \"count\": 2097}, {\"base\": \"C\", \"length\": 71, \"count\": 2072}, {\"base\": \"C\", \"length\": 72, \"count\": 2041}, {\"base\": \"C\", \"length\": 78, \"count\": 1863}, {\"base\": \"C\", \"length\": 81, \"count\": 1781}, {\"base\": \"C\", \"length\": 83, \"count\": 1694}, {\"base\": \"C\", \"length\": 84, \"count\": 1659}, {\"base\": \"C\", \"length\": 85, \"count\": 1505}, {\"base\": \"C\", \"length\": 92, \"count\": 1483}, {\"base\": \"C\", \"length\": 96, \"count\": 1342}, {\"base\": \"C\", \"length\": 98, \"count\": 1345}, {\"base\": \"C\", \"length\": 111, \"count\": 1339}, {\"base\": \"C\", \"length\": 122, \"count\": 1219}, {\"base\": \"C\", \"length\": 123, \"count\": 1184}, {\"base\": \"C\", \"length\": 128, \"count\": 1089}, {\"base\": \"C\", \"length\": 129, \"count\": 1012}, {\"base\": \"C\", \"length\": 135, \"count\": 935}, {\"base\": \"C\", \"length\": 136, \"count\": 904}, {\"base\": \"C\", \"length\": 140, \"count\": 846}, {\"base\": \"C\", \"length\": 142, \"count\": 790}, {\"base\": \"C\", \"length\": 144, \"count\": 776}, {\"base\": \"C\", \"length\": 148, \"count\": 771}, {\"base\": \"C\", \"length\": 152, \"count\": 698}, {\"base\": \"C\", \"length\": 154, \"count\": 654}, {\"base\": \"C\", \"length\": 157, \"count\": 653}, {\"base\": \"C\", \"length\": 162, \"count\": 593}, {\"base\": \"C\", \"length\": 179, \"count\": 609}, {\"base\": \"C\", \"length\": 184, \"count\": 537}, {\"base\": \"C\", \"length\": 190, \"count\": 509}, {\"base\": \"C\", \"length\": 191, \"count\": 510}, {\"base\": \"C\", \"length\": 194, \"count\": 495}, {\"base\": \"C\", \"length\": 197, \"count\": 416}, {\"base\": \"C\", \"length\": 202, \"count\": 380}, {\"base\": \"C\", \"length\": 206, \"count\": 408}, {\"base\": \"C\", \"length\": 211, \"count\": 386}, {\"base\": \"C\", \"length\": 217, \"count\": 350}, {\"base\": \"C\", \"length\": 221, \"count\": 321}, {\"base\": \"C\", \"length\": 223, \"count\": 321}, {\"base\": \"C\", \"length\": 225, \"count\": 318}, {\"base\": \"C\", \"length\": 226, \"count\": 314}, {\"base\": \"C\", \"length\": 227, \"count\": 300}, {\"base\": \"C\", \"length\": 229, \"count\": 259}, {\"base\": \"C\", \"length\": 241, \"count\": 241}, {\"base\": \"C\", \"length\": 244, \"count\": 230}, {\"base\": \"C\", \"length\": 249, \"count\": 248}, {\"base\": \"C\", \"length\": 250, \"count\": 231}, {\"base\": \"C\", \"length\": 251, \"count\": 224}, {\"base\": \"C\", \"length\": 261, \"count\": 210}, {\"base\": \"C\", \"length\": 271, \"count\": 195}, {\"base\": \"C\", \"length\": 273, \"count\": 179}, {\"base\": \"C\", \"length\": 275, \"count\": 186}, {\"base\": \"C\", \"length\": 276, \"count\": 161}, {\"base\": \"C\", \"length\": 277, \"count\": 151}, {\"base\": \"C\", \"length\": 288, \"count\": 145}, {\"base\": \"C\", \"length\": 289, \"count\": 125}, {\"base\": \"C\", \"length\": 294, \"count\": 121}, {\"base\": \"C\", \"length\": 295, \"count\": 108}, {\"base\": \"C\", \"length\": 297, \"count\": 118}, {\"base\": \"C\", \"length\": 298, \"count\": 99}, {\"base\": \"C\", \"length\": 299, \"count\": 111}, {\"base\": \"C\", \"length\": 300, \"count\": 1997}, {\"base\": \"G\", \"length\": 1, \"count\": 5066}, {\"base\": \"G\", \"length\": 4, \"count\": 4797}, {\"base\": \"G\", \"length\": 7, \"count\": 4535}, {\"base\": \"G\", \"length\": 11, \"count\": 4367}, {\"base\": \"G\", \"length\": 15, \"count\": 4031}, {\"base\": \"G\", \"length\": 24, \"count\": 3866}, {\"base\": \"G\", \"length\": 25, \"count\": 3731}, {\"base\": \"G\", \"length\": 27, \"count\": 3440}, {\"base\": \"G\", \"length\": 29, \"count\": 3285}, {\"base\": \"G\", \"length\": 32, \"count\": 3168}, {\"base\": \"G\", \"length\": 33, \"count\": 2950}, {\"base\": \"G\", \"length\": 42, \"count\": 2903}, {\"base\": \"G\", \"length\": 52, \"count\": 2643}, {\"base\": \"G\", \"length\": 54, \"count\": 2454}, {\"base\": \"G\", \"length\": 57, \"count\": 2543}, {\"base\": \"G\", \"length\": 58, \"count\": 2297}, {\"base\": \"G\", \"length\": 69, \"count\": 2163}, {\"base\": \"G\", \"length\": 73, \"count\": 2089}, {\"base\": \"G\", \"length\": 74, \"count\": 1969}, {\"base\": \"G\", \"length\": 77, \"count\": 1883}, {\"base\": \"G\", \"length\": 79, \"count\": 1745}, {\"base\": \"G\", \"length\": 82, \"count\": 1695}, {\"base\": \"G\", \"length\": 86, \"count\": 1653}, {\"base\": \"G\", \"length\": 97, \"count\": 1547}, {\"base\": \"G\", \"length\": 99, \"count\": 1444}, {\"base\": \"G\", \"length\": 100, \"count\": 1467}, {\"base\": \"G\", \"length\": 103, \"count\": 1299}, {\"base\": \"G\", \"length\": 104, \"count\": 1294}, {\"base\": \"G\", \"length\": 106, \"count\": 1214}, {\"base\": \"G\", \"length\": 107, \"count\": 1123}, {\"base\": \"G\", \"length\": 108, \"count\": 1075}, {\"base\": \"G\", \"length\": 110, \"count\": 1006}, {\"base\": \"G\", \"length\": 112, \"count\": 978}, {\"base\": \"G\", \"length\": 116, \"count\": 916}, {\"base\": \"G\", \"length\": 117, \"count\": 830}, {\"base\": \"G\", \"length\": 120, \"count\": 846}, {\"base\": \"G\", \"length\": 138, \"count\": 824}, {\"base\": \"G\", \"length\": 150, \"count\": 740}, {\"base\": \"G\", \"length\": 155, \"count\": 701}, {\"base\": \"G\", \"length\": 156, \"count\": 630}, {\"base\": \"G\", \"length\": 160, \"count\": 654}, {\"base\": \"G\", \"length\": 161, \"count\": 610}, {\"base\": \"G\", \"length\": 166, \"count\": 561}, {\"base\": \"G\", \"length\": 167, \"count\": 532}, {\"base\": \"G\", \"length\": 168, \"count\": 505}, {\"base\": \"G\", \"length\": 171, \"count\": 526}, {\"base\": \"G\", \"length\": 173, \"count\": 456}, {\"base\": \"G\", \"length\": 176, \"count\": 439}, {\"base\": \"G\", \"length\": 180, \"count\": 462}, {\"base\": \"G\", \"length\": 183, \"count\": 385}, {\"base\": \"G\", \"length\": 185, \"count\": 373}, {\"base\": \"G\", \"length\": 186, \"count\": 361}, {\"base\": \"G\", \"length\": 187, \"count\": 306}, {\"base\": \"G\", \"length\": 188, \"count\": 342}, {\"base\": \"G\", \"length\": 203, \"count\": 346}, {\"base\": \"G\", \"length\": 213, \"count\": 287}, {\"base\": \"G\", \"length\": 215, \"count\": 302}, {\"base\": \"G\", \"length\": 218, \"count\": 265}, {\"base\": \"G\", \"length\": 220, \"count\": 250}, {\"base\": \"G\", \"length\": 228, \"count\": 241}, {\"base\": \"G\", \"length\": 231, \"count\": 237}, {\"base\": \"G\", \"length\": 233, \"count\": 214}, {\"base\": \"G\", \"length\": 238, \"count\": 203}, {\"base\": \"G\", \"length\": 243, \"count\": 211}, {\"base\": \"G\", \"length\": 252, \"count\": 209}, {\"base\": \"G\", \"length\": 253, \"count\": 164}, {\"base\": \"G\", \"length\": 254, \"count\": 173}, {\"base\": \"G\", \"length\": 256, \"count\": 178}, {\"base\": \"G\", \"length\": 264, \"count\": 166}, {\"base\": \"G\", \"length\": 265, \"count\": 156}, {\"base\": \"G\", \"length\": 266, \"count\": 139}, {\"base\": \"G\", \"length\": 267, \"count\": 119}, {\"base\": \"G\", \"length\": 269, \"count\": 133}, {\"base\": \"G\", \"length\": 279, \"count\": 101}, {\"base\": \"G\", \"length\": 282, \"count\": 117}, {\"base\": \"G\", \"length\": 283, \"count\": 109}, {\"base\": \"G\", \"length\": 286, \"count\": 105}, {\"base\": \"G\", \"length\": 287, \"count\": 96}, {\"base\": \"G\", \"length\": 291, \"count\": 80}, {\"base\": \"G\", \"length\": 300, \"count\": 1680}, {\"base\": \"T\", \"length\": 2, \"count\": 5054}, {\"base\": \"T\", \"length\": 6, \"count\": 4775}, {\"base\": \"T\", \"length\": 10, \"count\": 4464}, {\"base\": \"T\", \"length\": 12, \"count\": 4272}, {\"base\": \"T\", \"length\": 13, \"count\": 3993}, {\"base\": \"T\", \"length\": 14, \"count\": 3904}, {\"base\": \"T\", \"length\": 19, \"count\": 3671}, {\"base\": \"T\", \"length\": 23, \"count\": 3538}, {\"base\": \"T\", \"length\": 28, \"count\": 3263}, {\"base\": \"T\", \"length\": 35, \"count\": 3192}, {\"base\": \"T\", \"length\": 37, \"count\": 2950}, {\"base\": \"T\", \"length\": 39, \"count\": 2871}, {\"base\": \"T\", \"length\": 43, \"count\": 2626}, {\"base\": \"T\", \"length\": 44, \"count\": 2569}, {\"base\": \"T\", \"length\": 46, \"count\": 2472}, {\"base\": \"T\", \"length\": 55, \"count\": 2318}, {\"base\": \"T\", \"length\": 60, \"count\": 2290}, {\"base\": \"T\", \"length\": 61, \"count\": 2059}, {\"base\": \"T\", \"length\": 62, \"count\": 2051}, {\"base\": \"T\", \"length\": 66, \"count\": 1922}, {\"base\": \"T\", \"length\": 67, \"count\": 1809}, {\"base\": \"T\", \"length\": 75, \"count\": 1608}, {\"base\": \"T\", \"length\": 76, \"count\": 1638}, {\"base\": \"T\", \"length\": 80, \"count\": 1609}, {\"base\": \"T\", \"length\": 88, \"count\": 1405}, {\"base\": \"T\", \"length\": 89, \"count\": 1370}, {\"base\": \"T\", \"length\": 91, \"count\": 1321}, {\"base\": \"T\", \"length\": 95, \"count\": 1252}, {\"base\": \"T\", \"length\": 105, \"count\": 1205}, {\"base\": \"T\", \"length\": 109, \"count\": 1133}, {\"base\": \"T\", \"length\": 114, \"count\": 1108}, {\"base\": \"T\", \"length\": 115, \"count\": 966}, {\"base\": \"T\", \"length\": 121, \"count\": 955}, {\"base\": \"T\", \"length\": 130, \"count\": 920}, {\"base\": \"T\", \"length\": 131, \"count\": 870}, {\"base\": \"T\", \"length\": 132, \"count\": 809}, {\"base\": \"T\", \"length\": 134, \"count\": 721}, {\"base\": \"T\", \"length\": 137, \"count\": 761}, {\"base\": \"T\", \"length\": 145, \"count\": 746}, {\"base\": \"T\", \"length\": 146, \"count\": 685}, {\"base\": \"T\", \"length\": 147, \"count\": 615}, {\"base\": \"T\", \"length\": 149, \"count\": 642}, {\"base\": \"T\", \"length\": 153, \"count\": 592}, {\"base\": \"T\", \"length\": 158, \"count\": 549}, {\"base\": \"T\", \"length\": 159, \"count\": 553}, {\"base\": \"T\", \"length\": 165, \"count\": 468}, {\"base\": \"T\", \"length\": 172, \"count\": 517}, {\"base\": \"T\", \"length\": 174, \"count\": 461}, {\"base\": \"T\", \"length\": 181, \"count\": 446}, {\"base\": \"T\", \"length\": 192, \"count\": 408}, {\"base\": \"T\", \"length\": 196, \"count\": 360}, {\"base\": \"T\", \"length\": 199, \"count\": 334}, {\"base\": \"T\", \"length\": 201, \"count\": 338}, {\"base\": \"T\", \"length\": 204, \"count\": 321}, {\"base\": \"T\", \"length\": 208, \"count\": 336}, {\"base\": \"T\", \"length\": 212, \"count\": 277}, {\"base\": \"T\", \"length\": 219, \"count\": 314}, {\"base\": \"T\", \"length\": 222, \"count\": 243}, {\"base\": \"T\", \"length\": 235, \"count\": 257}, {\"base\": \"T\", \"length\": 242, \"count\": 260}, {\"base\": \"T\", \"length\": 247, \"count\": 225}, {\"base\": \"T\", \"length\": 255, \"count\": 243}, {\"base\": \"T\", \"length\": 259, \"count\": 208}, {\"base\": \"T\", \"length\": 262, \"count\": 176}, {\"base\": \"T\", \"length\": 263, \"count\": 178}, {\"base\": \"T\", \"length\": 270, \"count\": 154}, {\"base\": \"T\", \"length\": 272, \"count\": 147}, {\"base\": \"T\", \"length\": 281, \"count\": 168}, {\"base\": \"T\", \"length\": 284, \"count\": 157}, {\"base\": \"T\", \"length\": 285, \"count\": 149}, {\"base\": \"T\", \"length\": 290, \"count\": 130}, {\"base\": \"T\", \"length\": 293, \"count\": 133}, {\"base\": \"T\", \"length\": 296, \"count\": 125}, {\"base\": \"T\", \"length\": 300, \"count\": 2371}]}}, {\"mode\": \"vega-lite\"});\n",
       "</script>"
      ],
      "text/plain": [
       "alt.Chart(...)"
      ]
     },
     "execution_count": 39,
     "metadata": {},
     "output_type": "execute_result"
    }
   ],
   "source": [
    "# Plotting using color\n",
    "\n",
    "import altair as alt\n",
    "alt.Chart(sequences_grouped_by_length).mark_tick(thickness=4).encode(\n",
    "    y = alt.Y('length:Q',scale=alt.Scale(type=\"sqrt\")),\n",
    "    color=alt.Color('base:N',#legend=None,\n",
    "                    scale=alt.Scale(scheme=\"set1\")),\n",
    "    opacity=alt.Opacity('count:N',legend=None),\n",
    "    tooltip='count:Q'\n",
    ").properties(\n",
    "    width=20,\n",
    "    height=800)"
   ]
  },
  {
   "cell_type": "code",
   "execution_count": null,
   "id": "105e10c8-1a16-4bbc-a7c9-0dc42ea2cd37",
   "metadata": {},
   "outputs": [],
   "source": []
  }
 ],
 "metadata": {
  "kernelspec": {
   "display_name": "Python 3 (ipykernel)",
   "language": "python",
   "name": "python3"
  },
  "language_info": {
   "codemirror_mode": {
    "name": "ipython",
    "version": 3
   },
   "file_extension": ".py",
   "mimetype": "text/x-python",
   "name": "python",
   "nbconvert_exporter": "python",
   "pygments_lexer": "ipython3",
   "version": "3.10.6"
  }
 },
 "nbformat": 4,
 "nbformat_minor": 5
}
