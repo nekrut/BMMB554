{
  "metadata": {
    "kernelspec": {
      "display_name": "Bash",
      "language": "bash",
      "name": "bash"
    },
    "language_info": {
      "codemirror_mode": "shell",
      "file_extension": ".sh",
      "mimetype": "text/x-sh",
      "name": "bash"
    }
  },
  "nbformat": 4,
  "nbformat_minor": 5,
  "cells": [
    {
      "id": "metadata",
      "cell_type": "markdown",
      "source": "<div style=\"border: 2px solid #8A9AD0; margin: 1em 0.2em; padding: 0.5em;\">\n\n# Advanced CLI in Galaxy\n\nby [The Carpentries](https://training.galaxyproject.org/hall-of-fame/carpentries/), [Helena Rasche](https://training.galaxyproject.org/hall-of-fame/hexylena/), [Bazante Sanders](https://training.galaxyproject.org/hall-of-fame/bazante1/), [Erasmus+ Programme](https://training.galaxyproject.org/hall-of-fame/erasmusplus/), [Avans Hogeschool](https://training.galaxyproject.org/hall-of-fame/avans-atgm/)\n\nCC-BY licensed content from the [Galaxy Training Network](https://training.galaxyproject.org/)\n\n**Objectives**\n\n- How can I combine existing commands to do new things?\n- How can I perform the same actions on many different files?\n- How can I find files?\n- How can I find things in files?\n\n**Objectives**\n\n- Redirect a command's output to a file.\n- Process a file instead of keyboard input using redirection.\n- Construct command pipelines with two or more stages.\n- Explain what usually happens if a program or pipeline isn't given any input to process.\n- Explain Unix's 'small pieces, loosely joined' philosophy.\n- Write a loop that applies one or more commands separately to each file in a set of files.\n- Trace the values taken on by a loop variable during execution of the loop.\n- Explain the difference between a variable's name and its value.\n- Explain why spaces and some punctuation characters shouldn't be used in file names.\n- Demonstrate how to see what commands have recently been executed.\n- Re-run recently executed commands without retyping them.\n- Use <code style=\"color: inherit\">grep</code> to select lines from text files that match simple patterns.\n- Use <code style=\"color: inherit\">find</code> to find files and directories whose names match simple patterns.\n- Use the output of one command as the command-line argument(s) to another command.\n- Explain what is meant by 'text' and 'binary' files, and why many common tools don't handle the latter well.\n\n**Time Estimation: 2H**\n</div>\n",
      "metadata": {
        "editable": false,
        "collapsed": false
      }
    },
    {
      "id": "cell-0",
      "source": "<p>This tutorial will walk you through the basics of how to use the Unix command line.</p>\n<blockquote class=\"comment\" style=\"border: 2px solid #ffecc1; margin: 1em 0.2em\">\n<div id=\"comment\" class=\"box-title\" aria-label=\"comment box: \"><i class=\"far fa-comment-dots\" aria-hidden=\"true\"></i><span class=\"visually-hidden\"></span> Comment</div>\n<p>This tutorial is <strong>significantly</strong> based on <a href=\"https://carpentries.org\">the Carpentries</a> <a href=\"https://swcarpentry.github.io/shell-novice/\">“The Unix Shell”</a> lesson, which is licensed CC-BY 4.0. Adaptations have been made to make this work better in a GTN/Galaxy environment.</p>\n</blockquote>\n<blockquote class=\"agenda\" style=\"border: 2px solid #86D486;display: none; margin: 1em 0.2em\">\n<div id=\"agenda\" class=\"box-title\" aria-label=\"agenda box: \">Agenda</div>\n<p>In this tutorial, we will cover:</p>\n<ol id=\"markdown-toc\">\n<li><a href=\"#pipes-and-filtering\" id=\"markdown-toc-pipes-and-filtering\">Pipes and Filtering</a></li>\n</ol>\n</blockquote>\n<h1 id=\"pipes-and-filtering\">Pipes and Filtering</h1>\n<p>Now that we know a few basic commands,\nwe can finally look at the shell’s most powerful feature:\nthe ease with which it lets us combine existing programs in new ways.\nWe’ll start with the directory called <code style=\"color: inherit\">shell-lesson-data/molecules</code>\nthat contains six files describing some simple organic molecules.\nThe <code style=\"color: inherit\">.pdb</code> extension indicates that these files are in Protein Data Bank format,\na simple text format that specifies the type and position of each atom in the molecule.</p>\n",
      "cell_type": "markdown",
      "metadata": {
        "editable": false,
        "collapsed": false
      }
    },
    {
      "id": "cell-1",
      "source": [
        "cd ~/Desktop/shell-lesson-data/\n",
        "ls molecules"
      ],
      "cell_type": "code",
      "execution_count": null,
      "outputs": [

      ],
      "metadata": {
        "attributes": {
          "classes": [
            "bash"
          ],
          "id": ""
        }
      }
    },
    {
      "id": "cell-2",
      "source": "<p>Let’s go into that directory with <code style=\"color: inherit\">cd</code> and run an example command <code style=\"color: inherit\">wc cubane.pdb</code>:</p>\n",
      "cell_type": "markdown",
      "metadata": {
        "editable": false,
        "collapsed": false
      }
    },
    {
      "id": "cell-3",
      "source": [
        "cd molecules\n",
        "wc cubane"
      ],
      "cell_type": "code",
      "execution_count": null,
      "outputs": [

      ],
      "metadata": {
        "attributes": {
          "classes": [
            "bash"
          ],
          "id": ""
        }
      }
    },
    {
      "id": "cell-4",
      "source": "<p><code class=\"language-plaintext highlighter-rouge\">wc</code> is the ‘word count’ command:\nit counts the number of lines, words, and characters in files (from left to right, in that order).</p>\n<p>If we run the command <code style=\"color: inherit\">wc *.pdb</code>, the <code style=\"color: inherit\">*</code> in <code style=\"color: inherit\">*.pdb</code> matches zero or more characters,\nso the shell turns <code style=\"color: inherit\">*.pdb</code> into a list of all <code style=\"color: inherit\">.pdb</code> files in the current directory:</p>\n",
      "cell_type": "markdown",
      "metadata": {
        "editable": false,
        "collapsed": false
      }
    },
    {
      "id": "cell-5",
      "source": [
        "wc *.pdb"
      ],
      "cell_type": "code",
      "execution_count": null,
      "outputs": [

      ],
      "metadata": {
        "attributes": {
          "classes": [
            "bash"
          ],
          "id": ""
        }
      }
    },
    {
      "id": "cell-6",
      "source": "<p>Note that <code style=\"color: inherit\">wc *.pdb</code> also shows the total number of all lines in the last line of the output.</p>\n<p>If we run <code style=\"color: inherit\">wc -l</code> instead of just <code style=\"color: inherit\">wc</code>,\nthe output shows only the number of lines per file:</p>\n",
      "cell_type": "markdown",
      "metadata": {
        "editable": false,
        "collapsed": false
      }
    },
    {
      "id": "cell-7",
      "source": [
        "wc -l *.pdb"
      ],
      "cell_type": "code",
      "execution_count": null,
      "outputs": [

      ],
      "metadata": {
        "attributes": {
          "classes": [
            "bash"
          ],
          "id": ""
        }
      }
    },
    {
      "id": "cell-8",
      "source": "<p>The <code style=\"color: inherit\">-m</code> and <code style=\"color: inherit\">-w</code> options can also be used with the <code style=\"color: inherit\">wc</code> command, to show\nonly the number of characters or the number of words in the files.</p>\n<blockquote class=\"tip\" style=\"border: 2px solid #FFE19E; margin: 1em 0.2em\">\n<div id=\"tip-why-isn-t-it-doing-anything\" class=\"box-title\"><button type=\"button\" aria-controls=\"tip-why-isn-t-it-doing-anything-contents\" aria-expanded=\"true\" aria-label=\"Toggle tip box: Why Isn't It Doing Anything?\"><i class=\"far fa-lightbulb\" aria-hidden=\"true\"></i><span class=\"visually-hidden\"></span> Tip: Why Isn't It Doing Anything?<span role=\"button\" class=\"fold-unfold fa fa-minus-square\"></span></button></div>\n<p>What happens if a command is supposed to process a file, but we\ndon’t give it a filename? For example, what if we type:</p>\n<div class=\"language-plaintext highlighter-rouge\"><div><pre style=\"color: inherit; background: transparent\"><code style=\"color: inherit\">&#36; wc -l\n</code></pre></div>  </div>\n<p>but don’t type <code style=\"color: inherit\">*.pdb</code> (or anything else) after the command?\nSince it doesn’t have any filenames, <code style=\"color: inherit\">wc</code> assumes it is supposed to\nprocess input given at the command prompt, so it just sits there and waits for us to give\nit some data interactively. From the outside, though, all we see is it\nsitting there: the command doesn’t appear to do anything.</p>\n<p>If you make this kind of mistake, you can escape out of this state by holding down\nthe control key (<kbd>Ctrl</kbd>) and typing the letter <kbd>C</kbd> once and\nletting go of the <kbd>Ctrl</kbd> key.\n<kbd>Ctrl</kbd>+<kbd>C</kbd></p>\n</blockquote>\n<h2 id=\"capturing-output-from-commands\">Capturing output from commands</h2>\n<p>Which of these files contains the fewest lines?\nIt’s an easy question to answer when there are only six files,\nbut what if there were 6000?\nOur first step toward a solution is to run the command:</p>\n",
      "cell_type": "markdown",
      "metadata": {
        "editable": false,
        "collapsed": false
      }
    },
    {
      "id": "cell-9",
      "source": [
        "wc -l *.pdb > lengths.txt"
      ],
      "cell_type": "code",
      "execution_count": null,
      "outputs": [

      ],
      "metadata": {
        "attributes": {
          "classes": [
            "bash"
          ],
          "id": ""
        }
      }
    },
    {
      "id": "cell-10",
      "source": "<p>The greater than symbol, <code style=\"color: inherit\">&gt;</code>, tells the shell to <strong>redirect</strong> the command’s output\nto a file instead of printing it to the screen. (This is why there is no screen output:\neverything that <code style=\"color: inherit\">wc</code> would have printed has gone into the\nfile <code style=\"color: inherit\">lengths.txt</code> instead.)  The shell will create\nthe file if it doesn’t exist. If the file exists, it will be\nsilently overwritten, which may lead to data loss and thus requires\nsome caution.</p>\n<blockquote class=\"tip\" style=\"border: 2px solid #FFE19E; margin: 1em 0.2em\">\n<div id=\"tip-no-code-gt-code-on-an-azerty-keyboard\" class=\"box-title\"><button type=\"button\" aria-controls=\"tip-no-code-gt-code-on-an-azerty-keyboard-contents\" aria-expanded=\"true\" aria-label=\"Toggle tip box: No &lt;code&gt;&gt;&lt;/code&gt; on an AZERTY keyboard?\"><i class=\"far fa-lightbulb\" aria-hidden=\"true\"></i><span class=\"visually-hidden\"></span> Tip: No <code style=\"color: inherit\">&gt;</code> on an AZERTY keyboard?<span role=\"button\" class=\"fold-unfold fa fa-minus-square\"></span></button></div>\n<p>You can rewrite this using the tee command which writes out a file, while also showing the output to <code style=\"color: inherit\">stdout</code>.</p>\n<div class=\"language-plaintext highlighter-rouge\"><div><pre style=\"color: inherit; background: transparent\"><code style=\"color: inherit\">wc -l *.pdb | tee lengths.txt\n</code></pre></div>  </div>\n<p>Or you can use copy and paste to copy the <code style=\"color: inherit\">&gt;</code> character from the materials.</p>\n</blockquote>\n<p><code style=\"color: inherit\">ls lengths.txt</code> confirms that the file exists:</p>\n",
      "cell_type": "markdown",
      "metadata": {
        "editable": false,
        "collapsed": false
      }
    },
    {
      "id": "cell-11",
      "source": [
        "ls lengths.txt"
      ],
      "cell_type": "code",
      "execution_count": null,
      "outputs": [

      ],
      "metadata": {
        "attributes": {
          "classes": [
            "bash"
          ],
          "id": ""
        }
      }
    },
    {
      "id": "cell-12",
      "source": "<p>We can now send the content of <code style=\"color: inherit\">lengths.txt</code> to the screen using <code style=\"color: inherit\">cat lengths.txt</code>.\nThe <code style=\"color: inherit\">cat</code> command gets its name from ‘concatenate’ i.e. join together,\nand it prints the contents of files one after another.\nThere’s only one file in this case,\nso <code style=\"color: inherit\">cat</code> just shows us what it contains:</p>\n",
      "cell_type": "markdown",
      "metadata": {
        "editable": false,
        "collapsed": false
      }
    },
    {
      "id": "cell-13",
      "source": [
        "cat lengths.txt"
      ],
      "cell_type": "code",
      "execution_count": null,
      "outputs": [

      ],
      "metadata": {
        "attributes": {
          "classes": [
            "bash"
          ],
          "id": ""
        }
      }
    },
    {
      "id": "cell-14",
      "source": "<blockquote class=\"tip\" style=\"border: 2px solid #FFE19E; margin: 1em 0.2em\">\n<div id=\"tip-output-page-by-page\" class=\"box-title\"><button type=\"button\" aria-controls=\"tip-output-page-by-page-contents\" aria-expanded=\"true\" aria-label=\"Toggle tip box: Output Page by Page\"><i class=\"far fa-lightbulb\" aria-hidden=\"true\"></i><span class=\"visually-hidden\"></span> Tip: Output Page by Page<span role=\"button\" class=\"fold-unfold fa fa-minus-square\"></span></button></div>\n<p>We’ll continue to use <code style=\"color: inherit\">cat</code> in this lesson, for convenience and consistency,\nbut it has the disadvantage that it always dumps the whole file onto your screen.\nMore useful in practice is the command <code style=\"color: inherit\">less</code>,\nwhich you use with <code style=\"color: inherit\">less lengths.txt</code>.\nThis displays a screenful of the file, and then stops.\nYou can go forward one screenful by pressing the spacebar,\nor back one by pressing <code style=\"color: inherit\">b</code>.  Press <code style=\"color: inherit\">q</code> to quit.</p>\n</blockquote>\n<h2 id=\"filtering-output\">Filtering output</h2>\n<p>Next we’ll use the <code style=\"color: inherit\">sort</code> command to sort the contents of the <code style=\"color: inherit\">lengths.txt</code> file.\nBut first we’ll use an exercise to learn a little about the sort command:</p>\n<blockquote class=\"question\" style=\"border: 2px solid #8A9AD0; margin: 1em 0.2em\">\n<div id=\"question-what-does-sort-n-do\" class=\"box-title\" aria-label=\"question box: What Does &lt;code&gt;sort -n&lt;/code&gt; Do?\"><i class=\"far fa-question-circle\" aria-hidden=\"true\"></i><span class=\"visually-hidden\"></span> Question: What Does <code style=\"color: inherit\">sort -n</code> Do?</div>\n<p>The file <code style=\"color: inherit\">shell-lesson-data/numbers.txt</code>\ncontains the following lines:</p>\n<div class=\"language-plaintext highlighter-rouge\"><div><pre style=\"color: inherit; background: transparent\"><code style=\"color: inherit\">10\n2\n19\n22\n6\n</code></pre></div>  </div>\n<p>If we run <code style=\"color: inherit\">sort</code> on this file, the output is:</p>\n<div class=\"language-plaintext highlighter-rouge\"><div><pre style=\"color: inherit; background: transparent\"><code style=\"color: inherit\">10\n19\n2\n22\n6\n</code></pre></div>  </div>\n<p>If we run <code style=\"color: inherit\">sort -n</code> on the same file, we get this instead:</p>\n<div class=\"language-plaintext highlighter-rouge\"><div><pre style=\"color: inherit; background: transparent\"><code style=\"color: inherit\">2\n6\n10\n19\n22\n</code></pre></div>  </div>\n<p>Explain why <code style=\"color: inherit\">-n</code> has this effect.</p>\n<br/><details style=\"border: 2px solid #B8C3EA; margin: 1em 0.2em; padding: 0.5em;\"><summary>👁 View solution</summary>\n<div id=\"solution\" class=\"box-title\"><button type=\"button\" aria-controls=\"solution-contents\" aria-expanded=\"true\" aria-label=\"Toggle solution box: \"><i class=\"far fa-eye\" aria-hidden=\"true\"></i><span class=\"visually-hidden\"></span> Solution<span role=\"button\" class=\"fold-unfold fa fa-minus-square\"></span></button></div>\n<p>The <code style=\"color: inherit\">-n</code> option specifies a numerical rather than an alphanumerical sort.</p>\n</details>\n</blockquote>\n<p>We will also use the <code style=\"color: inherit\">-n</code> option to specify that the sort is\nnumerical instead of alphanumerical.\nThis does <em>not</em> change the file;\ninstead, it sends the sorted result to the screen:</p>\n",
      "cell_type": "markdown",
      "metadata": {
        "editable": false,
        "collapsed": false
      }
    },
    {
      "id": "cell-15",
      "source": [
        "sort -n lengths.txt"
      ],
      "cell_type": "code",
      "execution_count": null,
      "outputs": [

      ],
      "metadata": {
        "attributes": {
          "classes": [
            "bash"
          ],
          "id": ""
        }
      }
    },
    {
      "id": "cell-16",
      "source": "<p>We can put the sorted list of lines in another temporary file called <code style=\"color: inherit\">sorted-lengths.txt</code>\nby putting <code style=\"color: inherit\">&gt; sorted-lengths.txt</code> after the command,\njust as we used <code style=\"color: inherit\">&gt; lengths.txt</code> to put the output of <code style=\"color: inherit\">wc</code> into <code style=\"color: inherit\">lengths.txt</code>.\nOnce we’ve done that,\nwe can run another command called <code style=\"color: inherit\">head</code> to get the first few lines in <code style=\"color: inherit\">sorted-lengths.txt</code>:</p>\n",
      "cell_type": "markdown",
      "metadata": {
        "editable": false,
        "collapsed": false
      }
    },
    {
      "id": "cell-17",
      "source": [
        "sort -n lengths.txt > sorted-lengths.txt"
      ],
      "cell_type": "code",
      "execution_count": null,
      "outputs": [

      ],
      "metadata": {
        "attributes": {
          "classes": [
            "bash"
          ],
          "id": ""
        }
      }
    },
    {
      "id": "cell-18",
      "source": "<p>Using <code style=\"color: inherit\">-n 1</code> with <code style=\"color: inherit\">head</code> tells it that\nwe only want the first line of the file;\n<code style=\"color: inherit\">-n 20</code> would get the first 20,\nand so on.\nSince <code style=\"color: inherit\">sorted-lengths.txt</code> contains the lengths of our files ordered from least to greatest,\nthe output of <code style=\"color: inherit\">head</code> must be the file with the fewest lines.</p>\n<blockquote class=\"tip\" style=\"border: 2px solid #FFE19E; margin: 1em 0.2em\">\n<div id=\"tip-redirecting-to-the-same-file\" class=\"box-title\"><button type=\"button\" aria-controls=\"tip-redirecting-to-the-same-file-contents\" aria-expanded=\"true\" aria-label=\"Toggle tip box: Redirecting to the same file\"><i class=\"far fa-lightbulb\" aria-hidden=\"true\"></i><span class=\"visually-hidden\"></span> Tip: Redirecting to the same file<span role=\"button\" class=\"fold-unfold fa fa-minus-square\"></span></button></div>\n<p>It’s a very bad idea to try redirecting\nthe output of a command that operates on a file\nto the same file. For example:</p>\n<div class=\"language-plaintext highlighter-rouge\"><div><pre style=\"color: inherit; background: transparent\"><code style=\"color: inherit\">&#36; sort -n lengths.txt &gt; lengths.txt\n</code></pre></div>  </div>\n<p>Doing something like this may give you\nincorrect results and/or delete\nthe contents of <code style=\"color: inherit\">lengths.txt</code>.</p>\n</blockquote>\n<blockquote class=\"question\" style=\"border: 2px solid #8A9AD0; margin: 1em 0.2em\">\n<div id=\"question-what-does-mean\" class=\"box-title\" aria-label=\"question box: What Does &lt;code&gt;&gt;&gt;&lt;/code&gt; Mean?\"><i class=\"far fa-question-circle\" aria-hidden=\"true\"></i><span class=\"visually-hidden\"></span> Question: What Does <code style=\"color: inherit\">&gt;&gt;</code> Mean?</div>\n<p>We have seen the use of <code style=\"color: inherit\">&gt;</code>, but there is a similar operator <code style=\"color: inherit\">&gt;&gt;</code>\nwhich works slightly differently.\nWe’ll learn about the differences between these two operators by printing some strings.\nWe can use the <code style=\"color: inherit\">echo</code> command to print strings e.g.</p>\n<blockquote class=\"code-in\" style=\"border: 2px solid #86D486; margin: 1em 0.2em\">\n<div id=\"code-in-bash\" class=\"box-title\" aria-label=\"code-in box: Bash\"><i class=\"far fa-keyboard\" aria-hidden=\"true\"></i><span class=\"visually-hidden\"></span> Input: Bash</div>\n<div class=\"language-plaintext highlighter-rouge\"><div><pre style=\"color: inherit; background: transparent\"><code style=\"color: inherit\">&#36; echo The echo command prints text\n</code></pre></div>    </div>\n</blockquote>\n<blockquote class=\"code-out\" style=\"border: 2px solid #fb99d0; margin: 1em 0.2em\">\n<div id=\"code-out\" class=\"box-title\" aria-label=\"code-out box: \"><i class=\"fas fa-laptop-code\" aria-hidden=\"true\"></i><span class=\"visually-hidden\"></span> Output</div>\n<div class=\"language-plaintext highlighter-rouge\"><div><pre style=\"color: inherit; background: transparent\"><code style=\"color: inherit\">The echo command prints text\n</code></pre></div>    </div>\n</blockquote>\n<p>Now test the commands below to reveal the difference between the two operators:</p>\n<blockquote class=\"code-in\" style=\"border: 2px solid #86D486; margin: 1em 0.2em\">\n<div id=\"code-in-bash-1\" class=\"box-title\" aria-label=\"code-in box: Bash\"><i class=\"far fa-keyboard\" aria-hidden=\"true\"></i><span class=\"visually-hidden\"></span> Input: Bash</div>\n<div class=\"language-plaintext highlighter-rouge\"><div><pre style=\"color: inherit; background: transparent\"><code style=\"color: inherit\">&#36; echo hello &gt; testfile01.txt\n</code></pre></div>    </div>\n</blockquote>\n<p>and:</p>\n<blockquote class=\"code-in\" style=\"border: 2px solid #86D486; margin: 1em 0.2em\">\n<div id=\"code-in-bash-2\" class=\"box-title\" aria-label=\"code-in box: Bash\"><i class=\"far fa-keyboard\" aria-hidden=\"true\"></i><span class=\"visually-hidden\"></span> Input: Bash</div>\n<div class=\"language-plaintext highlighter-rouge\"><div><pre style=\"color: inherit; background: transparent\"><code style=\"color: inherit\">&#36; echo hello &gt;&gt; testfile02.txt\n</code></pre></div>    </div>\n</blockquote>\n<p><strong>Hint</strong>: Try executing each command twice in a row and then examining the output files.</p>\n<br/><details style=\"border: 2px solid #B8C3EA; margin: 1em 0.2em; padding: 0.5em;\"><summary>👁 View solution</summary>\n<h2 id=\"solution\">Solution</h2>\n<p>In the first example with <code style=\"color: inherit\">&gt;</code>, the string ‘hello’ is written to <code style=\"color: inherit\">testfile01.txt</code>,\nbut the file gets overwritten each time we run the command.</p>\n<p>We see from the second example that the <code style=\"color: inherit\">&gt;&gt;</code> operator also writes ‘hello’ to a file\n(in this case<code class=\"language-plaintext highlighter-rouge\">testfile02.txt</code>),\nbut appends the string to the file if it already exists\n(i.e. when we run it for the second time).</p>\n</details>\n</blockquote>\n",
      "cell_type": "markdown",
      "metadata": {
        "editable": false,
        "collapsed": false
      }
    },
    {
      "id": "cell-19",
      "source": [
        "# Explore the possible solutions here!"
      ],
      "cell_type": "code",
      "execution_count": null,
      "outputs": [

      ],
      "metadata": {
        "attributes": {
          "classes": [
            "bash"
          ],
          "id": ""
        }
      }
    },
    {
      "id": "cell-20",
      "source": "<blockquote class=\"question\" style=\"border: 2px solid #8A9AD0; margin: 1em 0.2em\">\n<div id=\"question-appending-data\" class=\"box-title\" aria-label=\"question box: Appending Data\"><i class=\"far fa-question-circle\" aria-hidden=\"true\"></i><span class=\"visually-hidden\"></span> Question: Appending Data</div>\n<p>We have already met the <code style=\"color: inherit\">head</code> command, which prints lines from the start of a file.\n<code style=\"color: inherit\">tail</code> is similar, but prints lines from the end of a file instead.</p>\n<p>Consider the file <code style=\"color: inherit\">shell-lesson-data/data/animals.txt</code>.\nAfter these commands, select the answer that\ncorresponds to the file <code style=\"color: inherit\">animals-subset.txt</code>:</p>\n<div class=\"language-plaintext highlighter-rouge\"><div><pre style=\"color: inherit; background: transparent\"><code style=\"color: inherit\">&#36; head -n 3 animals.txt &gt; animals-subset.txt\n&#36; tail -n 2 animals.txt &gt;&gt; animals-subset.txt\n</code></pre></div>  </div>\n<ol>\n<li>The first three lines of <code style=\"color: inherit\">animals.txt</code></li>\n<li>The last two lines of <code style=\"color: inherit\">animals.txt</code></li>\n<li>The first three lines and the last two lines of <code style=\"color: inherit\">animals.txt</code></li>\n<li>The second and third lines of <code style=\"color: inherit\">animals.txt</code></li>\n</ol>\n<br/><details style=\"border: 2px solid #B8C3EA; margin: 1em 0.2em; padding: 0.5em;\"><summary>👁 View solution</summary>\n<div id=\"solution-1\" class=\"box-title\"><button type=\"button\" aria-controls=\"solution-1-contents\" aria-expanded=\"true\" aria-label=\"Toggle solution box: \"><i class=\"far fa-eye\" aria-hidden=\"true\"></i><span class=\"visually-hidden\"></span> Solution<span role=\"button\" class=\"fold-unfold fa fa-minus-square\"></span></button></div>\n<p>Option 3 is correct.\nFor option 1 to be correct we would only run the <code style=\"color: inherit\">head</code> command.\nFor option 2 to be correct we would only run the <code style=\"color: inherit\">tail</code> command.\nFor option 4 to be correct we would have to pipe the output of <code style=\"color: inherit\">head</code> into <code style=\"color: inherit\">tail -n 2</code>\nby doing <code style=\"color: inherit\">head -n 3 animals.txt | tail -n 2 &gt; animals-subset.txt</code></p>\n</details>\n</blockquote>\n",
      "cell_type": "markdown",
      "metadata": {
        "editable": false,
        "collapsed": false
      }
    },
    {
      "id": "cell-21",
      "source": [
        "# Explore the possible solutions here!"
      ],
      "cell_type": "code",
      "execution_count": null,
      "outputs": [

      ],
      "metadata": {
        "attributes": {
          "classes": [
            "bash"
          ],
          "id": ""
        }
      }
    },
    {
      "id": "cell-22",
      "source": "<h2 id=\"passing-output-to-another-command\">Passing output to another command</h2>\n<p>In our example of finding the file with the fewest lines,\nwe are using two intermediate files <code style=\"color: inherit\">lengths.txt</code> and <code style=\"color: inherit\">sorted-lengths.txt</code> to store output.\nThis is a confusing way to work because\neven once you understand what <code style=\"color: inherit\">wc</code>, <code style=\"color: inherit\">sort</code>, and <code style=\"color: inherit\">head</code> do,\nthose intermediate files make it hard to follow what’s going on.\nWe can make it easier to understand by running <code style=\"color: inherit\">sort</code> and <code style=\"color: inherit\">head</code> together:</p>\n",
      "cell_type": "markdown",
      "metadata": {
        "editable": false,
        "collapsed": false
      }
    },
    {
      "id": "cell-23",
      "source": [
        "sort -n lengths.txt | head -n 1"
      ],
      "cell_type": "code",
      "execution_count": null,
      "outputs": [

      ],
      "metadata": {
        "attributes": {
          "classes": [
            "bash"
          ],
          "id": ""
        }
      }
    },
    {
      "id": "cell-24",
      "source": "<p>The vertical bar, <code style=\"color: inherit\">|</code>, between the two commands is called a <strong>pipe</strong>.\nIt tells the shell that we want to use\nthe output of the command on the left\nas the input to the command on the right.</p>\n<p>This has removed the need for the <code style=\"color: inherit\">sorted-lengths.txt</code> file.</p>\n<h2 id=\"combining-multiple-commands\">Combining multiple commands</h2>\n<p>Nothing prevents us from chaining pipes consecutively.\nWe can for example send the output of <code style=\"color: inherit\">wc</code> directly to <code style=\"color: inherit\">sort</code>,\nand then the resulting output to <code style=\"color: inherit\">head</code>.\nThis removes the need for any intermediate files.</p>\n<p>We’ll start by using a pipe to send the output of <code style=\"color: inherit\">wc</code> to <code style=\"color: inherit\">sort</code>:</p>\n",
      "cell_type": "markdown",
      "metadata": {
        "editable": false,
        "collapsed": false
      }
    },
    {
      "id": "cell-25",
      "source": [
        "wc -l *.pdb | sort -n"
      ],
      "cell_type": "code",
      "execution_count": null,
      "outputs": [

      ],
      "metadata": {
        "attributes": {
          "classes": [
            "bash"
          ],
          "id": ""
        }
      }
    },
    {
      "id": "cell-26",
      "source": "<p>We can then send that output through another pipe, to <code style=\"color: inherit\">head</code>, so that the full pipeline becomes:</p>\n",
      "cell_type": "markdown",
      "metadata": {
        "editable": false,
        "collapsed": false
      }
    },
    {
      "id": "cell-27",
      "source": [
        "wc -l *.pdb | sort -n | head -n 1"
      ],
      "cell_type": "code",
      "execution_count": null,
      "outputs": [

      ],
      "metadata": {
        "attributes": {
          "classes": [
            "bash"
          ],
          "id": ""
        }
      }
    },
    {
      "id": "cell-28",
      "source": "<p>This is exactly like a mathematician nesting functions like <em>log(3x)</em>\nand saying ‘the log of three times <em>x</em>’.\nIn our case,\nthe calculation is ‘head of sort of line count of <code style=\"color: inherit\">*.pdb</code>’.</p>\n<p>The redirection and pipes used in the last few commands are illustrated below:</p>\n<p><img src=\"data:image/svg+xml;base64,PD94bWwgdmVyc2lvbj0iMS4wIj8+Cjxzdmcgd2lkdGg9IjgwMCIgaGVpZ2h0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\nPgo8L3N2Zz4K\n\"\" alt=\"Redirects and Pipes of different commands. \" loading=\"lazy\" /></p>\n<p><code style=\"color: inherit\">wc -l *.pdb</code> will direct the output to the shell. <code style=\"color: inherit\">wc -l *.pdb &gt; lengths</code> will\ndirect output to the file lengths. <code style=\"color: inherit\">wc -l *.pdb | sort -n | head -n 1</code> will\nbuild a pipeline where the output of the wc command is the input to the sort\ncommand, the output of the sort command is the input to the head command and\nthe output of the head command is directed to the shell</p>\n<blockquote class=\"question\" style=\"border: 2px solid #8A9AD0; margin: 1em 0.2em\">\n<div id=\"question-piping-commands-together\" class=\"box-title\" aria-label=\"question box: Piping Commands Together\"><i class=\"far fa-question-circle\" aria-hidden=\"true\"></i><span class=\"visually-hidden\"></span> Question: Piping Commands Together</div>\n<p>In our current directory, we want to find the 3 files which have the least number of\nlines. Which command listed below would work?</p>\n<ol>\n<li><code style=\"color: inherit\">wc -l * &gt; sort -n &gt; head -n 3</code></li>\n<li><code style=\"color: inherit\">wc -l * | sort -n | head -n 1-3</code></li>\n<li><code style=\"color: inherit\">wc -l * | head -n 3 | sort -n</code></li>\n<li><code style=\"color: inherit\">wc -l * | sort -n | head -n 3</code></li>\n</ol>\n<br/><details style=\"border: 2px solid #B8C3EA; margin: 1em 0.2em; padding: 0.5em;\"><summary>👁 View solution</summary>\n<div id=\"solution-2\" class=\"box-title\"><button type=\"button\" aria-controls=\"solution-2-contents\" aria-expanded=\"true\" aria-label=\"Toggle solution box: \"><i class=\"far fa-eye\" aria-hidden=\"true\"></i><span class=\"visually-hidden\"></span> Solution<span role=\"button\" class=\"fold-unfold fa fa-minus-square\"></span></button></div>\n<p>Option 4 is the solution.\nThe pipe character <code style=\"color: inherit\">|</code> is used to connect the output from one command to\nthe input of another.\n<code style=\"color: inherit\">&gt;</code> is used to redirect standard output to a file.\nTry it in the <code style=\"color: inherit\">shell-lesson-data/molecules</code> directory!</p>\n</details>\n</blockquote>\n",
      "cell_type": "markdown",
      "metadata": {
        "editable": false,
        "collapsed": false
      }
    },
    {
      "id": "cell-29",
      "source": [
        "# Explore the possible solutions here!"
      ],
      "cell_type": "code",
      "execution_count": null,
      "outputs": [

      ],
      "metadata": {
        "attributes": {
          "classes": [
            "bash"
          ],
          "id": ""
        }
      }
    },
    {
      "id": "cell-30",
      "source": "<h2 id=\"tools-designed-to-work-together\">Tools designed to work together</h2>\n<p>This idea of linking programs together is why Unix has been so successful.\nInstead of creating enormous programs that try to do many different things,\nUnix programmers focus on creating lots of simple tools that each do one job well,\nand that work well with each other.\nThis programming model is called ‘pipes and filters’.\nWe’ve already seen pipes;\na <strong>filter</strong> is a program like <code style=\"color: inherit\">wc</code> or <code style=\"color: inherit\">sort</code>\nthat transforms a stream of input into a stream of output.\nAlmost all of the standard Unix tools can work this way:\nunless told to do otherwise,\nthey read from standard input,\ndo something with what they’ve read,\nand write to standard output.</p>\n<p>The key is that any program that reads lines of text from standard input\nand writes lines of text to standard output\ncan be combined with every other program that behaves this way as well.\nYou can <em>and should</em> write your programs this way\nso that you and other people can put those programs into pipes to multiply their power.</p>\n<blockquote class=\"question\" style=\"border: 2px solid #8A9AD0; margin: 1em 0.2em\">\n<div id=\"question-pipe-reading-comprehension\" class=\"box-title\" aria-label=\"question box: Pipe Reading Comprehension\"><i class=\"far fa-question-circle\" aria-hidden=\"true\"></i><span class=\"visually-hidden\"></span> Question: Pipe Reading Comprehension</div>\n<p>A file called <code style=\"color: inherit\">animals.txt</code> (in the <code style=\"color: inherit\">shell-lesson-data/data</code> folder) contains the following data:</p>\n<div class=\"language-plaintext highlighter-rouge\"><div><pre style=\"color: inherit; background: transparent\"><code style=\"color: inherit\">2012-11-05,deer\n2012-11-05,rabbit\n2012-11-05,raccoon\n2012-11-06,rabbit\n2012-11-06,deer\n2012-11-06,fox\n2012-11-07,rabbit\n2012-11-07,bear\n</code></pre></div>  </div>\n<p>What text passes through each of the pipes and the final redirect in the pipeline below?</p>\n<div class=\"language-plaintext highlighter-rouge\"><div><pre style=\"color: inherit; background: transparent\"><code style=\"color: inherit\">&#36; cat animals.txt | head -n 5 | tail -n 3 | sort -r &gt; final.txt\n</code></pre></div>  </div>\n<p>Hint: build the pipeline up one command at a time to test your understanding</p>\n<br/><details style=\"border: 2px solid #B8C3EA; margin: 1em 0.2em; padding: 0.5em;\"><summary>👁 View solution</summary>\n<div id=\"solution-3\" class=\"box-title\"><button type=\"button\" aria-controls=\"solution-3-contents\" aria-expanded=\"true\" aria-label=\"Toggle solution box: \"><i class=\"far fa-eye\" aria-hidden=\"true\"></i><span class=\"visually-hidden\"></span> Solution<span role=\"button\" class=\"fold-unfold fa fa-minus-square\"></span></button></div>\n<p>The <code style=\"color: inherit\">head</code> command extracts the first 5 lines from <code style=\"color: inherit\">animals.txt</code>.\nThen, the last 3 lines are extracted from the previous 5 by using the <code style=\"color: inherit\">tail</code> command.\nWith the <code style=\"color: inherit\">sort -r</code> command those 3 lines are sorted in reverse order and finally,\nthe output is redirected to a file <code style=\"color: inherit\">final.txt</code>.\nThe content of this file can be checked by executing <code style=\"color: inherit\">cat final.txt</code>.\nThe file should contain the following lines:</p>\n<div class=\"language-plaintext highlighter-rouge\"><div><pre style=\"color: inherit; background: transparent\"><code style=\"color: inherit\">2012-11-06,rabbit\n2012-11-06,deer\n2012-11-05,raccoon\n</code></pre></div>    </div>\n</details>\n</blockquote>\n",
      "cell_type": "markdown",
      "metadata": {
        "editable": false,
        "collapsed": false
      }
    },
    {
      "id": "cell-31",
      "source": [
        "# Explore the possible solutions here!"
      ],
      "cell_type": "code",
      "execution_count": null,
      "outputs": [

      ],
      "metadata": {
        "attributes": {
          "classes": [
            "bash"
          ],
          "id": ""
        }
      }
    },
    {
      "id": "cell-32",
      "source": "<blockquote class=\"question\" style=\"border: 2px solid #8A9AD0; margin: 1em 0.2em\">\n<div id=\"question-pipe-construction\" class=\"box-title\" aria-label=\"question box: Pipe Construction\"><i class=\"far fa-question-circle\" aria-hidden=\"true\"></i><span class=\"visually-hidden\"></span> Question: Pipe Construction</div>\n<p>For the file <code style=\"color: inherit\">animals.txt</code> from the previous exercise, consider the following command:</p>\n<div class=\"language-plaintext highlighter-rouge\"><div><pre style=\"color: inherit; background: transparent\"><code style=\"color: inherit\">&#36; cut -d , -f 2 animals.txt\n</code></pre></div>  </div>\n<p>The <code style=\"color: inherit\">cut</code> command is used to remove or ‘cut out’ certain sections of each line in the file,\nand <code style=\"color: inherit\">cut</code> expects the lines to be separated into columns by a <kbd>Tab</kbd> character.\nA character used in this way is a called a <strong>delimiter</strong>.\nIn the example above we use the <code style=\"color: inherit\">-d</code> option to specify the comma as our delimiter character.\nWe have also used the <code style=\"color: inherit\">-f</code> option to specify that we want to extract the second field (column).\nThis gives the following output:</p>\n<div class=\"language-plaintext highlighter-rouge\"><div><pre style=\"color: inherit; background: transparent\"><code style=\"color: inherit\">deer\nrabbit\nraccoon\nrabbit\ndeer\nfox\nrabbit\nbear\n</code></pre></div>  </div>\n<p>The <code style=\"color: inherit\">uniq</code> command filters out adjacent matching lines in a file.\nHow could you extend this pipeline (using <code style=\"color: inherit\">uniq</code> and another command) to find\nout what animals the file contains (without any duplicates in their\nnames)?</p>\n<br/><details style=\"border: 2px solid #B8C3EA; margin: 1em 0.2em; padding: 0.5em;\"><summary>👁 View solution</summary>\n<div id=\"solution-4\" class=\"box-title\"><button type=\"button\" aria-controls=\"solution-4-contents\" aria-expanded=\"true\" aria-label=\"Toggle solution box: \"><i class=\"far fa-eye\" aria-hidden=\"true\"></i><span class=\"visually-hidden\"></span> Solution<span role=\"button\" class=\"fold-unfold fa fa-minus-square\"></span></button></div>\n<div class=\"language-plaintext highlighter-rouge\"><div><pre style=\"color: inherit; background: transparent\"><code style=\"color: inherit\">&#36; cut -d , -f 2 animals.txt | sort | uniq\n</code></pre></div>    </div>\n</details>\n</blockquote>\n",
      "cell_type": "markdown",
      "metadata": {
        "editable": false,
        "collapsed": false
      }
    },
    {
      "id": "cell-33",
      "source": [
        "# Explore the possible solutions here!"
      ],
      "cell_type": "code",
      "execution_count": null,
      "outputs": [

      ],
      "metadata": {
        "attributes": {
          "classes": [
            "bash"
          ],
          "id": ""
        }
      }
    },
    {
      "id": "cell-34",
      "source": "<blockquote class=\"question\" style=\"border: 2px solid #8A9AD0; margin: 1em 0.2em\">\n<div id=\"question-which-pipe\" class=\"box-title\" aria-label=\"question box: Which Pipe?\"><i class=\"far fa-question-circle\" aria-hidden=\"true\"></i><span class=\"visually-hidden\"></span> Question: Which Pipe?</div>\n<p>The file <code style=\"color: inherit\">animals.txt</code> contains 8 lines of data formatted as follows:</p>\n<div class=\"language-plaintext highlighter-rouge\"><div><pre style=\"color: inherit; background: transparent\"><code style=\"color: inherit\">2012-11-05,deer\n2012-11-05,rabbit\n2012-11-05,raccoon\n2012-11-06,rabbit\n...\n</code></pre></div>  </div>\n<p>The <code style=\"color: inherit\">uniq</code> command has a <code style=\"color: inherit\">-c</code> option which gives a count of the\nnumber of times a line occurs in its input.  Assuming your current\ndirectory is <code style=\"color: inherit\">shell-lesson-data/data/</code>, what command would you use to produce\na table that shows the total count of each type of animal in the file?</p>\n<ol>\n<li><code style=\"color: inherit\">sort animals.txt | uniq -c</code></li>\n<li><code style=\"color: inherit\">sort -t, -k2,2 animals.txt | uniq -c</code></li>\n<li><code style=\"color: inherit\">cut -d, -f 2 animals.txt | uniq -c</code></li>\n<li><code style=\"color: inherit\">cut -d, -f 2 animals.txt | sort | uniq -c</code></li>\n<li><code style=\"color: inherit\">cut -d, -f 2 animals.txt | sort | uniq -c | wc -l</code></li>\n</ol>\n<br/><details style=\"border: 2px solid #B8C3EA; margin: 1em 0.2em; padding: 0.5em;\"><summary>👁 View solution</summary>\n<div id=\"solution-5\" class=\"box-title\"><button type=\"button\" aria-controls=\"solution-5-contents\" aria-expanded=\"true\" aria-label=\"Toggle solution box: \"><i class=\"far fa-eye\" aria-hidden=\"true\"></i><span class=\"visually-hidden\"></span> Solution<span role=\"button\" class=\"fold-unfold fa fa-minus-square\"></span></button></div>\n<p>Option 4. is the correct answer.\nIf you have difficulty understanding why, try running the commands, or sub-sections of\nthe pipelines (make sure you are in the <code style=\"color: inherit\">shell-lesson-data/data</code> directory).</p>\n</details>\n</blockquote>\n",
      "cell_type": "markdown",
      "metadata": {
        "editable": false,
        "collapsed": false
      }
    },
    {
      "id": "cell-35",
      "source": [
        "# Explore the possible solutions here!"
      ],
      "cell_type": "code",
      "execution_count": null,
      "outputs": [

      ],
      "metadata": {
        "attributes": {
          "classes": [
            "bash"
          ],
          "id": ""
        }
      }
    },
    {
      "id": "cell-36",
      "source": "<h2 id=\"nelles-pipeline-checking-files\">Nelle’s Pipeline: Checking Files</h2>\n<p>Nelle has run her samples through the assay machines\nand created 17 files in the <code style=\"color: inherit\">north-pacific-gyre/2012-07-03</code> directory described earlier.\nAs a quick check, starting from her home directory, Nelle types:</p>\n",
      "cell_type": "markdown",
      "metadata": {
        "editable": false,
        "collapsed": false
      }
    },
    {
      "id": "cell-37",
      "source": [
        "cd ~/Desktop/shell-lesson-data/north-pacific-gyre/2012-07-03\n",
        "wc -l *.txt"
      ],
      "cell_type": "code",
      "execution_count": null,
      "outputs": [

      ],
      "metadata": {
        "attributes": {
          "classes": [
            "bash"
          ],
          "id": ""
        }
      }
    },
    {
      "id": "cell-38",
      "source": "<p>The output is 18 lines that look like this:</p>\n<div class=\"language-plaintext highlighter-rouge\"><div><pre style=\"color: inherit; background: transparent\"><code style=\"color: inherit\">300 NENE01729A.txt\n300 NENE01729B.txt\n300 NENE01736A.txt\n300 NENE01751A.txt\n300 NENE01751B.txt\n300 NENE01812A.txt\n... ...\n</code></pre></div></div>\n<p>Now she types this:</p>\n",
      "cell_type": "markdown",
      "metadata": {
        "editable": false,
        "collapsed": false
      }
    },
    {
      "id": "cell-39",
      "source": [
        "wc -l *.txt | sort -n | head -n 5"
      ],
      "cell_type": "code",
      "execution_count": null,
      "outputs": [

      ],
      "metadata": {
        "attributes": {
          "classes": [
            "bash"
          ],
          "id": ""
        }
      }
    },
    {
      "id": "cell-40",
      "source": "<p>Whoops: one of the files is 60 lines shorter than the others.\nWhen she goes back and checks it,\nshe sees that she did that assay at 8:00 on a Monday morning — someone\nwas probably in using the machine on the weekend,\nand she forgot to reset it.\nBefore re-running that sample,\nshe checks to see if any files have too much data:</p>\n",
      "cell_type": "markdown",
      "metadata": {
        "editable": false,
        "collapsed": false
      }
    },
    {
      "id": "cell-41",
      "source": [
        "wc -l *.txt | sort -n | tail -n 5"
      ],
      "cell_type": "code",
      "execution_count": null,
      "outputs": [

      ],
      "metadata": {
        "attributes": {
          "classes": [
            "bash"
          ],
          "id": ""
        }
      }
    },
    {
      "id": "cell-42",
      "source": "<p>Those numbers look good — but what’s that ‘Z’ doing there in the third-to-last line?\nAll of her samples should be marked ‘A’ or ‘B’;\nby convention,\nher lab uses ‘Z’ to indicate samples with missing information.\nTo find others like it, she does this:</p>\n",
      "cell_type": "markdown",
      "metadata": {
        "editable": false,
        "collapsed": false
      }
    },
    {
      "id": "cell-43",
      "source": [
        "ls *Z.txt"
      ],
      "cell_type": "code",
      "execution_count": null,
      "outputs": [

      ],
      "metadata": {
        "attributes": {
          "classes": [
            "bash"
          ],
          "id": ""
        }
      }
    },
    {
      "id": "cell-44",
      "source": "<p>Sure enough,\nwhen she checks the log on her laptop,\nthere’s no depth recorded for either of those samples.\nSince it’s too late to get the information any other way,\nshe must exclude those two files from her analysis.\nShe could delete them using <code style=\"color: inherit\">rm</code>,\nbut there are actually some analyses she might do later where depth doesn’t matter,\nso instead, she’ll have to be careful later on to select files using the wildcard expressions\n<code class=\"language-plaintext highlighter-rouge\">NENE*A.txt NENE*B.txt</code>.</p>\n<blockquote class=\"question\" style=\"border: 2px solid #8A9AD0; margin: 1em 0.2em\">\n<div id=\"question-removing-unneeded-files\" class=\"box-title\" aria-label=\"question box: Removing Unneeded Files\"><i class=\"far fa-question-circle\" aria-hidden=\"true\"></i><span class=\"visually-hidden\"></span> Question: Removing Unneeded Files</div>\n<p>Suppose you want to delete your processed data files, and only keep\nyour raw files and processing script to save storage.\nThe raw files end in <code style=\"color: inherit\">.dat</code> and the processed files end in <code style=\"color: inherit\">.txt</code>.\nWhich of the following would remove all the processed data files,\nand <em>only</em> the processed data files?</p>\n<ol>\n<li><code style=\"color: inherit\">rm ?.txt</code></li>\n<li><code style=\"color: inherit\">rm *.txt</code></li>\n<li><code style=\"color: inherit\">rm * .txt</code></li>\n<li><code style=\"color: inherit\">rm *.*</code></li>\n</ol>\n<br/><details style=\"border: 2px solid #B8C3EA; margin: 1em 0.2em; padding: 0.5em;\"><summary>👁 View solution</summary>\n<div id=\"solution-6\" class=\"box-title\"><button type=\"button\" aria-controls=\"solution-6-contents\" aria-expanded=\"true\" aria-label=\"Toggle solution box: \"><i class=\"far fa-eye\" aria-hidden=\"true\"></i><span class=\"visually-hidden\"></span> Solution<span role=\"button\" class=\"fold-unfold fa fa-minus-square\"></span></button></div>\n<ol>\n<li>This would remove <code style=\"color: inherit\">.txt</code> files with one-character names</li>\n<li>This is correct answer</li>\n<li>The shell would expand <code style=\"color: inherit\">*</code> to match everything in the current directory,\nso the command would try to remove all matched files and an additional\nfile called <code style=\"color: inherit\">.txt</code></li>\n<li>The shell would expand <code style=\"color: inherit\">*.*</code> to match all files with any extension,\nso this command would delete all files</li>\n</ol>\n</details>\n</blockquote>\n<h1 id=\"loops\">Loops</h1>\n<p><strong>Loops</strong> are a programming construct which allow us to repeat a command or set of commands\nfor each item in a list.\nAs such they are key to productivity improvements through automation.\nSimilar to wildcards and tab completion, using loops also reduces the\namount of typing required (and hence reduces the number of typing mistakes).</p>\n<p>Suppose we have several hundred genome data files named <code style=\"color: inherit\">basilisk.dat</code>, <code style=\"color: inherit\">minotaur.dat</code>, and\n<code class=\"language-plaintext highlighter-rouge\">unicorn.dat</code>.\nFor this example, we’ll use the <code style=\"color: inherit\">creatures</code> directory which only has three example files,\nbut the principles can be applied to many many more files at once. First, go\ninto the creatures directory.</p>\n",
      "cell_type": "markdown",
      "metadata": {
        "editable": false,
        "collapsed": false
      }
    },
    {
      "id": "cell-45",
      "source": [
        "# Change directories here!\n",
        ""
      ],
      "cell_type": "code",
      "execution_count": null,
      "outputs": [

      ],
      "metadata": {
        "attributes": {
          "classes": [
            "bash"
          ],
          "id": ""
        }
      }
    },
    {
      "id": "cell-46",
      "source": "<p>The structure of these files is the same: the common name, classification, and updated date are\npresented on the first three lines, with DNA sequences on the following lines.\nLet’s look at the files:</p>\n",
      "cell_type": "markdown",
      "metadata": {
        "editable": false,
        "collapsed": false
      }
    },
    {
      "id": "cell-47",
      "source": [
        "head -n 5 basilisk.dat minotaur.dat unicorn.dat"
      ],
      "cell_type": "code",
      "execution_count": null,
      "outputs": [

      ],
      "metadata": {
        "attributes": {
          "classes": [
            "bash"
          ],
          "id": ""
        }
      }
    },
    {
      "id": "cell-48",
      "source": "<p>We would like to print out the classification for each species, which is given on the second\nline of each file.\nFor each file, we would need to execute the command <code style=\"color: inherit\">head -n 2</code> and pipe this to <code style=\"color: inherit\">tail -n 1</code>.\nWe’ll use a loop to solve this problem, but first let’s look at the general form of a loop:</p>\n<div class=\"language-plaintext highlighter-rouge\"><div><pre style=\"color: inherit; background: transparent\"><code style=\"color: inherit\">for thing in list_of_things\ndo\n    operation_using &#36;thing    # Indentation within the loop is not required, but aids legibility\ndone\n</code></pre></div></div>\n<p>and we can apply this to our example like this:</p>\n",
      "cell_type": "markdown",
      "metadata": {
        "editable": false,
        "collapsed": false
      }
    },
    {
      "id": "cell-49",
      "source": [
        "for filename in basilisk.dat minotaur.dat unicorn.dat\n",
        "do\n",
        "    head -n 2 $filename | tail -n 1\n",
        "done"
      ],
      "cell_type": "code",
      "execution_count": null,
      "outputs": [

      ],
      "metadata": {
        "attributes": {
          "classes": [
            "bash"
          ],
          "id": ""
        }
      }
    },
    {
      "id": "cell-50",
      "source": "<blockquote class=\"tip\" style=\"border: 2px solid #FFE19E; margin: 1em 0.2em\">\n<div id=\"tip-follow-the-prompt\" class=\"box-title\"><button type=\"button\" aria-controls=\"tip-follow-the-prompt-contents\" aria-expanded=\"true\" aria-label=\"Toggle tip box: Follow the Prompt\"><i class=\"far fa-lightbulb\" aria-hidden=\"true\"></i><span class=\"visually-hidden\"></span> Tip: Follow the Prompt<span role=\"button\" class=\"fold-unfold fa fa-minus-square\"></span></button></div>\n<p>The shell prompt changes from <code style=\"color: inherit\">&#36;</code> to <code style=\"color: inherit\">&gt;</code> and back again as we were\ntyping in our loop. The second prompt, <code style=\"color: inherit\">&gt;</code>, is different to remind\nus that we haven’t finished typing a complete command yet. A semicolon, <code style=\"color: inherit\">;</code>,\ncan be used to separate two commands written on a single line.</p>\n</blockquote>\n<p>When the shell sees the keyword <code style=\"color: inherit\">for</code>,\nit knows to repeat a command (or group of commands) once for each item in a list.\nEach time the loop runs (called an iteration), an item in the list is assigned in sequence to\nthe <strong>variable</strong>, and the commands inside the loop are executed, before moving on to\nthe next item in the list.\nInside the loop,\nwe call for the variable’s value by putting <code style=\"color: inherit\">&#36;</code> in front of it.\nThe <code style=\"color: inherit\">&#36;</code> tells the shell interpreter to treat\nthe variable as a variable name and substitute its value in its place,\nrather than treat it as text or an external command.</p>\n<p>In this example, the list is three filenames: <code style=\"color: inherit\">basilisk.dat</code>, <code style=\"color: inherit\">minotaur.dat</code>, and <code style=\"color: inherit\">unicorn.dat</code>.\nEach time the loop iterates, it will assign a file name to the variable <code style=\"color: inherit\">filename</code>\nand run the <code style=\"color: inherit\">head</code> command.\nThe first time through the loop,\n<code style=\"color: inherit\">&#36;filename</code> is <code style=\"color: inherit\">basilisk.dat</code>.\nThe interpreter runs the command <code style=\"color: inherit\">head</code> on <code style=\"color: inherit\">basilisk.dat</code>\nand pipes the first two lines to the <code style=\"color: inherit\">tail</code> command,\nwhich then prints the second line of <code style=\"color: inherit\">basilisk.dat</code>.\nFor the second iteration, <code style=\"color: inherit\">&#36;filename</code> becomes\n<code class=\"language-plaintext highlighter-rouge\">minotaur.dat</code>. This time, the shell runs <code style=\"color: inherit\">head</code> on <code style=\"color: inherit\">minotaur.dat</code>\nand pipes the first two lines to the <code style=\"color: inherit\">tail</code> command,\nwhich then prints the second line of <code style=\"color: inherit\">minotaur.dat</code>.\nFor the third iteration, <code style=\"color: inherit\">&#36;filename</code> becomes\n<code class=\"language-plaintext highlighter-rouge\">unicorn.dat</code>, so the shell runs the <code style=\"color: inherit\">head</code> command on that file,\nand <code style=\"color: inherit\">tail</code> on the output of that.\nSince the list was only three items, the shell exits the <code style=\"color: inherit\">for</code> loop.</p>\n<blockquote class=\"tip\" style=\"border: 2px solid #FFE19E; margin: 1em 0.2em\">\n<div id=\"tip-same-symbols-different-meanings\" class=\"box-title\"><button type=\"button\" aria-controls=\"tip-same-symbols-different-meanings-contents\" aria-expanded=\"true\" aria-label=\"Toggle tip box: Same Symbols, Different Meanings\"><i class=\"far fa-lightbulb\" aria-hidden=\"true\"></i><span class=\"visually-hidden\"></span> Tip: Same Symbols, Different Meanings<span role=\"button\" class=\"fold-unfold fa fa-minus-square\"></span></button></div>\n<p>Here we see <code style=\"color: inherit\">&gt;</code> being used as a shell prompt, whereas <code style=\"color: inherit\">&gt;</code> is also\nused to redirect output.\nSimilarly, <code style=\"color: inherit\">&#36;</code> is used as a shell prompt, but, as we saw earlier,\nit is also used to ask the shell to get the value of a variable.</p>\n<p>If the <em>shell</em> prints <code style=\"color: inherit\">&gt;</code> or <code style=\"color: inherit\">&#36;</code> then it expects you to type something,\nand the symbol is a prompt.</p>\n<p>If <em>you</em> type <code style=\"color: inherit\">&gt;</code> or <code style=\"color: inherit\">&#36;</code> yourself, it is an instruction from you that\nthe shell should redirect output or get the value of a variable.</p>\n</blockquote>\n<p>When using variables it is also\npossible to put the names into curly braces to clearly delimit the variable\nname: <code style=\"color: inherit\">&#36;filename</code> is equivalent to <code style=\"color: inherit\">&#36;{filename}</code>, but is different from\n<code class=\"language-plaintext highlighter-rouge\">&#36;{file}name</code>. You may find this notation in other people’s programs.</p>\n<p>We have called the variable in this loop <code style=\"color: inherit\">filename</code>\nin order to make its purpose clearer to human readers.\nThe shell itself doesn’t care what the variable is called;\nif we wrote this loop as:</p>\n",
      "cell_type": "markdown",
      "metadata": {
        "editable": false,
        "collapsed": false
      }
    },
    {
      "id": "cell-51",
      "source": [
        "for x in basilisk.dat minotaur.dat unicorn.dat\n",
        "do\n",
        "    head -n 2 $x | tail -n 1\n",
        "done"
      ],
      "cell_type": "code",
      "execution_count": null,
      "outputs": [

      ],
      "metadata": {
        "attributes": {
          "classes": [
            "bash"
          ],
          "id": ""
        }
      }
    },
    {
      "id": "cell-52",
      "source": "<p>or:</p>\n",
      "cell_type": "markdown",
      "metadata": {
        "editable": false,
        "collapsed": false
      }
    },
    {
      "id": "cell-53",
      "source": [
        "for temperature in basilisk.dat minotaur.dat unicorn.dat\n",
        "do\n",
        "    head -n 2 $temperature | tail -n 1\n",
        "done"
      ],
      "cell_type": "code",
      "execution_count": null,
      "outputs": [

      ],
      "metadata": {
        "attributes": {
          "classes": [
            "bash"
          ],
          "id": ""
        }
      }
    },
    {
      "id": "cell-54",
      "source": "<p>it would work exactly the same way.</p>\n<p><strong>Don’t do this.</strong></p>\n<p>Programs are only useful if people can understand them,\nso meaningless names (like <code style=\"color: inherit\">x</code>) or misleading names (like <code style=\"color: inherit\">temperature</code>)\nincrease the odds that the program won’t do what its readers think it does.</p>\n<blockquote class=\"question\" style=\"border: 2px solid #8A9AD0; margin: 1em 0.2em\">\n<div id=\"question-variables-in-loops\" class=\"box-title\" aria-label=\"question box: Variables in Loops\"><i class=\"far fa-question-circle\" aria-hidden=\"true\"></i><span class=\"visually-hidden\"></span> Question: Variables in Loops</div>\n<p>This exercise refers to the <code style=\"color: inherit\">shell-lesson-data/molecules</code> directory.\n<code style=\"color: inherit\">ls</code> gives the following output:</p>\n<div class=\"language-plaintext highlighter-rouge\"><div><pre style=\"color: inherit; background: transparent\"><code style=\"color: inherit\">cubane.pdb  ethane.pdb  methane.pdb  octane.pdb  pentane.pdb  propane.pdb\n</code></pre></div>  </div>\n<p>What is the output of the following code?</p>\n<div class=\"language-plaintext highlighter-rouge\"><div><pre style=\"color: inherit; background: transparent\"><code style=\"color: inherit\">for datafile in *.pdb\ndo\n    ls *.pdb\ndone\n</code></pre></div>  </div>\n<p>Now, what is the output of the following code?</p>\n<div class=\"language-plaintext highlighter-rouge\"><div><pre style=\"color: inherit; background: transparent\"><code style=\"color: inherit\">for datafile in *.pdb\ndo\n   ls &#36;datafile\ndone\n</code></pre></div>  </div>\n<p>Why do these two loops give different outputs?</p>\n<br/><details style=\"border: 2px solid #B8C3EA; margin: 1em 0.2em; padding: 0.5em;\"><summary>👁 View solution</summary>\n<div id=\"solution-7\" class=\"box-title\"><button type=\"button\" aria-controls=\"solution-7-contents\" aria-expanded=\"true\" aria-label=\"Toggle solution box: \"><i class=\"far fa-eye\" aria-hidden=\"true\"></i><span class=\"visually-hidden\"></span> Solution<span role=\"button\" class=\"fold-unfold fa fa-minus-square\"></span></button></div>\n<p>The first code block gives the same output on each iteration through\nthe loop.\nBash expands the wildcard <code style=\"color: inherit\">*.pdb</code> within the loop body (as well as\nbefore the loop starts) to match all files ending in <code style=\"color: inherit\">.pdb</code>\nand then lists them using <code style=\"color: inherit\">ls</code>.\nThe expanded loop would look like this:</p>\n<div class=\"language-plaintext highlighter-rouge\"><div><pre style=\"color: inherit; background: transparent\"><code style=\"color: inherit\">&#36; for datafile in cubane.pdb  ethane.pdb  methane.pdb  octane.pdb  pentane.pdb  propane.pdb\n&gt; do\n&gt;     ls cubane.pdb  ethane.pdb  methane.pdb  octane.pdb  pentane.pdb  propane.pdb\n&gt; done\n</code></pre></div>    </div>\n<div class=\"language-plaintext highlighter-rouge\"><div><pre style=\"color: inherit; background: transparent\"><code style=\"color: inherit\">cubane.pdb  ethane.pdb  methane.pdb  octane.pdb  pentane.pdb  propane.pdb\ncubane.pdb  ethane.pdb  methane.pdb  octane.pdb  pentane.pdb  propane.pdb\ncubane.pdb  ethane.pdb  methane.pdb  octane.pdb  pentane.pdb  propane.pdb\ncubane.pdb  ethane.pdb  methane.pdb  octane.pdb  pentane.pdb  propane.pdb\ncubane.pdb  ethane.pdb  methane.pdb  octane.pdb  pentane.pdb  propane.pdb\ncubane.pdb  ethane.pdb  methane.pdb  octane.pdb  pentane.pdb  propane.pdb\n</code></pre></div>    </div>\n<p>The second code block lists a different file on each loop iteration.\nThe value of the <code style=\"color: inherit\">datafile</code> variable is evaluated using <code style=\"color: inherit\">&#36;datafile</code>,\nand then listed using <code style=\"color: inherit\">ls</code>.</p>\n<div class=\"language-plaintext highlighter-rouge\"><div><pre style=\"color: inherit; background: transparent\"><code style=\"color: inherit\">cubane.pdb\nethane.pdb\nmethane.pdb\noctane.pdb\npentane.pdb\npropane.pdb\n</code></pre></div>    </div>\n</details>\n</blockquote>\n",
      "cell_type": "markdown",
      "metadata": {
        "editable": false,
        "collapsed": false
      }
    },
    {
      "id": "cell-55",
      "source": [
        "# Explore the possible solutions here!"
      ],
      "cell_type": "code",
      "execution_count": null,
      "outputs": [

      ],
      "metadata": {
        "attributes": {
          "classes": [
            "bash"
          ],
          "id": ""
        }
      }
    },
    {
      "id": "cell-56",
      "source": "<blockquote class=\"question\" style=\"border: 2px solid #8A9AD0; margin: 1em 0.2em\">\n<div id=\"question-limiting-sets-of-files\" class=\"box-title\" aria-label=\"question box: Limiting Sets of Files\"><i class=\"far fa-question-circle\" aria-hidden=\"true\"></i><span class=\"visually-hidden\"></span> Question: Limiting Sets of Files</div>\n<p>What would be the output of running the following loop in thei\n<code style=\"color: inherit\">shell-lesson-data/molecules</code> directory?</p>\n<div class=\"language-plaintext highlighter-rouge\"><div><pre style=\"color: inherit; background: transparent\"><code style=\"color: inherit\">for filename in c*\ndo\n    ls &#36;filename\ndone\n</code></pre></div>  </div>\n<ol>\n<li>No files are listed.</li>\n<li>All files are listed.</li>\n<li>Only <code style=\"color: inherit\">cubane.pdb</code>, <code style=\"color: inherit\">octane.pdb</code> and <code style=\"color: inherit\">pentane.pdb</code> are listed.</li>\n<li>Only <code style=\"color: inherit\">cubane.pdb</code> is listed.</li>\n</ol>\n<br/><details style=\"border: 2px solid #B8C3EA; margin: 1em 0.2em; padding: 0.5em;\"><summary>👁 View solution</summary>\n<div id=\"solution-8\" class=\"box-title\"><button type=\"button\" aria-controls=\"solution-8-contents\" aria-expanded=\"true\" aria-label=\"Toggle solution box: \"><i class=\"far fa-eye\" aria-hidden=\"true\"></i><span class=\"visually-hidden\"></span> Solution<span role=\"button\" class=\"fold-unfold fa fa-minus-square\"></span></button></div>\n<p>4 is the correct answer. <code style=\"color: inherit\">*</code> matches zero or more characters, so any file name starting with\nthe letter c, followed by zero or more other characters will be matched.</p>\n</details>\n<p>How would the output differ from using this command instead?</p>\n<div class=\"language-plaintext highlighter-rouge\"><div><pre style=\"color: inherit; background: transparent\"><code style=\"color: inherit\">for filename in *c*\ndo\n    ls &#36;filename\ndone\n</code></pre></div>  </div>\n<ol>\n<li>The same files would be listed.</li>\n<li>All the files are listed this time.</li>\n<li>No files are listed this time.</li>\n<li>The files <code style=\"color: inherit\">cubane.pdb</code> and <code style=\"color: inherit\">octane.pdb</code> will be listed.</li>\n<li>Only the file <code style=\"color: inherit\">octane.pdb</code> will be listed.</li>\n</ol>\n<br/><details style=\"border: 2px solid #B8C3EA; margin: 1em 0.2em; padding: 0.5em;\"><summary>👁 View solution</summary>\n<div id=\"solution-9\" class=\"box-title\"><button type=\"button\" aria-controls=\"solution-9-contents\" aria-expanded=\"true\" aria-label=\"Toggle solution box: \"><i class=\"far fa-eye\" aria-hidden=\"true\"></i><span class=\"visually-hidden\"></span> Solution<span role=\"button\" class=\"fold-unfold fa fa-minus-square\"></span></button></div>\n<p>4 is the correct answer. <code style=\"color: inherit\">*</code> matches zero or more characters, so a file name with zero or more\ncharacters before a letter c and zero or more characters after the letter c will be matched.</p>\n</blockquote>\n</blockquote>\n",
      "cell_type": "markdown",
      "metadata": {
        "editable": false,
        "collapsed": false
      }
    },
    {
      "id": "cell-57",
      "source": [
        "# Explore the possible solutions here!"
      ],
      "cell_type": "code",
      "execution_count": null,
      "outputs": [

      ],
      "metadata": {
        "attributes": {
          "classes": [
            "bash"
          ],
          "id": ""
        }
      }
    },
    {
      "id": "cell-58",
      "source": "<blockquote class=\"question\" style=\"border: 2px solid #8A9AD0; margin: 1em 0.2em\">\n<div id=\"question-saving-to-a-file-in-a-loop-part-one\" class=\"box-title\" aria-label=\"question box: Saving to a File in a Loop - Part One\"><i class=\"far fa-question-circle\" aria-hidden=\"true\"></i><span class=\"visually-hidden\"></span> Question: Saving to a File in a Loop - Part One</div>\n<p>In the <code style=\"color: inherit\">shell-lesson-data/molecules</code> directory, what is the effect of this loop?</p>\n<div class=\"language-plaintext highlighter-rouge\"><div><pre style=\"color: inherit; background: transparent\"><code style=\"color: inherit\">for alkanes in *.pdb\ndo\n    echo &#36;alkanes\n    cat &#36;alkanes &gt; alkanes.pdb\ndone\n</code></pre></div>  </div>\n<ol>\n<li>Prints <code style=\"color: inherit\">cubane.pdb</code>, <code style=\"color: inherit\">ethane.pdb</code>, <code style=\"color: inherit\">methane.pdb</code>, <code style=\"color: inherit\">octane.pdb</code>, <code style=\"color: inherit\">pentane.pdb</code> and\n<code style=\"color: inherit\">propane.pdb</code>, and the text from <code style=\"color: inherit\">propane.pdb</code> will be saved to a file called <code style=\"color: inherit\">alkanes.pdb</code>.</li>\n<li>Prints <code style=\"color: inherit\">cubane.pdb</code>, <code style=\"color: inherit\">ethane.pdb</code>, and <code style=\"color: inherit\">methane.pdb</code>, and the text from all three files\nwould be concatenated and saved to a file called <code style=\"color: inherit\">alkanes.pdb</code>.</li>\n<li>Prints <code style=\"color: inherit\">cubane.pdb</code>, <code style=\"color: inherit\">ethane.pdb</code>, <code style=\"color: inherit\">methane.pdb</code>, <code style=\"color: inherit\">octane.pdb</code>, and <code style=\"color: inherit\">pentane.pdb</code>,\nand the text from <code style=\"color: inherit\">propane.pdb</code> will be saved to a file called <code style=\"color: inherit\">alkanes.pdb</code>.</li>\n<li>None of the above.</li>\n</ol>\n<br/><details style=\"border: 2px solid #B8C3EA; margin: 1em 0.2em; padding: 0.5em;\"><summary>👁 View solution</summary>\n<div id=\"solution-10\" class=\"box-title\"><button type=\"button\" aria-controls=\"solution-10-contents\" aria-expanded=\"true\" aria-label=\"Toggle solution box: \"><i class=\"far fa-eye\" aria-hidden=\"true\"></i><span class=\"visually-hidden\"></span> Solution<span role=\"button\" class=\"fold-unfold fa fa-minus-square\"></span></button></div>\n<p>1 is correct. The text from each file in turn gets written to the <code style=\"color: inherit\">alkanes.pdb</code> file.\nHowever, the file gets overwritten on each loop iteration, so the final content of <code style=\"color: inherit\">alkanes.pdb</code>\nis the text from the <code style=\"color: inherit\">propane.pdb</code> file.</p>\n</details>\n</blockquote>\n",
      "cell_type": "markdown",
      "metadata": {
        "editable": false,
        "collapsed": false
      }
    },
    {
      "id": "cell-59",
      "source": [
        "# Explore the possible solutions here!"
      ],
      "cell_type": "code",
      "execution_count": null,
      "outputs": [

      ],
      "metadata": {
        "attributes": {
          "classes": [
            "bash"
          ],
          "id": ""
        }
      }
    },
    {
      "id": "cell-60",
      "source": "<blockquote class=\"question\" style=\"border: 2px solid #8A9AD0; margin: 1em 0.2em\">\n<div id=\"question-saving-to-a-file-in-a-loop-part-two\" class=\"box-title\" aria-label=\"question box: Saving to a File in a Loop - Part Two\"><i class=\"far fa-question-circle\" aria-hidden=\"true\"></i><span class=\"visually-hidden\"></span> Question: Saving to a File in a Loop - Part Two</div>\n<p>Also in the <code style=\"color: inherit\">shell-lesson-data/molecules</code> directory,\nwhat would be the output of the following loop?</p>\n<div class=\"language-plaintext highlighter-rouge\"><div><pre style=\"color: inherit; background: transparent\"><code style=\"color: inherit\">for datafile in *.pdb\ndo\n    cat &#36;datafile &gt;&gt; all.pdb\ndone\n</code></pre></div>  </div>\n<ol>\n<li>All of the text from <code style=\"color: inherit\">cubane.pdb</code>, <code style=\"color: inherit\">ethane.pdb</code>, <code style=\"color: inherit\">methane.pdb</code>, <code style=\"color: inherit\">octane.pdb</code>, and\n<code style=\"color: inherit\">pentane.pdb</code> would be concatenated and saved to a file called <code style=\"color: inherit\">all.pdb</code>.</li>\n<li>The text from <code style=\"color: inherit\">ethane.pdb</code> will be saved to a file called <code style=\"color: inherit\">all.pdb</code>.</li>\n<li>All of the text from <code style=\"color: inherit\">cubane.pdb</code>, <code style=\"color: inherit\">ethane.pdb</code>, <code style=\"color: inherit\">methane.pdb</code>, <code style=\"color: inherit\">octane.pdb</code>, <code style=\"color: inherit\">pentane.pdb</code>\nand <code style=\"color: inherit\">propane.pdb</code> would be concatenated and saved to a file called <code style=\"color: inherit\">all.pdb</code>.</li>\n<li>All of the text from <code style=\"color: inherit\">cubane.pdb</code>, <code style=\"color: inherit\">ethane.pdb</code>, <code style=\"color: inherit\">methane.pdb</code>, <code style=\"color: inherit\">octane.pdb</code>, <code style=\"color: inherit\">pentane.pdb</code>\nand <code style=\"color: inherit\">propane.pdb</code> would be printed to the screen and saved to a file called <code style=\"color: inherit\">all.pdb</code>.</li>\n</ol>\n<br/><details style=\"border: 2px solid #B8C3EA; margin: 1em 0.2em; padding: 0.5em;\"><summary>👁 View solution</summary>\n<div id=\"solution-11\" class=\"box-title\"><button type=\"button\" aria-controls=\"solution-11-contents\" aria-expanded=\"true\" aria-label=\"Toggle solution box: \"><i class=\"far fa-eye\" aria-hidden=\"true\"></i><span class=\"visually-hidden\"></span> Solution<span role=\"button\" class=\"fold-unfold fa fa-minus-square\"></span></button></div>\n<p>3 is the correct answer. <code style=\"color: inherit\">&gt;&gt;</code> appends to a file, rather than overwriting it with the redirected\noutput from a command.\nGiven the output from the <code style=\"color: inherit\">cat</code> command has been redirected, nothing is printed to the screen.</p>\n</details>\n</blockquote>\n",
      "cell_type": "markdown",
      "metadata": {
        "editable": false,
        "collapsed": false
      }
    },
    {
      "id": "cell-61",
      "source": [
        "# Explore the possible solutions here!"
      ],
      "cell_type": "code",
      "execution_count": null,
      "outputs": [

      ],
      "metadata": {
        "attributes": {
          "classes": [
            "bash"
          ],
          "id": ""
        }
      }
    },
    {
      "id": "cell-62",
      "source": "<p>Let’s continue with our example in the <code style=\"color: inherit\">shell-lesson-data/creatures</code> directory.\nHere’s a slightly more complicated loop:</p>\n",
      "cell_type": "markdown",
      "metadata": {
        "editable": false,
        "collapsed": false
      }
    },
    {
      "id": "cell-63",
      "source": [
        "for filename in *.dat\n",
        "do\n",
        "    echo $filename\n",
        "    head -n 100 $filename | tail -n 20\n",
        "done"
      ],
      "cell_type": "code",
      "execution_count": null,
      "outputs": [

      ],
      "metadata": {
        "attributes": {
          "classes": [
            "bash"
          ],
          "id": ""
        }
      }
    },
    {
      "id": "cell-64",
      "source": "<p>The shell starts by expanding <code style=\"color: inherit\">*.dat</code> to create the list of files it will process.\nThe <strong>loop body</strong>\nthen executes two commands for each of those files.\nThe first command, <code style=\"color: inherit\">echo</code>, prints its command-line arguments to standard output.\nFor example:</p>\n",
      "cell_type": "markdown",
      "metadata": {
        "editable": false,
        "collapsed": false
      }
    },
    {
      "id": "cell-65",
      "source": [
        "echo hello there"
      ],
      "cell_type": "code",
      "execution_count": null,
      "outputs": [

      ],
      "metadata": {
        "attributes": {
          "classes": [
            "bash"
          ],
          "id": ""
        }
      }
    },
    {
      "id": "cell-66",
      "source": "<p>prints:</p>\n<div class=\"language-plaintext highlighter-rouge\"><div><pre style=\"color: inherit; background: transparent\"><code style=\"color: inherit\">hello there\n</code></pre></div></div>\n<p>In this case,\nsince the shell expands <code style=\"color: inherit\">&#36;filename</code> to be the name of a file,\n<code style=\"color: inherit\">echo &#36;filename</code> prints the name of the file.\nNote that we can’t write this as:</p>\n",
      "cell_type": "markdown",
      "metadata": {
        "editable": false,
        "collapsed": false
      }
    },
    {
      "id": "cell-67",
      "source": [
        "for filename in *.dat\n",
        "do\n",
        "    $filename\n",
        "    head -n 100 $filename | tail -n 20\n",
        "done"
      ],
      "cell_type": "code",
      "execution_count": null,
      "outputs": [

      ],
      "metadata": {
        "attributes": {
          "classes": [
            "bash"
          ],
          "id": ""
        }
      }
    },
    {
      "id": "cell-68",
      "source": "<p>because then the first time through the loop,\nwhen <code style=\"color: inherit\">&#36;filename</code> expanded to <code style=\"color: inherit\">basilisk.dat</code>, the shell would try to run <code style=\"color: inherit\">basilisk.dat</code> as a program.\nFinally,\nthe <code style=\"color: inherit\">head</code> and <code style=\"color: inherit\">tail</code> combination selects lines 81-100\nfrom whatever file is being processed\n(assuming the file has at least 100 lines).</p>\n<blockquote class=\"tip\" style=\"border: 2px solid #FFE19E; margin: 1em 0.2em\">\n<div id=\"tip-spaces-in-names\" class=\"box-title\"><button type=\"button\" aria-controls=\"tip-spaces-in-names-contents\" aria-expanded=\"true\" aria-label=\"Toggle tip box: Spaces in Names\"><i class=\"far fa-lightbulb\" aria-hidden=\"true\"></i><span class=\"visually-hidden\"></span> Tip: Spaces in Names<span role=\"button\" class=\"fold-unfold fa fa-minus-square\"></span></button></div>\n<p>Spaces are used to separate the elements of the list\nthat we are going to loop over. If one of those elements\ncontains a space character, we need to surround it with\nquotes, and do the same thing to our loop variable.\nSuppose our data files are named:</p>\n<div class=\"language-plaintext highlighter-rouge\"><div><pre style=\"color: inherit; background: transparent\"><code style=\"color: inherit\">red dragon.dat\npurple unicorn.dat\n</code></pre></div>  </div>\n<p>To loop over these files, we would need to add double quotes like so:</p>\n<div class=\"language-plaintext highlighter-rouge\"><div><pre style=\"color: inherit; background: transparent\"><code style=\"color: inherit\">&#36; for filename in \"red dragon.dat\" \"purple unicorn.dat\"\n&gt; do\n&gt;     head -n 100 \"&#36;filename\" | tail -n 20\n&gt; done\n</code></pre></div>  </div>\n<p>It is simpler to avoid using spaces (or other special characters) in filenames.</p>\n<p>The files above don’t exist, so if we run the above code, the <code style=\"color: inherit\">head</code> command will be unable\nto find them, however the error message returned will show the name of the files it is\nexpecting:</p>\n<div class=\"language-plaintext highlighter-rouge\"><div><pre style=\"color: inherit; background: transparent\"><code style=\"color: inherit\">head: cannot open ‘red dragon.dat’ for reading: No such file or directory\nhead: cannot open ‘purple unicorn.dat’ for reading: No such file or directory\n</code></pre></div>  </div>\n<p>Try removing the quotes around <code style=\"color: inherit\">&#36;filename</code> in the loop above to see the effect of the quote\nmarks on spaces. Note that we get a result from the loop command for unicorn.dat\nwhen we run this code in the <code style=\"color: inherit\">creatures</code> directory:</p>\n<div class=\"language-plaintext highlighter-rouge\"><div><pre style=\"color: inherit; background: transparent\"><code style=\"color: inherit\">head: cannot open ‘red’ for reading: No such file or directory\nhead: cannot open ‘dragon.dat’ for reading: No such file or directory\nhead: cannot open ‘purple’ for reading: No such file or directory\nCGGTACCGAA\nAAGGGTCGCG\nCAAGTGTTCC\n...\n</code></pre></div>  </div>\n</blockquote>\n<p>We would like to modify each of the files in <code style=\"color: inherit\">shell-lesson-data/creatures</code>, but also save a version\nof the original files, naming the copies <code style=\"color: inherit\">original-basilisk.dat</code> and <code style=\"color: inherit\">original-unicorn.dat</code>.\nWe can’t use:</p>\n<div class=\"language-plaintext highlighter-rouge\"><div><pre style=\"color: inherit; background: transparent\"><code style=\"color: inherit\">cp *.dat original-*.dat\n</code></pre></div></div>\n<p>because that would expand to:</p>\n",
      "cell_type": "markdown",
      "metadata": {
        "editable": false,
        "collapsed": false
      }
    },
    {
      "id": "cell-69",
      "source": [
        "cp basilisk.dat minotaur.dat unicorn.dat original-*.dat"
      ],
      "cell_type": "code",
      "execution_count": null,
      "outputs": [

      ],
      "metadata": {
        "attributes": {
          "classes": [
            "bash"
          ],
          "id": ""
        }
      }
    },
    {
      "id": "cell-70",
      "source": "<p>This wouldn’t back up our files, instead we get an error.</p>\n<p>This problem arises when <code style=\"color: inherit\">cp</code> receives more than two inputs. When this happens, it\nexpects the last input to be a directory where it can copy all the files it was passed.\nSince there is no directory named <code style=\"color: inherit\">original-*.dat</code> in the <code style=\"color: inherit\">creatures</code> directory we get an\nerror.</p>\n<p>Instead, we can use a loop:</p>\n",
      "cell_type": "markdown",
      "metadata": {
        "editable": false,
        "collapsed": false
      }
    },
    {
      "id": "cell-71",
      "source": [
        "for filename in *.dat\n",
        "do\n",
        "    cp $filename original-$filename\n",
        "done"
      ],
      "cell_type": "code",
      "execution_count": null,
      "outputs": [

      ],
      "metadata": {
        "attributes": {
          "classes": [
            "bash"
          ],
          "id": ""
        }
      }
    },
    {
      "id": "cell-72",
      "source": "<p>This loop runs the <code style=\"color: inherit\">cp</code> command once for each filename.\nThe first time,\nwhen <code style=\"color: inherit\">&#36;filename</code> expands to <code style=\"color: inherit\">basilisk.dat</code>,\nthe shell executes:</p>\n<div class=\"language-plaintext highlighter-rouge\"><div><pre style=\"color: inherit; background: transparent\"><code style=\"color: inherit\">cp basilisk.dat original-basilisk.dat\n</code></pre></div></div>\n<p>The second time, the command is:</p>\n<div class=\"language-plaintext highlighter-rouge\"><div><pre style=\"color: inherit; background: transparent\"><code style=\"color: inherit\">cp minotaur.dat original-minotaur.dat\n</code></pre></div></div>\n<p>The third and last time, the command is:</p>\n<div class=\"language-plaintext highlighter-rouge\"><div><pre style=\"color: inherit; background: transparent\"><code style=\"color: inherit\">cp unicorn.dat original-unicorn.dat\n</code></pre></div></div>\n<p>Since the <code style=\"color: inherit\">cp</code> command does not normally produce any output, it’s hard to check\nthat the loop is doing the correct thing.\nHowever, we learned earlier how to print strings using <code style=\"color: inherit\">echo</code>, and we can modify the loop\nto use <code style=\"color: inherit\">echo</code> to print our commands without actually executing them.\nAs such we can check what commands <em>would be</em> run in the unmodified loop.</p>\n<p>The following diagram\nshows what happens when the modified loop is executed, and demonstrates how the\njudicious use of <code style=\"color: inherit\">echo</code> is a good debugging technique.</p>\n<p><img src=\"data:image/svg+xml;base64,PD94bWwgdmVyc2lvbj0iMS4wIiBlbmNvZGluZz0iVVRGLTgiIHN0YW5kYWxv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\nZXh0Pgo8L3N2Zz4=\n\"\" alt=\"The for loop 'for filename in *.dat; do echo cp &#36;filename original-&#36;filename; done' will successively assign the names of all '*.dat' files in your current directory to the variable '&#36;filename' and then execute the command. With the files 'basilisk.dat', 'minotaur.dat' and 'unicorn.dat' in the current directory the loop will successively call the echo command three times and print three lines: 'cp basislisk.dat original-basilisk.dat', then 'cp minotaur.dat original-minotaur.dat' and finally 'cp unicorn.dat original-unicorn.dat'. \" loading=\"lazy\" /></p>\n<h2 id=\"nelles-pipeline-processing-files\">Nelle’s Pipeline: Processing Files</h2>\n<p>Nelle is now ready to process her data files using <code style=\"color: inherit\">goostats.sh</code> —\na shell script written by her supervisor.\nThis calculates some statistics from a protein sample file, and takes two arguments:</p>\n<ol>\n<li>an input file (containing the raw data)</li>\n<li>an output file (to store the calculated statistics)</li>\n</ol>\n<p>Since she’s still learning how to use the shell,\nshe decides to build up the required commands in stages.\nHer first step is to make sure that she can select the right input files — remember,\nthese are ones whose names end in ‘A’ or ‘B’, rather than ‘Z’.\nStarting from her home directory, Nelle types:</p>\n",
      "cell_type": "markdown",
      "metadata": {
        "editable": false,
        "collapsed": false
      }
    },
    {
      "id": "cell-73",
      "source": [
        "cd ~/Desktop/shell-lesson-data/north-pacific-gyre/2012-07-03\n",
        "for datafile in NENE*A.txt NENE*B.txt\n",
        "do\n",
        "    echo $datafile\n",
        "done"
      ],
      "cell_type": "code",
      "execution_count": null,
      "outputs": [

      ],
      "metadata": {
        "attributes": {
          "classes": [
            "bash"
          ],
          "id": ""
        }
      }
    },
    {
      "id": "cell-74",
      "source": "<p>Her next step is to decide\nwhat to call the files that the <code style=\"color: inherit\">goostats.sh</code> analysis program will create.\nPrefixing each input file’s name with ‘stats’ seems simple,\nso she modifies her loop to do that:</p>\n",
      "cell_type": "markdown",
      "metadata": {
        "editable": false,
        "collapsed": false
      }
    },
    {
      "id": "cell-75",
      "source": [
        "for datafile in NENE*A.txt NENE*B.txt\n",
        "do\n",
        "    echo $datafile stats-$datafile\n",
        "done"
      ],
      "cell_type": "code",
      "execution_count": null,
      "outputs": [

      ],
      "metadata": {
        "attributes": {
          "classes": [
            "bash"
          ],
          "id": ""
        }
      }
    },
    {
      "id": "cell-76",
      "source": "<p>She hasn’t actually run <code style=\"color: inherit\">goostats.sh</code> yet,\nbut now she’s sure she can select the right files and generate the right output filenames.</p>\n<blockquote class=\"tip\" style=\"border: 2px solid #FFE19E; margin: 1em 0.2em\">\n<div id=\"tip-top-terminal-tip-re-running-previous-commands\" class=\"box-title\"><button type=\"button\" aria-controls=\"tip-top-terminal-tip-re-running-previous-commands-contents\" aria-expanded=\"true\" aria-label=\"Toggle tip box: Top Terminal Tip: Re-running previous commands\"><i class=\"far fa-lightbulb\" aria-hidden=\"true\"></i><span class=\"visually-hidden\"></span> Tip: Top Terminal Tip: Re-running previous commands<span role=\"button\" class=\"fold-unfold fa fa-minus-square\"></span></button></div>\n<p>Typing in commands over and over again is becoming tedious,\nthough,\nand Nelle is worried about making mistakes,\nso instead of re-entering her loop,\nshe presses <kbd>↑</kbd>.\nIn response,\nthe shell redisplays the whole loop on one line\n(using semi-colons to separate the pieces):</p>\n<div class=\"language-plaintext highlighter-rouge\"><div><pre style=\"color: inherit; background: transparent\"><code style=\"color: inherit\">for datafile in NENE*A.txt NENE*B.txt; do echo &#36;datafile stats-&#36;datafile; done\n</code></pre></div>  </div>\n</blockquote>\n<p>Using the left arrow key,\nNelle backs up and changes the command <code style=\"color: inherit\">echo</code> to <code style=\"color: inherit\">bash goostats.sh</code>:</p>\n<div class=\"language-plaintext highlighter-rouge\"><div><pre style=\"color: inherit; background: transparent\"><code style=\"color: inherit\">for datafile in NENE*A.txt NENE*B.txt; do bash goostats.sh &#36;datafile stats-&#36;datafile; done\n</code></pre></div></div>\n<p>When she presses <kbd>Enter</kbd>,\nthe shell runs the modified command.\nHowever, nothing appears to happen — there is no output.\nAfter a moment, Nelle realizes that since her script doesn’t print anything to the screen\nany longer, she has no idea whether it is running, much less how quickly.\nShe kills the running command by typing <kbd>Ctrl</kbd>+<kbd>C</kbd>,\nuses <kbd>↑</kbd> to repeat the command,\nand edits it to read:</p>\n<div class=\"language-plaintext highlighter-rouge\"><div><pre style=\"color: inherit; background: transparent\"><code style=\"color: inherit\">for datafile in NENE*A.txt NENE*B.txt; do echo &#36;datafile; bash goostats.sh &#36;datafile stats-&#36;datafile; done\n</code></pre></div></div>\n<blockquote class=\"tip\" style=\"border: 2px solid #FFE19E; margin: 1em 0.2em\">\n<div id=\"tip-beginning-and-end\" class=\"box-title\"><button type=\"button\" aria-controls=\"tip-beginning-and-end-contents\" aria-expanded=\"true\" aria-label=\"Toggle tip box: Beginning and End\"><i class=\"far fa-lightbulb\" aria-hidden=\"true\"></i><span class=\"visually-hidden\"></span> Tip: Beginning and End<span role=\"button\" class=\"fold-unfold fa fa-minus-square\"></span></button></div>\n<p>We can move to the beginning of a line in the shell by typing <kbd>Ctrl</kbd>+<kbd>A</kbd>\nand to the end using <kbd>Ctrl</kbd>+<kbd>E</kbd>.</p>\n</blockquote>\n<p>When she runs her program now,\nit produces one line of output every five seconds or so:</p>\n<p>1518 times 5 seconds,\ndivided by 60,\ntells her that her script will take about two hours to run.\nAs a final check,\nshe opens another terminal window,\ngoes into <code style=\"color: inherit\">north-pacific-gyre/2012-07-03</code>,\nand uses <code style=\"color: inherit\">cat stats-NENE01729B.txt</code>\nto examine one of the output files.\nIt looks good,\nso she decides to get some coffee and catch up on her reading.</p>\n<blockquote class=\"tip\" style=\"border: 2px solid #FFE19E; margin: 1em 0.2em\">\n<div id=\"tip-those-who-know-history-can-choose-to-repeat-it\" class=\"box-title\"><button type=\"button\" aria-controls=\"tip-those-who-know-history-can-choose-to-repeat-it-contents\" aria-expanded=\"true\" aria-label=\"Toggle tip box: Those Who Know History Can Choose to Repeat It\"><i class=\"far fa-lightbulb\" aria-hidden=\"true\"></i><span class=\"visually-hidden\"></span> Tip: Those Who Know History Can Choose to Repeat It<span role=\"button\" class=\"fold-unfold fa fa-minus-square\"></span></button></div>\n<p>Another way to repeat previous work is to use the <code style=\"color: inherit\">history</code> command to\nget a list of the last few hundred commands that have been executed, and\nthen to use <code style=\"color: inherit\">!123</code> (where ‘123’ is replaced by the command number) to\nrepeat one of those commands. For example, if Nelle types this:</p>\n<div class=\"language-plaintext highlighter-rouge\"><div><pre style=\"color: inherit; background: transparent\"><code style=\"color: inherit\">&#36; history | tail -n 5\n</code></pre></div>  </div>\n<div class=\"language-plaintext highlighter-rouge\"><div><pre style=\"color: inherit; background: transparent\"><code style=\"color: inherit\">  456  ls -l NENE0*.txt\n  457  rm stats-NENE01729B.txt.txt\n  458  bash goostats.sh NENE01729B.txt stats-NENE01729B.txt\n  459  ls -l NENE0*.txt\n  460  history\n</code></pre></div>  </div>\n<p>then she can re-run <code style=\"color: inherit\">goostats.sh</code> on <code style=\"color: inherit\">NENE01729B.txt</code> simply by typing\n<code style=\"color: inherit\">!458</code>. This number will be different for you, you should check your history before running it!</p>\n</blockquote>\n<blockquote class=\"tip\" style=\"border: 2px solid #FFE19E; margin: 1em 0.2em\">\n<div id=\"tip-other-history-commands\" class=\"box-title\"><button type=\"button\" aria-controls=\"tip-other-history-commands-contents\" aria-expanded=\"true\" aria-label=\"Toggle tip box: Other History Commands\"><i class=\"far fa-lightbulb\" aria-hidden=\"true\"></i><span class=\"visually-hidden\"></span> Tip: Other History Commands<span role=\"button\" class=\"fold-unfold fa fa-minus-square\"></span></button></div>\n<p>There are a number of other shortcut commands for getting at the history.</p>\n<ul>\n<li><kbd>Ctrl</kbd>+<kbd>R</kbd> enters a history search mode ‘reverse-i-search’ and finds the\nmost recent command in your history that matches the text you enter next.\nPress <kbd>Ctrl</kbd>+<kbd>R</kbd> one or more additional times to search for earlier matches.\nYou can then use the left and right arrow keys to choose that line and edit\nit then hit <kbd>Return</kbd> to run the command.</li>\n<li><code style=\"color: inherit\">!!</code> retrieves the immediately preceding command\n(you may or may not find this more convenient than using <kbd>↑</kbd>)</li>\n<li><code style=\"color: inherit\">!&#36;</code> retrieves the last word of the last command.\nThat’s useful more often than you might expect: after\n<code style=\"color: inherit\">bash goostats.sh NENE01729B.txt stats-NENE01729B.txt</code>, you can type\n<code style=\"color: inherit\">less !&#36;</code> to look at the file <code style=\"color: inherit\">stats-NENE01729B.txt</code>, which is\nquicker than doing <kbd>↑</kbd> and editing the command-line.</li>\n</ul>\n</blockquote>\n<blockquote class=\"question\" style=\"border: 2px solid #8A9AD0; margin: 1em 0.2em\">\n<div id=\"question-doing-a-dry-run\" class=\"box-title\" aria-label=\"question box: Doing a Dry Run\"><i class=\"far fa-question-circle\" aria-hidden=\"true\"></i><span class=\"visually-hidden\"></span> Question: Doing a Dry Run</div>\n<p>A loop is a way to do many things at once — or to make many mistakes at\nonce if it does the wrong thing. One way to check what a loop <em>would</em> do\nis to <code style=\"color: inherit\">echo</code> the commands it would run instead of actually running them.</p>\n<p>Suppose we want to preview the commands the following loop will execute\nwithout actually running those commands:</p>\n<div class=\"language-plaintext highlighter-rouge\"><div><pre style=\"color: inherit; background: transparent\"><code style=\"color: inherit\">cd ~/Desktop/shell-lesson-data/pdb/\nfor datafile in *.pdb\ndo\n    cat &#36;datafile &gt;&gt; all.pdb\ndone\n</code></pre></div>  </div>\n<p>What is the difference between the two loops below, and which one would we\nwant to run?</p>\n<blockquote class=\"code-in\" style=\"border: 2px solid #86D486; margin: 1em 0.2em\">\n<div id=\"code-in-version-1\" class=\"box-title\" aria-label=\"code-in box: Version 1\"><i class=\"far fa-keyboard\" aria-hidden=\"true\"></i><span class=\"visually-hidden\"></span> Input: Version 1</div>\n<div class=\"language-plaintext highlighter-rouge\"><div><pre style=\"color: inherit; background: transparent\"><code style=\"color: inherit\">for datafile in *.pdb\ndo\n    echo cat &#36;datafile &gt;&gt; all.pdb\ndone\n</code></pre></div>    </div>\n</blockquote>\n<blockquote class=\"code-in\" style=\"border: 2px solid #86D486; margin: 1em 0.2em\">\n<div id=\"code-in-version-2\" class=\"box-title\" aria-label=\"code-in box: Version 2\"><i class=\"far fa-keyboard\" aria-hidden=\"true\"></i><span class=\"visually-hidden\"></span> Input: Version 2</div>\n<div class=\"language-plaintext highlighter-rouge\"><div><pre style=\"color: inherit; background: transparent\"><code style=\"color: inherit\">for datafile in *.pdb\ndo\n    echo \"cat &#36;datafile &gt;&gt; all.pdb\"\ndone\n</code></pre></div>    </div>\n</blockquote>\n<br/><details style=\"border: 2px solid #B8C3EA; margin: 1em 0.2em; padding: 0.5em;\"><summary>👁 View solution</summary>\n<div id=\"solution-solution\" class=\"box-title\"><button type=\"button\" aria-controls=\"solution-solution-contents\" aria-expanded=\"true\" aria-label=\"Toggle solution box: Solution\"><i class=\"far fa-eye\" aria-hidden=\"true\"></i><span class=\"visually-hidden\"></span> Solution: Solution<span role=\"button\" class=\"fold-unfold fa fa-minus-square\"></span></button></div>\n<p>The second version is the one we want to run.\nThis prints to screen everything enclosed in the quote marks, expanding the\nloop variable name because we have prefixed it with a dollar sign.</p>\n<p>The first version appends the output from the command <code style=\"color: inherit\">echo cat &#36;datafile</code>\nto the file, <code style=\"color: inherit\">all.pdb</code>. This file will just contain the list;\n<code style=\"color: inherit\">cat cubane.pdb</code>, <code style=\"color: inherit\">cat ethane.pdb</code>, <code style=\"color: inherit\">cat methane.pdb</code> etc.</p>\n<p>Try both versions for yourself to see the output! Be sure to open the\n<code style=\"color: inherit\">all.pdb</code> file to view its contents.</p>\n</details>\n</blockquote>\n",
      "cell_type": "markdown",
      "metadata": {
        "editable": false,
        "collapsed": false
      }
    },
    {
      "id": "cell-77",
      "source": [
        "# Explore the possible solutions here!"
      ],
      "cell_type": "code",
      "execution_count": null,
      "outputs": [

      ],
      "metadata": {
        "attributes": {
          "classes": [
            "bash"
          ],
          "id": ""
        }
      }
    },
    {
      "id": "cell-78",
      "source": "<blockquote class=\"question\" style=\"border: 2px solid #8A9AD0; margin: 1em 0.2em\">\n<div id=\"question-nested-loops\" class=\"box-title\" aria-label=\"question box: Nested Loops\"><i class=\"far fa-question-circle\" aria-hidden=\"true\"></i><span class=\"visually-hidden\"></span> Question: Nested Loops</div>\n<p>Suppose we want to set up a directory structure to organize\nsome experiments measuring reaction rate constants with different compounds\n<em>and</em> different temperatures.  What would be the\nresult of the following code:</p>\n<div class=\"language-plaintext highlighter-rouge\"><div><pre style=\"color: inherit; background: transparent\"><code style=\"color: inherit\">for species in cubane ethane methane\ndo\n    for temperature in 25 30 37 40\n    do\n        mkdir &#36;species-&#36;temperature\n    done\ndone\n</code></pre></div>  </div>\n<br/><details style=\"border: 2px solid #B8C3EA; margin: 1em 0.2em; padding: 0.5em;\"><summary>👁 View solution</summary>\n<div id=\"solution-12\" class=\"box-title\"><button type=\"button\" aria-controls=\"solution-12-contents\" aria-expanded=\"true\" aria-label=\"Toggle solution box: \"><i class=\"far fa-eye\" aria-hidden=\"true\"></i><span class=\"visually-hidden\"></span> Solution<span role=\"button\" class=\"fold-unfold fa fa-minus-square\"></span></button></div>\n<p>We have a nested loop, i.e. contained within another loop, so for each species\nin the outer loop, the inner loop (the nested loop) iterates over the list of\ntemperatures, and creates a new directory for each combination.</p>\n<p>Try running the code for yourself to see which directories are created!</p>\n</details>\n</blockquote>\n",
      "cell_type": "markdown",
      "metadata": {
        "editable": false,
        "collapsed": false
      }
    },
    {
      "id": "cell-79",
      "source": [
        "# Explore the possible solutions here!"
      ],
      "cell_type": "code",
      "execution_count": null,
      "outputs": [

      ],
      "metadata": {
        "attributes": {
          "classes": [
            "bash"
          ],
          "id": ""
        }
      }
    },
    {
      "id": "cell-80",
      "source": "<h1 id=\"finding-things\">Finding Things</h1>\n<p>In the same way that many of us now use ‘Google’ as a\nverb meaning ‘to find’, Unix programmers often use the\nword ‘grep’.\n‘grep’ is a contraction of ‘global/regular expression/print’,\na common sequence of operations in early Unix text editors.\nIt is also the name of a very useful command-line program.</p>\n<p><code style=\"color: inherit\">grep</code> finds and prints lines in files that match a pattern.\nFor our examples,\nwe will use a file that contains three haiku taken from a\n1998 competition in <em>Salon</em> magazine. For this set of examples,\nwe’re going to be working in the writing subdirectory:</p>\n",
      "cell_type": "markdown",
      "metadata": {
        "editable": false,
        "collapsed": false
      }
    },
    {
      "id": "cell-81",
      "source": [
        "cd\n",
        "cd Desktop/shell-lesson-data/writing\n",
        "cat haiku.txt"
      ],
      "cell_type": "code",
      "execution_count": null,
      "outputs": [

      ],
      "metadata": {
        "attributes": {
          "classes": [
            "bash"
          ],
          "id": ""
        }
      }
    },
    {
      "id": "cell-82",
      "source": "<blockquote class=\"tip\" style=\"border: 2px solid #FFE19E; margin: 1em 0.2em\">\n<div id=\"tip-forever-or-five-years\" class=\"box-title\"><button type=\"button\" aria-controls=\"tip-forever-or-five-years-contents\" aria-expanded=\"true\" aria-label=\"Toggle tip box: Forever, or Five Years\"><i class=\"far fa-lightbulb\" aria-hidden=\"true\"></i><span class=\"visually-hidden\"></span> Tip: Forever, or Five Years<span role=\"button\" class=\"fold-unfold fa fa-minus-square\"></span></button></div>\n<p>We haven’t linked to the original haiku because\nthey don’t appear to be on <em>Salon</em>’s site any longer.\nAs <a href=\"https://www.clir.org/wp-content/uploads/sites/6/ensuring.pdf\">Jeff Rothenberg said</a>,\n‘Digital information lasts forever — or five years, whichever comes first.’\nLuckily, popular content often <a href=\"http://wiki.c2.com/?ComputerErrorHaiku\">has backups</a>.</p>\n</blockquote>\n<p>Let’s find lines that contain the word ‘not’:</p>\n",
      "cell_type": "markdown",
      "metadata": {
        "editable": false,
        "collapsed": false
      }
    },
    {
      "id": "cell-83",
      "source": [
        "grep not haiku.txt"
      ],
      "cell_type": "code",
      "execution_count": null,
      "outputs": [

      ],
      "metadata": {
        "attributes": {
          "classes": [
            "bash"
          ],
          "id": ""
        }
      }
    },
    {
      "id": "cell-84",
      "source": "<p>Here, <code style=\"color: inherit\">not</code> is the pattern we’re searching for.\nThe grep command searches through the file, looking for matches to the pattern specified.\nTo use it type <code style=\"color: inherit\">grep</code>, then the pattern we’re searching for and finally\nthe name of the file (or files) we’re searching in.</p>\n<p>The output is the three lines in the file that contain the letters ‘not’.</p>\n<p>By default, grep searches for a pattern in a case-sensitive way.\nIn addition, the search pattern we have selected does not have to form a complete word,\nas we will see in the next example.</p>\n<p>Let’s search for the pattern: ‘The’.</p>\n",
      "cell_type": "markdown",
      "metadata": {
        "editable": false,
        "collapsed": false
      }
    },
    {
      "id": "cell-85",
      "source": [
        "grep The haiku.txt"
      ],
      "cell_type": "code",
      "execution_count": null,
      "outputs": [

      ],
      "metadata": {
        "attributes": {
          "classes": [
            "bash"
          ],
          "id": ""
        }
      }
    },
    {
      "id": "cell-86",
      "source": "<p>This time, two lines that include the letters ‘The’ are outputted,\none of which contained our search pattern within a larger word, ‘Thesis’.</p>\n<p>To restrict matches to lines containing the word ‘The’ on its own,\nwe can give <code style=\"color: inherit\">grep</code> with the <code style=\"color: inherit\">-w</code> option.\nThis will limit matches to word boundaries.</p>\n<p>Later in this lesson, we will also see how we can change the search behavior of grep\nwith respect to its case sensitivity.</p>\n",
      "cell_type": "markdown",
      "metadata": {
        "editable": false,
        "collapsed": false
      }
    },
    {
      "id": "cell-87",
      "source": [
        "grep -w The haiku.txt"
      ],
      "cell_type": "code",
      "execution_count": null,
      "outputs": [

      ],
      "metadata": {
        "attributes": {
          "classes": [
            "bash"
          ],
          "id": ""
        }
      }
    },
    {
      "id": "cell-88",
      "source": "<p>Note that a ‘word boundary’ includes the start and end of a line, so not\njust letters surrounded by spaces.\nSometimes we don’t\nwant to search for a single word, but a phrase. This is also easy to do with\n<code style=\"color: inherit\">grep</code> by putting the phrase in quotes.</p>\n",
      "cell_type": "markdown",
      "metadata": {
        "editable": false,
        "collapsed": false
      }
    },
    {
      "id": "cell-89",
      "source": [
        "grep -w \"is not\" haiku.txt"
      ],
      "cell_type": "code",
      "execution_count": null,
      "outputs": [

      ],
      "metadata": {
        "attributes": {
          "classes": [
            "bash"
          ],
          "id": ""
        }
      }
    },
    {
      "id": "cell-90",
      "source": "<p>We’ve now seen that you don’t have to have quotes around single words,\nbut it is useful to use quotes when searching for multiple words.\nIt also helps to make it easier to distinguish between the search term or phrase\nand the file being searched.\nWe will use quotes in the remaining examples.</p>\n<p>Another useful option is <code style=\"color: inherit\">-n</code>, which numbers the lines that match:</p>\n",
      "cell_type": "markdown",
      "metadata": {
        "editable": false,
        "collapsed": false
      }
    },
    {
      "id": "cell-91",
      "source": [
        "grep -n \"it\" haiku.txt"
      ],
      "cell_type": "code",
      "execution_count": null,
      "outputs": [

      ],
      "metadata": {
        "attributes": {
          "classes": [
            "bash"
          ],
          "id": ""
        }
      }
    },
    {
      "id": "cell-92",
      "source": "<p>Here, we can see that lines 5, 9, and 10 contain the letters ‘it’.</p>\n<p>We can combine options (i.e. flags) as we do with other Unix commands.\nFor example, let’s find the lines that contain the word ‘the’.\nWe can combine the option <code style=\"color: inherit\">-w</code> to find the lines that contain the word ‘the’\nand <code style=\"color: inherit\">-n</code> to number the lines that match:</p>\n",
      "cell_type": "markdown",
      "metadata": {
        "editable": false,
        "collapsed": false
      }
    },
    {
      "id": "cell-93",
      "source": [
        "grep -n -w \"the\" haiku.txt"
      ],
      "cell_type": "code",
      "execution_count": null,
      "outputs": [

      ],
      "metadata": {
        "attributes": {
          "classes": [
            "bash"
          ],
          "id": ""
        }
      }
    },
    {
      "id": "cell-94",
      "source": "<p>Now we want to use the option <code style=\"color: inherit\">-i</code> to make our search case-insensitive:</p>\n",
      "cell_type": "markdown",
      "metadata": {
        "editable": false,
        "collapsed": false
      }
    },
    {
      "id": "cell-95",
      "source": [
        "grep -n -w -i \"the\" haiku.txt"
      ],
      "cell_type": "code",
      "execution_count": null,
      "outputs": [

      ],
      "metadata": {
        "attributes": {
          "classes": [
            "bash"
          ],
          "id": ""
        }
      }
    },
    {
      "id": "cell-96",
      "source": "<p>Now, we want to use the option <code style=\"color: inherit\">-v</code> to invert our search, i.e., we want to output\nthe lines that do not contain the word ‘the’.</p>\n",
      "cell_type": "markdown",
      "metadata": {
        "editable": false,
        "collapsed": false
      }
    },
    {
      "id": "cell-97",
      "source": [
        "grep -n -w -v \"the\" haiku.txt"
      ],
      "cell_type": "code",
      "execution_count": null,
      "outputs": [

      ],
      "metadata": {
        "attributes": {
          "classes": [
            "bash"
          ],
          "id": ""
        }
      }
    },
    {
      "id": "cell-98",
      "source": "<p>If we use the <code style=\"color: inherit\">-r</code> (recursive) option,\n<code style=\"color: inherit\">grep</code> can search for a pattern recursively through a set of files in subdirectories.</p>\n<p>Let’s search recursively for <code style=\"color: inherit\">Yesterday</code> in the <code style=\"color: inherit\">shell-lesson-data/writing</code> directory:</p>\n",
      "cell_type": "markdown",
      "metadata": {
        "editable": false,
        "collapsed": false
      }
    },
    {
      "id": "cell-99",
      "source": [
        "grep -r Yesterday ."
      ],
      "cell_type": "code",
      "execution_count": null,
      "outputs": [

      ],
      "metadata": {
        "attributes": {
          "classes": [
            "bash"
          ],
          "id": ""
        }
      }
    },
    {
      "id": "cell-100",
      "source": "<p><code class=\"language-plaintext highlighter-rouge\">grep</code> has lots of other options. To find out what they are, we can type:</p>\n",
      "cell_type": "markdown",
      "metadata": {
        "editable": false,
        "collapsed": false
      }
    },
    {
      "id": "cell-101",
      "source": [
        "grep --help"
      ],
      "cell_type": "code",
      "execution_count": null,
      "outputs": [

      ],
      "metadata": {
        "attributes": {
          "classes": [
            "bash"
          ],
          "id": ""
        }
      }
    },
    {
      "id": "cell-102",
      "source": "<blockquote class=\"question\" style=\"border: 2px solid #8A9AD0; margin: 1em 0.2em\">\n<div id=\"question-using-grep\" class=\"box-title\" aria-label=\"question box: Using &lt;code&gt;grep&lt;/code&gt;\"><i class=\"far fa-question-circle\" aria-hidden=\"true\"></i><span class=\"visually-hidden\"></span> Question: Using <code style=\"color: inherit\">grep</code></div>\n<p>Which command would result in the following output:</p>\n<div class=\"language-plaintext highlighter-rouge\"><div><pre style=\"color: inherit; background: transparent\"><code style=\"color: inherit\">and the presence of absence:\n</code></pre></div>  </div>\n<ol>\n<li><code style=\"color: inherit\">grep \"of\" haiku.txt</code></li>\n<li><code style=\"color: inherit\">grep -E \"of\" haiku.txt</code></li>\n<li><code style=\"color: inherit\">grep -w \"of\" haiku.txt</code></li>\n<li><code style=\"color: inherit\">grep -i \"of\" haiku.txt</code></li>\n</ol>\n<br/><details style=\"border: 2px solid #B8C3EA; margin: 1em 0.2em; padding: 0.5em;\"><summary>👁 View solution</summary>\n<div id=\"solution-13\" class=\"box-title\"><button type=\"button\" aria-controls=\"solution-13-contents\" aria-expanded=\"true\" aria-label=\"Toggle solution box: \"><i class=\"far fa-eye\" aria-hidden=\"true\"></i><span class=\"visually-hidden\"></span> Solution<span role=\"button\" class=\"fold-unfold fa fa-minus-square\"></span></button></div>\n<p>The correct answer is 3, because the <code style=\"color: inherit\">-w</code> option looks only for whole-word matches.\nThe other options will also match ‘of’ when part of another word.</p>\n</details>\n</blockquote>\n",
      "cell_type": "markdown",
      "metadata": {
        "editable": false,
        "collapsed": false
      }
    },
    {
      "id": "cell-103",
      "source": [
        "# Explore the possible solutions here!"
      ],
      "cell_type": "code",
      "execution_count": null,
      "outputs": [

      ],
      "metadata": {
        "attributes": {
          "classes": [
            "bash"
          ],
          "id": ""
        }
      }
    },
    {
      "id": "cell-104",
      "source": "<blockquote class=\"tip\" style=\"border: 2px solid #FFE19E; margin: 1em 0.2em\">\n<div id=\"tip-wildcards\" class=\"box-title\"><button type=\"button\" aria-controls=\"tip-wildcards-contents\" aria-expanded=\"true\" aria-label=\"Toggle tip box: Wildcards\"><i class=\"far fa-lightbulb\" aria-hidden=\"true\"></i><span class=\"visually-hidden\"></span> Tip: Wildcards<span role=\"button\" class=\"fold-unfold fa fa-minus-square\"></span></button></div>\n<p><code style=\"color: inherit\">grep</code>’s real power doesn’t come from its options, though; it comes from\nthe fact that patterns can include wildcards. (The technical name for\nthese is <strong>regular expressions</strong>, which\nis what the ‘re’ in ‘grep’ stands for.) Regular expressions are both complex\nand powerful; if you want to do complex searches, please look at the lesson\non <a href=\"http://v4.software-carpentry.org/regexp/index.html\">our website</a>. As a taster, we can\nfind lines that have an ‘o’ in the second position like this:</p>\n<div class=\"language-plaintext highlighter-rouge\"><div><pre style=\"color: inherit; background: transparent\"><code style=\"color: inherit\">&#36; grep -E \"^.o\" haiku.txt\n</code></pre></div>  </div>\n<div class=\"language-plaintext highlighter-rouge\"><div><pre style=\"color: inherit; background: transparent\"><code style=\"color: inherit\">You bring fresh toner.\nToday it is not working\nSoftware is like that.\n</code></pre></div>  </div>\n<p>We use the <code style=\"color: inherit\">-E</code> option and put the pattern in quotes to prevent the shell\nfrom trying to interpret it. (If the pattern contained a <code style=\"color: inherit\">*</code>, for\nexample, the shell would try to expand it before running <code style=\"color: inherit\">grep</code>.) The\n<code style=\"color: inherit\">^</code> in the pattern anchors the match to the start of the line. The <code style=\"color: inherit\">.</code>\nmatches a single character (just like <code style=\"color: inherit\">?</code> in the shell), while the <code style=\"color: inherit\">o</code>\nmatches an actual ‘o’.</p>\n</blockquote>\n",
      "cell_type": "markdown",
      "metadata": {
        "editable": false,
        "collapsed": false
      }
    },
    {
      "id": "cell-105",
      "source": [
        "# Explore the possible solutions here!"
      ],
      "cell_type": "code",
      "execution_count": null,
      "outputs": [

      ],
      "metadata": {
        "attributes": {
          "classes": [
            "bash"
          ],
          "id": ""
        }
      }
    },
    {
      "id": "cell-106",
      "source": "<blockquote class=\"question\" style=\"border: 2px solid #8A9AD0; margin: 1em 0.2em\">\n<div id=\"question-tracking-a-species\" class=\"box-title\" aria-label=\"question box: Tracking a Species\"><i class=\"far fa-question-circle\" aria-hidden=\"true\"></i><span class=\"visually-hidden\"></span> Question: Tracking a Species</div>\n<p>Leah has several hundred\ndata files saved in one directory, each of which is formatted like this:</p>\n<div class=\"language-plaintext highlighter-rouge\"><div><pre style=\"color: inherit; background: transparent\"><code style=\"color: inherit\">2013-11-05,deer,5\n2013-11-05,rabbit,22\n2013-11-05,raccoon,7\n2013-11-06,rabbit,19\n2013-11-06,deer,2\n</code></pre></div>  </div>\n<p>She wants to write a shell script that takes a species as the first command-line argument\nand a directory as the second argument. The script should return one file called <code style=\"color: inherit\">species.txt</code>\ncontaining a list of dates and the number of that species seen on each date.\nFor example using the data shown above, <code style=\"color: inherit\">rabbit.txt</code> would contain:</p>\n<div class=\"language-plaintext highlighter-rouge\"><div><pre style=\"color: inherit; background: transparent\"><code style=\"color: inherit\">2013-11-05,22\n2013-11-06,19\n</code></pre></div>  </div>\n<p>Put these commands and pipes in the right order to achieve this:</p>\n<div class=\"language-plaintext highlighter-rouge\"><div><pre style=\"color: inherit; background: transparent\"><code style=\"color: inherit\">cut -d : -f 2\n&gt;\n|\ngrep -w &#36;1 -r &#36;2\n|\n&#36;1.txt\ncut -d , -f 1,3\n</code></pre></div>  </div>\n<p>Hint: use <code style=\"color: inherit\">man grep</code> to look for how to grep text recursively in a directory\nand <code style=\"color: inherit\">man cut</code> to select more than one field in a line.</p>\n<p>An example of such a file is provided in <code style=\"color: inherit\">shell-lesson-data/data/animal-counts/animals.txt</code></p>\n<br/><details style=\"border: 2px solid #B8C3EA; margin: 1em 0.2em; padding: 0.5em;\"><summary>👁 View solution</summary>\n<div id=\"solution-14\" class=\"box-title\"><button type=\"button\" aria-controls=\"solution-14-contents\" aria-expanded=\"true\" aria-label=\"Toggle solution box: \"><i class=\"far fa-eye\" aria-hidden=\"true\"></i><span class=\"visually-hidden\"></span> Solution<span role=\"button\" class=\"fold-unfold fa fa-minus-square\"></span></button></div>\n<div class=\"language-plaintext highlighter-rouge\"><div><pre style=\"color: inherit; background: transparent\"><code style=\"color: inherit\">grep -w &#36;1 -r &#36;2 | cut -d : -f 2 | cut -d , -f 1,3 &gt; &#36;1.txt\n</code></pre></div>    </div>\n<p>Actually, you can swap the order of the two cut commands and it still works. At the\ncommand line, try changing the order of the cut commands, and have a look at the output\nfrom each step to see why this is the case.</p>\n<p>You would call the script above like this:</p>\n<div class=\"language-plaintext highlighter-rouge\"><div><pre style=\"color: inherit; background: transparent\"><code style=\"color: inherit\">&#36; bash count-species.sh bear .\n</code></pre></div>    </div>\n</details>\n</blockquote>\n",
      "cell_type": "markdown",
      "metadata": {
        "editable": false,
        "collapsed": false
      }
    },
    {
      "id": "cell-107",
      "source": [
        "# Explore the possible solutions here!"
      ],
      "cell_type": "code",
      "execution_count": null,
      "outputs": [

      ],
      "metadata": {
        "attributes": {
          "classes": [
            "bash"
          ],
          "id": ""
        }
      }
    },
    {
      "id": "cell-108",
      "source": "<blockquote class=\"question\" style=\"border: 2px solid #8A9AD0; margin: 1em 0.2em\">\n<div id=\"question-little-women\" class=\"box-title\" aria-label=\"question box: Little Women\"><i class=\"far fa-question-circle\" aria-hidden=\"true\"></i><span class=\"visually-hidden\"></span> Question: Little Women</div>\n<p>You and your friend, having just finished reading <em>Little Women</em> by\nLouisa May Alcott, are in an argument.  Of the four sisters in the\nbook, Jo, Meg, Beth, and Amy, your friend thinks that Jo was the\nmost mentioned.  You, however, are certain it was Amy.  Luckily, you\nhave a file <code style=\"color: inherit\">LittleWomen.txt</code> containing the full text of the novel\n(<code class=\"language-plaintext highlighter-rouge\">shell-lesson-data/writing/data/LittleWomen.txt</code>).\nUsing a <code style=\"color: inherit\">for</code> loop, how would you tabulate the number of times each\nof the four sisters is mentioned?</p>\n<p>Hint: one solution might employ\nthe commands <code style=\"color: inherit\">grep</code> and <code style=\"color: inherit\">wc</code> and a <code style=\"color: inherit\">|</code>, while another might utilize\n<code style=\"color: inherit\">grep</code> options.\nThere is often more than one way to solve a programming task, so a\nparticular solution is usually chosen based on a combination of\nyielding the correct result, elegance, readability, and speed.</p>\n<br/><details style=\"border: 2px solid #B8C3EA; margin: 1em 0.2em; padding: 0.5em;\"><summary>👁 View solution</summary>\n<div id=\"solution-15\" class=\"box-title\"><button type=\"button\" aria-controls=\"solution-15-contents\" aria-expanded=\"true\" aria-label=\"Toggle solution box: \"><i class=\"far fa-eye\" aria-hidden=\"true\"></i><span class=\"visually-hidden\"></span> Solution<span role=\"button\" class=\"fold-unfold fa fa-minus-square\"></span></button></div>\n<div class=\"language-plaintext highlighter-rouge\"><div><pre style=\"color: inherit; background: transparent\"><code style=\"color: inherit\">for sis in Jo Meg Beth Amy\ndo\n\techo &#36;sis:\n\tgrep -ow &#36;sis LittleWomen.txt | wc -l\ndone\n</code></pre></div>    </div>\n<p>Alternative, slightly inferior solution:</p>\n<div class=\"language-plaintext highlighter-rouge\"><div><pre style=\"color: inherit; background: transparent\"><code style=\"color: inherit\">for sis in Jo Meg Beth Amy\ndo\n\techo &#36;sis:\n\tgrep -ocw &#36;sis LittleWomen.txt\ndone\n</code></pre></div>    </div>\n<p>This solution is inferior because <code style=\"color: inherit\">grep -c</code> only reports the number of lines matched.\nThe total number of matches reported by this method will be lower if there is more\nthan one match per line.</p>\n<p>Perceptive observers may have noticed that character names sometimes appear in all-uppercase\nin chapter titles (e.g. ‘MEG GOES TO VANITY FAIR’).\nIf you wanted to count these as well, you could add the <code style=\"color: inherit\">-i</code> option for case-insensitivity\n(though in this case, it doesn’t affect the answer to which sister is mentioned\nmost frequently).</p>\n</details>\n</blockquote>\n",
      "cell_type": "markdown",
      "metadata": {
        "editable": false,
        "collapsed": false
      }
    },
    {
      "id": "cell-109",
      "source": [
        "# Explore the possible solutions here!"
      ],
      "cell_type": "code",
      "execution_count": null,
      "outputs": [

      ],
      "metadata": {
        "attributes": {
          "classes": [
            "bash"
          ],
          "id": ""
        }
      }
    },
    {
      "id": "cell-110",
      "source": "<p>While <code style=\"color: inherit\">grep</code> finds lines in files,\nthe <code style=\"color: inherit\">find</code> command finds files themselves.\nAgain,\nit has a lot of options;\nto show how the simplest ones work, we’ll use the directory tree shown below.</p>\n<p><img src=\"data:image/svg+xml;base64,PD94bWwgdmVyc2lvbj0iMS4wIiBlbmNvZGluZz0iVVRGLTgiIHN0YW5kYWxv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\nc3ZnPgo=\n\"\" alt=\"A file tree under the directory 'writing' contians several sub-directories and files such that 'writing' contains directories 'data', 'thesis', 'tools' and a file 'haiku.txt'; 'writing/data' contains the files 'Little Women.txt', 'one.txt' and 'two.txt'; 'writing/thesis' contains the file 'empty-draft.md'; 'writing/tools' contains the directory 'old' and the files 'format' and 'stats'; and 'writing/tools/old' contains a file 'oldtool'. \" loading=\"lazy\" /></p>\n<p>Nelle’s <code style=\"color: inherit\">writing</code> directory contains one file called <code style=\"color: inherit\">haiku.txt</code> and three subdirectories:\n<code style=\"color: inherit\">thesis</code> (which contains a sadly empty file, <code style=\"color: inherit\">empty-draft.md</code>);\n<code style=\"color: inherit\">data</code> (which contains three files <code style=\"color: inherit\">LittleWomen.txt</code>, <code style=\"color: inherit\">one.txt</code> and <code style=\"color: inherit\">two.txt</code>);\nand a <code style=\"color: inherit\">tools</code> directory that contains the programs <code style=\"color: inherit\">format</code> and <code style=\"color: inherit\">stats</code>,\nand a subdirectory called <code style=\"color: inherit\">old</code>, with a file <code style=\"color: inherit\">oldtool</code>.</p>\n<p>For our first command,\nlet’s run <code style=\"color: inherit\">find .</code> (remember to run this command from the <code style=\"color: inherit\">shell-lesson-data/writing</code> folder).</p>\n",
      "cell_type": "markdown",
      "metadata": {
        "editable": false,
        "collapsed": false
      }
    },
    {
      "id": "cell-111",
      "source": [
        "find ."
      ],
      "cell_type": "code",
      "execution_count": null,
      "outputs": [

      ],
      "metadata": {
        "attributes": {
          "classes": [
            "bash"
          ],
          "id": ""
        }
      }
    },
    {
      "id": "cell-112",
      "source": "<p>As always,\nthe <code style=\"color: inherit\">.</code> on its own means the current working directory,\nwhich is where we want our search to start.\n<code class=\"language-plaintext highlighter-rouge\">find</code>’s output is the names of every file <strong>and</strong> directory\nunder the current working directory.\nThis can seem useless at first but <code style=\"color: inherit\">find</code> has many options\nto filter the output and in this lesson we will discover some\nof them.</p>\n<p>The first option in our list is\n<code style=\"color: inherit\">-type d</code> that means ‘things that are directories’.\nSure enough,\n<code class=\"language-plaintext highlighter-rouge\">find</code>’s output is the names of the five directories in our little tree\n(including <code style=\"color: inherit\">.</code>):</p>\n",
      "cell_type": "markdown",
      "metadata": {
        "editable": false,
        "collapsed": false
      }
    },
    {
      "id": "cell-113",
      "source": [
        "find . -type d"
      ],
      "cell_type": "code",
      "execution_count": null,
      "outputs": [

      ],
      "metadata": {
        "attributes": {
          "classes": [
            "bash"
          ],
          "id": ""
        }
      }
    },
    {
      "id": "cell-114",
      "source": "<p>Notice that the objects <code style=\"color: inherit\">find</code> finds are not listed in any particular order.\nIf we change <code style=\"color: inherit\">-type d</code> to <code style=\"color: inherit\">-type f</code>,\nwe get a listing of all the files instead:</p>\n",
      "cell_type": "markdown",
      "metadata": {
        "editable": false,
        "collapsed": false
      }
    },
    {
      "id": "cell-115",
      "source": [
        "find . -type f"
      ],
      "cell_type": "code",
      "execution_count": null,
      "outputs": [

      ],
      "metadata": {
        "attributes": {
          "classes": [
            "bash"
          ],
          "id": ""
        }
      }
    },
    {
      "id": "cell-116",
      "source": "<p>Now let’s try matching by name:</p>\n",
      "cell_type": "markdown",
      "metadata": {
        "editable": false,
        "collapsed": false
      }
    },
    {
      "id": "cell-117",
      "source": [
        "find . -name *.txt"
      ],
      "cell_type": "code",
      "execution_count": null,
      "outputs": [

      ],
      "metadata": {
        "attributes": {
          "classes": [
            "bash"
          ],
          "id": ""
        }
      }
    },
    {
      "id": "cell-118",
      "source": "<p>We expected it to find all the text files,\nbut it only prints out <code style=\"color: inherit\">./haiku.txt</code>.\nThe problem is that the shell expands wildcard characters like <code style=\"color: inherit\">*</code> <em>before</em> commands run.\nSince <code style=\"color: inherit\">*.txt</code> in the current directory expands to <code style=\"color: inherit\">haiku.txt</code>,\nthe command we actually ran was:</p>\n",
      "cell_type": "markdown",
      "metadata": {
        "editable": false,
        "collapsed": false
      }
    },
    {
      "id": "cell-119",
      "source": [
        "find . -name haiku.txt"
      ],
      "cell_type": "code",
      "execution_count": null,
      "outputs": [

      ],
      "metadata": {
        "attributes": {
          "classes": [
            "bash"
          ],
          "id": ""
        }
      }
    },
    {
      "id": "cell-120",
      "source": "<p><code class=\"language-plaintext highlighter-rouge\">find</code> did what we asked; we just asked for the wrong thing.</p>\n<p>To get what we want,\nlet’s do what we did with <code style=\"color: inherit\">grep</code>:\nput <code style=\"color: inherit\">*.txt</code> in quotes to prevent the shell from expanding the <code style=\"color: inherit\">*</code> wildcard.\nThis way,\n<code style=\"color: inherit\">find</code> actually gets the pattern <code style=\"color: inherit\">*.txt</code>, not the expanded filename <code style=\"color: inherit\">haiku.txt</code>:</p>\n",
      "cell_type": "markdown",
      "metadata": {
        "editable": false,
        "collapsed": false
      }
    },
    {
      "id": "cell-121",
      "source": [
        "find . -name \"*.txt\""
      ],
      "cell_type": "code",
      "execution_count": null,
      "outputs": [

      ],
      "metadata": {
        "attributes": {
          "classes": [
            "bash"
          ],
          "id": ""
        }
      }
    },
    {
      "id": "cell-122",
      "source": "<blockquote class=\"tip\" style=\"border: 2px solid #FFE19E; margin: 1em 0.2em\">\n<div id=\"tip-listing-vs-finding\" class=\"box-title\"><button type=\"button\" aria-controls=\"tip-listing-vs-finding-contents\" aria-expanded=\"true\" aria-label=\"Toggle tip box: Listing vs. Finding\"><i class=\"far fa-lightbulb\" aria-hidden=\"true\"></i><span class=\"visually-hidden\"></span> Tip: Listing vs. Finding<span role=\"button\" class=\"fold-unfold fa fa-minus-square\"></span></button></div>\n<p><code style=\"color: inherit\">ls</code> and <code style=\"color: inherit\">find</code> can be made to do similar things given the right options,\nbut under normal circumstances,\n<code style=\"color: inherit\">ls</code> lists everything it can,\nwhile <code style=\"color: inherit\">find</code> searches for things with certain properties and shows them.</p>\n</blockquote>\n<p>As we said earlier,\nthe command line’s power lies in combining tools.\nWe’ve seen how to do that with pipes;\nlet’s look at another technique.\nAs we just saw,\n<code style=\"color: inherit\">find . -name \"*.txt\"</code> gives us a list of all text files in or below the current directory.\nHow can we combine that with <code style=\"color: inherit\">wc -l</code> to count the lines in all those files?</p>\n<p>The simplest way is to put the <code style=\"color: inherit\">find</code> command inside <code style=\"color: inherit\">&#36;()</code>:</p>\n",
      "cell_type": "markdown",
      "metadata": {
        "editable": false,
        "collapsed": false
      }
    },
    {
      "id": "cell-123",
      "source": [
        "wc -l $(find . -name \"*.txt\")"
      ],
      "cell_type": "code",
      "execution_count": null,
      "outputs": [

      ],
      "metadata": {
        "attributes": {
          "classes": [
            "bash"
          ],
          "id": ""
        }
      }
    },
    {
      "id": "cell-124",
      "source": "<p>When the shell executes this command,\nthe first thing it does is run whatever is inside the <code style=\"color: inherit\">&#36;()</code>.\nIt then replaces the <code style=\"color: inherit\">&#36;()</code> expression with that command’s output.\nSince the output of <code style=\"color: inherit\">find</code> is the four filenames <code style=\"color: inherit\">./data/one.txt</code>, <code style=\"color: inherit\">./data/LittleWomen.txt</code>,\n<code class=\"language-plaintext highlighter-rouge\">./data/two.txt</code>, and <code style=\"color: inherit\">./haiku.txt</code>, the shell constructs the command:</p>\n",
      "cell_type": "markdown",
      "metadata": {
        "editable": false,
        "collapsed": false
      }
    },
    {
      "id": "cell-125",
      "source": [
        "wc -l ./data/one.txt ./data/LittleWomen.txt ./data/two.txt ./haiku.txt"
      ],
      "cell_type": "code",
      "execution_count": null,
      "outputs": [

      ],
      "metadata": {
        "attributes": {
          "classes": [
            "bash"
          ],
          "id": ""
        }
      }
    },
    {
      "id": "cell-126",
      "source": "<p>which is what we wanted.\nThis expansion is exactly what the shell does when it expands wildcards like <code style=\"color: inherit\">*</code> and <code style=\"color: inherit\">?</code>,\nbut lets us use any command we want as our own ‘wildcard’.</p>\n<p>It’s very common to use <code style=\"color: inherit\">find</code> and <code style=\"color: inherit\">grep</code> together.\nThe first finds files that match a pattern;\nthe second looks for lines inside those files that match another pattern.\nHere, for example, we can find PDB files that contain iron atoms\nby looking for the string ‘FE’ in all the <code style=\"color: inherit\">.pdb</code> files above the current directory:</p>\n",
      "cell_type": "markdown",
      "metadata": {
        "editable": false,
        "collapsed": false
      }
    },
    {
      "id": "cell-127",
      "source": [
        "grep \"FE\" $(find .. -name \"*.pdb\")"
      ],
      "cell_type": "code",
      "execution_count": null,
      "outputs": [

      ],
      "metadata": {
        "attributes": {
          "classes": [
            "bash"
          ],
          "id": ""
        }
      }
    },
    {
      "id": "cell-128",
      "source": "<blockquote class=\"question\" style=\"border: 2px solid #8A9AD0; margin: 1em 0.2em\">\n<div id=\"question-matching-and-subtracting\" class=\"box-title\" aria-label=\"question box: Matching and Subtracting\"><i class=\"far fa-question-circle\" aria-hidden=\"true\"></i><span class=\"visually-hidden\"></span> Question: Matching and Subtracting</div>\n<p>The <code style=\"color: inherit\">-v</code> option to <code style=\"color: inherit\">grep</code> inverts pattern matching, so that only lines\nwhich do <em>not</em> match the pattern are printed. Given that, which of\nthe following commands will find all files in <code style=\"color: inherit\">/data</code> whose names\nend in <code style=\"color: inherit\">s.txt</code> but whose names also do <em>not</em> contain the string <code style=\"color: inherit\">net</code>?\n(For example, <code style=\"color: inherit\">animals.txt</code> or <code style=\"color: inherit\">amino-acids.txt</code> but not <code style=\"color: inherit\">planets.txt</code>.)\nOnce you have thought about your answer, you can test the commands in the <code style=\"color: inherit\">shell-lesson-data</code>\ndirectory.</p>\n<ol>\n<li><code style=\"color: inherit\">find data -name \"*s.txt\" | grep -v net</code></li>\n<li><code style=\"color: inherit\">find data -name *s.txt | grep -v net</code></li>\n<li><code style=\"color: inherit\">grep -v \"net\" &#36;(find data -name \"*s.txt\")</code></li>\n<li>None of the above.</li>\n</ol>\n<br/><details style=\"border: 2px solid #B8C3EA; margin: 1em 0.2em; padding: 0.5em;\"><summary>👁 View solution</summary>\n<div id=\"solution-16\" class=\"box-title\"><button type=\"button\" aria-controls=\"solution-16-contents\" aria-expanded=\"true\" aria-label=\"Toggle solution box: \"><i class=\"far fa-eye\" aria-hidden=\"true\"></i><span class=\"visually-hidden\"></span> Solution<span role=\"button\" class=\"fold-unfold fa fa-minus-square\"></span></button></div>\n<p>The correct answer is 1. Putting the match expression in quotes prevents the shell\nexpanding it, so it gets passed to the <code style=\"color: inherit\">find</code> command.</p>\n<p>Option 2 is incorrect because the shell expands <code style=\"color: inherit\">*s.txt</code> instead of passing the wildcard\nexpression to <code style=\"color: inherit\">find</code>.</p>\n<p>Option 3 is incorrect because it searches the contents of the files for lines which\ndo not match ‘net’, rather than searching the file names.</p>\n</details>\n</blockquote>\n",
      "cell_type": "markdown",
      "metadata": {
        "editable": false,
        "collapsed": false
      }
    },
    {
      "id": "cell-129",
      "source": [
        "# Explore the possible solutions here!"
      ],
      "cell_type": "code",
      "execution_count": null,
      "outputs": [

      ],
      "metadata": {
        "attributes": {
          "classes": [
            "bash"
          ],
          "id": ""
        }
      }
    },
    {
      "id": "cell-130",
      "source": "<blockquote class=\"tip\" style=\"border: 2px solid #FFE19E; margin: 1em 0.2em\">\n<div id=\"tip-binary-files\" class=\"box-title\"><button type=\"button\" aria-controls=\"tip-binary-files-contents\" aria-expanded=\"true\" aria-label=\"Toggle tip box: Binary Files\"><i class=\"far fa-lightbulb\" aria-hidden=\"true\"></i><span class=\"visually-hidden\"></span> Tip: Binary Files<span role=\"button\" class=\"fold-unfold fa fa-minus-square\"></span></button></div>\n<p>We have focused exclusively on finding patterns in text files. What if\nyour data is stored as images, in databases, or in some other format?</p>\n<p>A handful of tools extend <code style=\"color: inherit\">grep</code> to handle a few non text formats. But a\nmore generalizable approach is to convert the data to text, or\nextract the text-like elements from the data. On the one hand, it makes simple\nthings easy to do. On the other hand, complex things are usually impossible. For\nexample, it’s easy enough to write a program that will extract X and Y\ndimensions from image files for <code style=\"color: inherit\">grep</code> to play with, but how would you\nwrite something to find values in a spreadsheet whose cells contained\nformulas?</p>\n<p>A last option is to recognize that the shell and text processing have\ntheir limits, and to use another programming language.\nWhen the time comes to do this, don’t be too hard on the shell: many\nmodern programming languages have borrowed a lot of\nideas from it, and imitation is also the sincerest form of praise.</p>\n</blockquote>\n<p>The Unix shell is older than most of the people who use it. It has\nsurvived so long because it is one of the most productive programming\nenvironments ever created — maybe even <em>the</em> most productive. Its syntax\nmay be cryptic, but people who have mastered it can experiment with\ndifferent commands interactively, then use what they have learned to\nautomate their work. Graphical user interfaces may be easier to use at\nfirst, but once learned, the productivity in the shell is unbeatable.\nAnd as Alfred North Whitehead wrote in 1911, ‘Civilization advances by\nextending the number of important operations which we can perform\nwithout thinking about them.’</p>\n<blockquote class=\"question\" style=\"border: 2px solid #8A9AD0; margin: 1em 0.2em\">\n<div id=\"question-find-pipeline-reading-comprehension\" class=\"box-title\" aria-label=\"question box: &lt;code&gt;find&lt;/code&gt; Pipeline Reading Comprehension\"><i class=\"far fa-question-circle\" aria-hidden=\"true\"></i><span class=\"visually-hidden\"></span> Question: <code style=\"color: inherit\">find</code> Pipeline Reading Comprehension</div>\n<p>Write a short explanatory comment for the following shell script:</p>\n<div class=\"language-plaintext highlighter-rouge\"><div><pre style=\"color: inherit; background: transparent\"><code style=\"color: inherit\">wc -l &#36;(find . -name \"*.dat\") | sort -n\n</code></pre></div>  </div>\n<br/><details style=\"border: 2px solid #B8C3EA; margin: 1em 0.2em; padding: 0.5em;\"><summary>👁 View solution</summary>\n<div id=\"solution-17\" class=\"box-title\"><button type=\"button\" aria-controls=\"solution-17-contents\" aria-expanded=\"true\" aria-label=\"Toggle solution box: \"><i class=\"far fa-eye\" aria-hidden=\"true\"></i><span class=\"visually-hidden\"></span> Solution<span role=\"button\" class=\"fold-unfold fa fa-minus-square\"></span></button></div>\n<ol>\n<li>Find all files with a <code style=\"color: inherit\">.dat</code> extension recursively from the current directory</li>\n<li>Count the number of lines each of these files contains</li>\n<li>Sort the output from step 2. numerically</li>\n</ol>\n</details>\n</blockquote>\n<h1 id=\"final-notes\">Final Notes</h1>\n<p>All of the commands you have run up until now were ad-hoc, interactive commands.</p>\n",
      "cell_type": "markdown",
      "metadata": {
        "editable": false,
        "collapsed": false
      }
    },
    {
      "cell_type": "markdown",
      "id": "final-ending-cell",
      "metadata": {
        "editable": false,
        "collapsed": false
      },
      "source": [
        "# Key Points\n\n",
        "- `wc` counts lines, words, and characters in its inputs.\n",
        "- `cat` displays the contents of its inputs.\n",
        "- `sort` sorts its inputs.\n",
        "- `head` displays the first 10 lines of its input.\n",
        "- `tail` displays the last 10 lines of its input.\n",
        "- `command > [file]` redirects a command's output to a file (overwriting any existing content).\n",
        "- `command >> [file]` appends a command's output to a file.\n",
        "- `[first] | [second]` is a pipeline: the output of the first command is used as the input to the second.\n",
        "- The best way to use the shell is to use pipes to combine simple single-purpose programs (filters).\n",
        "- A `for` loop repeats commands once for every thing in a list.\n",
        "- Every `for` loop needs a variable to refer to the thing it is currently operating on.\n",
        "- Use `$name` to expand a variable (i.e., get its value). `${name}` can also be used.\n",
        "- Do not use spaces, quotes, or wildcard characters such as '*' or '?' in filenames, as it complicates variable expansion.\n",
        "- Give files consistent names that are easy to match with wildcard patterns to make it easy to select them for looping.\n",
        "- Use the up-arrow key to scroll up through previous commands to edit and repeat them.\n",
        "- Use <kbd>Ctrl</kbd>+<kbd>R</kbd> to search through the previously entered commands.\n",
        "- Use `history` to display recent commands, and `![number]` to repeat a command by number.\n",
        "- `find` finds files with specific properties that match patterns.\n",
        "- `grep` selects lines in files that match patterns.\n",
        "- `--help` is an option supported by many bash commands, and programs that can be run from within Bash, to display more information on how to use these commands or programs.\n",
        "- `man [command]` displays the manual page for a given command.\n",
        "- `$([command])` inserts a command's output in place.\n",
        "\n# Congratulations on successfully completing this tutorial!\n\n",
        "Please [fill out the feedback on the GTN website](https://training.galaxyproject.org/training-material/topics/data-science/tutorials/cli-advanced/tutorial.html#feedback) and check there for further resources!\n"
      ]
    }
  ]
}