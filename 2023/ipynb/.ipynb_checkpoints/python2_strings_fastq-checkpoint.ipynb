{
 "cells": [
  {
   "cell_type": "markdown",
   "metadata": {},
   "source": [
    "# Python 2: Strings and lists and tiny bit about files\n",
    "\n",
    "-----\n",
    "\n",
    "Preclass prep: Chapters [8](https://greenteapress.com/thinkpython2/html/thinkpython2009.html) and [10](https://greenteapress.com/thinkpython2/html/thinkpython2011.html) from \"Think Python\""
   ]
  },
  {
   "cell_type": "markdown",
   "metadata": {},
   "source": [
    "This material uses examples from notebooks developed by [Ben Langmead](https://langmead-lab.org/teaching-materials/)."
   ]
  },
  {
   "cell_type": "markdown",
   "metadata": {},
   "source": [
    "## Strings in Python"
   ]
  },
  {
   "cell_type": "markdown",
   "metadata": {},
   "source": [
    "In Python, strings are sequences of characters enclosed in quotation marks (either single or double quotes). They can be assigned to a variable and manipulated using various string methods. For example:"
   ]
  },
  {
   "cell_type": "markdown",
   "metadata": {},
   "source": [
    "string1 = \"Hello World!\"\n",
    "string2 = 'Hello World!'\n",
    "\n",
    "print(string1)  # Output: Hello World!\n",
    "print(string2)  # Output: Hello World!"
   ]
  },
  {
   "cell_type": "markdown",
   "metadata": {},
   "source": [
    "You can also use the + operator to concatenate strings, and the * operator to repeat a string a certain number of times:"
   ]
  },
  {
   "cell_type": "code",
   "execution_count": 1,
   "metadata": {},
   "outputs": [
    {
     "name": "stdout",
     "output_type": "stream",
     "text": [
      "Hello World!\n",
      "Hello Hello Hello \n"
     ]
    }
   ],
   "source": [
    "string3 = \"Hello \" + \"World!\"\n",
    "print(string3)  # Output: Hello World!\n",
    "\n",
    "string4 = \"Hello \" * 3\n",
    "print(string4)  # Output: Hello Hello Hello\n"
   ]
  },
  {
   "cell_type": "markdown",
   "metadata": {},
   "source": [
    "There are also many built-in string methods such as `upper()`, `lower()`, `replace()`, `split()`, `find()`, `len()`, etc. These can be used to manipulate and extract information from strings:"
   ]
  },
  {
   "cell_type": "code",
   "execution_count": 2,
   "metadata": {},
   "outputs": [
    {
     "name": "stdout",
     "output_type": "stream",
     "text": [
      "HELLO WORLD!\n",
      "hello world!\n",
      "Jello World!\n",
      "['Hello', 'World!']\n"
     ]
    }
   ],
   "source": [
    "string5 = \"Hello World!\"\n",
    "print(string5.upper())   # Output: HELLO WORLD!\n",
    "print(string5.lower())   # Output: hello world!\n",
    "print(string5.replace(\"H\", \"J\"))  # Output: Jello World!\n",
    "print(string5.split(\" \"))  # Output: ['Hello', 'World!']"
   ]
  },
  {
   "cell_type": "markdown",
   "metadata": {},
   "source": [
    "You can also use indexing, slicing and string formatting to access or manipulate substrings or insert dynamic data into a string."
   ]
  },
  {
   "cell_type": "code",
   "execution_count": 3,
   "metadata": {},
   "outputs": [
    {
     "name": "stdout",
     "output_type": "stream",
     "text": [
      "My name is John and I am 30 years old.\n"
     ]
    }
   ],
   "source": [
    "name = \"John\"\n",
    "age = 30\n",
    "\n",
    "print(\"My name is {} and I am {} years old.\".format(name, age))"
   ]
  },
  {
   "cell_type": "markdown",
   "metadata": {},
   "source": [
    "You can also use f-strings, or formatted string literals, to embed expressions inside string literals."
   ]
  },
  {
   "cell_type": "code",
   "execution_count": 4,
   "metadata": {},
   "outputs": [
    {
     "name": "stdout",
     "output_type": "stream",
     "text": [
      "My name is John and I am 30 years old.\n"
     ]
    }
   ],
   "source": [
    "name = \"John\"\n",
    "age = 30\n",
    "\n",
    "print(f\"My name is {name} and I am {age} years old.\")"
   ]
  },
  {
   "cell_type": "markdown",
   "metadata": {},
   "source": [
    "## String indexing"
   ]
  },
  {
   "cell_type": "markdown",
   "metadata": {},
   "source": [
    "In Python, strings are sequences of characters, and each character has a corresponding index, starting from 0. This means that we can access individual characters in a string using their index. This is called \"string indexing\".\n",
    "\n",
    "Here is an example:"
   ]
  },
  {
   "cell_type": "code",
   "execution_count": 5,
   "metadata": {},
   "outputs": [
    {
     "name": "stdout",
     "output_type": "stream",
     "text": [
      "H\n",
      "e\n",
      "!\n"
     ]
    }
   ],
   "source": [
    "string = \"Hello World!\"\n",
    "print(string[0])  # Output: H\n",
    "print(string[1])  # Output: e\n",
    "print(string[-1])  # Output: !"
   ]
  },
  {
   "cell_type": "markdown",
   "metadata": {},
   "source": [
    "You can also use negative indexing to access characters from the end of the string, with -1 being the last character, -2 the second to last and so on.\n",
    "\n",
    "You can also use slicing to extract a substring from a string. The syntax is `string[start:end:step]`, where start is the starting index, end is the ending index (not included), and step is the number of characters to skip between each index."
   ]
  },
  {
   "cell_type": "code",
   "execution_count": 6,
   "metadata": {},
   "outputs": [
    {
     "name": "stdout",
     "output_type": "stream",
     "text": [
      "Hello\n",
      "World\n",
      "HloWrd\n"
     ]
    }
   ],
   "source": [
    "string = \"Hello World!\"\n",
    "print(string[0:5])  # Output: Hello\n",
    "print(string[6:11])  # Output: World\n",
    "print(string[::2])  # Output: HloWrd"
   ]
  },
  {
   "cell_type": "markdown",
   "metadata": {},
   "source": [
    "You can also use string formatting method for getting the string at the specific index."
   ]
  },
  {
   "cell_type": "code",
   "execution_count": 7,
   "metadata": {},
   "outputs": [
    {
     "name": "stdout",
     "output_type": "stream",
     "text": [
      "The character at index 3 is: l\n"
     ]
    }
   ],
   "source": [
    "string = \"Hello World!\"\n",
    "index = 3\n",
    "print(f\"The character at index {index} is: {string[index]}\")"
   ]
  },
  {
   "cell_type": "markdown",
   "metadata": {},
   "source": [
    "## String functions"
   ]
  },
  {
   "cell_type": "markdown",
   "metadata": {},
   "source": [
    "In Python, there are many built-in string methods that can be used to manipulate and extract information from strings. Here are some of the most commonly used ones:\n",
    "\n",
    "- `upper()`: Converts the string to uppercase\n",
    "- `lower()`: Converts the string to lowercase\n",
    "- `replace(old, new)`: Replaces all occurrences of the old substring with the new substring\n",
    "- `split(separator)`: Splits the string into a list of substrings using the specified separator\n",
    "- `find(substring)`: Returns the index of the first occurrence of the substring, or -1 if the substring is not found\n",
    "- `index(substring)`: Returns the index of the first occurrence of the substring, or raises a ValueError if the substring is not found\n",
    "- `count(substring)`: Returns the number of occurrences of the substring\n",
    "- `join(iterable)`: Concatenates the elements of an iterable (such as a list or tuple) with the string as the separator\n",
    "- `strip()`: Removes leading and trailing whitespaces from the string\n",
    "- `lstrip()`: Removes leading whitespaces from the string\n",
    "- `rstrip()`: Removes trailing whitespaces from the string\n",
    "- `startswith(substring)`: Returns True if the string starts with the specified substring, False otherwise\n",
    "- `endswith(substring)`: Returns True if the string ends with the specified substring, False otherwise\n",
    "- `isalpha()`: Returns True if the string contains only alphabetic characters, False otherwise\n",
    "- `isdigit()`: Returns True if the string contains only digits, False otherwise\n",
    "- `isalnum()`: Returns True if the string contains only alphanumeric characters, False otherwise\n",
    "- `format()`: Formats the string by replacing placeholders with specified values\n",
    "- `len()`: Returns the length of the string\n",
    "\n",
    "Here is an example of some of these methods:"
   ]
  },
  {
   "cell_type": "code",
   "execution_count": 8,
   "metadata": {},
   "outputs": [
    {
     "name": "stdout",
     "output_type": "stream",
     "text": [
      "HELLO WORLD!\n",
      "hello world!\n",
      "Jello World!\n",
      "['Hello', 'World!']\n",
      "6\n",
      "3\n",
      "Hello World!\n",
      "True\n",
      "True\n",
      "False\n",
      "False\n",
      "Hello World!\n",
      "12\n"
     ]
    }
   ],
   "source": [
    "string = \"Hello World!\"\n",
    "\n",
    "print(string.upper())  # Output: HELLO WORLD!\n",
    "print(string.lower())  # Output: hello world!\n",
    "print(string.replace(\"H\", \"J\"))  # Output: Jello World!\n",
    "print(string.split(\" \"))  # Output: ['Hello', 'World!']\n",
    "print(string.find(\"World\"))  # Output: 6\n",
    "print(string.count(\"l\"))  # Output: 3\n",
    "print(string.strip())  # Output: \"Hello World!\"\n",
    "print(string.startswith(\"Hello\"))  # Output: True\n",
    "print(string.endswith(\"World!\"))  # Output: True\n",
    "print(string.isalpha())  # Output: False\n",
    "print(string.isalnum())  # Output: False\n",
    "print(string.format())  # Output: Hello World!\n",
    "print(len(string))  # Output: 12"
   ]
  },
  {
   "cell_type": "markdown",
   "metadata": {},
   "source": [
    "## Playing with strings"
   ]
  },
  {
   "cell_type": "code",
   "execution_count": 9,
   "metadata": {
    "id": "65bCchOZh6Qs"
   },
   "outputs": [],
   "source": [
    "st = 'ACGT'"
   ]
  },
  {
   "cell_type": "code",
   "execution_count": 10,
   "metadata": {
    "id": "mzMxAcnbh6Qs",
    "outputId": "2a52e206-3dae-4406-d3df-e249048e69f7"
   },
   "outputs": [
    {
     "data": {
      "text/plain": [
       "4"
      ]
     },
     "execution_count": 10,
     "metadata": {},
     "output_type": "execute_result"
    }
   ],
   "source": [
    "len(st) # getting the length of a string"
   ]
  },
  {
   "cell_type": "code",
   "execution_count": 11,
   "metadata": {
    "id": "-mhIJlkHh6Qt",
    "outputId": "108e8787-71e6-4760-a351-ccbb9714f540"
   },
   "outputs": [
    {
     "data": {
      "text/plain": [
       "''"
      ]
     },
     "execution_count": 11,
     "metadata": {},
     "output_type": "execute_result"
    }
   ],
   "source": [
    "'' # empty string (epsilon)"
   ]
  },
  {
   "cell_type": "code",
   "execution_count": 12,
   "metadata": {
    "id": "21U5sxqyh6Qt",
    "outputId": "c34ca9de-740e-47a2-fa38-1731156d4216"
   },
   "outputs": [
    {
     "data": {
      "text/plain": [
       "0"
      ]
     },
     "execution_count": 12,
     "metadata": {},
     "output_type": "execute_result"
    }
   ],
   "source": [
    "len('')"
   ]
  },
  {
   "cell_type": "code",
   "execution_count": 13,
   "metadata": {
    "id": "SKYxsz_nh6Qt",
    "outputId": "4d8b0c33-186e-466b-9376-0ccbedb31e08"
   },
   "outputs": [
    {
     "data": {
      "text/plain": [
       "'G'"
      ]
     },
     "execution_count": 13,
     "metadata": {},
     "output_type": "execute_result"
    }
   ],
   "source": [
    "import random\n",
    "random.choice('ACGT') # generating a random nucleotide"
   ]
  },
  {
   "cell_type": "code",
   "execution_count": 14,
   "metadata": {
    "id": "ccs1NtI1h6Qu",
    "outputId": "03a47753-e1a4-4377-ee80-ee36ae71ee52"
   },
   "outputs": [
    {
     "data": {
      "text/plain": [
       "'GCTATATCAATGTTATCCGTTTTCTGATGTCGCGAGGACA'"
      ]
     },
     "execution_count": 14,
     "metadata": {},
     "output_type": "execute_result"
    }
   ],
   "source": [
    "# now I'll make a random nucleotide string by concatenating random nucleotides\n",
    "st = ''.join([random.choice('ACGT') for _ in range(40)])\n",
    "st"
   ]
  },
  {
   "cell_type": "code",
   "execution_count": 15,
   "metadata": {
    "id": "lusienFDh6Qu",
    "outputId": "873ab6e8-898c-471f-900e-ebfb51186b53"
   },
   "outputs": [
    {
     "data": {
      "text/plain": [
       "'CT'"
      ]
     },
     "execution_count": 15,
     "metadata": {},
     "output_type": "execute_result"
    }
   ],
   "source": [
    "st[1:3] # substring, starting at position 1 and extending up to but not including position 3\n",
    "# note that the first position is numbered 0"
   ]
  },
  {
   "cell_type": "code",
   "execution_count": 16,
   "metadata": {
    "id": "hrE3YKIyh6Qu",
    "outputId": "fb4a1311-2c46-40ce-a4ce-c585b22446bd"
   },
   "outputs": [
    {
     "data": {
      "text/plain": [
       "'GCT'"
      ]
     },
     "execution_count": 16,
     "metadata": {},
     "output_type": "execute_result"
    }
   ],
   "source": [
    "st[0:3] # prefix of length 3"
   ]
  },
  {
   "cell_type": "code",
   "execution_count": 17,
   "metadata": {
    "id": "2md4mXo0h6Qu",
    "outputId": "2e6e7747-2722-433e-9db2-6dcf3a1ef253"
   },
   "outputs": [
    {
     "data": {
      "text/plain": [
       "'GCT'"
      ]
     },
     "execution_count": 17,
     "metadata": {},
     "output_type": "execute_result"
    }
   ],
   "source": [
    "st[:3] # another way of getting the prefix of length 3"
   ]
  },
  {
   "cell_type": "code",
   "execution_count": 18,
   "metadata": {
    "id": "rrkuoG5oh6Qu",
    "outputId": "00377769-287e-4805-bcbf-4cf9b0c56496"
   },
   "outputs": [
    {
     "data": {
      "text/plain": [
       "'ACA'"
      ]
     },
     "execution_count": 18,
     "metadata": {},
     "output_type": "execute_result"
    }
   ],
   "source": [
    "st[len(st)-3:len(st)] # suffix of length 3"
   ]
  },
  {
   "cell_type": "code",
   "execution_count": 19,
   "metadata": {
    "id": "Q9nOCvX-h6Qv",
    "outputId": "1ee9966c-669d-4dec-e9b8-5f7ec42aebe0"
   },
   "outputs": [
    {
     "data": {
      "text/plain": [
       "'ACA'"
      ]
     },
     "execution_count": 19,
     "metadata": {},
     "output_type": "execute_result"
    }
   ],
   "source": [
    "st[-3:] # another way of getting the suffix of length 3"
   ]
  },
  {
   "cell_type": "code",
   "execution_count": 20,
   "metadata": {
    "id": "KBAHFYmyh6Qv"
   },
   "outputs": [],
   "source": [
    "st1, st2 = 'CAT', 'ATAC'"
   ]
  },
  {
   "cell_type": "code",
   "execution_count": 21,
   "metadata": {
    "id": "n3HHR0KVh6Qv",
    "outputId": "a7ee9759-81d3-4bec-fc6f-37c9ccb71aeb"
   },
   "outputs": [
    {
     "data": {
      "text/plain": [
       "'CAT'"
      ]
     },
     "execution_count": 21,
     "metadata": {},
     "output_type": "execute_result"
    }
   ],
   "source": [
    "st1"
   ]
  },
  {
   "cell_type": "code",
   "execution_count": 22,
   "metadata": {
    "id": "vCLCMFSwh6Qv",
    "outputId": "bb248119-e104-4838-c874-68b2a1b9f53a"
   },
   "outputs": [
    {
     "data": {
      "text/plain": [
       "'ATAC'"
      ]
     },
     "execution_count": 22,
     "metadata": {},
     "output_type": "execute_result"
    }
   ],
   "source": [
    "st2"
   ]
  },
  {
   "cell_type": "code",
   "execution_count": 23,
   "metadata": {
    "id": "Oz7c-AD9h6Qv",
    "outputId": "4d169ddc-9edf-4fad-a6b1-375e8774fcae"
   },
   "outputs": [
    {
     "data": {
      "text/plain": [
       "'CATATAC'"
      ]
     },
     "execution_count": 23,
     "metadata": {},
     "output_type": "execute_result"
    }
   ],
   "source": [
    "st1 + st2 # concatenation of 2 strings"
   ]
  },
  {
   "cell_type": "markdown",
   "metadata": {
    "tags": []
   },
   "source": [
    "FASTQ\n",
    "=====\n",
    "\n",
    "This notebook explores [FASTQ], the most common format for storing sequencing reads.\n",
    "\n",
    "FASTA and FASTQ are rather similar, but FASTQ is almost always used for storing *sequencing reads* (with associated quality values), whereas FASTA is used for storing all kinds of DNA, RNA or protein sequencines (without associated quality values)."
   ]
  },
  {
   "cell_type": "markdown",
   "metadata": {},
   "source": [
    "### Basic format\n",
    "Here's a single sequencing read in FASTQ format:\n",
    "\n",
    "    @ERR294379.100739024 HS24_09441:8:2203:17450:94030#42/1\n",
    "    AGGGAGTCCACAGCACAGTCCAGACTCCCACCAGTTCTGACGAAATGATGAGAGCTCAGAAGTAACAGTTGCTTTCAGTCCCATAAAAACAGTCCTACAA\n",
    "    +\n",
    "    BDDEEF?FGFFFHGFFHHGHGGHCH@GHHHGFAHEGFEHGEFGHCCGGGFEGFGFFDFFHBGDGFHGEFGHFGHGFGFFFEHGGFGGDGHGFEEHFFHGE\n",
    "\n",
    "It's spread across four lines.  The four lines are:\n",
    "\n",
    "1. \"`@`\" followed by a read name\n",
    "2. Nucleotide sequence\n",
    "3. \"`+`\", possibly followed by some info, but ignored by virtually all tools\n",
    "4. Quality sequence (explained below)\n",
    "\n",
    "Here is a very simple Python function for parsing file of FASTQ records:"
   ]
  },
  {
   "cell_type": "code",
   "execution_count": 25,
   "metadata": {},
   "outputs": [
    {
     "data": {
      "text/plain": [
       "[('ERR294379.100739024 HS24_09441:8:2203:17450:94030#42/1',\n",
       "  'AGGGAGTCCACAGCACAGTCCAGACTCCCACCAGTTCTGACGAAATGATG',\n",
       "  'BDDEEF?FGFFFHGFFHHGHGGHCH@GHHHGFAHEGFEHGEFGHCCGGGF'),\n",
       " ('ERR294379.136275489 HS24_09441:8:2311:1917:99340#42/1',\n",
       "  'CTTAAGTATTTTGAAAGTTAACATAAGTTATTCTCAGAGAGACTGCTTTT',\n",
       "  '@@AHFF?EEDEAF?FEEGEFD?GGFEFGECGE?9H?EEABFAG9@CDGGF'),\n",
       " ('ERR294379.97291341 HS24_09441:8:2201:10397:52549#42/1',\n",
       "  'GGCTGCCATCAGTGAGCAAGTAAGAATTTGCAGAAATTTATTAGCACACT',\n",
       "  'CDAF<FFDEHEFDDFEEFDGDFCHD=GHG<GEDHDGJFHEFFGEFEE@GH')]"
      ]
     },
     "execution_count": 25,
     "metadata": {},
     "output_type": "execute_result"
    }
   ],
   "source": [
    "def parse_fastq(fh):\n",
    "    \"\"\" Parse reads from a FASTQ filehandle.  For each read, we\n",
    "        return a name, nucleotide-string, quality-string triple. \"\"\"\n",
    "    reads = []\n",
    "    while True:\n",
    "        first_line = fh.readline()\n",
    "        if len(first_line) == 0:\n",
    "            break  # end of file\n",
    "        name = first_line[1:].rstrip()\n",
    "        seq = fh.readline().rstrip()\n",
    "        fh.readline()  # ignore line starting with +\n",
    "        qual = fh.readline().rstrip()\n",
    "        reads.append((name, seq, qual))\n",
    "    return reads\n",
    "\n",
    "fastq_string = '''@ERR294379.100739024 HS24_09441:8:2203:17450:94030#42/1\n",
    "AGGGAGTCCACAGCACAGTCCAGACTCCCACCAGTTCTGACGAAATGATG\n",
    "+\n",
    "BDDEEF?FGFFFHGFFHHGHGGHCH@GHHHGFAHEGFEHGEFGHCCGGGF\n",
    "@ERR294379.136275489 HS24_09441:8:2311:1917:99340#42/1\n",
    "CTTAAGTATTTTGAAAGTTAACATAAGTTATTCTCAGAGAGACTGCTTTT\n",
    "+\n",
    "@@AHFF?EEDEAF?FEEGEFD?GGFEFGECGE?9H?EEABFAG9@CDGGF\n",
    "@ERR294379.97291341 HS24_09441:8:2201:10397:52549#42/1\n",
    "GGCTGCCATCAGTGAGCAAGTAAGAATTTGCAGAAATTTATTAGCACACT\n",
    "+\n",
    "CDAF<FFDEHEFDDFEEFDGDFCHD=GHG<GEDHDGJFHEFFGEFEE@GH'''\n",
    "\n",
    "from io import StringIO\n",
    "\n",
    "parse_fastq(StringIO(fastq_string))"
   ]
  },
  {
   "cell_type": "markdown",
   "metadata": {},
   "source": [
    "The nucleotide string can sometimes contain the character \"`N`\".  `N` essentially means \"no confidence.\" The sequencer knows there's a nucleotide there but doesn't know whether it's an A, C, G or T."
   ]
  },
  {
   "cell_type": "markdown",
   "metadata": {},
   "source": [
    "### A note on `while True`\n",
    "\n",
    "In Python, the while loop is used to repeatedly execute a block of code as long as a certain condition is true. The while True statement is a special case where the loop will run indefinitely, until a break statement is encountered inside the loop.\n",
    "\n",
    "Here is an example of a while True loop:"
   ]
  },
  {
   "cell_type": "code",
   "execution_count": 26,
   "metadata": {},
   "outputs": [
    {
     "name": "stdin",
     "output_type": "stream",
     "text": [
      "Enter 'q' to quit:  q\n"
     ]
    },
    {
     "name": "stdout",
     "output_type": "stream",
     "text": [
      "Exited the loop\n"
     ]
    }
   ],
   "source": [
    "while True:\n",
    "    user_input = input(\"Enter 'q' to quit: \")\n",
    "    if user_input == 'q':\n",
    "        break\n",
    "    print(\"You entered:\", user_input)\n",
    "\n",
    "print(\"Exited the loop\")"
   ]
  },
  {
   "cell_type": "markdown",
   "metadata": {},
   "source": [
    "In this example, the loop will keep asking for user input until the user enters the 'q' character, which triggers the break statement, and the loop is exited.\n",
    "\n",
    "It is important to be careful when using while True loops, as they will run indefinitely if a break statement is not included. This can cause the program to crash or hang, if not handled properly.\n",
    "\n",
    "Also, It is recommended to use `while True` loop with a `break` statement, in case if you want to execute the loop until some specific condition met, otherwise it's not a good practice to use `while True`.\n",
    "\n",
    "It's a good practice to include a way for the user to exit the loop, such as the break statement in the example above, or a counter variable to keep track of the number of iterations."
   ]
  },
  {
   "cell_type": "markdown",
   "metadata": {},
   "source": [
    "### Read name\n",
    "\n",
    "Read names often contain information about:\n",
    "\n",
    "1. The scientific study for which the read was sequenced.  E.g. the string `ERR294379` (an [SRA accession number](http://www.ebi.ac.uk/ena/about/sra_format)) in the read names correspond to [this study](http://www.ncbi.nlm.nih.gov/sra/?term=ERR294379).\n",
    "2. The sequencing instrument, and the exact *part* of the sequencing instrument, where the DNA was sequenced.  See the [FASTQ format](http://en.wikipedia.org/wiki/FASTQ_format#Illumina_sequence_identifiers) wikipedia article for specifics on how the Illumina software encodes this information.\n",
    "3. Whether the read is part of a *paired-end read* and, if so, which end it is.  Paired-end reads will be discussed further below.  The `/1` you see at the end of the read names above indicate the read is the first end from a paired-end read."
   ]
  },
  {
   "cell_type": "markdown",
   "metadata": {},
   "source": [
    "### Quality values\n",
    "\n",
    "Quality values are probabilities.  Each nucleotide in each sequencing read has an associated quality value.  A nucleotide's quality value encodes the probability that the nucleotide was *incorrectly called* by the sequencing instrument and its software.  If the nucleotide is `A`, the corresponding quality value encodes the probability that the nucleotide at that position is actually *not* an `A`.\n",
    "\n",
    "Quality values encoded in two senses: first, the relevant probabilities are rescaled using the Phread scale, which is a negative log scale.  In other words if *p* us the probability that the nucleotide was incorrectly called, we encode this as *Q* where *Q* = -10 \\* log10(*p*).\n",
    "\n",
    "For example, if *Q* = 30, then *p* = 0.001, a 1-in-1000 chance that the nucleotide is wrong.  If *Q* = 20, then *p* = 0.01, a 1-in-100 chance.  If *Q* = 10, then *p* = 0.1, a 1-in-10 chance.  And so on.\n",
    "\n",
    "Second, scaled quality values are *rounded* to the nearest integer and encoded using [ASCII printable characters](http://en.wikipedia.org/wiki/ASCII#ASCII_printable_characters).  For example, using the Phred33 encoding (which is by far the most common), a *Q* of 30 is encoded as the ASCII character with code 33 + 30 = 63, which is \"`?`\".  A *Q* of 20 is encoded as the ASCII character with code 33 + 20 = 53, which is \"`5`\".  And so on.\n",
    "\n",
    "Let's define some relevant Python functions:"
   ]
  },
  {
   "cell_type": "code",
   "execution_count": 27,
   "metadata": {},
   "outputs": [],
   "source": [
    "def phred33_to_q(qual):\n",
    "  \"\"\" Turn Phred+33 ASCII-encoded quality into Phred-scaled integer \"\"\"\n",
    "  return ord(qual)-33\n",
    "\n",
    "def q_to_phred33(Q):\n",
    "  \"\"\" Turn Phred-scaled integer into Phred+33 ASCII-encoded quality \"\"\"\n",
    "  return chr(Q + 33)\n",
    "\n",
    "def q_to_p(Q):\n",
    "  \"\"\" Turn Phred-scaled integer into error probability \"\"\"\n",
    "  return 10.0 ** (-0.1 * Q)\n",
    "\n",
    "def p_to_q(p):\n",
    "  \"\"\" Turn error probability into Phred-scaled integer \"\"\"\n",
    "  import math\n",
    "  return int(round(-10.0 * math.log10(p)))"
   ]
  },
  {
   "cell_type": "code",
   "execution_count": 28,
   "metadata": {},
   "outputs": [
    {
     "data": {
      "text/plain": [
       "(0.001, 0.01, 0.1)"
      ]
     },
     "execution_count": 28,
     "metadata": {},
     "output_type": "execute_result"
    }
   ],
   "source": [
    "# Here are the examples I discussed above\n",
    "\n",
    "# Convert Qs into ps\n",
    "q_to_p(30), q_to_p(20), q_to_p(10)"
   ]
  },
  {
   "cell_type": "code",
   "execution_count": 29,
   "metadata": {},
   "outputs": [
    {
     "data": {
      "text/plain": [
       "40"
      ]
     },
     "execution_count": 29,
     "metadata": {},
     "output_type": "execute_result"
    }
   ],
   "source": [
    "p_to_q(0.00011) # note that result is rounded"
   ]
  },
  {
   "cell_type": "code",
   "execution_count": 30,
   "metadata": {},
   "outputs": [
    {
     "data": {
      "text/plain": [
       "('?', '5')"
      ]
     },
     "execution_count": 30,
     "metadata": {},
     "output_type": "execute_result"
    }
   ],
   "source": [
    "q_to_phred33(30), q_to_phred33(20)"
   ]
  },
  {
   "cell_type": "markdown",
   "metadata": {},
   "source": [
    "To convert an entire string Phred33-encoded quality values into the corresponding *Q* or *p* values, I can do the following:"
   ]
  },
  {
   "cell_type": "code",
   "execution_count": 31,
   "metadata": {},
   "outputs": [
    {
     "name": "stdout",
     "output_type": "stream",
     "text": [
      "[33, 35, 35, 36, 36, 37, 30, 37, 38, 37, 37, 37, 39, 38, 37, 37, 39, 39, 38, 39, 38, 38, 39, 34, 39, 31, 38, 39, 39, 39, 38, 37, 32, 39, 36, 38, 37, 36, 39, 38, 36, 37, 38, 39, 34, 34, 38, 38, 38, 37]\n",
      "[0.000501187233627272, 0.00031622776601683794, 0.00031622776601683794, 0.00025118864315095795, 0.00025118864315095795, 0.00019952623149688788, 0.001, 0.00019952623149688788, 0.00015848931924611126, 0.00019952623149688788, 0.00019952623149688788, 0.00019952623149688788, 0.0001258925411794166, 0.00015848931924611126, 0.00019952623149688788, 0.00019952623149688788, 0.0001258925411794166, 0.0001258925411794166, 0.00015848931924611126, 0.0001258925411794166, 0.00015848931924611126, 0.00015848931924611126, 0.0001258925411794166, 0.0003981071705534969, 0.0001258925411794166, 0.0007943282347242813, 0.00015848931924611126, 0.0001258925411794166, 0.0001258925411794166, 0.0001258925411794166, 0.00015848931924611126, 0.00019952623149688788, 0.000630957344480193, 0.0001258925411794166, 0.00025118864315095795, 0.00015848931924611126, 0.00019952623149688788, 0.00025118864315095795, 0.0001258925411794166, 0.00015848931924611126, 0.00025118864315095795, 0.00019952623149688788, 0.00015848931924611126, 0.0001258925411794166, 0.0003981071705534969, 0.0003981071705534969, 0.00015848931924611126, 0.00015848931924611126, 0.00015848931924611126, 0.00019952623149688788]\n"
     ]
    }
   ],
   "source": [
    "# Take the first read from the small example above\n",
    "name, seq, qual = parse_fastq(StringIO(fastq_string))[0]\n",
    "q_string = list(map(phred33_to_q, qual))\n",
    "p_string = list(map(q_to_p, q_string))\n",
    "print(q_string)\n",
    "print(p_string)"
   ]
  },
  {
   "cell_type": "markdown",
   "metadata": {},
   "source": [
    "You might wonder how the sequencer and its software can *know* the probability that a nucleotide is incorrected called.  It can't; this number is just an estimate.  To describe exactly how it's estimated is beyond the scope of this notebook; if you're interested, search for academic papers with \"base calling\" in the title.  Here's a helpful [video by Rafa Irizarry](http://www.youtube.com/watch?v=eXkjlopwIH4).\n",
    "\n",
    "A final note: other ways of encoding quality values were proposed and used in the past.  For example, Phred64 uses an ASCII offset of 64 instead of 33, and Solexa64 uses \"odds\" instead of the probability *p*.  But Phred33 is by far the most common today and you will likely never have to worry about this."
   ]
  },
  {
   "cell_type": "markdown",
   "metadata": {},
   "source": [
    "### A note in `map()`\n",
    "\n",
    "In Python, the `map()` function is used to apply a given function to all elements of an iterable (such as a list, tuple, or string) and return an iterator (an object that can be iterated, e.g. in a `for`-loop) that yields the results.\n",
    "\n",
    "The `map()` function takes two arguments:\n",
    "\n",
    "A function that is to be applied to each element of the iterable\n",
    "An iterable on which the function is to be applied\n",
    "\n",
    "Here is an example:"
   ]
  },
  {
   "cell_type": "code",
   "execution_count": 32,
   "metadata": {},
   "outputs": [
    {
     "name": "stdout",
     "output_type": "stream",
     "text": [
      "[1, 4, 9, 16, 25]\n"
     ]
    }
   ],
   "source": [
    "# Using a function to square each element of a list\n",
    "numbers = [1, 2, 3, 4, 5]\n",
    "squared_numbers = map(lambda x: x**2, numbers)\n",
    "print(list(squared_numbers))  # Output: [1, 4, 9, 16, 25]"
   ]
  },
  {
   "cell_type": "markdown",
   "metadata": {},
   "source": [
    "In the example above, the `map()` function applies the lambda function `lambda x: x**2` to each element of the numbers list, and returns an iterator of the squared numbers. The `list()` function is used to convert the iterator to a list, so that the result can be printed.\n",
    "\n",
    "Another example is,"
   ]
  },
  {
   "cell_type": "code",
   "execution_count": 33,
   "metadata": {},
   "outputs": [
    {
     "name": "stdout",
     "output_type": "stream",
     "text": [
      "['HELLO', 'WORLD']\n"
     ]
    }
   ],
   "source": [
    "# Using the map() function to convert a list of strings to uppercase\n",
    "words = [\"hello\", \"world\"]\n",
    "uppercase_words = map(lambda word: word.upper(), words)\n",
    "print(list(uppercase_words))  # Output: ['HELLO', 'WORLD']"
   ]
  },
  {
   "cell_type": "markdown",
   "metadata": {},
   "source": [
    "It's important to note that the `map()` function returns an iterator, which can be used in a for loop, but is not a list, tuple, or any other iterable. If you want to create a list, tuple, or other iterable from the result of the `map()` function, you can use the `list()`, `tuple()`, or any other built-in function that creates an iterable.\n",
    "\n",
    "In Python 3, the `map()` function returns an iterator, which can be used in a for loop, but it's not an iterable. If you want to create a list, tuple, or other iterable from the result of the `map()` function, you can use the `list()`, `tuple()`, or any other built-in function that creates an iterable.\n",
    "\n",
    "In Python 2, `map()` function returns a list, which can be used in a for loop, and it's an iterable.\n",
    "\n",
    "In python 3.x, there is an alternative way to use map() function is `list(map(...))` or `tuple(map(...))` etc."
   ]
  },
  {
   "cell_type": "markdown",
   "metadata": {},
   "source": [
    "### Paired-end reads\n",
    "\n",
    "Sequencing reads can come in *pairs*.  Basically instead of reporting a single snippet of nucleotides from the genome, the sequencer might report a *pair* of snippets that appear *close to each other* in the genome.  To accomplish this, the sequencer sequences *both ends* of a longer *fragment* of DNA.\n",
    "\n",
    "Here is simple Python code that mimicks how the sequencer obtains one paired-end read:"
   ]
  },
  {
   "cell_type": "code",
   "execution_count": 34,
   "metadata": {},
   "outputs": [
    {
     "data": {
      "text/plain": [
       "'AGTACGTCATACCGTTATGATCTAGGTGGGATCGCGGATTGGTCGTGCAGAATACAGCCTTGGAGAGTGGTTAACACGATAAGGCCGATAATATGTCTGGATAAGCTCAGGCTCTGCTCCGAGGCGCTAAGGTACATGTTATTGATTTGGAGCTCAAAAATTGCCATAGCATGCAATACGCCCGTTGATAGACCACTTGCCTTCAGGGGAGCGTCGCATGTATTGATTGTGTTACATAAACCCTCCCCCCCTACACGTGCTTGTCGACGCGGCACTGGACACTGATACGAGGAGGCACTTCGCTAGAAACGGCTTACTGCAGGTGATAAAATCAACAGATGGCACGCTCGCAACAGAAGCATAATATGCTTCCAACCAGGACCGGCATTTAACTCAATATATTAGCTCTCGAGGACAACGCACTACGTTTTCCAATTCAGCGGACTGGCGCCATTACAGTAAGTTGATTGTGCAGTGGTCTTTGACAGACAGCAGTTCGCTCCTTACTGACAATACCTGATACTTATAGTATGGCAGCGAGTCGTTGTCTAGGTTAGCCACCTCAGTCTACAGCAGGTAATGAAGCATTCCCACAAAGGCTGGTCCATACACCCGACTGCTACGATTCATGCTTCGCTCGAGAACTGCCCCTGCCTTAGATTCCCCCTCGTCTCCAATGAATACCCATTTTTTTAGATTGCTGAAAACCTTTCGTAAGACGCTTTCCAGTGATTACATGCCCTAACTGGGTACAGTTTGCCCAGGAGCTTTTTGGATGGAGGAGTATTAGTAGCGACCAAAACTCTTCCTCGACTGTTACTGTGTAGAGTCCCAAACGCTAAAGCGGTCCCAGAAAAACGGAACGGCCTACAGATTAAATTGCTCCGTGTTGCAGTTAAGGCGTACAAACCCCTCTGTGTATTAGTTTAAGTCTCTGAGTCTTCTTTGCTATGACGGATTGATGGGTGCCGGTTTGTAGTTCAAGAACCGTGAGTGAACC'"
      ]
     },
     "execution_count": 34,
     "metadata": {},
     "output_type": "execute_result"
    }
   ],
   "source": [
    "# Let's just make a random genome of length 1K\n",
    "import random\n",
    "random.seed(637485)\n",
    "genome = ''.join([random.choice('ACGT') for _ in range(1000)])\n",
    "genome"
   ]
  },
  {
   "cell_type": "code",
   "execution_count": 35,
   "metadata": {},
   "outputs": [
    {
     "data": {
      "text/plain": [
       "'GTATTGATTGTGTTACATAAACCCTCCCCCCCTACACGTGCTTGTCGACGCGGCACTGGACACTGATACGAGGAGGCACTTCGCTAGAAACGGCTTACTGCAGGTGATAAAATCAACAGATGGCACGCTCGCAACAGAAGCATAATATGCTTCCAACCAGGACCGGCATTTAACTCAATATATTAGCTCTCGAGGACAACGCACTACGTTTTCCAATTCAGCGGACTGGCGCCATTACAGTAAGTTGATT'"
      ]
     },
     "execution_count": 35,
     "metadata": {},
     "output_type": "execute_result"
    }
   ],
   "source": [
    "# The sequencer draws a fragment from the genome of length, say, 250\n",
    "offset = random.randint(0, len(genome) - 250)\n",
    "fragment = genome[offset:offset+250]\n",
    "fragment"
   ]
  },
  {
   "cell_type": "code",
   "execution_count": 36,
   "metadata": {},
   "outputs": [
    {
     "data": {
      "text/plain": [
       "('GTATTGATTGTGTTACATAAACCCTCCCCCCCTACACGTGCTTGTCGACGCGGCACTGGACACTGATACGAGGAG',\n",
       " 'CAATATATTAGCTCTCGAGGACAACGCACTACGTTTTCCAATTCAGCGGACTGGCGCCATTACAGTAAGTTGATT')"
      ]
     },
     "execution_count": 36,
     "metadata": {},
     "output_type": "execute_result"
    }
   ],
   "source": [
    "# Then it reads sequences from either end of the fragment\n",
    "end1, end2 = fragment[:75], fragment[-75:]\n",
    "end1, end2"
   ]
  },
  {
   "cell_type": "code",
   "execution_count": 40,
   "metadata": {},
   "outputs": [
    {
     "data": {
      "text/plain": [
       "('GTATTGATTGTGTTACATAAACCCTCCCCCCCTACACGTGCTTGTCGACGCGGCACTGGACACTGATACGAGGAG',\n",
       " 'AATCAACTTACTGTAATGGCGCCAGTCCGCTGAATTGGAAAACGTAGTGCGTTGTCCTCGAGAGCTAATATATTG')"
      ]
     },
     "execution_count": 40,
     "metadata": {},
     "output_type": "execute_result"
    }
   ],
   "source": [
    "# And because of how Illumina sequencing works, the\n",
    "# second end is always from the opposite strand from the first\n",
    "# (this is not the case for 454 and SOLiD data)\n",
    "\n",
    "import string\n",
    "\n",
    "# function for reverse-complementing\n",
    "revcomp_trans = str.maketrans(\"ACGTacgt\", \"TGCAtgca\")\n",
    "def reverse_complement(s):\n",
    "    return s[::-1].translate(revcomp_trans)\n",
    "\n",
    "end2 = reverse_complement(end2)\n",
    "end1, end2"
   ]
  },
  {
   "cell_type": "markdown",
   "metadata": {},
   "source": [
    "FASTQ can be used to store paired-end reads.  Say we have 1000 paired-end reads.  We should store them in a *pair* of FASTQ files.  The first FASTQ file (say, `reads_1.fq`) would contain all of the first ends and the second FASTQ file (say, `reads_2.fq`) would contain all of the second ends.  In both files, the ends would appear in corresponding order.  That is, the first entry in `reads_1.fq` is paired with the first entry in `reads_2.fq` and so on.\n",
    "\n",
    "Here is a Python function that parses a pair of files containing paired-end reads."
   ]
  },
  {
   "cell_type": "code",
   "execution_count": 41,
   "metadata": {},
   "outputs": [
    {
     "data": {
      "text/plain": [
       "[(('509.6.64.20524.149722/1',\n",
       "   'AGCTCTGGTGACCCATGGGCAGCTGCTAGGGAGCCTTCTCTCCACCCTGA',\n",
       "   'HHHHHHHGHHHHHHHHHHHHHHHHHHHHHHHHHHHHHHHHIIHHIHFHHF'),\n",
       "  ('509.6.64.20524.149722/2',\n",
       "   'TAAGTCAGGATACTTTCCCATATCCCAGCCCTGCTCCNTCTTTAAATAAT',\n",
       "   'HHHHHHHHHHHHHHHHHHHH@HHFHHHEFHHHHHHFF#FFFFFFFHHHHH')),\n",
       " (('509.4.62.19231.2763/1',\n",
       "   'GTTGATAAGCAAGCATCTCATTTTGTGCATATACCTGGTCTTTCGTATTC',\n",
       "   'HHHHHHHHHHHHHHEHHHHHHHHHHHHHHHHHHHHHHHDHHHHHHGHGHH'),\n",
       "  ('509.4.62.19231.2763/2',\n",
       "   'CTCTGCTGGTATGGTTGACGCCGGATTTGAGAATCAANAAGAGCTTACTA',\n",
       "   'HHHHHHHHHHHHHHHHHHEHEHHHFHGHHHHHHHH>@#@=44465HHHHH'))]"
      ]
     },
     "execution_count": 41,
     "metadata": {},
     "output_type": "execute_result"
    }
   ],
   "source": [
    "def parse_paired_fastq(fh1, fh2):\n",
    "    \"\"\" Parse paired-end reads from a pair of FASTQ filehandles\n",
    "        For each pair, we return a name, the nucleotide string\n",
    "        for the first end, the quality string for the first end,\n",
    "        the nucleotide string for the second end, and the\n",
    "        quality string for the second end. \"\"\"\n",
    "    reads = []\n",
    "    while True:\n",
    "        first_line_1, first_line_2 = fh1.readline(), fh2.readline()\n",
    "        if len(first_line_1) == 0:\n",
    "            break  # end of file\n",
    "        name_1, name_2 = first_line_1[1:].rstrip(), first_line_2[1:].rstrip()\n",
    "        seq_1, seq_2 = fh1.readline().rstrip(), fh2.readline().rstrip()\n",
    "        fh1.readline()  # ignore line starting with +\n",
    "        fh2.readline()  # ignore line starting with +\n",
    "        qual_1, qual_2 = fh1.readline().rstrip(), fh2.readline().rstrip()\n",
    "        reads.append(((name_1, seq_1, qual_1), (name_2, seq_2, qual_2)))\n",
    "    return reads\n",
    "\n",
    "fastq_string1 = '''@509.6.64.20524.149722/1\n",
    "AGCTCTGGTGACCCATGGGCAGCTGCTAGGGAGCCTTCTCTCCACCCTGA\n",
    "+\n",
    "HHHHHHHGHHHHHHHHHHHHHHHHHHHHHHHHHHHHHHHHIIHHIHFHHF\n",
    "@509.4.62.19231.2763/1\n",
    "GTTGATAAGCAAGCATCTCATTTTGTGCATATACCTGGTCTTTCGTATTC\n",
    "+\n",
    "HHHHHHHHHHHHHHEHHHHHHHHHHHHHHHHHHHHHHHDHHHHHHGHGHH'''\n",
    "\n",
    "fastq_string2 = '''@509.6.64.20524.149722/2\n",
    "TAAGTCAGGATACTTTCCCATATCCCAGCCCTGCTCCNTCTTTAAATAAT\n",
    "+\n",
    "HHHHHHHHHHHHHHHHHHHH@HHFHHHEFHHHHHHFF#FFFFFFFHHHHH\n",
    "@509.4.62.19231.2763/2\n",
    "CTCTGCTGGTATGGTTGACGCCGGATTTGAGAATCAANAAGAGCTTACTA\n",
    "+\n",
    "HHHHHHHHHHHHHHHHHHEHEHHHFHGHHHHHHHH>@#@=44465HHHHH'''\n",
    "\n",
    "parse_paired_fastq(StringIO(fastq_string1), StringIO(fastq_string2))"
   ]
  },
  {
   "cell_type": "markdown",
   "metadata": {},
   "source": [
    "## A note on triple quotes"
   ]
  },
  {
   "cell_type": "markdown",
   "metadata": {},
   "source": [
    "In Python, triple quotes (either single or double) are used to create multiline strings. They can also be used to create docstrings, which are used to document a function, class, or module.\n",
    "\n",
    "For example:"
   ]
  },
  {
   "cell_type": "code",
   "execution_count": 42,
   "metadata": {},
   "outputs": [
    {
     "name": "stdout",
     "output_type": "stream",
     "text": [
      "This is a\n",
      "multiline string\n",
      "This is also\n",
      "a multiline string\n"
     ]
    }
   ],
   "source": [
    "string1 = \"\"\"This is a\n",
    "multiline string\"\"\"\n",
    "\n",
    "string2 = '''This is also\n",
    "a multiline string'''\n",
    "\n",
    "print(string1)\n",
    "# Output:\n",
    "# This is a\n",
    "# multiline string\n",
    "\n",
    "print(string2)\n",
    "# Output:\n",
    "# This is also\n",
    "# a multiline string"
   ]
  },
  {
   "cell_type": "markdown",
   "metadata": {},
   "source": [
    "Triple quotes can also be used to create docstrings, which are used to document a function, class, or module. The first line of a docstring is a brief summary of what the function, class, or module does, and the following lines provide more detailed information."
   ]
  },
  {
   "cell_type": "code",
   "execution_count": 43,
   "metadata": {},
   "outputs": [
    {
     "name": "stdout",
     "output_type": "stream",
     "text": [
      "\n",
      "    This is a docstring for the my_function.\n",
      "    This function does not perform any operation.\n",
      "    \n"
     ]
    }
   ],
   "source": [
    "def my_function():\n",
    "    \"\"\"\n",
    "    This is a docstring for the my_function.\n",
    "    This function does not perform any operation.\n",
    "    \"\"\"\n",
    "    pass\n",
    "\n",
    "print(my_function.__doc__)\n",
    "# Output:\n",
    "# This is a docstring for the my_function.\n",
    "# This function does not perform any operation."
   ]
  },
  {
   "cell_type": "markdown",
   "metadata": {},
   "source": [
    "## How good are my reads?"
   ]
  },
  {
   "cell_type": "markdown",
   "metadata": {},
   "source": [
    "Let's reuse the `parse_fastq` function from above:"
   ]
  },
  {
   "cell_type": "code",
   "execution_count": 44,
   "metadata": {},
   "outputs": [],
   "source": [
    "reads = parse_fastq(StringIO(fastq_string))"
   ]
  },
  {
   "cell_type": "code",
   "execution_count": 45,
   "metadata": {},
   "outputs": [],
   "source": [
    "run_qualities = []\n",
    "for read in reads:\n",
    "    read_qualities = []\n",
    "    for quality in read[2]:\n",
    "        read_qualities.append(phred33_to_q(quality))\n",
    "    run_qualities.append(read_qualities)"
   ]
  },
  {
   "cell_type": "code",
   "execution_count": 46,
   "metadata": {},
   "outputs": [],
   "source": [
    "base_qualities = []\n",
    "for i in range(len(run_qualities[0])):\n",
    "    base = []\n",
    "    for read in run_qualities:\n",
    "        base.append(read[i])\n",
    "    base_qualities.append(base)\n",
    "    \n",
    "# same thing with numpy\n",
    "# base_qualities = np.array(run_qualities).T"
   ]
  },
  {
   "cell_type": "code",
   "execution_count": 73,
   "metadata": {},
   "outputs": [],
   "source": [
    "import numpy as np\n",
    "\n",
    "plotting_data = {\n",
    "    'base':[],\n",
    "    'mean':[],\n",
    "    'median':[],\n",
    "    'q25':[],\n",
    "    'q75':[],\n",
    "    'min':[],\n",
    "    'max':[]\n",
    "}\n",
    "for i,base in enumerate(base_qualities):\n",
    "    plotting_data['base'].append(i)\n",
    "    plotting_data['mean'].append(np.mean(base))\n",
    "    plotting_data['median'].append(np.median(base))\n",
    "    plotting_data['q25'].append(np.quantile(base,.25))\n",
    "    plotting_data['q75'].append(np.quantile(base,.75))\n",
    "    plotting_data['min'].append(np.min(base))\n",
    "    plotting_data['max'].append(np.max(base))"
   ]
  },
  {
   "cell_type": "code",
   "execution_count": 74,
   "metadata": {},
   "outputs": [],
   "source": [
    "import pandas as pd\n",
    "plotting_data_df = pd.DataFrame(plotting_data)"
   ]
  },
  {
   "cell_type": "code",
   "execution_count": 81,
   "metadata": {},
   "outputs": [
    {
     "data": {
      "text/html": [
       "\n",
       "<div id=\"altair-viz-3dd6754de0e54e37a5e18854b67ff0f4\"></div>\n",
       "<script type=\"text/javascript\">\n",
       "  var VEGA_DEBUG = (typeof VEGA_DEBUG == \"undefined\") ? {} : VEGA_DEBUG;\n",
       "  (function(spec, embedOpt){\n",
       "    let outputDiv = document.currentScript.previousElementSibling;\n",
       "    if (outputDiv.id !== \"altair-viz-3dd6754de0e54e37a5e18854b67ff0f4\") {\n",
       "      outputDiv = document.getElementById(\"altair-viz-3dd6754de0e54e37a5e18854b67ff0f4\");\n",
       "    }\n",
       "    const paths = {\n",
       "      \"vega\": \"https://cdn.jsdelivr.net/npm//vega@5?noext\",\n",
       "      \"vega-lib\": \"https://cdn.jsdelivr.net/npm//vega-lib?noext\",\n",
       "      \"vega-lite\": \"https://cdn.jsdelivr.net/npm//vega-lite@4.17.0?noext\",\n",
       "      \"vega-embed\": \"https://cdn.jsdelivr.net/npm//vega-embed@6?noext\",\n",
       "    };\n",
       "\n",
       "    function maybeLoadScript(lib, version) {\n",
       "      var key = `${lib.replace(\"-\", \"\")}_version`;\n",
       "      return (VEGA_DEBUG[key] == version) ?\n",
       "        Promise.resolve(paths[lib]) :\n",
       "        new Promise(function(resolve, reject) {\n",
       "          var s = document.createElement('script');\n",
       "          document.getElementsByTagName(\"head\")[0].appendChild(s);\n",
       "          s.async = true;\n",
       "          s.onload = () => {\n",
       "            VEGA_DEBUG[key] = version;\n",
       "            return resolve(paths[lib]);\n",
       "          };\n",
       "          s.onerror = () => reject(`Error loading script: ${paths[lib]}`);\n",
       "          s.src = paths[lib];\n",
       "        });\n",
       "    }\n",
       "\n",
       "    function showError(err) {\n",
       "      outputDiv.innerHTML = `<div class=\"error\" style=\"color:red;\">${err}</div>`;\n",
       "      throw err;\n",
       "    }\n",
       "\n",
       "    function displayChart(vegaEmbed) {\n",
       "      vegaEmbed(outputDiv, spec, embedOpt)\n",
       "        .catch(err => showError(`Javascript Error: ${err.message}<br>This usually means there's a typo in your chart specification. See the javascript console for the full traceback.`));\n",
       "    }\n",
       "\n",
       "    if(typeof define === \"function\" && define.amd) {\n",
       "      requirejs.config({paths});\n",
       "      require([\"vega-embed\"], displayChart, err => showError(`Error loading script: ${err.message}`));\n",
       "    } else {\n",
       "      maybeLoadScript(\"vega\", \"5\")\n",
       "        .then(() => maybeLoadScript(\"vega-lite\", \"4.17.0\"))\n",
       "        .then(() => maybeLoadScript(\"vega-embed\", \"6\"))\n",
       "        .catch(showError)\n",
       "        .then(() => displayChart(vegaEmbed));\n",
       "    }\n",
       "  })({\"config\": {\"view\": {\"continuousWidth\": 400, \"continuousHeight\": 300}}, \"layer\": [{\"mark\": {\"type\": \"tick\", \"color\": \"red\", \"orient\": \"horizontal\"}, \"encoding\": {\"x\": {\"field\": \"base\", \"title\": \"Position in the read\", \"type\": \"quantitative\"}, \"y\": {\"field\": \"median\", \"title\": \"Phred quality score\", \"type\": \"quantitative\"}}, \"height\": 200, \"width\": 800}, {\"mark\": {\"type\": \"rule\", \"color\": \"green\", \"opacity\": 0.5, \"strokeWidth\": 10}, \"encoding\": {\"x\": {\"field\": \"base\", \"title\": \"Position in the read\", \"type\": \"quantitative\"}, \"y\": {\"field\": \"q25\", \"type\": \"quantitative\"}, \"y2\": {\"field\": \"q75\"}}, \"height\": 200, \"width\": 800}, {\"mark\": {\"type\": \"rule\", \"color\": \"black\"}, \"encoding\": {\"x\": {\"field\": \"base\", \"title\": \"Position in the read\", \"type\": \"quantitative\"}, \"y\": {\"field\": \"min\", \"type\": \"quantitative\"}, \"y2\": {\"field\": \"max\"}}, \"height\": 200, \"width\": 800}], \"data\": {\"name\": \"data-ccf1ca196f1d0e4919420b2695143650\"}, \"$schema\": \"https://vega.github.io/schema/vega-lite/v4.17.0.json\", \"datasets\": {\"data-ccf1ca196f1d0e4919420b2695143650\": [{\"base\": 0, \"mean\": 32.666666666666664, \"median\": 33.0, \"q25\": 32.0, \"q75\": 33.5, \"min\": 31, \"max\": 34}, {\"base\": 1, \"mean\": 33.666666666666664, \"median\": 35.0, \"q25\": 33.0, \"q75\": 35.0, \"min\": 31, \"max\": 35}, {\"base\": 2, \"mean\": 33.0, \"median\": 32.0, \"q25\": 32.0, \"q75\": 33.5, \"min\": 32, \"max\": 35}, {\"base\": 3, \"mean\": 37.333333333333336, \"median\": 37.0, \"q25\": 36.5, \"q75\": 38.0, \"min\": 36, \"max\": 39}, {\"base\": 4, \"mean\": 33.333333333333336, \"median\": 36.0, \"q25\": 31.5, \"q75\": 36.5, \"min\": 27, \"max\": 37}, {\"base\": 5, \"mean\": 37.0, \"median\": 37.0, \"q25\": 37.0, \"q75\": 37.0, \"min\": 37, \"max\": 37}, {\"base\": 6, \"mean\": 32.333333333333336, \"median\": 30.0, \"q25\": 30.0, \"q75\": 33.5, \"min\": 30, \"max\": 37}, {\"base\": 7, \"mean\": 36.0, \"median\": 36.0, \"q25\": 35.5, \"q75\": 36.5, \"min\": 35, \"max\": 37}, {\"base\": 8, \"mean\": 36.666666666666664, \"median\": 36.0, \"q25\": 36.0, \"q75\": 37.0, \"min\": 36, \"max\": 38}, {\"base\": 9, \"mean\": 37.0, \"median\": 37.0, \"q25\": 36.0, \"q75\": 38.0, \"min\": 35, \"max\": 39}, {\"base\": 10, \"mean\": 36.333333333333336, \"median\": 36.0, \"q25\": 36.0, \"q75\": 36.5, \"min\": 36, \"max\": 37}, {\"base\": 11, \"mean\": 35.333333333333336, \"median\": 37.0, \"q25\": 34.5, \"q75\": 37.0, \"min\": 32, \"max\": 37}, {\"base\": 12, \"mean\": 37.0, \"median\": 37.0, \"q25\": 36.0, \"q75\": 38.0, \"min\": 35, \"max\": 39}, {\"base\": 13, \"mean\": 34.333333333333336, \"median\": 35.0, \"q25\": 32.5, \"q75\": 36.5, \"min\": 30, \"max\": 38}, {\"base\": 14, \"mean\": 37.0, \"median\": 37.0, \"q25\": 37.0, \"q75\": 37.0, \"min\": 37, \"max\": 37}, {\"base\": 15, \"mean\": 36.333333333333336, \"median\": 36.0, \"q25\": 36.0, \"q75\": 36.5, \"min\": 36, \"max\": 37}, {\"base\": 16, \"mean\": 37.0, \"median\": 36.0, \"q25\": 36.0, \"q75\": 37.5, \"min\": 36, \"max\": 39}, {\"base\": 17, \"mean\": 38.0, \"median\": 38.0, \"q25\": 37.5, \"q75\": 38.5, \"min\": 37, \"max\": 39}, {\"base\": 18, \"mean\": 36.333333333333336, \"median\": 36.0, \"q25\": 35.5, \"q75\": 37.0, \"min\": 35, \"max\": 38}, {\"base\": 19, \"mean\": 38.0, \"median\": 38.0, \"q25\": 37.5, \"q75\": 38.5, \"min\": 37, \"max\": 39}, {\"base\": 20, \"mean\": 36.0, \"median\": 35.0, \"q25\": 35.0, \"q75\": 36.5, \"min\": 35, \"max\": 38}, {\"base\": 21, \"mean\": 35.0, \"median\": 37.0, \"q25\": 33.5, \"q75\": 37.5, \"min\": 30, \"max\": 38}, {\"base\": 22, \"mean\": 37.0, \"median\": 38.0, \"q25\": 36.0, \"q75\": 38.5, \"min\": 34, \"max\": 39}, {\"base\": 23, \"mean\": 37.0, \"median\": 38.0, \"q25\": 36.0, \"q75\": 38.5, \"min\": 34, \"max\": 39}, {\"base\": 24, \"mean\": 37.0, \"median\": 37.0, \"q25\": 36.0, \"q75\": 38.0, \"min\": 35, \"max\": 39}, {\"base\": 25, \"mean\": 31.666666666666668, \"median\": 31.0, \"q25\": 29.5, \"q75\": 33.5, \"min\": 28, \"max\": 36}, {\"base\": 26, \"mean\": 37.666666666666664, \"median\": 38.0, \"q25\": 37.5, \"q75\": 38.0, \"min\": 37, \"max\": 38}, {\"base\": 27, \"mean\": 38.666666666666664, \"median\": 39.0, \"q25\": 38.5, \"q75\": 39.0, \"min\": 38, \"max\": 39}, {\"base\": 28, \"mean\": 37.666666666666664, \"median\": 38.0, \"q25\": 37.0, \"q75\": 38.5, \"min\": 36, \"max\": 39}, {\"base\": 29, \"mean\": 33.333333333333336, \"median\": 34.0, \"q25\": 30.5, \"q75\": 36.5, \"min\": 27, \"max\": 39}, {\"base\": 30, \"mean\": 38.0, \"median\": 38.0, \"q25\": 38.0, \"q75\": 38.0, \"min\": 38, \"max\": 38}, {\"base\": 31, \"mean\": 36.333333333333336, \"median\": 36.0, \"q25\": 36.0, \"q75\": 36.5, \"min\": 36, \"max\": 37}, {\"base\": 32, \"mean\": 32.333333333333336, \"median\": 32.0, \"q25\": 31.0, \"q75\": 33.5, \"min\": 30, \"max\": 35}, {\"base\": 33, \"mean\": 34.0, \"median\": 39.0, \"q25\": 31.5, \"q75\": 39.0, \"min\": 24, \"max\": 39}, {\"base\": 34, \"mean\": 36.666666666666664, \"median\": 36.0, \"q25\": 35.5, \"q75\": 37.5, \"min\": 35, \"max\": 39}, {\"base\": 35, \"mean\": 35.333333333333336, \"median\": 38.0, \"q25\": 34.0, \"q75\": 38.0, \"min\": 30, \"max\": 38}, {\"base\": 36, \"mean\": 38.0, \"median\": 37.0, \"q25\": 36.5, \"q75\": 39.0, \"min\": 36, \"max\": 41}, {\"base\": 37, \"mean\": 36.333333333333336, \"median\": 36.0, \"q25\": 36.0, \"q75\": 36.5, \"min\": 36, \"max\": 37}, {\"base\": 38, \"mean\": 36.666666666666664, \"median\": 39.0, \"q25\": 35.5, \"q75\": 39.0, \"min\": 32, \"max\": 39}, {\"base\": 39, \"mean\": 35.666666666666664, \"median\": 36.0, \"q25\": 34.5, \"q75\": 37.0, \"min\": 33, \"max\": 38}, {\"base\": 40, \"mean\": 36.666666666666664, \"median\": 37.0, \"q25\": 36.5, \"q75\": 37.0, \"min\": 36, \"max\": 37}, {\"base\": 41, \"mean\": 35.333333333333336, \"median\": 37.0, \"q25\": 34.5, \"q75\": 37.0, \"min\": 32, \"max\": 37}, {\"base\": 42, \"mean\": 38.0, \"median\": 38.0, \"q25\": 38.0, \"q75\": 38.0, \"min\": 38, \"max\": 38}, {\"base\": 43, \"mean\": 33.0, \"median\": 36.0, \"q25\": 30.0, \"q75\": 37.5, \"min\": 24, \"max\": 39}, {\"base\": 44, \"mean\": 34.0, \"median\": 34.0, \"q25\": 32.5, \"q75\": 35.5, \"min\": 31, \"max\": 37}, {\"base\": 45, \"mean\": 34.666666666666664, \"median\": 34.0, \"q25\": 34.0, \"q75\": 35.0, \"min\": 34, \"max\": 36}, {\"base\": 46, \"mean\": 36.333333333333336, \"median\": 36.0, \"q25\": 35.5, \"q75\": 37.0, \"min\": 35, \"max\": 38}, {\"base\": 47, \"mean\": 35.666666666666664, \"median\": 38.0, \"q25\": 34.5, \"q75\": 38.0, \"min\": 31, \"max\": 38}, {\"base\": 48, \"mean\": 38.0, \"median\": 38.0, \"q25\": 38.0, \"q75\": 38.0, \"min\": 38, \"max\": 38}, {\"base\": 49, \"mean\": 37.666666666666664, \"median\": 37.0, \"q25\": 37.0, \"q75\": 38.0, \"min\": 37, \"max\": 39}]}}, {\"mode\": \"vega-lite\"});\n",
       "</script>"
      ],
      "text/plain": [
       "alt.LayerChart(...)"
      ]
     },
     "execution_count": 81,
     "metadata": {},
     "output_type": "execute_result"
    }
   ],
   "source": [
    "import altair as alt\n",
    "\n",
    "base = alt.Chart(plotting_data_df).encode(\n",
    "    alt.X('base:Q', title=\"Position in the read\")\n",
    ").properties(\n",
    "    width=800,\n",
    "    height=200)\n",
    "\n",
    "median = base.mark_tick(color='red',orient='horizontal').encode(\n",
    "    alt.Y('median:Q', title=\"Phred quality score\"),\n",
    ")\n",
    "\n",
    "q = base.mark_rule(color='green',opacity=.5,strokeWidth=10).encode(\n",
    "    alt.Y('q25:Q'),\n",
    "    alt.Y2('q75:Q')\n",
    ")\n",
    "\n",
    "min_max = base.mark_rule(color='black').encode(\n",
    "        alt.Y('min:Q'),\n",
    "        alt.Y2('max:Q')\n",
    ")\n",
    "\n",
    "median + q + min_max"
   ]
  },
  {
   "cell_type": "code",
   "execution_count": 81,
   "metadata": {},
   "outputs": [
    {
     "data": {
      "text/html": [
       "\n",
       "<div id=\"altair-viz-3dd6754de0e54e37a5e18854b67ff0f4\"></div>\n",
       "<script type=\"text/javascript\">\n",
       "  var VEGA_DEBUG = (typeof VEGA_DEBUG == \"undefined\") ? {} : VEGA_DEBUG;\n",
       "  (function(spec, embedOpt){\n",
       "    let outputDiv = document.currentScript.previousElementSibling;\n",
       "    if (outputDiv.id !== \"altair-viz-3dd6754de0e54e37a5e18854b67ff0f4\") {\n",
       "      outputDiv = document.getElementById(\"altair-viz-3dd6754de0e54e37a5e18854b67ff0f4\");\n",
       "    }\n",
       "    const paths = {\n",
       "      \"vega\": \"https://cdn.jsdelivr.net/npm//vega@5?noext\",\n",
       "      \"vega-lib\": \"https://cdn.jsdelivr.net/npm//vega-lib?noext\",\n",
       "      \"vega-lite\": \"https://cdn.jsdelivr.net/npm//vega-lite@4.17.0?noext\",\n",
       "      \"vega-embed\": \"https://cdn.jsdelivr.net/npm//vega-embed@6?noext\",\n",
       "    };\n",
       "\n",
       "    function maybeLoadScript(lib, version) {\n",
       "      var key = `${lib.replace(\"-\", \"\")}_version`;\n",
       "      return (VEGA_DEBUG[key] == version) ?\n",
       "        Promise.resolve(paths[lib]) :\n",
       "        new Promise(function(resolve, reject) {\n",
       "          var s = document.createElement('script');\n",
       "          document.getElementsByTagName(\"head\")[0].appendChild(s);\n",
       "          s.async = true;\n",
       "          s.onload = () => {\n",
       "            VEGA_DEBUG[key] = version;\n",
       "            return resolve(paths[lib]);\n",
       "          };\n",
       "          s.onerror = () => reject(`Error loading script: ${paths[lib]}`);\n",
       "          s.src = paths[lib];\n",
       "        });\n",
       "    }\n",
       "\n",
       "    function showError(err) {\n",
       "      outputDiv.innerHTML = `<div class=\"error\" style=\"color:red;\">${err}</div>`;\n",
       "      throw err;\n",
       "    }\n",
       "\n",
       "    function displayChart(vegaEmbed) {\n",
       "      vegaEmbed(outputDiv, spec, embedOpt)\n",
       "        .catch(err => showError(`Javascript Error: ${err.message}<br>This usually means there's a typo in your chart specification. See the javascript console for the full traceback.`));\n",
       "    }\n",
       "\n",
       "    if(typeof define === \"function\" && define.amd) {\n",
       "      requirejs.config({paths});\n",
       "      require([\"vega-embed\"], displayChart, err => showError(`Error loading script: ${err.message}`));\n",
       "    } else {\n",
       "      maybeLoadScript(\"vega\", \"5\")\n",
       "        .then(() => maybeLoadScript(\"vega-lite\", \"4.17.0\"))\n",
       "        .then(() => maybeLoadScript(\"vega-embed\", \"6\"))\n",
       "        .catch(showError)\n",
       "        .then(() => displayChart(vegaEmbed));\n",
       "    }\n",
       "  })({\"config\": {\"view\": {\"continuousWidth\": 400, \"continuousHeight\": 300}}, \"layer\": [{\"mark\": {\"type\": \"tick\", \"color\": \"red\", \"orient\": \"horizontal\"}, \"encoding\": {\"x\": {\"field\": \"base\", \"title\": \"Position in the read\", \"type\": \"quantitative\"}, \"y\": {\"field\": \"median\", \"title\": \"Phred quality score\", \"type\": \"quantitative\"}}, \"height\": 200, \"width\": 800}, {\"mark\": {\"type\": \"rule\", \"color\": \"green\", \"opacity\": 0.5, \"strokeWidth\": 10}, \"encoding\": {\"x\": {\"field\": \"base\", \"title\": \"Position in the read\", \"type\": \"quantitative\"}, \"y\": {\"field\": \"q25\", \"type\": \"quantitative\"}, \"y2\": {\"field\": \"q75\"}}, \"height\": 200, \"width\": 800}, {\"mark\": {\"type\": \"rule\", \"color\": \"black\"}, \"encoding\": {\"x\": {\"field\": \"base\", \"title\": \"Position in the read\", \"type\": \"quantitative\"}, \"y\": {\"field\": \"min\", \"type\": \"quantitative\"}, \"y2\": {\"field\": \"max\"}}, \"height\": 200, \"width\": 800}], \"data\": {\"name\": \"data-ccf1ca196f1d0e4919420b2695143650\"}, \"$schema\": \"https://vega.github.io/schema/vega-lite/v4.17.0.json\", \"datasets\": {\"data-ccf1ca196f1d0e4919420b2695143650\": [{\"base\": 0, \"mean\": 32.666666666666664, \"median\": 33.0, \"q25\": 32.0, \"q75\": 33.5, \"min\": 31, \"max\": 34}, {\"base\": 1, \"mean\": 33.666666666666664, \"median\": 35.0, \"q25\": 33.0, \"q75\": 35.0, \"min\": 31, \"max\": 35}, {\"base\": 2, \"mean\": 33.0, \"median\": 32.0, \"q25\": 32.0, \"q75\": 33.5, \"min\": 32, \"max\": 35}, {\"base\": 3, \"mean\": 37.333333333333336, \"median\": 37.0, \"q25\": 36.5, \"q75\": 38.0, \"min\": 36, \"max\": 39}, {\"base\": 4, \"mean\": 33.333333333333336, \"median\": 36.0, \"q25\": 31.5, \"q75\": 36.5, \"min\": 27, \"max\": 37}, {\"base\": 5, \"mean\": 37.0, \"median\": 37.0, \"q25\": 37.0, \"q75\": 37.0, \"min\": 37, \"max\": 37}, {\"base\": 6, \"mean\": 32.333333333333336, \"median\": 30.0, \"q25\": 30.0, \"q75\": 33.5, \"min\": 30, \"max\": 37}, {\"base\": 7, \"mean\": 36.0, \"median\": 36.0, \"q25\": 35.5, \"q75\": 36.5, \"min\": 35, \"max\": 37}, {\"base\": 8, \"mean\": 36.666666666666664, \"median\": 36.0, \"q25\": 36.0, \"q75\": 37.0, \"min\": 36, \"max\": 38}, {\"base\": 9, \"mean\": 37.0, \"median\": 37.0, \"q25\": 36.0, \"q75\": 38.0, \"min\": 35, \"max\": 39}, {\"base\": 10, \"mean\": 36.333333333333336, \"median\": 36.0, \"q25\": 36.0, \"q75\": 36.5, \"min\": 36, \"max\": 37}, {\"base\": 11, \"mean\": 35.333333333333336, \"median\": 37.0, \"q25\": 34.5, \"q75\": 37.0, \"min\": 32, \"max\": 37}, {\"base\": 12, \"mean\": 37.0, \"median\": 37.0, \"q25\": 36.0, \"q75\": 38.0, \"min\": 35, \"max\": 39}, {\"base\": 13, \"mean\": 34.333333333333336, \"median\": 35.0, \"q25\": 32.5, \"q75\": 36.5, \"min\": 30, \"max\": 38}, {\"base\": 14, \"mean\": 37.0, \"median\": 37.0, \"q25\": 37.0, \"q75\": 37.0, \"min\": 37, \"max\": 37}, {\"base\": 15, \"mean\": 36.333333333333336, \"median\": 36.0, \"q25\": 36.0, \"q75\": 36.5, \"min\": 36, \"max\": 37}, {\"base\": 16, \"mean\": 37.0, \"median\": 36.0, \"q25\": 36.0, \"q75\": 37.5, \"min\": 36, \"max\": 39}, {\"base\": 17, \"mean\": 38.0, \"median\": 38.0, \"q25\": 37.5, \"q75\": 38.5, \"min\": 37, \"max\": 39}, {\"base\": 18, \"mean\": 36.333333333333336, \"median\": 36.0, \"q25\": 35.5, \"q75\": 37.0, \"min\": 35, \"max\": 38}, {\"base\": 19, \"mean\": 38.0, \"median\": 38.0, \"q25\": 37.5, \"q75\": 38.5, \"min\": 37, \"max\": 39}, {\"base\": 20, \"mean\": 36.0, \"median\": 35.0, \"q25\": 35.0, \"q75\": 36.5, \"min\": 35, \"max\": 38}, {\"base\": 21, \"mean\": 35.0, \"median\": 37.0, \"q25\": 33.5, \"q75\": 37.5, \"min\": 30, \"max\": 38}, {\"base\": 22, \"mean\": 37.0, \"median\": 38.0, \"q25\": 36.0, \"q75\": 38.5, \"min\": 34, \"max\": 39}, {\"base\": 23, \"mean\": 37.0, \"median\": 38.0, \"q25\": 36.0, \"q75\": 38.5, \"min\": 34, \"max\": 39}, {\"base\": 24, \"mean\": 37.0, \"median\": 37.0, \"q25\": 36.0, \"q75\": 38.0, \"min\": 35, \"max\": 39}, {\"base\": 25, \"mean\": 31.666666666666668, \"median\": 31.0, \"q25\": 29.5, \"q75\": 33.5, \"min\": 28, \"max\": 36}, {\"base\": 26, \"mean\": 37.666666666666664, \"median\": 38.0, \"q25\": 37.5, \"q75\": 38.0, \"min\": 37, \"max\": 38}, {\"base\": 27, \"mean\": 38.666666666666664, \"median\": 39.0, \"q25\": 38.5, \"q75\": 39.0, \"min\": 38, \"max\": 39}, {\"base\": 28, \"mean\": 37.666666666666664, \"median\": 38.0, \"q25\": 37.0, \"q75\": 38.5, \"min\": 36, \"max\": 39}, {\"base\": 29, \"mean\": 33.333333333333336, \"median\": 34.0, \"q25\": 30.5, \"q75\": 36.5, \"min\": 27, \"max\": 39}, {\"base\": 30, \"mean\": 38.0, \"median\": 38.0, \"q25\": 38.0, \"q75\": 38.0, \"min\": 38, \"max\": 38}, {\"base\": 31, \"mean\": 36.333333333333336, \"median\": 36.0, \"q25\": 36.0, \"q75\": 36.5, \"min\": 36, \"max\": 37}, {\"base\": 32, \"mean\": 32.333333333333336, \"median\": 32.0, \"q25\": 31.0, \"q75\": 33.5, \"min\": 30, \"max\": 35}, {\"base\": 33, \"mean\": 34.0, \"median\": 39.0, \"q25\": 31.5, \"q75\": 39.0, \"min\": 24, \"max\": 39}, {\"base\": 34, \"mean\": 36.666666666666664, \"median\": 36.0, \"q25\": 35.5, \"q75\": 37.5, \"min\": 35, \"max\": 39}, {\"base\": 35, \"mean\": 35.333333333333336, \"median\": 38.0, \"q25\": 34.0, \"q75\": 38.0, \"min\": 30, \"max\": 38}, {\"base\": 36, \"mean\": 38.0, \"median\": 37.0, \"q25\": 36.5, \"q75\": 39.0, \"min\": 36, \"max\": 41}, {\"base\": 37, \"mean\": 36.333333333333336, \"median\": 36.0, \"q25\": 36.0, \"q75\": 36.5, \"min\": 36, \"max\": 37}, {\"base\": 38, \"mean\": 36.666666666666664, \"median\": 39.0, \"q25\": 35.5, \"q75\": 39.0, \"min\": 32, \"max\": 39}, {\"base\": 39, \"mean\": 35.666666666666664, \"median\": 36.0, \"q25\": 34.5, \"q75\": 37.0, \"min\": 33, \"max\": 38}, {\"base\": 40, \"mean\": 36.666666666666664, \"median\": 37.0, \"q25\": 36.5, \"q75\": 37.0, \"min\": 36, \"max\": 37}, {\"base\": 41, \"mean\": 35.333333333333336, \"median\": 37.0, \"q25\": 34.5, \"q75\": 37.0, \"min\": 32, \"max\": 37}, {\"base\": 42, \"mean\": 38.0, \"median\": 38.0, \"q25\": 38.0, \"q75\": 38.0, \"min\": 38, \"max\": 38}, {\"base\": 43, \"mean\": 33.0, \"median\": 36.0, \"q25\": 30.0, \"q75\": 37.5, \"min\": 24, \"max\": 39}, {\"base\": 44, \"mean\": 34.0, \"median\": 34.0, \"q25\": 32.5, \"q75\": 35.5, \"min\": 31, \"max\": 37}, {\"base\": 45, \"mean\": 34.666666666666664, \"median\": 34.0, \"q25\": 34.0, \"q75\": 35.0, \"min\": 34, \"max\": 36}, {\"base\": 46, \"mean\": 36.333333333333336, \"median\": 36.0, \"q25\": 35.5, \"q75\": 37.0, \"min\": 35, \"max\": 38}, {\"base\": 47, \"mean\": 35.666666666666664, \"median\": 38.0, \"q25\": 34.5, \"q75\": 38.0, \"min\": 31, \"max\": 38}, {\"base\": 48, \"mean\": 38.0, \"median\": 38.0, \"q25\": 38.0, \"q75\": 38.0, \"min\": 38, \"max\": 38}, {\"base\": 49, \"mean\": 37.666666666666664, \"median\": 37.0, \"q25\": 37.0, \"q75\": 38.0, \"min\": 37, \"max\": 39}]}}, {\"mode\": \"vega-lite\"});\n",
       "</script>"
      ],
      "text/plain": [
       "alt.LayerChart(...)"
      ]
     },
     "execution_count": 81,
     "metadata": {},
     "output_type": "execute_result"
    }
   ],
   "source": [
    "import altair as alt\n",
    "\n",
    "base = alt.Chart(plotting_data_df).encode(\n",
    "    alt.X('base:Q', title=\"Position in the read\")\n",
    ").properties(\n",
    "    width=800,\n",
    "    height=200)\n",
    "\n",
    "median = base.mark_tick(color='red',orient='horizontal').encode(\n",
    "    alt.Y('median:Q', title=\"Phred quality score\"),\n",
    ")\n",
    "\n",
    "q = base.mark_rule(color='green',opacity=.5,strokeWidth=10).encode(\n",
    "    alt.Y('q25:Q'),\n",
    "    alt.Y2('q75:Q')\n",
    ")\n",
    "\n",
    "min_max = base.mark_rule(color='black').encode(\n",
    "        alt.Y('min:Q'),\n",
    "        alt.Y2('max:Q')\n",
    ")\n",
    "\n",
    "median + q + min_max"
   ]
  },
  {
   "cell_type": "markdown",
   "metadata": {},
   "source": [
    "### Other comments\n",
    "\n",
    "In all the examples above, the reads in the FASTQ file are all the same length.  This is not necessarily the case though it is usually true for datasets generated by sequencing-by-synthesis instruments.  FASTQ files can contain reads of various lengths.\n",
    "\n",
    "FASTQ files often have extension `.fastq` or `.fq`."
   ]
  },
  {
   "cell_type": "markdown",
   "metadata": {},
   "source": [
    "### Other resources\n",
    "\n",
    "* [Wikipedia page for FASTQ format](http://en.wikipedia.org/wiki/Fastq_format)\n",
    "* [BioPython], which has [its own ways of parsing FASTA](http://biopython.org/wiki/SeqIO)\n",
    "* [FASTX] toolkit\n",
    "* [seqtk]\n",
    "* [FastQC]\n",
    "\n",
    "[BioPython]: http://biopython.org/wiki/Main_Page\n",
    "[SeqIO]: http://biopython.org/wiki/SeqIO\n",
    "[SAMtools]: http://samtools.sourceforge.net/\n",
    "[FASTX]: http://hannonlab.cshl.edu/fastx_toolkit/\n",
    "[FASTQC]: http://www.bioinformatics.babraham.ac.uk/projects/fastqc/\n",
    "[seqtk]: https://github.com/lh3/seqtk\n",
    "\n",
    "© Copyright [Ben Langmead](http://www.cs.jhu.edu/~langmea) 2014--2019"
   ]
  }
 ],
 "metadata": {
  "colab": {
   "provenance": []
  },
  "kernelspec": {
   "display_name": "Python 3 (ipykernel)",
   "language": "python",
   "name": "python3"
  },
  "language_info": {
   "codemirror_mode": {
    "name": "ipython",
    "version": 3
   },
   "file_extension": ".py",
   "mimetype": "text/x-python",
   "name": "python",
   "nbconvert_exporter": "python",
   "pygments_lexer": "ipython3",
   "version": "3.10.6"
  }
 },
 "nbformat": 4,
 "nbformat_minor": 4
}
