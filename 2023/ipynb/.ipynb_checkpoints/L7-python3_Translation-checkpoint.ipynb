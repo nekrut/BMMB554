{
 "cells": [
  {
   "cell_type": "markdown",
   "id": "eb679306-5d26-406f-b9c9-6309c8c5085b",
   "metadata": {},
   "source": [
    "# Using dictionaries to translare DNA"
   ]
  },
  {
   "cell_type": "markdown",
   "id": "40ad9773-20a1-4460-8e74-18c74c80676d",
   "metadata": {},
   "source": [
    "## Define and use translation table"
   ]
  },
  {
   "cell_type": "markdown",
   "id": "08b5730d-86b2-4cdb-9ddc-15251032ea7a",
   "metadata": {},
   "source": [
    "The following dictionary maps codons to corresponding amino acid translations. In this case codon is the *key* and amino acid is the *value*:"
   ]
  },
  {
   "cell_type": "code",
   "execution_count": 112,
   "id": "0f3e7ce8-558b-48b6-a453-3cb22a230a48",
   "metadata": {},
   "outputs": [],
   "source": [
    "table = {\n",
    "        'ATA':'I', 'ATC':'I', 'ATT':'I', 'ATG':'M',\n",
    "        'ACA':'T', 'ACC':'T', 'ACG':'T', 'ACT':'T',\n",
    "        'AAC':'N', 'AAT':'N', 'AAA':'K', 'AAG':'K',\n",
    "        'AGC':'S', 'AGT':'S', 'AGA':'R', 'AGG':'R',                \n",
    "        'CTA':'L', 'CTC':'L', 'CTG':'L', 'CTT':'L',\n",
    "        'CCA':'P', 'CCC':'P', 'CCG':'P', 'CCT':'P',\n",
    "        'CAC':'H', 'CAT':'H', 'CAA':'Q', 'CAG':'Q',\n",
    "        'CGA':'R', 'CGC':'R', 'CGG':'R', 'CGT':'R',\n",
    "        'GTA':'V', 'GTC':'V', 'GTG':'V', 'GTT':'V',\n",
    "        'GCA':'A', 'GCC':'A', 'GCG':'A', 'GCT':'A',\n",
    "        'GAC':'D', 'GAT':'D', 'GAA':'E', 'GAG':'E',\n",
    "        'GGA':'G', 'GGC':'G', 'GGG':'G', 'GGT':'G',\n",
    "        'TCA':'S', 'TCC':'S', 'TCG':'S', 'TCT':'S',\n",
    "        'TTC':'F', 'TTT':'F', 'TTA':'L', 'TTG':'L',\n",
    "        'TAC':'Y', 'TAT':'Y', 'TAA':'_', 'TAG':'_',\n",
    "        'TGC':'C', 'TGT':'C', 'TGA':'_', 'TGG':'W',\n",
    "    }"
   ]
  },
  {
   "cell_type": "markdown",
   "id": "a9cd9de5-c150-427a-91c9-7b72e7369970",
   "metadata": {},
   "source": [
    "Let's generate random DNA sequence:"
   ]
  },
  {
   "cell_type": "code",
   "execution_count": 113,
   "id": "50990014-6a85-4181-8fd7-10c29aa35960",
   "metadata": {},
   "outputs": [],
   "source": [
    "import random\n",
    "seq = \"\".join([random.choice('atcg') for x in range(100)])"
   ]
  },
  {
   "cell_type": "code",
   "execution_count": 114,
   "id": "a2603eaa-596d-499d-8b38-15866ab929d7",
   "metadata": {},
   "outputs": [
    {
     "data": {
      "text/plain": [
       "'ccactttacttcgacaataatccattgtgtcatatcgacttgatggggccactatcagcactgcaaagttctcaacgataaatactgttccgtgggcgtg'"
      ]
     },
     "execution_count": 114,
     "metadata": {},
     "output_type": "execute_result"
    }
   ],
   "source": [
    "seq"
   ]
  },
  {
   "cell_type": "markdown",
   "id": "6ea4b452-4011-4b06-aee8-88f5c07062d8",
   "metadata": {},
   "source": [
    "To translate this sequence we write a code that uses a `for` loop that iterates over the DNA sequence in steps of 3, creating a codon at each iteration. If the codon is less than 3 letters long, the loop is broken. The resulting amino acid is then added to the `translation` string:"
   ]
  },
  {
   "cell_type": "code",
   "execution_count": 168,
   "id": "0630f614-8f42-4902-acc8-96149a1b4970",
   "metadata": {},
   "outputs": [
    {
     "name": "stdout",
     "output_type": "stream",
     "text": [
      "Translation: PLYFDNNPLCHIDLMGPLSALQSSQR_ILFRGR\n"
     ]
    }
   ],
   "source": [
    "translation = \"\"\n",
    "for i in range(0, len(seq), 3):\n",
    "    codon = seq[i:i+3].upper()\n",
    "    if len(codon) < 3: break\n",
    "    if codon in table:\n",
    "        translation += table[codon]\n",
    "    else:\n",
    "        translation += \"X\"\n",
    "\n",
    "print(\"Translation:\", translation)"
   ]
  },
  {
   "cell_type": "markdown",
   "id": "b26de991-d380-49d6-888c-aea1fb2967fe",
   "metadata": {},
   "source": [
    "Note that the code uses the `upper()` method to ensure the codon is in uppercase, since the table dictionary is case sensitive. Additionally, the code checks if the codon is in the table dictionary, and if not, it adds the letter \"X\" to the translation. This is a common way to represent unknown or stop codons in a protein sequence."
   ]
  },
  {
   "cell_type": "code",
   "execution_count": 116,
   "id": "dc460511-fecb-4659-9593-f86250b886d1",
   "metadata": {},
   "outputs": [
    {
     "data": {
      "text/plain": [
       "'PLYFDNNPLCHIDLMGPLSALQSSQR_ILFRGR'"
      ]
     },
     "execution_count": 116,
     "metadata": {},
     "output_type": "execute_result"
    }
   ],
   "source": [
    "translation"
   ]
  },
  {
   "cell_type": "markdown",
   "id": "74b8f896-23cc-4012-aba9-0fd5bf20c845",
   "metadata": {},
   "source": [
    "Now we define a function that would perform translation so that we can reuse it later:"
   ]
  },
  {
   "cell_type": "code",
   "execution_count": 169,
   "id": "affafd38-69c5-45ca-a997-cc1c6bb1c357",
   "metadata": {},
   "outputs": [],
   "source": [
    "def translate(seq):\n",
    "    translation = ''\n",
    "    table = {\n",
    "        'ATA':'I', 'ATC':'I', 'ATT':'I', 'ATG':'M',\n",
    "        'ACA':'T', 'ACC':'T', 'ACG':'T', 'ACT':'T',\n",
    "        'AAC':'N', 'AAT':'N', 'AAA':'K', 'AAG':'K',\n",
    "        'AGC':'S', 'AGT':'S', 'AGA':'R', 'AGG':'R',                \n",
    "        'CTA':'L', 'CTC':'L', 'CTG':'L', 'CTT':'L',\n",
    "        'CCA':'P', 'CCC':'P', 'CCG':'P', 'CCT':'P',\n",
    "        'CAC':'H', 'CAT':'H', 'CAA':'Q', 'CAG':'Q',\n",
    "        'CGA':'R', 'CGC':'R', 'CGG':'R', 'CGT':'R',\n",
    "        'GTA':'V', 'GTC':'V', 'GTG':'V', 'GTT':'V',\n",
    "        'GCA':'A', 'GCC':'A', 'GCG':'A', 'GCT':'A',\n",
    "        'GAC':'D', 'GAT':'D', 'GAA':'E', 'GAG':'E',\n",
    "        'GGA':'G', 'GGC':'G', 'GGG':'G', 'GGT':'G',\n",
    "        'TCA':'S', 'TCC':'S', 'TCG':'S', 'TCT':'S',\n",
    "        'TTC':'F', 'TTT':'F', 'TTA':'L', 'TTG':'L',\n",
    "        'TAC':'Y', 'TAT':'Y', 'TAA':'_', 'TAG':'_',\n",
    "        'TGC':'C', 'TGT':'C', 'TGA':'_', 'TGG':'W',\n",
    "    }\n",
    "    for i in range(0, len(seq), 3):\n",
    "        codon = seq[i:i+3].upper()\n",
    "        if len(codon) < 3: break\n",
    "        if codon in table:\n",
    "            translation += table[codon]\n",
    "        else:\n",
    "            translation += \"X\"\n",
    "    return(translation)"
   ]
  },
  {
   "cell_type": "code",
   "execution_count": 170,
   "id": "14388c97-a3e3-45ad-9bf9-76b807a4577d",
   "metadata": {},
   "outputs": [
    {
     "data": {
      "text/plain": [
       "'PLYFDNNPLCHIDLMGPLSALQSSQR_ILFRGR'"
      ]
     },
     "execution_count": 170,
     "metadata": {},
     "output_type": "execute_result"
    }
   ],
   "source": [
    "translate(seq)"
   ]
  },
  {
   "cell_type": "markdown",
   "id": "3cb565cc-5743-4a6a-a8d0-96da2aab6577",
   "metadata": {},
   "source": [
    "We can further modify the function by adding a `phase` parameter that would allow translating in any of the three phases:"
   ]
  },
  {
   "cell_type": "code",
   "execution_count": 182,
   "id": "2ed2f58e-de8b-447e-b260-18f0f81e7eda",
   "metadata": {},
   "outputs": [],
   "source": [
    "def translate_phase(seq,phase):\n",
    "    translation = ''\n",
    "    table = {\n",
    "        'ATA':'I', 'ATC':'I', 'ATT':'I', 'ATG':'M',\n",
    "        'ACA':'T', 'ACC':'T', 'ACG':'T', 'ACT':'T',\n",
    "        'AAC':'N', 'AAT':'N', 'AAA':'K', 'AAG':'K',\n",
    "        'AGC':'S', 'AGT':'S', 'AGA':'R', 'AGG':'R',                \n",
    "        'CTA':'L', 'CTC':'L', 'CTG':'L', 'CTT':'L',\n",
    "        'CCA':'P', 'CCC':'P', 'CCG':'P', 'CCT':'P',\n",
    "        'CAC':'H', 'CAT':'H', 'CAA':'Q', 'CAG':'Q',\n",
    "        'CGA':'R', 'CGC':'R', 'CGG':'R', 'CGT':'R',\n",
    "        'GTA':'V', 'GTC':'V', 'GTG':'V', 'GTT':'V',\n",
    "        'GCA':'A', 'GCC':'A', 'GCG':'A', 'GCT':'A',\n",
    "        'GAC':'D', 'GAT':'D', 'GAA':'E', 'GAG':'E',\n",
    "        'GGA':'G', 'GGC':'G', 'GGG':'G', 'GGT':'G',\n",
    "        'TCA':'S', 'TCC':'S', 'TCG':'S', 'TCT':'S',\n",
    "        'TTC':'F', 'TTT':'F', 'TTA':'L', 'TTG':'L',\n",
    "        'TAC':'Y', 'TAT':'Y', 'TAA':'_', 'TAG':'_',\n",
    "        'TGC':'C', 'TGT':'C', 'TGA':'_', 'TGG':'W',\n",
    "    }\n",
    "    assert phase >= 0 and phase <= 3, \"Phase parameter can only be set to 0, 1, or 2! You specified {}\".format(phase)\n",
    "    for i in range(phase, len(seq), 3):\n",
    "        codon = seq[i:i+3].upper()\n",
    "        if len(codon) < 3: break\n",
    "        if codon in table:\n",
    "            translation += table[codon]\n",
    "        else:\n",
    "            translation += \"X\"\n",
    "    return(translation)"
   ]
  },
  {
   "cell_type": "code",
   "execution_count": 184,
   "id": "c5093b74-c009-4275-b2dd-6bc06b6510d1",
   "metadata": {},
   "outputs": [
    {
     "data": {
      "text/plain": [
       "'TLLRQ_SIVSYRLDGATISTAKFSTINTVPWA'"
      ]
     },
     "execution_count": 184,
     "metadata": {},
     "output_type": "execute_result"
    }
   ],
   "source": [
    "translate_phase(seq,2)"
   ]
  },
  {
   "cell_type": "markdown",
   "id": "a550d898-a957-4115-b97b-b23d04822716",
   "metadata": {},
   "source": [
    "To translate in all six reading franes (three of the \"+\" strand and three of the \"-\" strand) we need to be able to create a reverse complement of the sequence. Let's wrire a simple function for that. The cell below implements a function `revcomp` that takes a DNA sequence as input and returns its reverse complement. It works by first reversing the sequence using the slice notation `seq[::-1]`, which returns the sequence in reverse order. Then, the `translate` method is used with the `str.maketrans` function to replace each occurrence of 'a', 't', 'g', 'c', 'A', 'T', 'G', and 'C' in the reversed sequence with 't', 'a', 'c', 'g', 'T', 'A', 'C', and 'G', respectively:"
   ]
  },
  {
   "cell_type": "code",
   "execution_count": 121,
   "id": "b7e71d87-236b-42c8-9429-3b524def2363",
   "metadata": {},
   "outputs": [],
   "source": [
    "import string\n",
    "\n",
    "def revcomp(seq):\n",
    "    return seq[::-1].translate(str.maketrans('atgcATCG','tagcTACG'))"
   ]
  },
  {
   "cell_type": "markdown",
   "id": "506f6d6f-effa-4890-9a43-870a3c9b03d2",
   "metadata": {},
   "source": [
    "Now let's use this function to create translation in all six reading frames. The cell below uses a `for` loop that iterates over the range `(0, 3)`, representing the different phases (or starting positions) of the translation. At each iteration, the `translate_phase` function is called with the DNA sequence and the current phase, and the resulting protein sequence is appended to the `translations` list along with the `phase` and the `strand` orientation (+ or -):"
   ]
  },
  {
   "cell_type": "code",
   "execution_count": 133,
   "id": "73347176-7eac-469a-a160-18e8c3c3594f",
   "metadata": {},
   "outputs": [],
   "source": [
    "translations = []\n",
    "\n",
    "for i in range(0,3):\n",
    "    translations.append((translate_phase(seq,i),str(i),'+'))\n",
    "    translations.append((translate_phase(revcomp(seq),i),str(i),'-'))"
   ]
  },
  {
   "cell_type": "code",
   "execution_count": 132,
   "id": "4f71c2a7-a64c-4f09-8efc-e912df0ef257",
   "metadata": {},
   "outputs": [
    {
     "data": {
      "text/plain": [
       "[('PLYFDNNPLCHIDLMGPLSALQSSQR_ILFRGR', '0', '+'),\n",
       " ('EREPRLFMLHKFRLVILRG_TAYQRIHYSATKL', '0', '-'),\n",
       " ('HFTSTIIHCVIST_WGHYQHCKVLNDKYCSVGV', '1', '+'),\n",
       " ('SGSQDYLCFTSFDSSYSGDELHIRESIILQLNS', '1', '-'),\n",
       " ('TLLRQ_SIVSYRLDGATISTAKFSTINTVPWA', '2', '+'),\n",
       " ('AGAKTIYASQVSTRHTPGMNCISENPLFCN_T', '2', '-')]"
      ]
     },
     "execution_count": 132,
     "metadata": {},
     "output_type": "execute_result"
    }
   ],
   "source": [
    "translations"
   ]
  },
  {
   "cell_type": "markdown",
   "id": "a95e4af8-122c-4389-bbef-2feb3fa4b9a5",
   "metadata": {},
   "source": [
    "## Finding coordinates of continuous translations"
   ]
  },
  {
   "cell_type": "markdown",
   "id": "e7701c23-f2ac-4ea5-984d-5e2ebb2fb1a9",
   "metadata": {},
   "source": [
    "The translation we've generated above contain stops (e.g., `_` symbols). The actual biologically relevant protein sequences are between stops. We now need to split translation strings into meaningful peptide sequences and combite their coordinates. Let's begin by splitting a string on `_` and computing start and end positions of each peptide:"
   ]
  },
  {
   "cell_type": "code",
   "execution_count": 185,
   "id": "9bac7646-21ee-490e-bc8a-c8ed4ad4730a",
   "metadata": {},
   "outputs": [
    {
     "name": "stdout",
     "output_type": "stream",
     "text": [
      "[6, 11]\n"
     ]
    }
   ],
   "source": [
    "string = \"aadsds_dsds_dsds\"\n",
    "\n",
    "split_indices = []\n",
    "for i,char in enumerate(string):\n",
    "    if char == \"_\":\n",
    "        split_indices.append(i)\n",
    "print(split_indices)"
   ]
  },
  {
   "cell_type": "markdown",
   "id": "b136e5a8-bd43-414d-8b79-380e0bcf4135",
   "metadata": {},
   "source": [
    "The code above generates a list of split indices for a string. The list contains the indices of the characters in the string that match a specified character (in this case, the underscore `_` character).\n",
    "\n",
    "The `enumerate` function is used to loop over the characters in the string, and at each iteration, the current index and character are stored in the variables `i` and `char`, respectively. If the current character matches the specified character, the index `i` is appended to the `split_indices` list.\n",
    "\n",
    "After the loop, the `split_indices` list is printed to the console. For the input string `\"aadsds_dsds_dsds\"`, the output would be `[6, 11]`, indicating that the dashes are located at indices 6 and 11.\n",
    "\n",
    "But we actually need coordinates of peptides bound by `_` characters. To get to this let's first modify `split_indices` by adding beginning and end:"
   ]
  },
  {
   "cell_type": "code",
   "execution_count": 186,
   "id": "c1bed5ea-9f9a-463d-a009-6df188bf3553",
   "metadata": {},
   "outputs": [
    {
     "name": "stdout",
     "output_type": "stream",
     "text": [
      "[-1, 6, 11, 16]\n"
     ]
    }
   ],
   "source": [
    "string = \"aadsds_dsds_dsds\"\n",
    "\n",
    "split_indices = []\n",
    "for i,char in enumerate(string):\n",
    "    if char == \"_\":\n",
    "        split_indices.append(i)\n",
    "        \n",
    "split_indices.insert(0,-1)\n",
    "split_indices.append(len(string))\n",
    "print(split_indices)"
   ]
  },
  {
   "cell_type": "code",
   "execution_count": 144,
   "id": "ce9c01c7-35fe-4ab1-80aa-618abbf94e78",
   "metadata": {},
   "outputs": [
    {
     "name": "stdout",
     "output_type": "stream",
     "text": [
      "[-1, 6, 11, 16]\n",
      "[('aadsds', 0, 6), ('dsds', 7, 11), ('dsds', 12, 16)]\n"
     ]
    }
   ],
   "source": [
    "string = \"aadsds_dsds_dsds\"\n",
    "\n",
    "split_indices = []\n",
    "for i,char in enumerate(string):\n",
    "    if char == \"-\":\n",
    "        split_indices.append(i)\n",
    "        \n",
    "split_indices.insert(0,-1)\n",
    "split_indices.append(len(string))\n",
    "print(split_indices)\n",
    "\n",
    "orfs = string.split('-')\n",
    "\n",
    "parts = []\n",
    "for i in range(len(split_indices)-1):\n",
    "    parts.append((orfs[i],split_indices[i]+1, split_indices[i+1]))\n",
    "\n",
    "print(parts)"
   ]
  },
  {
   "cell_type": "code",
   "execution_count": 144,
   "id": "2b99dc96",
   "metadata": {},
   "outputs": [
    {
     "name": "stdout",
     "output_type": "stream",
     "text": [
      "[-1, 6, 11, 16]\n",
      "[('aadsds', 0, 6), ('dsds', 7, 11), ('dsds', 12, 16)]\n"
     ]
    }
   ],
   "source": [
    "string = \"aadsds_dsds_dsds\"\n",
    "\n",
    "split_indices = []\n",
    "for i,char in enumerate(string):\n",
    "    if char == \"-\":\n",
    "        split_indices.append(i)\n",
    "        \n",
    "split_indices.insert(0,-1)\n",
    "split_indices.append(len(string))\n",
    "print(split_indices)\n",
    "\n",
    "orfs = string.split('-')\n",
    "\n",
    "parts = []\n",
    "for i in range(len(split_indices)-1):\n",
    "    parts.append((orfs[i],split_indices[i]+1, split_indices[i+1]))\n",
    "\n",
    "print(parts)"
   ]
  },
  {
   "cell_type": "code",
   "execution_count": 145,
   "id": "0fd2835f-0dae-4620-bbbe-e29c8f6e8222",
   "metadata": {},
   "outputs": [],
   "source": [
    "def extract_coords(translation):\n",
    "    split_indices = []\n",
    "    for i,char in enumerate(translation):\n",
    "        if char == \"-\":\n",
    "            split_indices.append(i)\n",
    "        \n",
    "    split_indices.insert(0,-1)\n",
    "    split_indices.append(len(translation))\n",
    "\n",
    "    parts = []\n",
    "    for i in range(len(split_indices)-1):\n",
    "        parts.append((translation.split('-')[i], split_indices[i]+1, split_indices[i+1]))\n",
    "\n",
    "    return(parts)"
   ]
  },
  {
   "cell_type": "code",
   "execution_count": 146,
   "id": "746b280c-4d05-440e-b375-ce7a9bd77771",
   "metadata": {},
   "outputs": [
    {
     "data": {
      "text/plain": [
       "[('aadsds', 0, 6), ('dsds', 7, 11), ('dsds', 12, 16)]"
      ]
     },
     "execution_count": 146,
     "metadata": {},
     "output_type": "execute_result"
    }
   ],
   "source": [
    "extract_coords(string)"
   ]
  },
  {
   "cell_type": "code",
   "execution_count": 147,
   "id": "2d1ea7c5-090a-4799-8140-8a49bd208f05",
   "metadata": {},
   "outputs": [],
   "source": [
    "def extract_coords_with_annotation(separator,translation,phase,strand):\n",
    "    split_indices = []\n",
    "    for i,char in enumerate(translation):\n",
    "        if char == separator:\n",
    "            split_indices.append(i)\n",
    "        \n",
    "    split_indices.insert(0,-1)\n",
    "    split_indices.append(len(translation))\n",
    "\n",
    "    parts = []\n",
    "    for i in range(len(split_indices)-1):\n",
    "        parts.append((translation.split(separator)[i], phase, strand, split_indices[i]+1, split_indices[i+1]))\n",
    "\n",
    "    return(parts)"
   ]
  },
  {
   "cell_type": "code",
   "execution_count": 148,
   "id": "e8728846-4e2b-4920-a350-217a92d71524",
   "metadata": {},
   "outputs": [
    {
     "data": {
      "text/plain": [
       "[('aadsds', '0', '+', 0, 6),\n",
       " ('dsds', '0', '+', 7, 11),\n",
       " ('dsds', '0', '+', 12, 16)]"
      ]
     },
     "execution_count": 148,
     "metadata": {},
     "output_type": "execute_result"
    }
   ],
   "source": [
    "extract_coords_with_annotation('-',string,'0','+')"
   ]
  },
  {
   "cell_type": "code",
   "execution_count": 149,
   "id": "aefae829-b80c-44b8-b2ba-efada0564647",
   "metadata": {},
   "outputs": [],
   "source": [
    "all_translations = []\n",
    "for item in translations:\n",
    "    all_translations.append(extract_coords_with_annotation('_',item[0],item[1],item[2]))"
   ]
  },
  {
   "cell_type": "code",
   "execution_count": 150,
   "id": "d735a110-a051-4ebc-955c-3c78cf4d334d",
   "metadata": {},
   "outputs": [
    {
     "data": {
      "text/plain": [
       "[[('PLYFDNNPLCHIDLMGPLSALQSSQR', '0', '+', 0, 26),\n",
       "  ('ILFRGR', '0', '+', 27, 33)],\n",
       " [('EREPRLFMLHKFRLVILRG', '0', '-', 0, 19),\n",
       "  ('TAYQRIHYSATKL', '0', '-', 20, 33)],\n",
       " [('HFTSTIIHCVIST', '1', '+', 0, 13),\n",
       "  ('WGHYQHCKVLNDKYCSVGV', '1', '+', 14, 33)],\n",
       " [('SGSQDYLCFTSFDSSYSGDELHIRESIILQLNS', '1', '-', 0, 33)],\n",
       " [('TLLRQ', '2', '+', 0, 5), ('SIVSYRLDGATISTAKFSTINTVPWA', '2', '+', 6, 32)],\n",
       " [('AGAKTIYASQVSTRHTPGMNCISENPLFCN', '2', '-', 0, 30),\n",
       "  ('T', '2', '-', 31, 32)]]"
      ]
     },
     "execution_count": 150,
     "metadata": {},
     "output_type": "execute_result"
    }
   ],
   "source": [
    "all_translations"
   ]
  },
  {
   "cell_type": "code",
   "execution_count": 151,
   "id": "962d6400-e6f4-47f2-9e50-7b9c90328124",
   "metadata": {},
   "outputs": [
    {
     "data": {
      "text/plain": [
       "[('PLYFDNNPLCHIDLMGPLSALQSSQR', '0', '+', 0, 26),\n",
       " ('ILFRGR', '0', '+', 27, 33),\n",
       " ('EREPRLFMLHKFRLVILRG', '0', '-', 0, 19),\n",
       " ('TAYQRIHYSATKL', '0', '-', 20, 33),\n",
       " ('HFTSTIIHCVIST', '1', '+', 0, 13),\n",
       " ('WGHYQHCKVLNDKYCSVGV', '1', '+', 14, 33),\n",
       " ('SGSQDYLCFTSFDSSYSGDELHIRESIILQLNS', '1', '-', 0, 33),\n",
       " ('TLLRQ', '2', '+', 0, 5),\n",
       " ('SIVSYRLDGATISTAKFSTINTVPWA', '2', '+', 6, 32),\n",
       " ('AGAKTIYASQVSTRHTPGMNCISENPLFCN', '2', '-', 0, 30),\n",
       " ('T', '2', '-', 31, 32)]"
      ]
     },
     "execution_count": 151,
     "metadata": {},
     "output_type": "execute_result"
    }
   ],
   "source": [
    "[item for sublist in all_translations for item in sublist]"
   ]
  },
  {
   "cell_type": "code",
   "execution_count": 161,
   "id": "34bc068a-52b1-40ce-9ef1-acaeb8bfdbd7",
   "metadata": {},
   "outputs": [],
   "source": [
    "df = pd.DataFrame([item for sublist in all_translations for item in sublist],columns=['aa','frame','phase','start','end'])"
   ]
  },
  {
   "cell_type": "code",
   "execution_count": 162,
   "id": "2267c023-35c5-4189-a218-ed49cce17f30",
   "metadata": {},
   "outputs": [
    {
     "data": {
      "text/html": [
       "<div>\n",
       "<style scoped>\n",
       "    .dataframe tbody tr th:only-of-type {\n",
       "        vertical-align: middle;\n",
       "    }\n",
       "\n",
       "    .dataframe tbody tr th {\n",
       "        vertical-align: top;\n",
       "    }\n",
       "\n",
       "    .dataframe thead th {\n",
       "        text-align: right;\n",
       "    }\n",
       "</style>\n",
       "<table border=\"1\" class=\"dataframe\">\n",
       "  <thead>\n",
       "    <tr style=\"text-align: right;\">\n",
       "      <th></th>\n",
       "      <th>aa</th>\n",
       "      <th>frame</th>\n",
       "      <th>phase</th>\n",
       "      <th>start</th>\n",
       "      <th>end</th>\n",
       "    </tr>\n",
       "  </thead>\n",
       "  <tbody>\n",
       "    <tr>\n",
       "      <th>0</th>\n",
       "      <td>PLYFDNNPLCHIDLMGPLSALQSSQR</td>\n",
       "      <td>0</td>\n",
       "      <td>+</td>\n",
       "      <td>0</td>\n",
       "      <td>26</td>\n",
       "    </tr>\n",
       "    <tr>\n",
       "      <th>1</th>\n",
       "      <td>ILFRGR</td>\n",
       "      <td>0</td>\n",
       "      <td>+</td>\n",
       "      <td>27</td>\n",
       "      <td>33</td>\n",
       "    </tr>\n",
       "    <tr>\n",
       "      <th>2</th>\n",
       "      <td>EREPRLFMLHKFRLVILRG</td>\n",
       "      <td>0</td>\n",
       "      <td>-</td>\n",
       "      <td>0</td>\n",
       "      <td>19</td>\n",
       "    </tr>\n",
       "    <tr>\n",
       "      <th>3</th>\n",
       "      <td>TAYQRIHYSATKL</td>\n",
       "      <td>0</td>\n",
       "      <td>-</td>\n",
       "      <td>20</td>\n",
       "      <td>33</td>\n",
       "    </tr>\n",
       "    <tr>\n",
       "      <th>4</th>\n",
       "      <td>HFTSTIIHCVIST</td>\n",
       "      <td>1</td>\n",
       "      <td>+</td>\n",
       "      <td>0</td>\n",
       "      <td>13</td>\n",
       "    </tr>\n",
       "    <tr>\n",
       "      <th>5</th>\n",
       "      <td>WGHYQHCKVLNDKYCSVGV</td>\n",
       "      <td>1</td>\n",
       "      <td>+</td>\n",
       "      <td>14</td>\n",
       "      <td>33</td>\n",
       "    </tr>\n",
       "    <tr>\n",
       "      <th>6</th>\n",
       "      <td>SGSQDYLCFTSFDSSYSGDELHIRESIILQLNS</td>\n",
       "      <td>1</td>\n",
       "      <td>-</td>\n",
       "      <td>0</td>\n",
       "      <td>33</td>\n",
       "    </tr>\n",
       "    <tr>\n",
       "      <th>7</th>\n",
       "      <td>TLLRQ</td>\n",
       "      <td>2</td>\n",
       "      <td>+</td>\n",
       "      <td>0</td>\n",
       "      <td>5</td>\n",
       "    </tr>\n",
       "    <tr>\n",
       "      <th>8</th>\n",
       "      <td>SIVSYRLDGATISTAKFSTINTVPWA</td>\n",
       "      <td>2</td>\n",
       "      <td>+</td>\n",
       "      <td>6</td>\n",
       "      <td>32</td>\n",
       "    </tr>\n",
       "    <tr>\n",
       "      <th>9</th>\n",
       "      <td>AGAKTIYASQVSTRHTPGMNCISENPLFCN</td>\n",
       "      <td>2</td>\n",
       "      <td>-</td>\n",
       "      <td>0</td>\n",
       "      <td>30</td>\n",
       "    </tr>\n",
       "    <tr>\n",
       "      <th>10</th>\n",
       "      <td>T</td>\n",
       "      <td>2</td>\n",
       "      <td>-</td>\n",
       "      <td>31</td>\n",
       "      <td>32</td>\n",
       "    </tr>\n",
       "  </tbody>\n",
       "</table>\n",
       "</div>"
      ],
      "text/plain": [
       "                                   aa frame phase  start  end\n",
       "0          PLYFDNNPLCHIDLMGPLSALQSSQR     0     +      0   26\n",
       "1                              ILFRGR     0     +     27   33\n",
       "2                 EREPRLFMLHKFRLVILRG     0     -      0   19\n",
       "3                       TAYQRIHYSATKL     0     -     20   33\n",
       "4                       HFTSTIIHCVIST     1     +      0   13\n",
       "5                 WGHYQHCKVLNDKYCSVGV     1     +     14   33\n",
       "6   SGSQDYLCFTSFDSSYSGDELHIRESIILQLNS     1     -      0   33\n",
       "7                               TLLRQ     2     +      0    5\n",
       "8          SIVSYRLDGATISTAKFSTINTVPWA     2     +      6   32\n",
       "9      AGAKTIYASQVSTRHTPGMNCISENPLFCN     2     -      0   30\n",
       "10                                  T     2     -     31   32"
      ]
     },
     "execution_count": 162,
     "metadata": {},
     "output_type": "execute_result"
    }
   ],
   "source": [
    "df"
   ]
  },
  {
   "cell_type": "code",
   "execution_count": 166,
   "id": "4f46f881-2ced-4160-9f1e-a6cd9fd8a0a2",
   "metadata": {},
   "outputs": [
    {
     "data": {
      "text/html": [
       "\n",
       "<div id=\"altair-viz-3ed2f0a03bce4a8093446b8037adaa00\"></div>\n",
       "<script type=\"text/javascript\">\n",
       "  var VEGA_DEBUG = (typeof VEGA_DEBUG == \"undefined\") ? {} : VEGA_DEBUG;\n",
       "  (function(spec, embedOpt){\n",
       "    let outputDiv = document.currentScript.previousElementSibling;\n",
       "    if (outputDiv.id !== \"altair-viz-3ed2f0a03bce4a8093446b8037adaa00\") {\n",
       "      outputDiv = document.getElementById(\"altair-viz-3ed2f0a03bce4a8093446b8037adaa00\");\n",
       "    }\n",
       "    const paths = {\n",
       "      \"vega\": \"https://cdn.jsdelivr.net/npm//vega@5?noext\",\n",
       "      \"vega-lib\": \"https://cdn.jsdelivr.net/npm//vega-lib?noext\",\n",
       "      \"vega-lite\": \"https://cdn.jsdelivr.net/npm//vega-lite@4.17.0?noext\",\n",
       "      \"vega-embed\": \"https://cdn.jsdelivr.net/npm//vega-embed@6?noext\",\n",
       "    };\n",
       "\n",
       "    function maybeLoadScript(lib, version) {\n",
       "      var key = `${lib.replace(\"-\", \"\")}_version`;\n",
       "      return (VEGA_DEBUG[key] == version) ?\n",
       "        Promise.resolve(paths[lib]) :\n",
       "        new Promise(function(resolve, reject) {\n",
       "          var s = document.createElement('script');\n",
       "          document.getElementsByTagName(\"head\")[0].appendChild(s);\n",
       "          s.async = true;\n",
       "          s.onload = () => {\n",
       "            VEGA_DEBUG[key] = version;\n",
       "            return resolve(paths[lib]);\n",
       "          };\n",
       "          s.onerror = () => reject(`Error loading script: ${paths[lib]}`);\n",
       "          s.src = paths[lib];\n",
       "        });\n",
       "    }\n",
       "\n",
       "    function showError(err) {\n",
       "      outputDiv.innerHTML = `<div class=\"error\" style=\"color:red;\">${err}</div>`;\n",
       "      throw err;\n",
       "    }\n",
       "\n",
       "    function displayChart(vegaEmbed) {\n",
       "      vegaEmbed(outputDiv, spec, embedOpt)\n",
       "        .catch(err => showError(`Javascript Error: ${err.message}<br>This usually means there's a typo in your chart specification. See the javascript console for the full traceback.`));\n",
       "    }\n",
       "\n",
       "    if(typeof define === \"function\" && define.amd) {\n",
       "      requirejs.config({paths});\n",
       "      require([\"vega-embed\"], displayChart, err => showError(`Error loading script: ${err.message}`));\n",
       "    } else {\n",
       "      maybeLoadScript(\"vega\", \"5\")\n",
       "        .then(() => maybeLoadScript(\"vega-lite\", \"4.17.0\"))\n",
       "        .then(() => maybeLoadScript(\"vega-embed\", \"6\"))\n",
       "        .catch(showError)\n",
       "        .then(() => displayChart(vegaEmbed));\n",
       "    }\n",
       "  })({\"config\": {\"view\": {\"continuousWidth\": 400, \"continuousHeight\": 300}}, \"vconcat\": [{\"data\": {\"name\": \"data-17bb41e96677e0322c525db2ea0141b1\"}, \"mark\": \"rect\", \"encoding\": {\"color\": {\"field\": \"frame\", \"type\": \"nominal\"}, \"tooltip\": {\"field\": \"aa\", \"type\": \"nominal\"}, \"x\": {\"field\": \"start\", \"type\": \"quantitative\"}, \"x2\": {\"field\": \"end\"}, \"y\": {\"field\": \"frame\", \"type\": \"nominal\"}}, \"height\": 100, \"width\": 600}, {\"data\": {\"name\": \"data-0407ad6ba8fa5fdc092756370ca6062b\"}, \"mark\": \"rect\", \"encoding\": {\"color\": {\"field\": \"frame\", \"type\": \"nominal\"}, \"tooltip\": {\"field\": \"aa\", \"type\": \"nominal\"}, \"x\": {\"field\": \"start\", \"sort\": {\"field\": \"start:Q\", \"order\": \"descending\"}, \"type\": \"quantitative\"}, \"x2\": {\"field\": \"end\"}, \"y\": {\"field\": \"frame\", \"type\": \"nominal\"}}, \"height\": 100, \"width\": 600}], \"$schema\": \"https://vega.github.io/schema/vega-lite/v4.17.0.json\", \"datasets\": {\"data-17bb41e96677e0322c525db2ea0141b1\": [{\"aa\": \"PLYFDNNPLCHIDLMGPLSALQSSQR\", \"frame\": \"0\", \"phase\": \"+\", \"start\": 0, \"end\": 26}, {\"aa\": \"ILFRGR\", \"frame\": \"0\", \"phase\": \"+\", \"start\": 27, \"end\": 33}, {\"aa\": \"HFTSTIIHCVIST\", \"frame\": \"1\", \"phase\": \"+\", \"start\": 0, \"end\": 13}, {\"aa\": \"WGHYQHCKVLNDKYCSVGV\", \"frame\": \"1\", \"phase\": \"+\", \"start\": 14, \"end\": 33}, {\"aa\": \"TLLRQ\", \"frame\": \"2\", \"phase\": \"+\", \"start\": 0, \"end\": 5}, {\"aa\": \"SIVSYRLDGATISTAKFSTINTVPWA\", \"frame\": \"2\", \"phase\": \"+\", \"start\": 6, \"end\": 32}], \"data-0407ad6ba8fa5fdc092756370ca6062b\": [{\"aa\": \"EREPRLFMLHKFRLVILRG\", \"frame\": \"0\", \"phase\": \"-\", \"start\": 0, \"end\": 19}, {\"aa\": \"TAYQRIHYSATKL\", \"frame\": \"0\", \"phase\": \"-\", \"start\": 20, \"end\": 33}, {\"aa\": \"SGSQDYLCFTSFDSSYSGDELHIRESIILQLNS\", \"frame\": \"1\", \"phase\": \"-\", \"start\": 0, \"end\": 33}, {\"aa\": \"AGAKTIYASQVSTRHTPGMNCISENPLFCN\", \"frame\": \"2\", \"phase\": \"-\", \"start\": 0, \"end\": 30}, {\"aa\": \"T\", \"frame\": \"2\", \"phase\": \"-\", \"start\": 31, \"end\": 32}]}}, {\"mode\": \"vega-lite\"});\n",
       "</script>"
      ],
      "text/plain": [
       "alt.VConcatChart(...)"
      ]
     },
     "execution_count": 166,
     "metadata": {},
     "output_type": "execute_result"
    }
   ],
   "source": [
    "import altair as alt\n",
    "plus = alt.Chart(df[df['phase']=='+']).mark_rect().encode(\n",
    "    x = alt.X('start:Q'),\n",
    "    x2 = alt.X2('end:Q'),\n",
    "    y = alt.Y('frame:N'),\n",
    "    color='frame',\n",
    "    tooltip='aa:N'\n",
    "             ).properties(\n",
    "    width=600,\n",
    "    height=100)\n",
    "\n",
    "minus = alt.Chart(df[df['phase']=='-']).mark_rect().encode(\n",
    "    x = alt.X('start:Q',sort=alt.EncodingSortField('start:Q', order='descending')),\n",
    "    x2 = alt.X2('end:Q'),\n",
    "    y = alt.Y('frame:N'),\n",
    "    color='frame',\n",
    "    tooltip='aa:N'\n",
    "             ).properties(\n",
    "    width=600,\n",
    "    height=100)\n",
    "\n",
    "\n",
    "\n",
    "\n",
    "#text = base.mark_text().encode(\n",
    "#    text='aa:N',\n",
    "#    x = alt.X('position:N'),\n",
    "#    y = alt.Y('phase:N'),\n",
    "#    color=alt.value(\"black\")\n",
    "#)\n",
    "\n",
    "plus & minus"
   ]
  },
  {
   "cell_type": "code",
   "execution_count": null,
   "id": "315fd545-74ac-4743-b83e-19ddc56e4dc1",
   "metadata": {},
   "outputs": [],
   "source": []
  }
 ],
 "metadata": {
  "kernelspec": {
   "display_name": "Python 3 (ipykernel)",
   "language": "python",
   "name": "python3"
  },
  "language_info": {
   "codemirror_mode": {
    "name": "ipython",
    "version": 3
   },
   "file_extension": ".py",
   "mimetype": "text/x-python",
   "name": "python",
   "nbconvert_exporter": "python",
   "pygments_lexer": "ipython3",
   "version": "3.10.6"
  }
 },
 "nbformat": 4,
 "nbformat_minor": 5
}
