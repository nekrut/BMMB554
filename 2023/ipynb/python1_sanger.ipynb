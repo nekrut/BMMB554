{
 "cells": [
  {
   "cell_type": "markdown",
   "id": "a7492c25-b807-478e-a807-360231d7437a",
   "metadata": {},
   "source": [
    "# Python 1: Variables, expressions, statements, fuctions\n",
    "\n",
    "----\n",
    "\n",
    "Preclass prep: Chapters [1](https://greenteapress.com/thinkpython2/html/thinkpython2002.html), [2](https://greenteapress.com/thinkpython2/html/thinkpython2003.html), [3](https://greenteapress.com/thinkpython2/html/thinkpython2004.html) from \"Think Python\""
   ]
  },
  {
   "cell_type": "markdown",
   "id": "22398082-ba0b-44ed-bfc3-cdea7ee03414",
   "metadata": {},
   "source": [
    "First we import a module called [`random`](https://docs.python.org/3/library/random.html) which contains a number of functions for generating and working with random numbers "
   ]
  },
  {
   "cell_type": "code",
   "execution_count": null,
   "id": "1abc8870-5f4a-42a8-b4ee-bf8175ad0149",
   "metadata": {},
   "outputs": [],
   "source": [
    "import random"
   ]
  },
  {
   "cell_type": "markdown",
   "id": "0d83008e-cefd-4ff5-94bd-61c8f424c6e4",
   "metadata": {},
   "source": [
    "## Generate a random sequence\n",
    "\n",
    "Next, we will write a simple loop that would generate a seuqence of pre-set length:"
   ]
  },
  {
   "cell_type": "code",
   "execution_count": null,
   "id": "7a97fbec-28be-4bcc-bf9a-dcd258d50e5a",
   "metadata": {},
   "outputs": [],
   "source": [
    "seq = ''\n",
    "for _ in range(100):\n",
    "    seq += random.choice('ATCG')"
   ]
  },
  {
   "cell_type": "code",
   "execution_count": null,
   "id": "4884111b-7cca-4a0c-bd9f-bd10c00e0d17",
   "metadata": {},
   "outputs": [],
   "source": [
    "seq"
   ]
  },
  {
   "cell_type": "markdown",
   "id": "e2abadfc-a76b-46e6-9da8-f7692f93c48e",
   "metadata": {
    "jp-MarkdownHeadingCollapsed": true,
    "tags": []
   },
   "source": [
    "## Simulate one polymerase molecule\n",
    "\n",
    "The code below iterates through each element of a sequence `seq` (assumed to be a string containing nucleotides) and it checks if the current nucleotide is equal to 'A'. If it is, it generates a random number between 0 and 1 using the `random.random()` function.\n",
    "\n",
    "It then checks if the random number is greater than 0.5. If it is, the code does nothing and proceeds to the next iteration. If the random number is less than or equal to 0.5, the code adds the lowercase version of the nucleotide ('a') to a string called `synthesized_strand` and then breaks out of the loop.\n",
    "\n",
    "In every iteration of the loop, regardless of whether the nucleotide is 'A' or not, the code then adds the current nucleotide to the `synthesized_strand` string.\n",
    "\n",
    "This means that when the current nucleotide is 'A', then the generated random number will decide whether the code will add the nucleotide 'A' or 'a' to the `synthesized_strand`, and it will break out of the loop after adding the nucleotide to the `synthesized_strand`."
   ]
  },
  {
   "cell_type": "code",
   "execution_count": null,
   "id": "9e702acd-75fa-4eb7-8a1d-65b4c73c9a3b",
   "metadata": {},
   "outputs": [],
   "source": [
    "synthesized_strand = ''\n",
    "\n",
    "for nucleotide in seq:\n",
    "    if nucleotide == 'A':\n",
    "        d_or_dd = random.random()\n",
    "        if d_or_dd > 0.5:\n",
    "            None\n",
    "        else:\n",
    "            synthesized_strand += 'a'\n",
    "            break\n",
    "    synthesized_strand += nucleotide"
   ]
  },
  {
   "cell_type": "markdown",
   "id": "eed8d099-dd02-42be-8a96-638c7fea35ea",
   "metadata": {},
   "source": [
    "This can be simplified by first removing `d_or_dd` variable:"
   ]
  },
  {
   "cell_type": "code",
   "execution_count": null,
   "id": "49c58357-8f49-4c33-94ce-de6596694e18",
   "metadata": {},
   "outputs": [],
   "source": [
    "synthesized_strand = ''\n",
    "for nucleotide in seq:\n",
    "    if nucleotide == 'A':\n",
    "        if random.random() > 0.5:\n",
    "            None\n",
    "        else:\n",
    "            synthesized_strand += 'a'\n",
    "            break\n",
    "    synthesized_strand += nucleotide\n",
    "print(synthesized_strand)"
   ]
  },
  {
   "cell_type": "markdown",
   "id": "02bd48af-ca15-4cc2-94af-055caf0e2a79",
   "metadata": {},
   "source": [
    "and removing unnecessary group of `if ... else` statements:"
   ]
  },
  {
   "cell_type": "code",
   "execution_count": null,
   "id": "9a7ee839-001a-4d53-8291-0c865a420e7a",
   "metadata": {},
   "outputs": [],
   "source": [
    "synthesized_strand = ''\n",
    "for nucleotide in seq:\n",
    "    if nucleotide == 'A' and random.random() > 0.5:\n",
    "        synthesized_strand += 'a'\n",
    "        break\n",
    "    synthesized_strand += nucleotide\n",
    "print(synthesized_strand)"
   ]
  },
  {
   "cell_type": "markdown",
   "id": "eb5718b6-8671-4948-9f01-bc9009c525b8",
   "metadata": {},
   "source": [
    "finally let's make `synthesized_strand += 'a'` a bit more generic:"
   ]
  },
  {
   "cell_type": "code",
   "execution_count": null,
   "id": "5bd47f66-94e4-4b2e-90b1-50b66e89f556",
   "metadata": {},
   "outputs": [],
   "source": [
    "synthesized_strand = ''\n",
    "for nucleotide in seq:\n",
    "    if nucleotide == 'A' and random.random() > 0.5:\n",
    "        synthesized_strand += nucleotide.lower()\n",
    "        break\n",
    "    synthesized_strand += nucleotide\n",
    "print(synthesized_strand)"
   ]
  },
  {
   "cell_type": "markdown",
   "id": "66c3c318-5e0d-4a95-99b6-8c7fc0aa00e1",
   "metadata": {},
   "source": [
    "## Simulating multiple molecules\n",
    "\n",
    "To simulate 10 polymerase molucles we simply wrap the code from above into a `for` loop:"
   ]
  },
  {
   "cell_type": "code",
   "execution_count": null,
   "id": "852be530-2244-4639-b673-b0fb65ebd4e1",
   "metadata": {
    "tags": []
   },
   "outputs": [],
   "source": [
    "for _ in range(10):\n",
    "    synthesized_strand = ''\n",
    "    for nucleotide in seq:\n",
    "        if nucleotide == 'A' and random.random() > 0.5:\n",
    "            synthesized_strand += nucleotide.lower()\n",
    "            break\n",
    "        synthesized_strand += nucleotide\n",
    "    print(synthesized_strand)"
   ]
  },
  {
   "cell_type": "markdown",
   "id": "2b77148f-d97e-4dcb-8ed4-9eb4ff58f161",
   "metadata": {},
   "source": [
    "One problem with this code is that does not actually save the newly synthesized strand: it simply prints it. To fix this we will create a [list](https://greenteapress.com/thinkpython2/html/thinkpython2011.html) (or an array) called `new_strands` and initialize it by assigning an empty array to it:"
   ]
  },
  {
   "cell_type": "code",
   "execution_count": null,
   "id": "9c56557b-30fe-4940-90a1-7e727c8cb118",
   "metadata": {
    "tags": []
   },
   "outputs": [],
   "source": [
    "new_strands = []\n",
    "for _ in range(10):\n",
    "    synthesized_strand = ''\n",
    "    for nucleotide in seq:\n",
    "        if nucleotide == 'A' and random.random() > 0.5:\n",
    "            synthesized_strand += nucleotide.lower()\n",
    "            break\n",
    "        synthesized_strand += nucleotide\n",
    "    new_strands.append(synthesized_strand)"
   ]
  },
  {
   "cell_type": "code",
   "execution_count": null,
   "id": "12709683-e877-408a-8366-e8da62999767",
   "metadata": {
    "tags": []
   },
   "outputs": [],
   "source": [
    "new_strands"
   ]
  },
  {
   "cell_type": "markdown",
   "id": "38235687-b7ac-4379-a242-e7930400bbbb",
   "metadata": {},
   "source": [
    "## Simulating multiple molecules and all nucleotides\n",
    "\n",
    "And to repeat this for the remaining three nucleotides we will do the following crazy thing:"
   ]
  },
  {
   "cell_type": "code",
   "execution_count": null,
   "id": "7d439ec4-3b66-402b-8458-dc836bc4e3e8",
   "metadata": {
    "tags": []
   },
   "outputs": [],
   "source": [
    "new_strands = []\n",
    "for _ in range(10):\n",
    "    synthesized_strand = ''\n",
    "    for nucleotide in seq:\n",
    "        if nucleotide == 'A' and random.random() > 0.5:\n",
    "            synthesized_strand += nucleotide.lower()\n",
    "            break\n",
    "        synthesized_strand += nucleotide\n",
    "    new_strands.append(synthesized_strand)\n",
    "    \n",
    "for _ in range(10):\n",
    "    synthesized_strand = ''\n",
    "    for nucleotide in seq:\n",
    "        if nucleotide == 'C' and random.random() > 0.5:\n",
    "            synthesized_strand += nucleotide.lower()\n",
    "            break\n",
    "        synthesized_strand += nucleotide\n",
    "    new_strands.append(synthesized_strand)\n",
    "    \n",
    "for _ in range(10):\n",
    "    synthesized_strand = ''\n",
    "    for nucleotide in seq:\n",
    "        if nucleotide == 'G' and random.random() > 0.5:\n",
    "            synthesized_strand += nucleotide.lower()\n",
    "            break\n",
    "        synthesized_strand += nucleotide\n",
    "    new_strands.append(synthesized_strand)\n",
    "    \n",
    "for _ in range(10):\n",
    "    synthesized_strand = ''\n",
    "    for nucleotide in seq:\n",
    "        if nucleotide == 'T' and random.random() > 0.5:\n",
    "            synthesized_strand += nucleotide.lower()\n",
    "            break\n",
    "        synthesized_strand += nucleotide\n",
    "    new_strands.append(synthesized_strand)"
   ]
  },
  {
   "cell_type": "code",
   "execution_count": null,
   "id": "5f64ce95-a458-452d-9f57-d330f42edc04",
   "metadata": {},
   "outputs": [],
   "source": [
    "len(new_strands)"
   ]
  },
  {
   "cell_type": "markdown",
   "id": "92191613-dc12-4162-8fb8-e56540de5eed",
   "metadata": {},
   "source": [
    "Repeating the same code four times is just plain stupid so instead we will write a function called `polymerase`. Here we need to worry about the scope of variables.  The scope of a variable refers to the regions of the code where the variable can be accessed or modified. Variables that are defined within a certain block of code (such as a function or a loop) are said to have a *local* scope, meaning that they can only be accessed within that block of code. Variables that are defined outside of any block of code are said to have a *global* scope, meaning that they can be accessed from anywhere in the code.\n",
    "\n",
    "In most programming languages, a variable defined within a function has a local scope, and it can only be accessed within that function. If a variable with the same name is defined outside the function, it will have a global scope and can be accessed from anywhere in the code. However, if a variable with the same name is defined within the function, it will take precedence over the global variable and will be used within the function.\n",
    "\n",
    "There are also some languages that have block scope, where a variable defined within a block (such as an if statement or a for loop) can only be accessed within that block and not outside of it.\n",
    "\n",
    "In Python, variables defined in the main module have global scope and can be accessed from any function or module. Variables defined within a function have local scope, and they can only be accessed within that function. Variables defined within a loop or a block, can be accessed only within the scope of the loop or block."
   ]
  },
  {
   "cell_type": "code",
   "execution_count": null,
   "id": "3a7f34b6-28f5-4f1d-bcdd-5cee6a06f45d",
   "metadata": {},
   "outputs": [],
   "source": [
    "def ddN(number_of_iterations, template, base, ddN_ratio):\n",
    "    new_strands = []\n",
    "    for _ in range(number_of_iterations):\n",
    "        synthesized_strand = ''\n",
    "        for nucleotide in template:\n",
    "            if nucleotide == base and random.random() > ddN_ratio:\n",
    "                synthesized_strand += nucleotide.lower()\n",
    "                break\n",
    "            synthesized_strand += nucleotide\n",
    "        new_strands.append(synthesized_strand)\n",
    "    return(new_strands)"
   ]
  },
  {
   "cell_type": "code",
   "execution_count": null,
   "id": "59e48f7a-a152-45c2-94f3-e0dbcb32eaa0",
   "metadata": {},
   "outputs": [],
   "source": [
    "ddN(10,seq,'A',0.5)"
   ]
  },
  {
   "cell_type": "markdown",
   "id": "2f768d8b-64ea-43a9-8218-f1267a11acad",
   "metadata": {},
   "source": [
    "To execute this function on all four types of ddNTPs with need to wrap it in a `for` loop iterating over the four possibilies:"
   ]
  },
  {
   "cell_type": "code",
   "execution_count": null,
   "id": "14dd7c9d-3491-4613-9e91-b1a2a76c8956",
   "metadata": {},
   "outputs": [],
   "source": [
    "for nt in 'ATCG':\n",
    "    ddN(10,seq,nt,0.5)"
   ]
  },
  {
   "cell_type": "markdown",
   "id": "9333b796-a777-441a-998f-909f4d3f2dcd",
   "metadata": {},
   "source": [
    "## A bit about [lists](https://greenteapress.com/thinkpython2/html/thinkpython2011.html)\n",
    "\n",
    "To store the sequences being generated in the previous loop we will create and initialize a list called `seq_run`:"
   ]
  },
  {
   "cell_type": "code",
   "execution_count": null,
   "id": "fcec1b73-5384-4ca0-9e72-bff41c1c19fd",
   "metadata": {},
   "outputs": [],
   "source": [
    "seq_run = []\n",
    "for nt in 'ATCG':\n",
    "    seq_run.append(ddN(10,seq,nt,0.5))"
   ]
  },
  {
   "cell_type": "markdown",
   "id": "9a4b1d64-6fd5-475a-ba0b-8601cd864f8c",
   "metadata": {},
   "source": [
    "you will see that the seq run is a two-dimensional list:"
   ]
  },
  {
   "cell_type": "code",
   "execution_count": null,
   "id": "71971ec2-fe22-4ea9-ba39-2c942f410333",
   "metadata": {},
   "outputs": [],
   "source": [
    "seq_run"
   ]
  },
  {
   "cell_type": "markdown",
   "id": "0bacf88a-26bc-4662-b583-fea4fc946b26",
   "metadata": {},
   "source": [
    "as you will read in your next home assignment list elements can be addressed by \"index\". The first element has number 0:"
   ]
  },
  {
   "cell_type": "code",
   "execution_count": null,
   "id": "cfd8053b-9fd6-4bb6-872a-171d348430fa",
   "metadata": {},
   "outputs": [],
   "source": [
    "seq_run[0]"
   ]
  },
  {
   "cell_type": "markdown",
   "id": "53449e6b-0fed-4f75-934b-33297ab9eeea",
   "metadata": {},
   "source": [
    "## A bit about [dictionaries](https://greenteapress.com/thinkpython2/html/thinkpython2012.html)\n",
    "\n",
    "Another way to store these data is in a dictionary, which is a collection of key:value pairs where a key and value can be anything:"
   ]
  },
  {
   "cell_type": "code",
   "execution_count": null,
   "id": "cac4e3b1-6c6f-4ec2-a242-80b4ad68c804",
   "metadata": {},
   "outputs": [],
   "source": [
    "seq_run = {}\n",
    "for nt in 'ATCG':\n",
    "    seq_run[nt] = ddN(10,seq,nt,0.90)"
   ]
  },
  {
   "cell_type": "code",
   "execution_count": null,
   "id": "9ab9e244-1b49-4c6c-9575-17d3d1926a9c",
   "metadata": {
    "tags": []
   },
   "outputs": [],
   "source": [
    "seq_run"
   ]
  },
  {
   "cell_type": "markdown",
   "id": "f2d4072d-de3e-40f9-beab-320947c5f2f3",
   "metadata": {},
   "source": [
    "dictionary elements can be retrieved using a key:"
   ]
  },
  {
   "cell_type": "code",
   "execution_count": null,
   "id": "df8b15a6-60d6-4f20-b4c8-9d3d74bbe5d9",
   "metadata": {},
   "outputs": [],
   "source": [
    "seq_run['A']"
   ]
  },
  {
   "cell_type": "markdown",
   "id": "2c84a235-2217-41c1-8159-cede802aaac9",
   "metadata": {},
   "source": [
    "## Drawing a sequencing gel\n",
    "\n",
    "Now that we can simulate and store newly synthesized sequencing strands terminated with ddNTPs let us try to draw a realistic representation of the sequencing gel. For this we will use several componenets that will be discussed in a much greated deatil in the upcoming lectures. These componenets are:\n",
    "\n",
    "- [`pandas`](https://pandas.pydata.org/) - a dataframe manipulation tool\n",
    "- [`altair`](https://altair-viz.github.io/) - a statistical visualization library built on top of `vega-light` visualization grammar\n",
    "\n",
    "These two libraries will be used in almost all lectures concerning Python in this class."
   ]
  },
  {
   "cell_type": "markdown",
   "id": "764fe645-d696-429f-a3a0-40ac375b9bdc",
   "metadata": {},
   "source": [
    "[Gel electophoresis](https://en.wikipedia.org/wiki/Gel_electrophoresis) separates molecules based on mass, shape, or charge. In case of DNA all molecules are universally negatively charges and thus will always migrate to (+) electrode. All our molecules are linear single stranded pieces (our gel is *denaturing*) and so the only physical/chemical characteristic that disnguished them is *length*. Therefore the first thing we will do is to convert our sequecnes into their lengths. For this we will initialize a new dictionary called `seq_lengths`:"
   ]
  },
  {
   "cell_type": "code",
   "execution_count": null,
   "id": "57b787a0-a31e-41d7-b6fb-e82e9ba5b3dd",
   "metadata": {},
   "outputs": [],
   "source": [
    "seq_lengths = {'base':[],'length':[]}\n",
    "for key in seq_run.keys():\n",
    "    for sequence in seq_run[key]:\n",
    "        seq_lengths['base'].append(key)\n",
    "        seq_lengths['length'].append(len(sequence))"
   ]
  },
  {
   "cell_type": "code",
   "execution_count": null,
   "id": "f4e8699a-f132-4a1d-9dda-f5fc4df5270a",
   "metadata": {
    "tags": []
   },
   "outputs": [],
   "source": [
    "seq_lengths"
   ]
  },
  {
   "cell_type": "markdown",
   "id": "9348836f-e808-4bc0-834d-536697bc852f",
   "metadata": {},
   "source": [
    "now let's import `pandas`:"
   ]
  },
  {
   "cell_type": "code",
   "execution_count": null,
   "id": "f15b0557-fcab-4267-8b1d-edf1c9a6bcb9",
   "metadata": {},
   "outputs": [],
   "source": [
    "import pandas as pd"
   ]
  },
  {
   "cell_type": "markdown",
   "id": "6439ecfa-2501-4d62-bca7-72d72fde37bf",
   "metadata": {},
   "source": [
    "and inject `seq_lengths` into a pandas *dataframe*:"
   ]
  },
  {
   "cell_type": "code",
   "execution_count": null,
   "id": "5d7e7886-e41c-4561-a901-f423475328c2",
   "metadata": {},
   "outputs": [],
   "source": [
    "sequences = pd.DataFrame(seq_lengths)"
   ]
  },
  {
   "cell_type": "markdown",
   "id": "b5c47673-dca4-403a-a900-6f6c7a217425",
   "metadata": {},
   "source": [
    "it looks pretty:"
   ]
  },
  {
   "cell_type": "code",
   "execution_count": null,
   "id": "5ddc16db-779c-45a4-b700-bfcc6ede3933",
   "metadata": {},
   "outputs": [],
   "source": [
    "sequences"
   ]
  },
  {
   "cell_type": "markdown",
   "id": "f9894b31-7767-43cd-b559-a0804dbfab52",
   "metadata": {},
   "source": [
    "In our data there is a number of DNA fragments that have identical length (just look at the dataframe above). We can condense these by grouping dataframe entries first by nucleotide (`['base']`) and then by length (`['length']`). For each group we will then compute `count` and put it into a new column named, unsurprisngly, `count`:"
   ]
  },
  {
   "cell_type": "code",
   "execution_count": null,
   "id": "566c25a3-d958-40e0-918f-d57d7c10eeb4",
   "metadata": {},
   "outputs": [],
   "source": [
    "sequences_grouped_by_length = sequences.groupby(\n",
    "    ['base','length']\n",
    ").agg(\n",
    "    count=pd.NamedAgg(\n",
    "        column='length',\n",
    "        aggfunc='count'\n",
    "    )\n",
    ").reset_index()"
   ]
  },
  {
   "cell_type": "code",
   "execution_count": null,
   "id": "f069435d-2a56-4676-bb1e-f76c9f0c9806",
   "metadata": {},
   "outputs": [],
   "source": [
    "sequences_grouped_by_length"
   ]
  },
  {
   "cell_type": "markdown",
   "id": "f45bd22b-e193-4333-b218-c9c35ba72592",
   "metadata": {},
   "source": [
    "The following chart is created using the `alt.Chart()` function and passing the data as an argument. The `mark_tick()` function is used to create a tick chart with a thickness of 4 pixels.\n",
    "\n",
    "The chart is encoded with two main axis:\n",
    "\n",
    "- y-axis which represents the length of the data and it is encoded by the `'length'` field of the data.\n",
    "- x-axis which represents the base of the data and it is encoded by the `'base'` field of the data.\n",
    "The chart also encodes a color, it encodes the `'count'` field of the data and it sets the legend to `None` and it uses the `'greys'` scale from the Altair library.\n",
    "\n",
    "Finally, the chart properties are set to a width of 100 pixels and a height of 800 pixels."
   ]
  },
  {
   "cell_type": "code",
   "execution_count": null,
   "id": "fab38864-e795-4096-ba83-9b90be7c7a13",
   "metadata": {},
   "outputs": [],
   "source": [
    "import altair as alt\n",
    "alt.Chart(sequences_grouped_by_length).mark_tick(thickness=4).encode(\n",
    "    y = alt.Y('length:Q'),\n",
    "    x = alt.X('base'),\n",
    "    color=alt.Color('count:Q',legend=None,\n",
    "                    scale=alt.Scale(scheme=\"greys\"))\n",
    ").properties(\n",
    "    width=100,\n",
    "    height=800)"
   ]
  },
  {
   "cell_type": "markdown",
   "id": "58df1d83-4d0b-4fbd-bf36-e8face5b232b",
   "metadata": {},
   "source": [
    "And here is a color version of the same graph using just one line of the gel:"
   ]
  },
  {
   "cell_type": "code",
   "execution_count": null,
   "id": "53be21c7-65b1-404d-b160-3425a090dba5",
   "metadata": {},
   "outputs": [],
   "source": [
    "import altair as alt\n",
    "alt.Chart(sequences_grouped_by_length).mark_tick(thickness=4).encode(\n",
    "    y = alt.Y('length:Q'),\n",
    "    color=alt.Color('base:N',#legend=None,\n",
    "                    scale=alt.Scale(scheme=\"set1\"))\n",
    ").properties(\n",
    "    width=20,\n",
    "    height=800)"
   ]
  },
  {
   "cell_type": "code",
   "execution_count": null,
   "id": "36f4eaa7-6ddb-4ed5-a02c-37ec4934243e",
   "metadata": {},
   "outputs": [],
   "source": [
    "# Generate random sequences\n",
    "\n",
    "seq = ''\n",
    "for _ in range(300):\n",
    "    seq += random.choice('ATCG')"
   ]
  },
  {
   "cell_type": "markdown",
   "id": "7c4c64e7-bd81-474d-a95a-1ef39a50f4ae",
   "metadata": {},
   "source": [
    "## Putting everything together"
   ]
  },
  {
   "cell_type": "code",
   "execution_count": null,
   "id": "322abe78-2aab-4d1d-81f1-0e093ddaf84f",
   "metadata": {},
   "outputs": [],
   "source": [
    "seq"
   ]
  },
  {
   "cell_type": "code",
   "execution_count": null,
   "id": "d3800338-903a-483a-91c3-40ded5a49b7d",
   "metadata": {},
   "outputs": [],
   "source": [
    "# Function silulating a single run of a single polymerase molecule\n",
    "\n",
    "def ddN(number_of_iterations, template, base, ddN_ratio):\n",
    "    new_strands = []\n",
    "    for _ in range(number_of_iterations):\n",
    "        synthesized_strand = ''\n",
    "        for nucleotide in template:\n",
    "            if nucleotide == base and random.random() > ddN_ratio:\n",
    "                synthesized_strand += nucleotide.lower()\n",
    "                break\n",
    "            synthesized_strand += nucleotide\n",
    "        new_strands.append(synthesized_strand)\n",
    "    return(new_strands)"
   ]
  },
  {
   "cell_type": "code",
   "execution_count": null,
   "id": "4d87b556-c896-4419-a171-516426e47120",
   "metadata": {},
   "outputs": [],
   "source": [
    "# Generating simulated sequencing run\n",
    "\n",
    "seq_run = {}\n",
    "for nt in 'ATCG':\n",
    "    seq_run[nt] = ddN(100000,seq,nt,0.95)"
   ]
  },
  {
   "cell_type": "code",
   "execution_count": null,
   "id": "44d006ef-496d-46d8-9719-cfb336627673",
   "metadata": {},
   "outputs": [],
   "source": [
    "# Computing lengths\n",
    "\n",
    "seq_lengths = {'base':[],'length':[]}\n",
    "for key in seq_run.keys():\n",
    "    for sequence in seq_run[key]:\n",
    "        seq_lengths['base'].append(key)\n",
    "        seq_lengths['length'].append(len(sequence))"
   ]
  },
  {
   "cell_type": "code",
   "execution_count": null,
   "id": "e1132ce6-1cf2-4187-a10d-c77ecdcea930",
   "metadata": {},
   "outputs": [],
   "source": [
    "# Converting dictionaty into Pandas dataframe\n",
    "\n",
    "sequences = pd.DataFrame(seq_lengths)"
   ]
  },
  {
   "cell_type": "code",
   "execution_count": null,
   "id": "22c39d04-acfa-4d2b-8537-907a30cd9909",
   "metadata": {},
   "outputs": [],
   "source": [
    "# Grouping by nucleotide and length\n",
    "\n",
    "sequences_grouped_by_length = sequences.groupby(\n",
    "    ['base','length']\n",
    ").agg(\n",
    "    count=pd.NamedAgg(\n",
    "        column='length',\n",
    "        aggfunc='count'\n",
    "    )\n",
    ").reset_index()"
   ]
  },
  {
   "cell_type": "code",
   "execution_count": null,
   "id": "80fb6d97-abfa-4032-9661-8f7fd254a4bb",
   "metadata": {},
   "outputs": [],
   "source": [
    "# Plotting (note the quadratic scale for realism)\n",
    "\n",
    "import altair as alt\n",
    "alt.Chart(sequences_grouped_by_length).mark_tick(thickness=4).encode(\n",
    "    y = alt.Y('length:Q',scale=alt.Scale(type='sqrt')),\n",
    "    x = alt.X('base'),\n",
    "    color=alt.Color('count:Q',legend=None,\n",
    "                    scale=alt.Scale(type='log',scheme=\"greys\")),\n",
    "    tooltip='count:Q'\n",
    ").properties(\n",
    "    width=100,\n",
    "    height=800)"
   ]
  },
  {
   "cell_type": "code",
   "execution_count": null,
   "id": "7fad0555-7e26-40aa-864b-e099bbbe71be",
   "metadata": {},
   "outputs": [],
   "source": [
    "# Plotting using color\n",
    "\n",
    "import altair as alt\n",
    "alt.Chart(sequences_grouped_by_length).mark_tick(thickness=4).encode(\n",
    "    y = alt.Y('length:Q',scale=alt.Scale(type=\"sqrt\")),\n",
    "    color=alt.Color('base:N',#legend=None,\n",
    "                    scale=alt.Scale(scheme=\"set1\")),\n",
    "    opacity=alt.Opacity('count:N',legend=None),\n",
    "    tooltip='count:Q'\n",
    ").properties(\n",
    "    width=20,\n",
    "    height=800)"
   ]
  }
 ],
 "metadata": {
  "kernelspec": {
   "display_name": "Python 3 (ipykernel)",
   "language": "python",
   "name": "python3"
  },
  "language_info": {
   "codemirror_mode": {
    "name": "ipython",
    "version": 3
   },
   "file_extension": ".py",
   "mimetype": "text/x-python",
   "name": "python",
   "nbconvert_exporter": "python",
   "pygments_lexer": "ipython3",
   "version": "3.10.8"
  }
 },
 "nbformat": 4,
 "nbformat_minor": 5
}
