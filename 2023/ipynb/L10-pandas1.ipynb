{
 "cells": [
  {
   "cell_type": "markdown",
   "metadata": {
    "id": "xzoyapwo5n7k"
   },
   "source": [
    "# Introduction to Pandas 1 | Basics\n",
    "\n",
    "-------\n",
    "\n",
    "\n",
    "> This is an aggregated tutorial relying on material for the following fantastic sources:\n",
    "-  [Justin Bois](http://justinbois.github.io/bootcamp/2020/index.html). It contains modified training datasets and adopts content to Colab environment.\n",
    "- [BIOS821 course at Duke](https://people.duke.edu/~ccc14/bios-821-2017/index.html)\n",
    "- [Pandas documentation](https://pandas.pydata.org/docs/user_guide/index.html/) "
   ]
  },
  {
   "cell_type": "code",
   "execution_count": null,
   "metadata": {
    "id": "jIdrp1IK5n7l"
   },
   "outputs": [],
   "source": [
    "# Pandas, conventionally imported as pd\n",
    "import pandas as pd"
   ]
  },
  {
   "cell_type": "markdown",
   "metadata": {
    "id": "VVLFmrUh5n7m"
   },
   "source": [
    "Throughout your research career, you will undoubtedly need to handle data, possibly lots of data. The data comes in lots of formats, and you will spend much of your time **wrangling** the data to get it into a usable form.\n",
    "\n",
    "Pandas is the primary tool in the Python ecosystem for handling data. Its primary object, the `DataFrame` is extremely useful in wrangling data. We will explore some of that functionality here, and will put it to use in the next lesson."
   ]
  },
  {
   "cell_type": "markdown",
   "metadata": {
    "id": "dfjlZ0cY5n7m"
   },
   "source": [
    "## The data set\n",
    "\n",
    "The dataset we will be using is a subset of metadata describing SARS-CoV-2 datasets from the [Sequence Read Archive](https://www.ncbi.nlm.nih.gov/sra).  \n",
    "\n",
    "It is obtained by going to https://www.ncbi.nlm.nih.gov/sra and performing a query with the following search terms: `txid2697049[Organism:noexp]`.\n",
    "\n",
    "Results are downloaded using `Send to:` menu selecting `File` and then `RunInfo`. Let's get these results into this notebook:"
   ]
  },
  {
   "cell_type": "code",
   "execution_count": null,
   "metadata": {
    "colab": {
     "base_uri": "https://localhost:8080/"
    },
    "id": "_0bzdrCS0h7L",
    "outputId": "5f94787a-930c-4907-93db-c5bf5c6cd0b4"
   },
   "outputs": [],
   "source": [
    "!wget https://github.com/nekrut/BMMB554/raw/master/2023/data/sra_ncov_bmm554.csv.gz"
   ]
  },
  {
   "cell_type": "code",
   "execution_count": null,
   "metadata": {
    "colab": {
     "base_uri": "https://localhost:8080/"
    },
    "id": "2Qo40hYu5n7m",
    "outputId": "f7d8f24f-7528-41ab-88e6-7b2bc0cf3519"
   },
   "outputs": [],
   "source": [
    "!gunzip -c  sra_ncov_bmmb554.csv.gz | head"
   ]
  },
  {
   "cell_type": "markdown",
   "metadata": {
    "id": "Vmp0aGqC5n7n"
   },
   "source": [
    "The first line contains the **headers** for each column. The data follow. Given the file I/O skills you recently learned, you could write some functions to parse this file and extract the data you want. You can imagine that this might be kind of painful. However, if the file format is nice and clean, like we more or less have here, we can use pre-built tools. Pandas has a very powerful function, `pd.read_csv()` that can read in a CSV file and store the contents in a convenient data structure called a **data frame**. In Pandas, the data type for a data frame is `DataFrame`, and we will use \"data frame\" and \"`DataFrame`\" interchangeably."
   ]
  },
  {
   "cell_type": "markdown",
   "metadata": {
    "id": "VVLKebpt5n7n"
   },
   "source": [
    "## Reading in data\n",
    "\n",
    "Let's first look at the doc string of `pd.read_csv()`."
   ]
  },
  {
   "cell_type": "code",
   "execution_count": null,
   "metadata": {
    "id": "JNxuzB895n7n"
   },
   "outputs": [],
   "source": [
    "pd.read_csv?"
   ]
  },
  {
   "cell_type": "markdown",
   "metadata": {
    "id": "EtN9o7wi5n7n"
   },
   "source": [
    "Holy cow! There are so many options we can specify for reading in a CSV file. You will likely find reasons to use many of these throughout your research. For now, however, we do not need most of them. So, let's load in the data set. Note that despite the fact that the datset is comprssed with `gzip` we do not need to do anything additional - pandas magically understands and uncompresses the data while loading it into the dataframe. "
   ]
  },
  {
   "cell_type": "code",
   "execution_count": null,
   "metadata": {
    "colab": {
     "base_uri": "https://localhost:8080/"
    },
    "id": "eZl3SqVi5n7o",
    "outputId": "0623f3bd-ddd3-4b40-b4da-55a939d13795"
   },
   "outputs": [],
   "source": [
    "df = pd.read_csv('sra_ncov_bmm554.csv.gz')\n",
    "\n",
    "# Check the type\n",
    "type(df)"
   ]
  },
  {
   "cell_type": "markdown",
   "metadata": {
    "id": "CgiFpXXN5n7o"
   },
   "source": [
    "We now have the data stored in a data frame. We can look at it in the Jupyter notebook, since Jupyter will display it in a well-organized, pretty way. Note that because our dataframe is big, we only display first five rows using `head()` function:"
   ]
  },
  {
   "cell_type": "code",
   "execution_count": null,
   "metadata": {
    "colab": {
     "base_uri": "https://localhost:8080/",
     "height": 357
    },
    "id": "qPLQR_Al5n7o",
    "outputId": "0a248e41-52fd-4d3e-93ea-3db91981f117"
   },
   "outputs": [],
   "source": [
    "df.head()"
   ]
  },
  {
   "cell_type": "markdown",
   "metadata": {
    "id": "Qa1CtdAd5n7p"
   },
   "source": [
    "## Indexing data frames\n",
    "\n",
    "The data frame is a convenient data structure for many reasons that will become clear as we start exploring. Let's start by looking at how data frames are indexed. Let's try to look at the first row."
   ]
  },
  {
   "cell_type": "code",
   "execution_count": null,
   "metadata": {
    "colab": {
     "base_uri": "https://localhost:8080/",
     "height": 537
    },
    "id": "qiAaOBcW5n7p",
    "outputId": "4b357fb5-cf71-435d-9fa8-1b65f5ef8afb"
   },
   "outputs": [],
   "source": [
    "df[0]"
   ]
  },
  {
   "cell_type": "markdown",
   "metadata": {
    "id": "3jiSZLBW5n7p"
   },
   "source": [
    "Yikes! Lots of errors. The problem is that we tried to index numerically by row. **We index DataFrames, by columns.** And there is no column that has the name `0` in this data frame, though there could be. Instead, a might want to look at the column with the percentage of correct face matching tasks."
   ]
  },
  {
   "cell_type": "code",
   "execution_count": null,
   "metadata": {
    "colab": {
     "base_uri": "https://localhost:8080/"
    },
    "id": "iIvadvCT5n7p",
    "outputId": "6b36bf06-708e-4be9-cda7-ddf8c5dc9a44"
   },
   "outputs": [],
   "source": [
    "df['Run'].head()"
   ]
  },
  {
   "cell_type": "markdown",
   "metadata": {
    "id": "WbXYbNbH5n7p"
   },
   "source": [
    "This gave us the numbers we were after. Notice that when it was printed, the index of the rows came along with it. If we wanted to pull out a single percentage correct, say corresponding to index `4`, we can do that."
   ]
  },
  {
   "cell_type": "code",
   "execution_count": null,
   "metadata": {
    "colab": {
     "base_uri": "https://localhost:8080/",
     "height": 35
    },
    "id": "SUICG2015n7q",
    "outputId": "82c42c3f-84c0-4d6d-f058-8ebeb6e2fd4d"
   },
   "outputs": [],
   "source": [
    "df['Run'][4]"
   ]
  },
  {
   "cell_type": "markdown",
   "metadata": {
    "id": "UOFDREGY5n7q"
   },
   "source": [
    "However, this is **not** the preferred way to do this. It is better to use `.loc`. This give the location in the data frame we want."
   ]
  },
  {
   "cell_type": "code",
   "execution_count": null,
   "metadata": {
    "colab": {
     "base_uri": "https://localhost:8080/",
     "height": 35
    },
    "id": "e4BskRPu5n7q",
    "outputId": "733b5b3e-5a1a-4a8d-d5d4-0de19d1febc5"
   },
   "outputs": [],
   "source": [
    "df.loc[4, 'Run']"
   ]
  },
  {
   "cell_type": "code",
   "execution_count": null,
   "metadata": {
    "colab": {
     "base_uri": "https://localhost:8080/",
     "height": 112
    },
    "id": "ZPmEOMbzXk9x",
    "outputId": "bdd91b2e-5cbb-416b-f975-55f7abce48ce"
   },
   "outputs": [],
   "source": [
    "df.iloc[4:6, [0,2,4]]"
   ]
  },
  {
   "cell_type": "code",
   "execution_count": null,
   "metadata": {
    "colab": {
     "base_uri": "https://localhost:8080/",
     "height": 143
    },
    "id": "kf6PoI76XzuM",
    "outputId": "ba40a7f9-1328-495d-eb8f-a0ad68ee8c59"
   },
   "outputs": [],
   "source": [
    "df.loc[4:6, ['Run','size_MB','LibraryStrategy']]"
   ]
  },
  {
   "cell_type": "code",
   "execution_count": null,
   "metadata": {
    "colab": {
     "base_uri": "https://localhost:8080/",
     "height": 260
    },
    "id": "r8PcaanPYGP9",
    "outputId": "542604d4-66d5-400e-a05e-89e8759e95d5"
   },
   "outputs": [],
   "source": [
    "df.loc[4:6, 'Run':]"
   ]
  },
  {
   "cell_type": "code",
   "execution_count": null,
   "metadata": {
    "colab": {
     "base_uri": "https://localhost:8080/",
     "height": 187
    },
    "id": "F0cam5ltYNps",
    "outputId": "e293af1e-b6a6-4a64-ba1b-486196f95075"
   },
   "outputs": [],
   "source": [
    "df.loc[4:6, 'Run':'LibrarySource']"
   ]
  },
  {
   "cell_type": "markdown",
   "metadata": {
    "id": "YJcwBZ775n7q"
   },
   "source": [
    "It is also important to note that **row indices need not be integers**. And you should not count on them being integers. In practice you will almost never use row indices, but rather use **Boolean indexing**."
   ]
  },
  {
   "cell_type": "markdown",
   "metadata": {
    "id": "H4fF9_no5n7q"
   },
   "source": [
    "## Boolean indexing of data frames\n",
    "\n",
    "Let's say I wanted to pull out accession numbers of runs produced by Pacfic Biosciences machines (in this table such datasets are labeled as `PACBIO_SMRT`. I can use Boolean indexing to specify the row. Specifically, I want the row for which `df['Platform'] == 'PACBIO_SMRT'`. You can essentially plop this syntax directly when using `.loc`."
   ]
  },
  {
   "cell_type": "code",
   "execution_count": null,
   "metadata": {
    "colab": {
     "base_uri": "https://localhost:8080/"
    },
    "id": "oLmabpsE5n7q",
    "outputId": "478f0cf5-92f4-4c7f-bc96-bc4d683196bd"
   },
   "outputs": [],
   "source": [
    "df.loc[df['Platform'] == 'PACBIO_SMRT', 'Run']"
   ]
  },
  {
   "cell_type": "markdown",
   "metadata": {
    "id": "ADV84bwO5n7r"
   },
   "source": [
    "If I want to pull the whole record for that participant, I can use `:` for the column index."
   ]
  },
  {
   "cell_type": "code",
   "execution_count": null,
   "metadata": {
    "colab": {
     "base_uri": "https://localhost:8080/",
     "height": 488
    },
    "id": "g2ASIc1x5n7r",
    "outputId": "10769e78-72a6-4929-b0fe-87fb78c2bd32"
   },
   "outputs": [],
   "source": [
    "df.loc[df['Platform'] == 'PACBIO_SMRT', :].head(10)"
   ]
  },
  {
   "cell_type": "markdown",
   "metadata": {
    "id": "wPCZ_gXF5n7r"
   },
   "source": [
    "Now, let's pull out all PacBio records that were obtained from Amplicon sequencing. We can again use Boolean indexing, but we need to use an `&` operator. We did not cover this bitwise operator before, but the syntax is self-explanatory in the example below. Note that it is important that each Boolean operation you are doing is in parentheses because of the precedence of the operators involved."
   ]
  },
  {
   "cell_type": "code",
   "execution_count": null,
   "metadata": {
    "colab": {
     "base_uri": "https://localhost:8080/",
     "height": 260
    },
    "id": "O97EwdRJ5n7r",
    "outputId": "e7c16c84-15d3-4ed6-c811-fa580bb34335"
   },
   "outputs": [],
   "source": [
    "df.loc[(df['Platform'] == 'PACBIO_SMRT') & (df['LibraryStrategy'] == 'AMPLICON'), :].head(3)"
   ]
  },
  {
   "cell_type": "markdown",
   "metadata": {
    "id": "2wR_02ag5n7r"
   },
   "source": [
    "What is going on will be clearer if we set up our Boolean indexing first, as follows."
   ]
  },
  {
   "cell_type": "code",
   "execution_count": null,
   "metadata": {
    "colab": {
     "base_uri": "https://localhost:8080/"
    },
    "id": "PJhS5B365n7r",
    "outputId": "5e827f11-cdcf-4a96-ee20-7a2fa6b93c99"
   },
   "outputs": [],
   "source": [
    "inds = (df['Platform'] == 'PACBIO_SMRT') & (df['LibraryStrategy'] == 'AMPLICON')\n",
    "inds[2:6]"
   ]
  },
  {
   "cell_type": "markdown",
   "metadata": {
    "id": "UknkTwTB5n7s"
   },
   "source": [
    "Notice that `inds` is an array (actually a Pandas `Series`, essentially a `DataFrame` with one column) of `True`s and `False`s. We can apply `unique` function from [NumPy](https://numpy.org/ to see how many `True` and `False` rows we have:"
   ]
  },
  {
   "cell_type": "code",
   "execution_count": null,
   "metadata": {
    "colab": {
     "base_uri": "https://localhost:8080/"
    },
    "id": "UFPwWb7R5-Zd",
    "outputId": "0aa7176e-7145-4bbe-f976-c4333efbe77a"
   },
   "outputs": [],
   "source": [
    "import numpy as np\n",
    "np.unique(inds, return_counts=True)"
   ]
  },
  {
   "cell_type": "markdown",
   "metadata": {
    "id": "YWKLbpuF6jeU"
   },
   "source": [
    "When we index with it using .loc, we get back rows where inds is True:"
   ]
  },
  {
   "cell_type": "code",
   "execution_count": null,
   "metadata": {
    "colab": {
     "base_uri": "https://localhost:8080/",
     "height": 698
    },
    "id": "d-_-_1OV5n7s",
    "outputId": "85973220-afd0-4fb9-f4aa-1f5e1caf88eb"
   },
   "outputs": [],
   "source": [
    "df.loc[inds, :]"
   ]
  },
  {
   "cell_type": "code",
   "execution_count": null,
   "metadata": {
    "colab": {
     "base_uri": "https://localhost:8080/",
     "height": 260
    },
    "id": "qfccKxyGcm15",
    "outputId": "cadb00d1-3984-4a55-b3a2-1dd762e73111"
   },
   "outputs": [],
   "source": [
    "df.loc[(df['Platform'] == 'PACBIO_SMRT') & (df['LibraryStrategy'] == 'AMPLICON'), :].head(3)"
   ]
  },
  {
   "cell_type": "markdown",
   "metadata": {
    "id": "BPoQMM1X5n7s"
   },
   "source": [
    "## Calculating with data frames\n",
    "\n",
    "The SRA data contains (sometimes) size of the run in MB (`size_MB`). Let's suppose we want to consider only those run where `size_MB` is above 100. We might like to add a column to the data frame that specifies whether or not the corresponding run is above 100Mb. We can conveniently compute with columns. This is done elementwise."
   ]
  },
  {
   "cell_type": "code",
   "execution_count": null,
   "metadata": {
    "colab": {
     "base_uri": "https://localhost:8080/"
    },
    "id": "C2FrnPRd5n7s",
    "outputId": "1bee9549-49b9-4328-f2c3-777fabe28e9e"
   },
   "outputs": [],
   "source": [
    "df['size_MB'] >= 100"
   ]
  },
  {
   "cell_type": "markdown",
   "metadata": {
    "id": "l-C0rQeT5n7t"
   },
   "source": [
    "This tells us which run is abobe 100 Mb. We can simply add this back to the data frame."
   ]
  },
  {
   "cell_type": "code",
   "execution_count": null,
   "metadata": {
    "colab": {
     "base_uri": "https://localhost:8080/",
     "height": 357
    },
    "id": "JACfJG8i5n7t",
    "outputId": "d4ad3219-3a45-4070-f0b8-c1aa2376068d"
   },
   "outputs": [],
   "source": [
    "# Add the column to the DataFrame\n",
    "df['Over100Mb'] = df['size_MB'] >= 100\n",
    "\n",
    "# Take a look\n",
    "df.head()"
   ]
  },
  {
   "cell_type": "code",
   "execution_count": null,
   "metadata": {
    "colab": {
     "base_uri": "https://localhost:8080/",
     "height": 661
    },
    "id": "oLAU5i85dWOb",
    "outputId": "bb50e2ab-7833-41af-90ab-95107b9050b6"
   },
   "outputs": [],
   "source": [
    "df.assign(over100 = df['size_MB']>=100)"
   ]
  },
  {
   "cell_type": "markdown",
   "metadata": {
    "id": "8BjigL3ieH3A"
   },
   "source": [
    "### A note of `assign`\n",
    "\n",
    "\n",
    "The `assign` method in the pandas library is used to add new columns to a pandas DataFrame. The method allows you to perform calculations or operations on existing columns to generate new columns without modifying the original DataFrame.\n",
    "\n",
    "For example, you can use the `assign` method to add a new column that calculates the sum of two existing columns, or to add a column based on a complex calculation that involves multiple columns. The method also supports adding columns based on external data sources, such as NumPy arrays or other pandas DataFrames.\n",
    "\n",
    "Using `assign` method is useful because it allows you to create new columns and add them to a DataFrame in a way that is both readable and easy to maintain. The method is also chainable, meaning you can add multiple columns in one call, making your code more concise and efficient."
   ]
  },
  {
   "cell_type": "markdown",
   "metadata": {
    "id": "3iWWPneR5n7t"
   },
   "source": [
    "## A note about vectorization\n",
    "\n",
    "Notice how applying the `<=` operator to a `Series` resulted in **elementwise** application. This is called `vectorization`. It means that we do not have to write a `for` loop to do operations on the elements of a `Series` or other array-like object. Imagine if we had to do that with a `for` loop."
   ]
  },
  {
   "cell_type": "code",
   "execution_count": null,
   "metadata": {
    "id": "fbpKF1Np5n7t"
   },
   "outputs": [],
   "source": [
    "big_runs = []\n",
    "for size in df['size_MB']:\n",
    "    big_runs.append(size >= 100)"
   ]
  },
  {
   "cell_type": "markdown",
   "metadata": {
    "id": "JhX7WCL85n7t"
   },
   "source": [
    "This is cumbersome. The vectorization allows for much more convenient calculation. Beyond that, the vectorized code is almost always faster when using Pandas and Numpy because the looping is done with compiled code under the hood. This can be done with many operators, including those you've already seen, like `+`, `-`, `*`, `/`, `**`, etc."
   ]
  },
  {
   "cell_type": "markdown",
   "metadata": {
    "id": "OGyKCJTB5n7u"
   },
   "source": [
    "## Applying functions to Pandas objects\n",
    "\n",
    "Remember when we briefly saw the `np.mean()` function? We can compute with that as well. Let's compare the mean run size for Ilumina versus everything else."
   ]
  },
  {
   "cell_type": "code",
   "execution_count": null,
   "metadata": {
    "colab": {
     "base_uri": "https://localhost:8080/"
    },
    "id": "VM9Sw67e5n7u",
    "outputId": "877d42c2-2fa9-4496-f20c-c73764e06b97"
   },
   "outputs": [],
   "source": [
    "print('Illumina:          ', np.mean(df.loc[df['Over100Mb'], 'size_MB']))\n",
    "print('Other platforms:   ', np.mean(df.loc[~df['Over100Mb'], 'size_MB']))"
   ]
  },
  {
   "cell_type": "markdown",
   "metadata": {
    "id": "iHREANJX5n7u"
   },
   "source": [
    "Notice that I used the `~` operator, which is a bit switcher. It changes all `True`s to `False`s and vice versa. In this case, it functions like NOT.\n",
    "\n",
    "We will do a lot more computing with Pandas data frames in the next lessons. For our last demonstration in this lesson, we can quickly compute summary statistics about each column of a data frame using its `describe()` method."
   ]
  },
  {
   "cell_type": "code",
   "execution_count": null,
   "metadata": {
    "colab": {
     "base_uri": "https://localhost:8080/",
     "height": 300
    },
    "id": "PfO03_uF5n7u",
    "outputId": "633d9a62-af8b-4999-bf78-f20ba7d574a8"
   },
   "outputs": [],
   "source": [
    "df.describe()"
   ]
  },
  {
   "cell_type": "markdown",
   "metadata": {
    "id": "aeAdo_-G5n7u"
   },
   "source": [
    "This gives us a data frame with summary statistics. Note that in this data frame, the row indices are not integers, but are the names of the summary statistics. If we wanted to extract the median value of each entry, we could do that with `.loc`."
   ]
  },
  {
   "cell_type": "code",
   "execution_count": null,
   "metadata": {
    "colab": {
     "base_uri": "https://localhost:8080/"
    },
    "id": "Ei-KQ9XM5n7u",
    "outputId": "bb291b78-33ee-43cf-fd41-85f02fce11d0"
   },
   "outputs": [],
   "source": [
    "df.describe().loc['50%', :]"
   ]
  },
  {
   "cell_type": "markdown",
   "metadata": {
    "id": "H7vs0zLg5n7u"
   },
   "source": [
    "### Outputting a new CSV file\n",
    "\n",
    "Now that we added the `Over100Mb` column, we might like to save our data frame as a new CSV that we can reload later. We use `df.to_csv()` for this with the `index` kwarg to ask Pandas not to explicitly write the indices to the file."
   ]
  },
  {
   "cell_type": "code",
   "execution_count": null,
   "metadata": {
    "id": "I3XMRD-A5n7v"
   },
   "outputs": [],
   "source": [
    "df.to_csv('over100Mb_data.csv', index=False)"
   ]
  },
  {
   "cell_type": "markdown",
   "metadata": {
    "id": "YHqxuBcC5n7v"
   },
   "source": [
    "Let's take a look at what this file looks like."
   ]
  },
  {
   "cell_type": "code",
   "execution_count": null,
   "metadata": {
    "colab": {
     "base_uri": "https://localhost:8080/"
    },
    "id": "93heibSY5n7v",
    "outputId": "10ceea4a-3950-4a75-e27e-fbc0798199b1"
   },
   "outputs": [],
   "source": [
    "!head over100Mb_data.csv"
   ]
  },
  {
   "cell_type": "markdown",
   "metadata": {
    "id": "txJxQano5n7v"
   },
   "source": [
    "## Computing environment"
   ]
  },
  {
   "cell_type": "code",
   "execution_count": null,
   "metadata": {
    "colab": {
     "base_uri": "https://localhost:8080/"
    },
    "id": "q-FVBnrGFWFh",
    "outputId": "32b6c564-15f5-4751-8b26-236919f273ba"
   },
   "outputs": [],
   "source": [
    "!pip install watermark"
   ]
  },
  {
   "cell_type": "code",
   "execution_count": null,
   "metadata": {
    "colab": {
     "base_uri": "https://localhost:8080/"
    },
    "id": "QxhhW93P5n7v",
    "outputId": "91e66847-b607-449d-a9e1-fc21ab143aa8"
   },
   "outputs": [],
   "source": [
    "%load_ext watermark\n",
    "%watermark -v -p numpy,pandas"
   ]
  },
  {
   "cell_type": "code",
   "execution_count": null,
   "metadata": {
    "id": "zEvEZsXdEeqU"
   },
   "outputs": [],
   "source": []
  }
 ],
 "metadata": {
  "anaconda-cloud": {},
  "colab": {
   "name": "Pandas1.ipynb",
   "provenance": []
  },
  "kernelspec": {
   "display_name": "Python 3 (ipykernel)",
   "language": "python",
   "name": "python3"
  },
  "language_info": {
   "codemirror_mode": {
    "name": "ipython",
    "version": 3
   },
   "file_extension": ".py",
   "mimetype": "text/x-python",
   "name": "python",
   "nbconvert_exporter": "python",
   "pygments_lexer": "ipython3",
   "version": "3.10.8"
  }
 },
 "nbformat": 4,
 "nbformat_minor": 4
}
