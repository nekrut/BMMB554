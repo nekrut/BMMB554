{
 "cells": [
  {
   "cell_type": "code",
   "execution_count": null,
   "id": "e20b66a3-f523-443e-9921-e94779d8ca75",
   "metadata": {},
   "outputs": [],
   "source": [
    "import pandas as pd\n",
    "import altair as alt\n",
    "import tabulate\n",
    "from datetime import date\n",
    "today = date.today()"
   ]
  },
  {
   "cell_type": "code",
   "execution_count": null,
   "id": "15c6f375-67b3-46c5-8bc0-4fbb35f12c41",
   "metadata": {},
   "outputs": [],
   "source": [
    "sra = pd.read_csv(\n",
    "    \"https://github.com/nekrut/BMMB554/raw/master/2023/data/ena_subsample.tsv.gz\",\n",
    "    compression='gzip',\n",
    "    sep=\"\\t\",\n",
    "    low_memory=False\n",
    ")"
   ]
  },
  {
   "cell_type": "code",
   "execution_count": null,
   "id": "7575e7b6-7e22-42d6-bdd1-3b72f3686e43",
   "metadata": {},
   "outputs": [],
   "source": [
    "len(sra)"
   ]
  },
  {
   "cell_type": "code",
   "execution_count": null,
   "id": "4e04a34f-247f-47ea-b452-8dbdadf3d039",
   "metadata": {},
   "outputs": [],
   "source": [
    "sra.sample(5)"
   ]
  },
  {
   "cell_type": "code",
   "execution_count": null,
   "id": "21275f72-a5a2-4a76-a19b-d9fdfc0f4907",
   "metadata": {},
   "outputs": [],
   "source": [
    "for _ in sra.columns: print(_)"
   ]
  },
  {
   "cell_type": "code",
   "execution_count": null,
   "id": "d6974af6-1765-4b3f-8cda-c42fa7011199",
   "metadata": {},
   "outputs": [],
   "source": [
    "sra = sra[\n",
    "    [ \n",
    "        'study_accession',\n",
    "        'run_accession',\n",
    "        'collection_date',\n",
    "        'instrument_platform',\n",
    "        'library_strategy',\n",
    "        'library_construction_protocol' \n",
    "    ]\n",
    "]"
   ]
  },
  {
   "cell_type": "code",
   "execution_count": null,
   "id": "c9b3a8b0-290b-417a-b257-81bfe1a155bd",
   "metadata": {},
   "outputs": [],
   "source": [
    "sra = sra.assign(collection_date = pd.to_datetime(sra[\"collection_date\"]))"
   ]
  },
  {
   "cell_type": "code",
   "execution_count": null,
   "id": "38fc5df4-145c-4802-9b48-280b26c68cb8",
   "metadata": {},
   "outputs": [],
   "source": [
    "print('Earliest entry:', sra['collection_date'].min())\n",
    "print('Latest entry:', sra['collection_date'].max())"
   ]
  },
  {
   "cell_type": "code",
   "execution_count": null,
   "id": "f61f6a98-f078-470d-94ed-fc9d49c8e186",
   "metadata": {},
   "outputs": [],
   "source": [
    "sra = sra[ \n",
    "    ( sra['collection_date'] >= '2020-01-01' ) \n",
    "    & \n",
    "    ( sra['collection_date'] <= '2023-02-16' ) \n",
    "]"
   ]
  },
  {
   "cell_type": "code",
   "execution_count": null,
   "id": "4d8f7867",
   "metadata": {},
   "outputs": [],
   "source": [
    "print('Earliest entry:', sra['collection_date'].min())\n",
    "print('Latest entry:', sra['collection_date'].max())"
   ]
  },
  {
   "cell_type": "code",
   "execution_count": null,
   "id": "c7d935ea-4105-4207-b087-1b1b1aadac70",
   "metadata": {},
   "outputs": [],
   "source": [
    "sra[sra['collection_date'] == sra['collection_date'].max()]['run_accession'].nunique()"
   ]
  },
  {
   "cell_type": "code",
   "execution_count": null,
   "id": "ac7a357d-fa92-4bfe-987b-5bdbb10d9fa2",
   "metadata": {},
   "outputs": [],
   "source": [
    "heatmap_2d = sra.groupby(\n",
    "    ['instrument_platform','library_strategy']\n",
    ").agg(\n",
    "    {'run_accession':'nunique'}\n",
    ").reset_index()"
   ]
  },
  {
   "cell_type": "code",
   "execution_count": null,
   "id": "f8de736b-996a-47b5-907d-6550ce9e7ad4",
   "metadata": {},
   "outputs": [],
   "source": [
    "heatmap_2d"
   ]
  },
  {
   "cell_type": "code",
   "execution_count": null,
   "id": "2c0faf14-51eb-4d44-b817-733f48d31c3d",
   "metadata": {},
   "outputs": [],
   "source": [
    "back = alt.Chart(heatmap_2d).mark_rect(opacity=1).encode(\n",
    "    x=alt.X(\n",
    "        \"instrument_platform:N\",\n",
    "        title=\"Instrument\"\n",
    "    ),\n",
    "    y=alt.Y(\n",
    "        \"library_strategy:N\",\n",
    "        title=\"Strategy\",\n",
    "        axis=alt.Axis(orient='right')\n",
    "    ),\n",
    "    color=alt.Color(\n",
    "        \"run_accession:Q\",\n",
    "        title=\"# Samples\",\n",
    "        scale=alt.Scale(\n",
    "            scheme=\"goldred\",\n",
    "            type=\"log\"\n",
    "        ),\n",
    "    ),\n",
    "    tooltip=[\n",
    "        alt.Tooltip(\n",
    "            \"instrument_platform:N\",\n",
    "            title=\"Machine\"\n",
    "        ),\n",
    "        alt.Tooltip(\n",
    "            \"run_accession:Q\",\n",
    "            title=\"Number of runs\"\n",
    "        ),\n",
    "        alt.Tooltip(\n",
    "            \"library_strategy:N\",\n",
    "            title=\"Protocol\"\n",
    "        )\n",
    "    ]\n",
    ").properties(\n",
    "    width=500,\n",
    "    height=150,\n",
    "    title={\n",
    "      \"text\": \n",
    "        [\"Breakdown of datasets (unique accessions) from ENA\",\n",
    "         \"by Platform and Library Strategy\"],\n",
    "      \"subtitle\":\"(Updated {})\".format(today.strftime(\"%B %d, %Y\"))\n",
    "    }\n",
    ")\n",
    "\n",
    "back"
   ]
  },
  {
   "cell_type": "code",
   "execution_count": null,
   "id": "88ad8d0c-4548-4973-b7e8-3a8b3a09dd78",
   "metadata": {},
   "outputs": [],
   "source": [
    "front = back.mark_text(\n",
    "    align=\"center\",\n",
    "    baseline=\"middle\",\n",
    "    fontSize=12,\n",
    "    fontWeight=\"bold\",\n",
    ").encode(\n",
    "    text=alt.Text(\"run_accession:Q\",format=\",.0f\"),\n",
    "    color=alt.condition(\n",
    "        alt.datum.run_accession > 200,\n",
    "        alt.value(\"white\"),\n",
    "        alt.value(\"black\")\n",
    "    )\n",
    ")\n",
    "\n",
    "front"
   ]
  },
  {
   "cell_type": "code",
   "execution_count": null,
   "id": "b49b7a4d-f1db-4dc5-b3ed-7adfc97efd97",
   "metadata": {},
   "outputs": [],
   "source": [
    "back + front"
   ]
  }
 ],
 "metadata": {
  "kernelspec": {
   "display_name": "Python 3 (ipykernel)",
   "language": "python",
   "name": "python3"
  },
  "language_info": {
   "codemirror_mode": {
    "name": "ipython",
    "version": 3
   },
   "file_extension": ".py",
   "mimetype": "text/x-python",
   "name": "python",
   "nbconvert_exporter": "python",
   "pygments_lexer": "ipython3",
   "version": "3.10.8"
  }
 },
 "nbformat": 4,
 "nbformat_minor": 5
}
