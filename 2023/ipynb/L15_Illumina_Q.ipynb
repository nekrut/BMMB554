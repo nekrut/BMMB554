{
 "cells": [
  {
   "cell_type": "code",
   "execution_count": null,
   "id": "80402f65-b0b5-4bea-bf38-ddda60817e81",
   "metadata": {},
   "outputs": [],
   "source": [
    "import pandas as pd\n",
    "import numpy as np\n",
    "import altair as alt"
   ]
  },
  {
   "cell_type": "code",
   "execution_count": null,
   "id": "6b588dd3-5151-4f12-8bd9-1244ff32bd5f",
   "metadata": {},
   "outputs": [],
   "source": [
    "!wget https://zenodo.org/record/583613/files/sample1-f.fq.gz\n",
    "!gunzip sample1-f.fq.gz"
   ]
  },
  {
   "cell_type": "code",
   "execution_count": null,
   "id": "6a7db81b-ae97-4bb6-8f78-57fcc6578eb5",
   "metadata": {},
   "outputs": [],
   "source": [
    "# Open the FASTQ file and read quality values\n",
    "line_lengths = []\n",
    "with open(\"sample1-f.fq\", \"r\") as fastq_file:\n",
    "    for line_number, line in enumerate(fastq_file):\n",
    "        if line_number % 4 == 3:\n",
    "            line = line.rstrip()\n",
    "            line_lengths.append(len(line))                "
   ]
  },
  {
   "cell_type": "code",
   "execution_count": null,
   "id": "c32c0d05-dfdf-4f18-9870-4898ee7cccde",
   "metadata": {},
   "outputs": [],
   "source": [
    "lengths = pd.DataFrame(np.histogram(line_lengths,bins=range(25,400,25))).T.fillna(0)"
   ]
  },
  {
   "cell_type": "code",
   "execution_count": null,
   "id": "b837a244-29a3-4aa4-b9ff-634ba0db0dee",
   "metadata": {},
   "outputs": [],
   "source": [
    "lengths"
   ]
  },
  {
   "cell_type": "code",
   "execution_count": null,
   "id": "fa90ce18-11fb-4d7a-adfa-5859a30fbe12",
   "metadata": {},
   "outputs": [],
   "source": [
    "matrix = np.zeros((len(line_lengths),np.max(line_lengths)))"
   ]
  },
  {
   "cell_type": "code",
   "execution_count": null,
   "id": "671f0f24-e17c-4358-8b64-87d2afee5004",
   "metadata": {},
   "outputs": [],
   "source": [
    "matrix.shape"
   ]
  },
  {
   "cell_type": "code",
   "execution_count": null,
   "id": "e5a689f8-1c55-46a4-a010-61234456095d",
   "metadata": {},
   "outputs": [],
   "source": [
    "with open(\"sample1-f.fq\", \"r\") as fastq_file:\n",
    "    i = 0\n",
    "    for line_number, line in enumerate(fastq_file):\n",
    "        if line_number % 4 == 3:\n",
    "            line = line.rstrip()\n",
    "            for j,char in enumerate(line):\n",
    "                matrix[i][j] = ord(char)\n",
    "            i += 1"
   ]
  },
  {
   "cell_type": "code",
   "execution_count": null,
   "id": "3fd377dd-2b4f-44b1-9eb2-acbc30ec56c3",
   "metadata": {},
   "outputs": [],
   "source": [
    "stats = pd.DataFrame(matrix).describe().T.reset_index()"
   ]
  },
  {
   "cell_type": "code",
   "execution_count": null,
   "id": "b2d7e823-e260-40e2-9ce8-adad39bef8dd",
   "metadata": {},
   "outputs": [],
   "source": [
    "stats"
   ]
  },
  {
   "cell_type": "code",
   "execution_count": null,
   "id": "70b28718-9e92-4650-b41e-3dd94082b27f",
   "metadata": {},
   "outputs": [],
   "source": [
    "base = alt.Chart(stats,title='Quality score distributioin').mark_rule(color='orange',opacity=.75,strokeWidth=3).encode(\n",
    "    x = alt.X('index:Q',title='Position in read'),\n",
    "    y = alt.Y('25%:Q',stack='center',title='Quality score'),\n",
    "    y2 = alt.Y2('75%:Q')\n",
    ").properties(\n",
    "    width=800,\n",
    "    height=200)\n",
    "\n",
    "median = base.mark_circle(size=10,color='red').encode(\n",
    "    y = '50%:Q',   \n",
    ")\n",
    "\n",
    "len_dist = alt.Chart(lengths,title='Length distribution').mark_bar().encode(\n",
    "    x = alt.X(\"1:N\",title='Read length'),\n",
    "    y = alt.Y('0:Q',title='Read count')\n",
    ").properties(\n",
    "    width=200,\n",
    "    height=200)\n",
    "\n",
    "(base + median) | len_dist"
   ]
  },
  {
   "cell_type": "code",
   "execution_count": null,
   "id": "46f04bd3-0aba-4d71-a71d-0be79fb426dc",
   "metadata": {},
   "outputs": [],
   "source": []
  }
 ],
 "metadata": {
  "kernelspec": {
   "display_name": "Python 3 (ipykernel)",
   "language": "python",
   "name": "python3"
  },
  "language_info": {
   "codemirror_mode": {
    "name": "ipython",
    "version": 3
   },
   "file_extension": ".py",
   "mimetype": "text/x-python",
   "name": "python",
   "nbconvert_exporter": "python",
   "pygments_lexer": "ipython3",
   "version": "3.10.8"
  }
 },
 "nbformat": 4,
 "nbformat_minor": 5
}
