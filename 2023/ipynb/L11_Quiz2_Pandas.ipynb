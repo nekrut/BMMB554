{
 "cells": [
  {
   "cell_type": "code",
   "execution_count": null,
   "id": "403c7cd4-3e3c-4452-96d3-fdfe5c84c477",
   "metadata": {},
   "outputs": [],
   "source": [
    "import pandas as pd"
   ]
  },
  {
   "cell_type": "code",
   "execution_count": null,
   "id": "cb99c21a-cc84-46c7-82ba-132d0061b667",
   "metadata": {},
   "outputs": [],
   "source": [
    "\n",
    "data = {\n",
    "    'Student': ['Alice', 'Bob', 'Charlie', 'David', 'Emma', 'Frank', 'Grace', 'Harry', 'Isabella', 'John'],\n",
    "    'Grade': [87, 92, 76, 81, 95, 88, 84, 90, 89, 93],\n",
    "    'Campus': ['North', 'North', 'South', 'South', 'East', 'East', 'West', 'West', 'Central', 'Central']\n",
    "}\n",
    "\n",
    "df = pd.DataFrame(data)\n",
    "\n",
    "df"
   ]
  },
  {
   "cell_type": "markdown",
   "id": "158d5551-3f16-4e42-b38f-5733efe297c2",
   "metadata": {},
   "source": [
    "## Ex. 1\n",
    "\n",
    "Select columns `Student` and `Grade` and show the first 5 rows:"
   ]
  },
  {
   "cell_type": "code",
   "execution_count": null,
   "id": "ae2d0254-f152-4ae1-96a1-1ec38b752940",
   "metadata": {},
   "outputs": [],
   "source": [
    "df[['Student','Grade']].head()"
   ]
  },
  {
   "cell_type": "markdown",
   "id": "42ebe086-0582-4854-9d54-b2b2b124d2c3",
   "metadata": {},
   "source": [
    "## Ex. 2\n",
    "\n",
    "Which campus represent most students in this dataframe? (**Hint**: you can use `value_counts()`)"
   ]
  },
  {
   "cell_type": "code",
   "execution_count": null,
   "id": "c6eea26b-8e68-43e6-87d2-643fb0c0b7bd",
   "metadata": {},
   "outputs": [],
   "source": [
    "df['Campus'].value_counts()"
   ]
  },
  {
   "cell_type": "code",
   "execution_count": null,
   "id": "45891a97-1999-4ffa-a8f8-24655a002b12",
   "metadata": {},
   "outputs": [],
   "source": []
  }
 ],
 "metadata": {
  "kernelspec": {
   "display_name": "Python 3 (ipykernel)",
   "language": "python",
   "name": "python3"
  },
  "language_info": {
   "codemirror_mode": {
    "name": "ipython",
    "version": 3
   },
   "file_extension": ".py",
   "mimetype": "text/x-python",
   "name": "python",
   "nbconvert_exporter": "python",
   "pygments_lexer": "ipython3",
   "version": "3.10.6"
  }
 },
 "nbformat": 4,
 "nbformat_minor": 5
}
